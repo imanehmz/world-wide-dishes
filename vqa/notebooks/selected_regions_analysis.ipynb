{
 "cells": [
  {
   "cell_type": "code",
   "execution_count": 1,
   "metadata": {},
   "outputs": [],
   "source": [
    "import pandas as pd\n",
    "import jsonlines\n",
    "import json\n",
    "import os\n",
    "import plotly.express as px\n",
    "import seaborn as sns\n",
    "sns.set_theme()\n",
    "%config InlineBackend.figure_format = 'svg'\n",
    "%matplotlib inline\n",
    "from PIL import Image\n",
    "import matplotlib.pyplot as plt\n",
    "from matplotlib.backends.backend_pdf import PdfPages\n",
    "import pycountry_convert as pc"
   ]
  },
  {
   "cell_type": "code",
   "execution_count": 2,
   "metadata": {},
   "outputs": [
    {
     "data": {
      "text/html": [
       "<style>.container { width:100% !important; }</style>"
      ],
      "text/plain": [
       "<IPython.core.display.HTML object>"
      ]
     },
     "metadata": {},
     "output_type": "display_data"
    }
   ],
   "source": [
    "# Change setting to allow dataframe to be printed in full witdh\n",
    "from IPython.display import display, HTML\n",
    "display(HTML(\"<style>.container { width:100% !important; }</style>\"))\n",
    "pd.set_option('display.max_colwidth', None)"
   ]
  },
  {
   "cell_type": "code",
   "execution_count": 40,
   "metadata": {},
   "outputs": [
    {
     "name": "stdout",
     "output_type": "stream",
     "text": [
      "Shape of the vqa questions: (40208, 4)\n"
     ]
    }
   ],
   "source": [
    "vqa_questions_df = pd.read_json('/home/kebl7383/mt23-culture-bias-wip/vqa/experiments/llava-hf/llava-v1.6-mistral-7b-hf/selected_dishes_questions.jsonl', lines=True)\n",
    "print(\"Shape of the vqa questions:\", vqa_questions_df.shape)"
   ]
  },
  {
   "cell_type": "code",
   "execution_count": 44,
   "metadata": {},
   "outputs": [],
   "source": [
    "def extract_model_name(file_path):\n",
    "    # Split the file path into its components\n",
    "    path_components = file_path.split(os.sep)\n",
    "    \n",
    "    # Try to find the index for 'Feedback-generated images-1'\n",
    "    try:\n",
    "        index = path_components.index('Feedback-generated images-1')\n",
    "        model_name = path_components[index + 2]\n",
    "        return model_name\n",
    "    except ValueError:\n",
    "        pass  # If not found, move to the next case\n",
    "\n",
    "    # Try to find the index for 'Feedback-generated images'\n",
    "    try:\n",
    "        index = path_components.index('Feedback-generated images')\n",
    "        model_name = path_components[index + 2]\n",
    "        return model_name\n",
    "    except ValueError:\n",
    "        pass  # If not found, move to the next case\n",
    "\n",
    "    # If neither component is found, return None\n",
    "    return None\n",
    "\n",
    "def extract_dish_name(file_path):\n",
    "    # Split the file path into its components\n",
    "    path_components = file_path.split(os.sep)\n",
    "    \n",
    "    # Try to find the index for 'Feedback-generated images-1'\n",
    "    try:\n",
    "        index = path_components.index('Feedback-generated images-1')\n",
    "        model_name = path_components[index + 3]\n",
    "        return model_name\n",
    "    except ValueError:\n",
    "        pass  # If not found, move to the next case\n",
    "\n",
    "    # Try to find the index for 'Feedback-generated images'\n",
    "    try:\n",
    "        index = path_components.index('Feedback-generated images')\n",
    "        model_name = path_components[index + 3]\n",
    "        return model_name\n",
    "    except ValueError:\n",
    "        pass  # If not found, move to the next case\n",
    "\n",
    "    # If neither component is found, return None\n",
    "    return None\n",
    "\n",
    "def extract_country_name(file_path):\n",
    "    # Split the file path into its components\n",
    "    path_components = file_path.split(os.sep)\n",
    "    \n",
    "    # Try to find the index for 'Feedback-generated images-1'\n",
    "    try:\n",
    "        index = path_components.index('Feedback-generated images-1')\n",
    "        model_name = path_components[index + 1]\n",
    "        return model_name\n",
    "    except ValueError:\n",
    "        pass  # If not found, move to the next case\n",
    "\n",
    "    # Try to find the index for 'Feedback-generated images'\n",
    "    try:\n",
    "        index = path_components.index('Feedback-generated images')\n",
    "        model_name = path_components[index + 1]\n",
    "        return model_name\n",
    "    except ValueError:\n",
    "        pass  # If not found, move to the next case\n",
    "\n",
    "    # If neither component is found, return None\n",
    "    return None"
   ]
  },
  {
   "cell_type": "code",
   "execution_count": 48,
   "metadata": {},
   "outputs": [
    {
     "name": "stdout",
     "output_type": "stream",
     "text": [
      "/food-bias/selected_dishes/Feedback-generated images/United States/sd21/hotdish/the United States of America_006_hotdish_03.png\n",
      "Model name: sd21\n",
      "Dish name: hotdish\n",
      "Country name: United States\n"
     ]
    }
   ],
   "source": [
    "sample_img_path = vqa_questions_df.sample(1)['image_path'].values[0]\n",
    "print(sample_img_path)\n",
    "model_name = extract_model_name(sample_img_path)\n",
    "dish_name = extract_dish_name(sample_img_path)\n",
    "country_name = extract_country_name(sample_img_path)\n",
    "print(\"Model name:\", model_name)\n",
    "print(\"Dish name:\", dish_name)\n",
    "print(\"Country name:\", country_name)"
   ]
  },
  {
   "cell_type": "code",
   "execution_count": 49,
   "metadata": {},
   "outputs": [],
   "source": [
    "vqa_questions_df['model_name'] = vqa_questions_df['image_path'].apply(extract_model_name)\n",
    "vqa_questions_df['dish_name'] = vqa_questions_df['image_path'].apply(extract_dish_name)\n",
    "vqa_questions_df['country_name'] = vqa_questions_df['image_path'].apply(extract_country_name)"
   ]
  },
  {
   "cell_type": "code",
   "execution_count": 52,
   "metadata": {},
   "outputs": [
    {
     "data": {
      "text/html": [
       "<div>\n",
       "<style scoped>\n",
       "    .dataframe tbody tr th:only-of-type {\n",
       "        vertical-align: middle;\n",
       "    }\n",
       "\n",
       "    .dataframe tbody tr th {\n",
       "        vertical-align: top;\n",
       "    }\n",
       "\n",
       "    .dataframe thead th {\n",
       "        text-align: right;\n",
       "    }\n",
       "</style>\n",
       "<table border=\"1\" class=\"dataframe\">\n",
       "  <thead>\n",
       "    <tr style=\"text-align: right;\">\n",
       "      <th></th>\n",
       "      <th>image_name</th>\n",
       "      <th>question_id</th>\n",
       "      <th>question</th>\n",
       "      <th>image_path</th>\n",
       "      <th>model_name</th>\n",
       "      <th>dish_name</th>\n",
       "      <th>country_name</th>\n",
       "    </tr>\n",
       "  </thead>\n",
       "  <tbody>\n",
       "    <tr>\n",
       "      <th>22755</th>\n",
       "      <td>Nigeria_429_Puff-Puff_04.png</td>\n",
       "      <td>22755</td>\n",
       "      <td>Question: Is the dish placed on a table?. Choices: A: Yes B: No. Please respond with the letter corresponding to your choice. Answer:</td>\n",
       "      <td>/food-bias/selected_dishes/Feedback-generated images-1/Nigeria/sd21/Puff-Puff/Nigeria_429_Puff-Puff_04.png</td>\n",
       "      <td>sd21</td>\n",
       "      <td>Puff-Puff</td>\n",
       "      <td>Nigeria</td>\n",
       "    </tr>\n",
       "    <tr>\n",
       "      <th>20</th>\n",
       "      <td>Algeria_010_tahbult tmellalin_03.png</td>\n",
       "      <td>20</td>\n",
       "      <td>Question: What material is the dish or plate in the image most likely made of?. Choices: A: Ceramic B: Glass C: Metal D: Plastic E: Wood F: Paper G: Clay. Please respond with the letter corresponding to your choice. Answer:</td>\n",
       "      <td>/food-bias/selected_dishes/Feedback-generated images/Algeria/dalle3/tahbult tmellalin/Algeria_010_tahbult tmellalin_03.png</td>\n",
       "      <td>dalle3</td>\n",
       "      <td>tahbult tmellalin</td>\n",
       "      <td>Algeria</td>\n",
       "    </tr>\n",
       "  </tbody>\n",
       "</table>\n",
       "</div>"
      ],
      "text/plain": [
       "                                 image_name  question_id  \\\n",
       "22755          Nigeria_429_Puff-Puff_04.png        22755   \n",
       "20     Algeria_010_tahbult tmellalin_03.png           20   \n",
       "\n",
       "                                                                                                                                                                                                                              question  \\\n",
       "22755                                                                                            Question: Is the dish placed on a table?. Choices: A: Yes B: No. Please respond with the letter corresponding to your choice. Answer:   \n",
       "20     Question: What material is the dish or plate in the image most likely made of?. Choices: A: Ceramic B: Glass C: Metal D: Plastic E: Wood F: Paper G: Clay. Please respond with the letter corresponding to your choice. Answer:   \n",
       "\n",
       "                                                                                                                                     image_path  \\\n",
       "22755                  /food-bias/selected_dishes/Feedback-generated images-1/Nigeria/sd21/Puff-Puff/Nigeria_429_Puff-Puff_04.png   \n",
       "20     /food-bias/selected_dishes/Feedback-generated images/Algeria/dalle3/tahbult tmellalin/Algeria_010_tahbult tmellalin_03.png   \n",
       "\n",
       "      model_name          dish_name country_name  \n",
       "22755       sd21          Puff-Puff      Nigeria  \n",
       "20        dalle3  tahbult tmellalin      Algeria  "
      ]
     },
     "execution_count": 52,
     "metadata": {},
     "output_type": "execute_result"
    }
   ],
   "source": [
    "vqa_questions_df.sample(2)"
   ]
  },
  {
   "cell_type": "code",
   "execution_count": 54,
   "metadata": {},
   "outputs": [
    {
     "name": "stdout",
     "output_type": "stream",
     "text": [
      "Shape of the vqa responses: (40208, 6)\n"
     ]
    }
   ],
   "source": [
    "# Load the vqa model responses\n",
    "vqa_answers_df = pd.read_json('/home/kebl7383/mt23-culture-bias-wip/vqa/selected_dishes_answers.jsonl', lines=True)\n",
    "print(\"Shape of the vqa responses:\", vqa_answers_df.shape)"
   ]
  },
  {
   "cell_type": "code",
   "execution_count": 55,
   "metadata": {},
   "outputs": [
    {
     "data": {
      "text/html": [
       "<div>\n",
       "<style scoped>\n",
       "    .dataframe tbody tr th:only-of-type {\n",
       "        vertical-align: middle;\n",
       "    }\n",
       "\n",
       "    .dataframe tbody tr th {\n",
       "        vertical-align: top;\n",
       "    }\n",
       "\n",
       "    .dataframe thead th {\n",
       "        text-align: right;\n",
       "    }\n",
       "</style>\n",
       "<table border=\"1\" class=\"dataframe\">\n",
       "  <thead>\n",
       "    <tr style=\"text-align: right;\">\n",
       "      <th></th>\n",
       "      <th>question_id</th>\n",
       "      <th>prompt</th>\n",
       "      <th>text</th>\n",
       "      <th>model_id</th>\n",
       "      <th>answer_id</th>\n",
       "      <th>metadata</th>\n",
       "    </tr>\n",
       "  </thead>\n",
       "  <tbody>\n",
       "    <tr>\n",
       "      <th>0</th>\n",
       "      <td>0</td>\n",
       "      <td>Question: Is this a picture of food?. Choices: A: Yes B: No. Please respond with the letter corresponding to your choice. Answer:</td>\n",
       "      <td>A</td>\n",
       "      <td>liuhaotian/llava-v1.6-34b</td>\n",
       "      <td>0</td>\n",
       "      <td>{}</td>\n",
       "    </tr>\n",
       "    <tr>\n",
       "      <th>1</th>\n",
       "      <td>1</td>\n",
       "      <td>Question: Is the dish placed outdoors or indoors?. Choices: A: Outdoors B: Indoors. Please respond with the letter corresponding to your choice. Answer:</td>\n",
       "      <td>B</td>\n",
       "      <td>liuhaotian/llava-v1.6-34b</td>\n",
       "      <td>1</td>\n",
       "      <td>{}</td>\n",
       "    </tr>\n",
       "    <tr>\n",
       "      <th>2</th>\n",
       "      <td>2</td>\n",
       "      <td>Question: What utensils, if any, are shown in this image?. Choices: A: Fork B: Spoon C: Knife D: Chopsticks E: No utensils shown. Please respond with the letter corresponding to your choice. Answer:</td>\n",
       "      <td>C</td>\n",
       "      <td>liuhaotian/llava-v1.6-34b</td>\n",
       "      <td>2</td>\n",
       "      <td>{}</td>\n",
       "    </tr>\n",
       "    <tr>\n",
       "      <th>3</th>\n",
       "      <td>3</td>\n",
       "      <td>Question: Is the dish placed on a table?. Choices: A: Yes B: No. Please respond with the letter corresponding to your choice. Answer:</td>\n",
       "      <td>A</td>\n",
       "      <td>liuhaotian/llava-v1.6-34b</td>\n",
       "      <td>3</td>\n",
       "      <td>{}</td>\n",
       "    </tr>\n",
       "    <tr>\n",
       "      <th>4</th>\n",
       "      <td>4</td>\n",
       "      <td>Question: What material is the dish or plate in the image most likely made of?. Choices: A: Ceramic B: Glass C: Metal D: Plastic E: Wood F: Paper G: Clay. Please respond with the letter corresponding to your choice. Answer:</td>\n",
       "      <td>E</td>\n",
       "      <td>liuhaotian/llava-v1.6-34b</td>\n",
       "      <td>4</td>\n",
       "      <td>{}</td>\n",
       "    </tr>\n",
       "  </tbody>\n",
       "</table>\n",
       "</div>"
      ],
      "text/plain": [
       "   question_id  \\\n",
       "0            0   \n",
       "1            1   \n",
       "2            2   \n",
       "3            3   \n",
       "4            4   \n",
       "\n",
       "                                                                                                                                                                                                                            prompt  \\\n",
       "0                                                                                                Question: Is this a picture of food?. Choices: A: Yes B: No. Please respond with the letter corresponding to your choice. Answer:   \n",
       "1                                                                         Question: Is the dish placed outdoors or indoors?. Choices: A: Outdoors B: Indoors. Please respond with the letter corresponding to your choice. Answer:   \n",
       "2                           Question: What utensils, if any, are shown in this image?. Choices: A: Fork B: Spoon C: Knife D: Chopsticks E: No utensils shown. Please respond with the letter corresponding to your choice. Answer:   \n",
       "3                                                                                            Question: Is the dish placed on a table?. Choices: A: Yes B: No. Please respond with the letter corresponding to your choice. Answer:   \n",
       "4  Question: What material is the dish or plate in the image most likely made of?. Choices: A: Ceramic B: Glass C: Metal D: Plastic E: Wood F: Paper G: Clay. Please respond with the letter corresponding to your choice. Answer:   \n",
       "\n",
       "  text                   model_id  answer_id metadata  \n",
       "0    A  liuhaotian/llava-v1.6-34b          0       {}  \n",
       "1    B  liuhaotian/llava-v1.6-34b          1       {}  \n",
       "2    C  liuhaotian/llava-v1.6-34b          2       {}  \n",
       "3    A  liuhaotian/llava-v1.6-34b          3       {}  \n",
       "4    E  liuhaotian/llava-v1.6-34b          4       {}  "
      ]
     },
     "execution_count": 55,
     "metadata": {},
     "output_type": "execute_result"
    }
   ],
   "source": [
    "vqa_answers_df.head()"
   ]
  },
  {
   "cell_type": "code",
   "execution_count": 56,
   "metadata": {},
   "outputs": [],
   "source": [
    "# Load the questions \n",
    "with open(os.path.join('/home/kebl7383/mt23-culture-bias-wip/vqa/experiments/llava-hf/llava-v1.6-mistral-7b-hf/questions.json'), \"r\") as f:\n",
    "    questions_json = json.load(f)\n",
    "\n",
    "questions = questions_json[\"questions\"]"
   ]
  },
  {
   "cell_type": "code",
   "execution_count": 57,
   "metadata": {},
   "outputs": [],
   "source": [
    "def format_prompt(question):\n",
    "    if question[\"type\"] == \"multiple_choice\":\n",
    "        choices_str = \" \".join(\n",
    "            [f\"{key}: {value}\" for key, value in question[\"choices\"].items()]\n",
    "        )\n",
    "        return f\"Question: {question['text']}. Choices: {choices_str}. Please respond with the letter corresponding to your choice. Answer:\"\n",
    "    elif question[\"type\"] == \"list\":\n",
    "        choices_str = \" \".join(\n",
    "            [f\"{key}: {value}\" for key, value in question[\"choices\"].items()]\n",
    "        )\n",
    "        return f\"Question: {question['text']}. Choices: {choices_str}. Please respond with the letter corresponding to your choice. Answer:\"\n",
    "    elif question[\"type\"] == \"free_form\":\n",
    "        return f\"Question: {question['text']}. Answer:\""
   ]
  },
  {
   "cell_type": "code",
   "execution_count": 83,
   "metadata": {},
   "outputs": [],
   "source": [
    "import os\n",
    "from plotly.subplots import make_subplots\n",
    "import plotly.graph_objects as go\n",
    "import plotly.io as pio\n",
    "\n",
    "# Define the plot_multiple_choice function using Plotly\n",
    "def plot_multiple_choice_countries_level_pdf(grouped_by_model_name, q4_json, group_by = 'country_name', color_sequence = {\n",
    "    'Kenya': '#636efb',\n",
    "    'Nigeria': '#ef563b',\n",
    "    'Algeria': '#41cc96',\n",
    "    'Cameroon': '#ab63fb',\n",
    "    'South Africa': '#f7a15b',\n",
    "    'United States of America (USA)': '#47d3f3'\n",
    "}, legend_map =  {\n",
    "    'Kenya': 'Kenya',\n",
    "    'Nigeria': 'Nigeria',\n",
    "    'Algeria': 'Algeria',\n",
    "    'Cameroon': 'Cameroon',\n",
    "    'South Africa': 'South Africa',\n",
    "    'United States of America (USA)': 'USA'\n",
    "}, model_names_dict = {\n",
    "    \"dalle2\": \"Dall-E 2\",\n",
    "    \"dalle3\": \"Dall-E 3\",\n",
    "    \"sd21\": \"Stable Diffusion 2.1\",\n",
    "}, legend_title='Country', results_dir='results/selected_regions'):\n",
    "    models = grouped_by_model_name['model_name'].unique()\n",
    "    countries = grouped_by_model_name[group_by].unique()\n",
    "\n",
    "    num_models = len(models)\n",
    "    fig = make_subplots(rows=1, cols=num_models, shared_yaxes=True, horizontal_spacing=0.05, subplot_titles=[model_names_dict[model_name] for model_name in models])\n",
    "\n",
    "\n",
    "    for i, model_name in enumerate(models):\n",
    "        model_data = grouped_by_model_name[grouped_by_model_name['model_name'] == model_name]\n",
    "        for country in countries:\n",
    "            country_data = model_data[model_data[group_by] == country]\n",
    "            response_counts = country_data.groupby('text').size().reset_index(name='count')\n",
    "            total_responses = response_counts['count'].sum()\n",
    "            response_counts['proportion'] = (response_counts['count'] / total_responses) * 100\n",
    "            \n",
    "            # Ensure all choices are present in response_counts, even if their count is 0\n",
    "            all_choices = list(q4_json['choices'].keys())\n",
    "            response_counts = response_counts.set_index('text').reindex(all_choices, fill_value=0).reset_index()\n",
    "\n",
    "            trace = go.Bar(\n",
    "                x=[q4_json['choices'][key] for key in response_counts['text']],\n",
    "                y=response_counts['proportion'],\n",
    "                name=legend_map.get(country, country),\n",
    "                legendgroup=country,\n",
    "                marker=dict(color=color_sequence[country]),\n",
    "                showlegend=(i == 0)\n",
    "            )\n",
    "            fig.add_trace(trace, row=1, col=i+1)\n",
    "\n",
    "        fig.update_xaxes(\n",
    "            tickvals=list(q4_json['choices'].values()),\n",
    "            ticktext=list(q4_json['choices'].values()),\n",
    "            categoryorder='array',\n",
    "            categoryarray=list(q4_json['choices'].values()),\n",
    "            row=1, col=i+1\n",
    "        )\n",
    "    \n",
    "    fig.update_yaxes(title_text='Proportion of Images (%)', row=1, col=1)\n",
    "\n",
    "    fig.update_layout(\n",
    "        legend=dict(\n",
    "            orientation=\"v\",\n",
    "            yanchor=\"top\",\n",
    "            y=1,\n",
    "            xanchor=\"right\",\n",
    "            x=1.15,\n",
    "            itemwidth=30,\n",
    "            itemsizing='constant',\n",
    "            traceorder='normal',\n",
    "            bordercolor=\"grey\",\n",
    "            borderwidth=1\n",
    "        ),\n",
    "        title={\n",
    "            'text': f\"{q4_json['text']}\",\n",
    "            'y': 0.9,\n",
    "            'x': 0.5,\n",
    "            'xanchor': 'center',\n",
    "            'yanchor': 'top'\n",
    "        },\n",
    "        font=dict(\n",
    "            family=\"Helvetica Neue\",\n",
    "            size=12,\n",
    "        ),\n",
    "        title_font=dict(\n",
    "            family=\"Helvetica Neue\",\n",
    "            size=18,\n",
    "            color='black'\n",
    "        ),\n",
    "        plot_bgcolor='white',\n",
    "        legend_title_text=legend_title,\n",
    "        barmode='group',\n",
    "        width=1200,\n",
    "        height=400\n",
    "    )\n",
    "\n",
    "    for i in range(num_models):\n",
    "        fig.update_layout(\n",
    "            {f'xaxis{i+1}': dict(\n",
    "                showline=True,\n",
    "                linewidth=2,\n",
    "                linecolor='grey',\n",
    "                mirror=True\n",
    "            ),\n",
    "            f'yaxis{i+1}': dict(\n",
    "                showline=True,\n",
    "                linewidth=2,\n",
    "                linecolor='grey',\n",
    "                mirror=True\n",
    "            )}\n",
    "        )\n",
    "\n",
    "    # Save the plot with separate subplots for each model\n",
    "    if not os.path.exists(results_dir):\n",
    "        os.makedirs(results_dir)\n",
    "        \n",
    "    pio.write_image(fig, os.path.join(results_dir, f\"{q4_json['text'].replace('?', '')}_subplots.pdf\"), scale=6)\n",
    "    fig.show()"
   ]
  },
  {
   "cell_type": "code",
   "execution_count": 84,
   "metadata": {},
   "outputs": [],
   "source": [
    "# Define a color sequence for each continent\n",
    "country_color_sequence = {\n",
    "    'Kenya': '#636efb',\n",
    "    'Nigeria': '#ef563b',\n",
    "    'Algeria': '#41cc96',\n",
    "    'Cameroon': '#ab63fb',\n",
    "    'South Africa': '#f7a15b',\n",
    "    'United States': '#47d3f3'\n",
    "}\n",
    "country_name_map = {\n",
    "    'Kenya': 'Kenya',\n",
    "    'Nigeria': 'Nigeria',\n",
    "    'Algeria': 'Algeria',\n",
    "    'Cameroon': 'Cameroon',\n",
    "    'South Africa': 'South Africa',\n",
    "    'United States': 'United States'\n",
    "}\n",
    "country_results_dir = 'results/selected_regions'\n",
    "model_names_dict = {\n",
    "    \"dalle2\": \"Dall-E 2\",\n",
    "    \"dalle3\": \"Dall-E 3\",\n",
    "    \"sd21\": \"Stable Diffusion 2.1\",\n",
    "}"
   ]
  },
  {
   "cell_type": "code",
   "execution_count": 85,
   "metadata": {},
   "outputs": [
    {
     "data": {
      "application/vnd.plotly.v1+json": {
       "config": {
        "plotlyServerURL": "https://plot.ly"
       },
       "data": [
        {
         "legendgroup": "Algeria",
         "marker": {
          "color": "#41cc96"
         },
         "name": "Algeria",
         "showlegend": true,
         "type": "bar",
         "x": [
          "Yes",
          "No"
         ],
         "xaxis": "x",
         "y": [
          96.66666666666667,
          3.3333333333333335
         ],
         "yaxis": "y"
        },
        {
         "legendgroup": "Nigeria",
         "marker": {
          "color": "#ef563b"
         },
         "name": "Nigeria",
         "showlegend": true,
         "type": "bar",
         "x": [
          "Yes",
          "No"
         ],
         "xaxis": "x",
         "y": [
          100,
          0
         ],
         "yaxis": "y"
        },
        {
         "legendgroup": "South Africa",
         "marker": {
          "color": "#f7a15b"
         },
         "name": "South Africa",
         "showlegend": true,
         "type": "bar",
         "x": [
          "Yes",
          "No"
         ],
         "xaxis": "x",
         "y": [
          98.66666666666667,
          1.3333333333333335
         ],
         "yaxis": "y"
        },
        {
         "legendgroup": "United States",
         "marker": {
          "color": "#47d3f3"
         },
         "name": "United States",
         "showlegend": true,
         "type": "bar",
         "x": [
          "Yes",
          "No"
         ],
         "xaxis": "x",
         "y": [
          99.33333333333333,
          0.6666666666666667
         ],
         "yaxis": "y"
        },
        {
         "legendgroup": "Kenya",
         "marker": {
          "color": "#636efb"
         },
         "name": "Kenya",
         "showlegend": true,
         "type": "bar",
         "x": [
          "Yes",
          "No"
         ],
         "xaxis": "x",
         "y": [
          99.23076923076923,
          0.7692307692307693
         ],
         "yaxis": "y"
        },
        {
         "legendgroup": "Cameroon",
         "marker": {
          "color": "#ab63fb"
         },
         "name": "Cameroon",
         "showlegend": true,
         "type": "bar",
         "x": [
          "Yes",
          "No"
         ],
         "xaxis": "x",
         "y": [
          98,
          2
         ],
         "yaxis": "y"
        },
        {
         "legendgroup": "Algeria",
         "marker": {
          "color": "#41cc96"
         },
         "name": "Algeria",
         "showlegend": false,
         "type": "bar",
         "x": [
          "Yes",
          "No"
         ],
         "xaxis": "x2",
         "y": [
          94.66666666666667,
          5.333333333333334
         ],
         "yaxis": "y2"
        },
        {
         "legendgroup": "Nigeria",
         "marker": {
          "color": "#ef563b"
         },
         "name": "Nigeria",
         "showlegend": false,
         "type": "bar",
         "x": [
          "Yes",
          "No"
         ],
         "xaxis": "x2",
         "y": [
          97.33333333333334,
          2.666666666666667
         ],
         "yaxis": "y2"
        },
        {
         "legendgroup": "South Africa",
         "marker": {
          "color": "#f7a15b"
         },
         "name": "South Africa",
         "showlegend": false,
         "type": "bar",
         "x": [
          "Yes",
          "No"
         ],
         "xaxis": "x2",
         "y": [
          98,
          2
         ],
         "yaxis": "y2"
        },
        {
         "legendgroup": "United States",
         "marker": {
          "color": "#47d3f3"
         },
         "name": "United States",
         "showlegend": false,
         "type": "bar",
         "x": [
          "Yes",
          "No"
         ],
         "xaxis": "x2",
         "y": [
          96,
          4
         ],
         "yaxis": "y2"
        },
        {
         "legendgroup": "Kenya",
         "marker": {
          "color": "#636efb"
         },
         "name": "Kenya",
         "showlegend": false,
         "type": "bar",
         "x": [
          "Yes",
          "No"
         ],
         "xaxis": "x2",
         "y": [
          95.8904109589041,
          4.10958904109589
         ],
         "yaxis": "y2"
        },
        {
         "legendgroup": "Cameroon",
         "marker": {
          "color": "#ab63fb"
         },
         "name": "Cameroon",
         "showlegend": false,
         "type": "bar",
         "x": [
          "Yes",
          "No"
         ],
         "xaxis": "x2",
         "y": [
          96.875,
          3.125
         ],
         "yaxis": "y2"
        },
        {
         "legendgroup": "Algeria",
         "marker": {
          "color": "#41cc96"
         },
         "name": "Algeria",
         "showlegend": false,
         "type": "bar",
         "x": [
          "Yes",
          "No"
         ],
         "xaxis": "x3",
         "y": [
          98.66666666666667,
          1.3333333333333335
         ],
         "yaxis": "y3"
        },
        {
         "legendgroup": "Nigeria",
         "marker": {
          "color": "#ef563b"
         },
         "name": "Nigeria",
         "showlegend": false,
         "type": "bar",
         "x": [
          "Yes",
          "No"
         ],
         "xaxis": "x3",
         "y": [
          0,
          0
         ],
         "yaxis": "y3"
        },
        {
         "legendgroup": "South Africa",
         "marker": {
          "color": "#f7a15b"
         },
         "name": "South Africa",
         "showlegend": false,
         "type": "bar",
         "x": [
          "Yes",
          "No"
         ],
         "xaxis": "x3",
         "y": [
          97.36842105263158,
          2.631578947368421
         ],
         "yaxis": "y3"
        },
        {
         "legendgroup": "United States",
         "marker": {
          "color": "#47d3f3"
         },
         "name": "United States",
         "showlegend": false,
         "type": "bar",
         "x": [
          "Yes",
          "No"
         ],
         "xaxis": "x3",
         "y": [
          98.66666666666667,
          1.3333333333333335
         ],
         "yaxis": "y3"
        },
        {
         "legendgroup": "Kenya",
         "marker": {
          "color": "#636efb"
         },
         "name": "Kenya",
         "showlegend": false,
         "type": "bar",
         "x": [
          "Yes",
          "No"
         ],
         "xaxis": "x3",
         "y": [
          99.23076923076923,
          0.7692307692307693
         ],
         "yaxis": "y3"
        },
        {
         "legendgroup": "Cameroon",
         "marker": {
          "color": "#ab63fb"
         },
         "name": "Cameroon",
         "showlegend": false,
         "type": "bar",
         "x": [
          "Yes",
          "No"
         ],
         "xaxis": "x3",
         "y": [
          96.55172413793103,
          3.4482758620689653
         ],
         "yaxis": "y3"
        }
       ],
       "layout": {
        "annotations": [
         {
          "font": {
           "size": 16
          },
          "showarrow": false,
          "text": "Dall-E 3",
          "x": 0.15,
          "xanchor": "center",
          "xref": "paper",
          "y": 1,
          "yanchor": "bottom",
          "yref": "paper"
         },
         {
          "font": {
           "size": 16
          },
          "showarrow": false,
          "text": "Stable Diffusion 2.1",
          "x": 0.49999999999999994,
          "xanchor": "center",
          "xref": "paper",
          "y": 1,
          "yanchor": "bottom",
          "yref": "paper"
         },
         {
          "font": {
           "size": 16
          },
          "showarrow": false,
          "text": "Dall-E 2",
          "x": 0.85,
          "xanchor": "center",
          "xref": "paper",
          "y": 1,
          "yanchor": "bottom",
          "yref": "paper"
         }
        ],
        "barmode": "group",
        "font": {
         "family": "Helvetica Neue",
         "size": 12
        },
        "height": 400,
        "legend": {
         "bordercolor": "grey",
         "borderwidth": 1,
         "itemsizing": "constant",
         "itemwidth": 30,
         "orientation": "v",
         "title": {
          "text": "Country"
         },
         "traceorder": "normal",
         "x": 1.15,
         "xanchor": "right",
         "y": 1,
         "yanchor": "top"
        },
        "plot_bgcolor": "white",
        "template": {
         "data": {
          "bar": [
           {
            "error_x": {
             "color": "#2a3f5f"
            },
            "error_y": {
             "color": "#2a3f5f"
            },
            "marker": {
             "line": {
              "color": "#E5ECF6",
              "width": 0.5
             },
             "pattern": {
              "fillmode": "overlay",
              "size": 10,
              "solidity": 0.2
             }
            },
            "type": "bar"
           }
          ],
          "barpolar": [
           {
            "marker": {
             "line": {
              "color": "#E5ECF6",
              "width": 0.5
             },
             "pattern": {
              "fillmode": "overlay",
              "size": 10,
              "solidity": 0.2
             }
            },
            "type": "barpolar"
           }
          ],
          "carpet": [
           {
            "aaxis": {
             "endlinecolor": "#2a3f5f",
             "gridcolor": "white",
             "linecolor": "white",
             "minorgridcolor": "white",
             "startlinecolor": "#2a3f5f"
            },
            "baxis": {
             "endlinecolor": "#2a3f5f",
             "gridcolor": "white",
             "linecolor": "white",
             "minorgridcolor": "white",
             "startlinecolor": "#2a3f5f"
            },
            "type": "carpet"
           }
          ],
          "choropleth": [
           {
            "colorbar": {
             "outlinewidth": 0,
             "ticks": ""
            },
            "type": "choropleth"
           }
          ],
          "contour": [
           {
            "colorbar": {
             "outlinewidth": 0,
             "ticks": ""
            },
            "colorscale": [
             [
              0,
              "#0d0887"
             ],
             [
              0.1111111111111111,
              "#46039f"
             ],
             [
              0.2222222222222222,
              "#7201a8"
             ],
             [
              0.3333333333333333,
              "#9c179e"
             ],
             [
              0.4444444444444444,
              "#bd3786"
             ],
             [
              0.5555555555555556,
              "#d8576b"
             ],
             [
              0.6666666666666666,
              "#ed7953"
             ],
             [
              0.7777777777777778,
              "#fb9f3a"
             ],
             [
              0.8888888888888888,
              "#fdca26"
             ],
             [
              1,
              "#f0f921"
             ]
            ],
            "type": "contour"
           }
          ],
          "contourcarpet": [
           {
            "colorbar": {
             "outlinewidth": 0,
             "ticks": ""
            },
            "type": "contourcarpet"
           }
          ],
          "heatmap": [
           {
            "colorbar": {
             "outlinewidth": 0,
             "ticks": ""
            },
            "colorscale": [
             [
              0,
              "#0d0887"
             ],
             [
              0.1111111111111111,
              "#46039f"
             ],
             [
              0.2222222222222222,
              "#7201a8"
             ],
             [
              0.3333333333333333,
              "#9c179e"
             ],
             [
              0.4444444444444444,
              "#bd3786"
             ],
             [
              0.5555555555555556,
              "#d8576b"
             ],
             [
              0.6666666666666666,
              "#ed7953"
             ],
             [
              0.7777777777777778,
              "#fb9f3a"
             ],
             [
              0.8888888888888888,
              "#fdca26"
             ],
             [
              1,
              "#f0f921"
             ]
            ],
            "type": "heatmap"
           }
          ],
          "heatmapgl": [
           {
            "colorbar": {
             "outlinewidth": 0,
             "ticks": ""
            },
            "colorscale": [
             [
              0,
              "#0d0887"
             ],
             [
              0.1111111111111111,
              "#46039f"
             ],
             [
              0.2222222222222222,
              "#7201a8"
             ],
             [
              0.3333333333333333,
              "#9c179e"
             ],
             [
              0.4444444444444444,
              "#bd3786"
             ],
             [
              0.5555555555555556,
              "#d8576b"
             ],
             [
              0.6666666666666666,
              "#ed7953"
             ],
             [
              0.7777777777777778,
              "#fb9f3a"
             ],
             [
              0.8888888888888888,
              "#fdca26"
             ],
             [
              1,
              "#f0f921"
             ]
            ],
            "type": "heatmapgl"
           }
          ],
          "histogram": [
           {
            "marker": {
             "pattern": {
              "fillmode": "overlay",
              "size": 10,
              "solidity": 0.2
             }
            },
            "type": "histogram"
           }
          ],
          "histogram2d": [
           {
            "colorbar": {
             "outlinewidth": 0,
             "ticks": ""
            },
            "colorscale": [
             [
              0,
              "#0d0887"
             ],
             [
              0.1111111111111111,
              "#46039f"
             ],
             [
              0.2222222222222222,
              "#7201a8"
             ],
             [
              0.3333333333333333,
              "#9c179e"
             ],
             [
              0.4444444444444444,
              "#bd3786"
             ],
             [
              0.5555555555555556,
              "#d8576b"
             ],
             [
              0.6666666666666666,
              "#ed7953"
             ],
             [
              0.7777777777777778,
              "#fb9f3a"
             ],
             [
              0.8888888888888888,
              "#fdca26"
             ],
             [
              1,
              "#f0f921"
             ]
            ],
            "type": "histogram2d"
           }
          ],
          "histogram2dcontour": [
           {
            "colorbar": {
             "outlinewidth": 0,
             "ticks": ""
            },
            "colorscale": [
             [
              0,
              "#0d0887"
             ],
             [
              0.1111111111111111,
              "#46039f"
             ],
             [
              0.2222222222222222,
              "#7201a8"
             ],
             [
              0.3333333333333333,
              "#9c179e"
             ],
             [
              0.4444444444444444,
              "#bd3786"
             ],
             [
              0.5555555555555556,
              "#d8576b"
             ],
             [
              0.6666666666666666,
              "#ed7953"
             ],
             [
              0.7777777777777778,
              "#fb9f3a"
             ],
             [
              0.8888888888888888,
              "#fdca26"
             ],
             [
              1,
              "#f0f921"
             ]
            ],
            "type": "histogram2dcontour"
           }
          ],
          "mesh3d": [
           {
            "colorbar": {
             "outlinewidth": 0,
             "ticks": ""
            },
            "type": "mesh3d"
           }
          ],
          "parcoords": [
           {
            "line": {
             "colorbar": {
              "outlinewidth": 0,
              "ticks": ""
             }
            },
            "type": "parcoords"
           }
          ],
          "pie": [
           {
            "automargin": true,
            "type": "pie"
           }
          ],
          "scatter": [
           {
            "fillpattern": {
             "fillmode": "overlay",
             "size": 10,
             "solidity": 0.2
            },
            "type": "scatter"
           }
          ],
          "scatter3d": [
           {
            "line": {
             "colorbar": {
              "outlinewidth": 0,
              "ticks": ""
             }
            },
            "marker": {
             "colorbar": {
              "outlinewidth": 0,
              "ticks": ""
             }
            },
            "type": "scatter3d"
           }
          ],
          "scattercarpet": [
           {
            "marker": {
             "colorbar": {
              "outlinewidth": 0,
              "ticks": ""
             }
            },
            "type": "scattercarpet"
           }
          ],
          "scattergeo": [
           {
            "marker": {
             "colorbar": {
              "outlinewidth": 0,
              "ticks": ""
             }
            },
            "type": "scattergeo"
           }
          ],
          "scattergl": [
           {
            "marker": {
             "colorbar": {
              "outlinewidth": 0,
              "ticks": ""
             }
            },
            "type": "scattergl"
           }
          ],
          "scattermapbox": [
           {
            "marker": {
             "colorbar": {
              "outlinewidth": 0,
              "ticks": ""
             }
            },
            "type": "scattermapbox"
           }
          ],
          "scatterpolar": [
           {
            "marker": {
             "colorbar": {
              "outlinewidth": 0,
              "ticks": ""
             }
            },
            "type": "scatterpolar"
           }
          ],
          "scatterpolargl": [
           {
            "marker": {
             "colorbar": {
              "outlinewidth": 0,
              "ticks": ""
             }
            },
            "type": "scatterpolargl"
           }
          ],
          "scatterternary": [
           {
            "marker": {
             "colorbar": {
              "outlinewidth": 0,
              "ticks": ""
             }
            },
            "type": "scatterternary"
           }
          ],
          "surface": [
           {
            "colorbar": {
             "outlinewidth": 0,
             "ticks": ""
            },
            "colorscale": [
             [
              0,
              "#0d0887"
             ],
             [
              0.1111111111111111,
              "#46039f"
             ],
             [
              0.2222222222222222,
              "#7201a8"
             ],
             [
              0.3333333333333333,
              "#9c179e"
             ],
             [
              0.4444444444444444,
              "#bd3786"
             ],
             [
              0.5555555555555556,
              "#d8576b"
             ],
             [
              0.6666666666666666,
              "#ed7953"
             ],
             [
              0.7777777777777778,
              "#fb9f3a"
             ],
             [
              0.8888888888888888,
              "#fdca26"
             ],
             [
              1,
              "#f0f921"
             ]
            ],
            "type": "surface"
           }
          ],
          "table": [
           {
            "cells": {
             "fill": {
              "color": "#EBF0F8"
             },
             "line": {
              "color": "white"
             }
            },
            "header": {
             "fill": {
              "color": "#C8D4E3"
             },
             "line": {
              "color": "white"
             }
            },
            "type": "table"
           }
          ]
         },
         "layout": {
          "annotationdefaults": {
           "arrowcolor": "#2a3f5f",
           "arrowhead": 0,
           "arrowwidth": 1
          },
          "autotypenumbers": "strict",
          "coloraxis": {
           "colorbar": {
            "outlinewidth": 0,
            "ticks": ""
           }
          },
          "colorscale": {
           "diverging": [
            [
             0,
             "#8e0152"
            ],
            [
             0.1,
             "#c51b7d"
            ],
            [
             0.2,
             "#de77ae"
            ],
            [
             0.3,
             "#f1b6da"
            ],
            [
             0.4,
             "#fde0ef"
            ],
            [
             0.5,
             "#f7f7f7"
            ],
            [
             0.6,
             "#e6f5d0"
            ],
            [
             0.7,
             "#b8e186"
            ],
            [
             0.8,
             "#7fbc41"
            ],
            [
             0.9,
             "#4d9221"
            ],
            [
             1,
             "#276419"
            ]
           ],
           "sequential": [
            [
             0,
             "#0d0887"
            ],
            [
             0.1111111111111111,
             "#46039f"
            ],
            [
             0.2222222222222222,
             "#7201a8"
            ],
            [
             0.3333333333333333,
             "#9c179e"
            ],
            [
             0.4444444444444444,
             "#bd3786"
            ],
            [
             0.5555555555555556,
             "#d8576b"
            ],
            [
             0.6666666666666666,
             "#ed7953"
            ],
            [
             0.7777777777777778,
             "#fb9f3a"
            ],
            [
             0.8888888888888888,
             "#fdca26"
            ],
            [
             1,
             "#f0f921"
            ]
           ],
           "sequentialminus": [
            [
             0,
             "#0d0887"
            ],
            [
             0.1111111111111111,
             "#46039f"
            ],
            [
             0.2222222222222222,
             "#7201a8"
            ],
            [
             0.3333333333333333,
             "#9c179e"
            ],
            [
             0.4444444444444444,
             "#bd3786"
            ],
            [
             0.5555555555555556,
             "#d8576b"
            ],
            [
             0.6666666666666666,
             "#ed7953"
            ],
            [
             0.7777777777777778,
             "#fb9f3a"
            ],
            [
             0.8888888888888888,
             "#fdca26"
            ],
            [
             1,
             "#f0f921"
            ]
           ]
          },
          "colorway": [
           "#636efa",
           "#EF553B",
           "#00cc96",
           "#ab63fa",
           "#FFA15A",
           "#19d3f3",
           "#FF6692",
           "#B6E880",
           "#FF97FF",
           "#FECB52"
          ],
          "font": {
           "color": "#2a3f5f"
          },
          "geo": {
           "bgcolor": "white",
           "lakecolor": "white",
           "landcolor": "#E5ECF6",
           "showlakes": true,
           "showland": true,
           "subunitcolor": "white"
          },
          "hoverlabel": {
           "align": "left"
          },
          "hovermode": "closest",
          "mapbox": {
           "style": "light"
          },
          "paper_bgcolor": "white",
          "plot_bgcolor": "#E5ECF6",
          "polar": {
           "angularaxis": {
            "gridcolor": "white",
            "linecolor": "white",
            "ticks": ""
           },
           "bgcolor": "#E5ECF6",
           "radialaxis": {
            "gridcolor": "white",
            "linecolor": "white",
            "ticks": ""
           }
          },
          "scene": {
           "xaxis": {
            "backgroundcolor": "#E5ECF6",
            "gridcolor": "white",
            "gridwidth": 2,
            "linecolor": "white",
            "showbackground": true,
            "ticks": "",
            "zerolinecolor": "white"
           },
           "yaxis": {
            "backgroundcolor": "#E5ECF6",
            "gridcolor": "white",
            "gridwidth": 2,
            "linecolor": "white",
            "showbackground": true,
            "ticks": "",
            "zerolinecolor": "white"
           },
           "zaxis": {
            "backgroundcolor": "#E5ECF6",
            "gridcolor": "white",
            "gridwidth": 2,
            "linecolor": "white",
            "showbackground": true,
            "ticks": "",
            "zerolinecolor": "white"
           }
          },
          "shapedefaults": {
           "line": {
            "color": "#2a3f5f"
           }
          },
          "ternary": {
           "aaxis": {
            "gridcolor": "white",
            "linecolor": "white",
            "ticks": ""
           },
           "baxis": {
            "gridcolor": "white",
            "linecolor": "white",
            "ticks": ""
           },
           "bgcolor": "#E5ECF6",
           "caxis": {
            "gridcolor": "white",
            "linecolor": "white",
            "ticks": ""
           }
          },
          "title": {
           "x": 0.05
          },
          "xaxis": {
           "automargin": true,
           "gridcolor": "white",
           "linecolor": "white",
           "ticks": "",
           "title": {
            "standoff": 15
           },
           "zerolinecolor": "white",
           "zerolinewidth": 2
          },
          "yaxis": {
           "automargin": true,
           "gridcolor": "white",
           "linecolor": "white",
           "ticks": "",
           "title": {
            "standoff": 15
           },
           "zerolinecolor": "white",
           "zerolinewidth": 2
          }
         }
        },
        "title": {
         "font": {
          "color": "black",
          "family": "Helvetica Neue",
          "size": 18
         },
         "text": "Is this a picture of food?",
         "x": 0.5,
         "xanchor": "center",
         "y": 0.9,
         "yanchor": "top"
        },
        "width": 1200,
        "xaxis": {
         "anchor": "y",
         "categoryarray": [
          "Yes",
          "No"
         ],
         "categoryorder": "array",
         "domain": [
          0,
          0.3
         ],
         "linecolor": "grey",
         "linewidth": 2,
         "mirror": true,
         "showline": true,
         "ticktext": [
          "Yes",
          "No"
         ],
         "tickvals": [
          "Yes",
          "No"
         ]
        },
        "xaxis2": {
         "anchor": "y2",
         "categoryarray": [
          "Yes",
          "No"
         ],
         "categoryorder": "array",
         "domain": [
          0.35,
          0.6499999999999999
         ],
         "linecolor": "grey",
         "linewidth": 2,
         "mirror": true,
         "showline": true,
         "ticktext": [
          "Yes",
          "No"
         ],
         "tickvals": [
          "Yes",
          "No"
         ]
        },
        "xaxis3": {
         "anchor": "y3",
         "categoryarray": [
          "Yes",
          "No"
         ],
         "categoryorder": "array",
         "domain": [
          0.7,
          1
         ],
         "linecolor": "grey",
         "linewidth": 2,
         "mirror": true,
         "showline": true,
         "ticktext": [
          "Yes",
          "No"
         ],
         "tickvals": [
          "Yes",
          "No"
         ]
        },
        "yaxis": {
         "anchor": "x",
         "domain": [
          0,
          1
         ],
         "linecolor": "grey",
         "linewidth": 2,
         "mirror": true,
         "showline": true,
         "title": {
          "text": "Proportion of Images (%)"
         }
        },
        "yaxis2": {
         "anchor": "x2",
         "domain": [
          0,
          1
         ],
         "linecolor": "grey",
         "linewidth": 2,
         "matches": "y",
         "mirror": true,
         "showline": true,
         "showticklabels": false
        },
        "yaxis3": {
         "anchor": "x3",
         "domain": [
          0,
          1
         ],
         "linecolor": "grey",
         "linewidth": 2,
         "matches": "y",
         "mirror": true,
         "showline": true,
         "showticklabels": false
        }
       }
      },
      "text/html": [
       "<div>                            <div id=\"8fdf60fe-6c66-4df3-ac45-d654c35ce09f\" class=\"plotly-graph-div\" style=\"height:400px; width:1200px;\"></div>            <script type=\"text/javascript\">                require([\"plotly\"], function(Plotly) {                    window.PLOTLYENV=window.PLOTLYENV || {};                                    if (document.getElementById(\"8fdf60fe-6c66-4df3-ac45-d654c35ce09f\")) {                    Plotly.newPlot(                        \"8fdf60fe-6c66-4df3-ac45-d654c35ce09f\",                        [{\"legendgroup\":\"Algeria\",\"marker\":{\"color\":\"#41cc96\"},\"name\":\"Algeria\",\"showlegend\":true,\"x\":[\"Yes\",\"No\"],\"y\":[96.66666666666667,3.3333333333333335],\"type\":\"bar\",\"xaxis\":\"x\",\"yaxis\":\"y\"},{\"legendgroup\":\"Nigeria\",\"marker\":{\"color\":\"#ef563b\"},\"name\":\"Nigeria\",\"showlegend\":true,\"x\":[\"Yes\",\"No\"],\"y\":[100.0,0.0],\"type\":\"bar\",\"xaxis\":\"x\",\"yaxis\":\"y\"},{\"legendgroup\":\"South Africa\",\"marker\":{\"color\":\"#f7a15b\"},\"name\":\"South Africa\",\"showlegend\":true,\"x\":[\"Yes\",\"No\"],\"y\":[98.66666666666667,1.3333333333333335],\"type\":\"bar\",\"xaxis\":\"x\",\"yaxis\":\"y\"},{\"legendgroup\":\"United States\",\"marker\":{\"color\":\"#47d3f3\"},\"name\":\"United States\",\"showlegend\":true,\"x\":[\"Yes\",\"No\"],\"y\":[99.33333333333333,0.6666666666666667],\"type\":\"bar\",\"xaxis\":\"x\",\"yaxis\":\"y\"},{\"legendgroup\":\"Kenya\",\"marker\":{\"color\":\"#636efb\"},\"name\":\"Kenya\",\"showlegend\":true,\"x\":[\"Yes\",\"No\"],\"y\":[99.23076923076923,0.7692307692307693],\"type\":\"bar\",\"xaxis\":\"x\",\"yaxis\":\"y\"},{\"legendgroup\":\"Cameroon\",\"marker\":{\"color\":\"#ab63fb\"},\"name\":\"Cameroon\",\"showlegend\":true,\"x\":[\"Yes\",\"No\"],\"y\":[98.0,2.0],\"type\":\"bar\",\"xaxis\":\"x\",\"yaxis\":\"y\"},{\"legendgroup\":\"Algeria\",\"marker\":{\"color\":\"#41cc96\"},\"name\":\"Algeria\",\"showlegend\":false,\"x\":[\"Yes\",\"No\"],\"y\":[94.66666666666667,5.333333333333334],\"type\":\"bar\",\"xaxis\":\"x2\",\"yaxis\":\"y2\"},{\"legendgroup\":\"Nigeria\",\"marker\":{\"color\":\"#ef563b\"},\"name\":\"Nigeria\",\"showlegend\":false,\"x\":[\"Yes\",\"No\"],\"y\":[97.33333333333334,2.666666666666667],\"type\":\"bar\",\"xaxis\":\"x2\",\"yaxis\":\"y2\"},{\"legendgroup\":\"South Africa\",\"marker\":{\"color\":\"#f7a15b\"},\"name\":\"South Africa\",\"showlegend\":false,\"x\":[\"Yes\",\"No\"],\"y\":[98.0,2.0],\"type\":\"bar\",\"xaxis\":\"x2\",\"yaxis\":\"y2\"},{\"legendgroup\":\"United States\",\"marker\":{\"color\":\"#47d3f3\"},\"name\":\"United States\",\"showlegend\":false,\"x\":[\"Yes\",\"No\"],\"y\":[96.0,4.0],\"type\":\"bar\",\"xaxis\":\"x2\",\"yaxis\":\"y2\"},{\"legendgroup\":\"Kenya\",\"marker\":{\"color\":\"#636efb\"},\"name\":\"Kenya\",\"showlegend\":false,\"x\":[\"Yes\",\"No\"],\"y\":[95.8904109589041,4.10958904109589],\"type\":\"bar\",\"xaxis\":\"x2\",\"yaxis\":\"y2\"},{\"legendgroup\":\"Cameroon\",\"marker\":{\"color\":\"#ab63fb\"},\"name\":\"Cameroon\",\"showlegend\":false,\"x\":[\"Yes\",\"No\"],\"y\":[96.875,3.125],\"type\":\"bar\",\"xaxis\":\"x2\",\"yaxis\":\"y2\"},{\"legendgroup\":\"Algeria\",\"marker\":{\"color\":\"#41cc96\"},\"name\":\"Algeria\",\"showlegend\":false,\"x\":[\"Yes\",\"No\"],\"y\":[98.66666666666667,1.3333333333333335],\"type\":\"bar\",\"xaxis\":\"x3\",\"yaxis\":\"y3\"},{\"legendgroup\":\"Nigeria\",\"marker\":{\"color\":\"#ef563b\"},\"name\":\"Nigeria\",\"showlegend\":false,\"x\":[\"Yes\",\"No\"],\"y\":[0.0,0.0],\"type\":\"bar\",\"xaxis\":\"x3\",\"yaxis\":\"y3\"},{\"legendgroup\":\"South Africa\",\"marker\":{\"color\":\"#f7a15b\"},\"name\":\"South Africa\",\"showlegend\":false,\"x\":[\"Yes\",\"No\"],\"y\":[97.36842105263158,2.631578947368421],\"type\":\"bar\",\"xaxis\":\"x3\",\"yaxis\":\"y3\"},{\"legendgroup\":\"United States\",\"marker\":{\"color\":\"#47d3f3\"},\"name\":\"United States\",\"showlegend\":false,\"x\":[\"Yes\",\"No\"],\"y\":[98.66666666666667,1.3333333333333335],\"type\":\"bar\",\"xaxis\":\"x3\",\"yaxis\":\"y3\"},{\"legendgroup\":\"Kenya\",\"marker\":{\"color\":\"#636efb\"},\"name\":\"Kenya\",\"showlegend\":false,\"x\":[\"Yes\",\"No\"],\"y\":[99.23076923076923,0.7692307692307693],\"type\":\"bar\",\"xaxis\":\"x3\",\"yaxis\":\"y3\"},{\"legendgroup\":\"Cameroon\",\"marker\":{\"color\":\"#ab63fb\"},\"name\":\"Cameroon\",\"showlegend\":false,\"x\":[\"Yes\",\"No\"],\"y\":[96.55172413793103,3.4482758620689653],\"type\":\"bar\",\"xaxis\":\"x3\",\"yaxis\":\"y3\"}],                        {\"template\":{\"data\":{\"histogram2dcontour\":[{\"type\":\"histogram2dcontour\",\"colorbar\":{\"outlinewidth\":0,\"ticks\":\"\"},\"colorscale\":[[0.0,\"#0d0887\"],[0.1111111111111111,\"#46039f\"],[0.2222222222222222,\"#7201a8\"],[0.3333333333333333,\"#9c179e\"],[0.4444444444444444,\"#bd3786\"],[0.5555555555555556,\"#d8576b\"],[0.6666666666666666,\"#ed7953\"],[0.7777777777777778,\"#fb9f3a\"],[0.8888888888888888,\"#fdca26\"],[1.0,\"#f0f921\"]]}],\"choropleth\":[{\"type\":\"choropleth\",\"colorbar\":{\"outlinewidth\":0,\"ticks\":\"\"}}],\"histogram2d\":[{\"type\":\"histogram2d\",\"colorbar\":{\"outlinewidth\":0,\"ticks\":\"\"},\"colorscale\":[[0.0,\"#0d0887\"],[0.1111111111111111,\"#46039f\"],[0.2222222222222222,\"#7201a8\"],[0.3333333333333333,\"#9c179e\"],[0.4444444444444444,\"#bd3786\"],[0.5555555555555556,\"#d8576b\"],[0.6666666666666666,\"#ed7953\"],[0.7777777777777778,\"#fb9f3a\"],[0.8888888888888888,\"#fdca26\"],[1.0,\"#f0f921\"]]}],\"heatmap\":[{\"type\":\"heatmap\",\"colorbar\":{\"outlinewidth\":0,\"ticks\":\"\"},\"colorscale\":[[0.0,\"#0d0887\"],[0.1111111111111111,\"#46039f\"],[0.2222222222222222,\"#7201a8\"],[0.3333333333333333,\"#9c179e\"],[0.4444444444444444,\"#bd3786\"],[0.5555555555555556,\"#d8576b\"],[0.6666666666666666,\"#ed7953\"],[0.7777777777777778,\"#fb9f3a\"],[0.8888888888888888,\"#fdca26\"],[1.0,\"#f0f921\"]]}],\"heatmapgl\":[{\"type\":\"heatmapgl\",\"colorbar\":{\"outlinewidth\":0,\"ticks\":\"\"},\"colorscale\":[[0.0,\"#0d0887\"],[0.1111111111111111,\"#46039f\"],[0.2222222222222222,\"#7201a8\"],[0.3333333333333333,\"#9c179e\"],[0.4444444444444444,\"#bd3786\"],[0.5555555555555556,\"#d8576b\"],[0.6666666666666666,\"#ed7953\"],[0.7777777777777778,\"#fb9f3a\"],[0.8888888888888888,\"#fdca26\"],[1.0,\"#f0f921\"]]}],\"contourcarpet\":[{\"type\":\"contourcarpet\",\"colorbar\":{\"outlinewidth\":0,\"ticks\":\"\"}}],\"contour\":[{\"type\":\"contour\",\"colorbar\":{\"outlinewidth\":0,\"ticks\":\"\"},\"colorscale\":[[0.0,\"#0d0887\"],[0.1111111111111111,\"#46039f\"],[0.2222222222222222,\"#7201a8\"],[0.3333333333333333,\"#9c179e\"],[0.4444444444444444,\"#bd3786\"],[0.5555555555555556,\"#d8576b\"],[0.6666666666666666,\"#ed7953\"],[0.7777777777777778,\"#fb9f3a\"],[0.8888888888888888,\"#fdca26\"],[1.0,\"#f0f921\"]]}],\"surface\":[{\"type\":\"surface\",\"colorbar\":{\"outlinewidth\":0,\"ticks\":\"\"},\"colorscale\":[[0.0,\"#0d0887\"],[0.1111111111111111,\"#46039f\"],[0.2222222222222222,\"#7201a8\"],[0.3333333333333333,\"#9c179e\"],[0.4444444444444444,\"#bd3786\"],[0.5555555555555556,\"#d8576b\"],[0.6666666666666666,\"#ed7953\"],[0.7777777777777778,\"#fb9f3a\"],[0.8888888888888888,\"#fdca26\"],[1.0,\"#f0f921\"]]}],\"mesh3d\":[{\"type\":\"mesh3d\",\"colorbar\":{\"outlinewidth\":0,\"ticks\":\"\"}}],\"scatter\":[{\"fillpattern\":{\"fillmode\":\"overlay\",\"size\":10,\"solidity\":0.2},\"type\":\"scatter\"}],\"parcoords\":[{\"type\":\"parcoords\",\"line\":{\"colorbar\":{\"outlinewidth\":0,\"ticks\":\"\"}}}],\"scatterpolargl\":[{\"type\":\"scatterpolargl\",\"marker\":{\"colorbar\":{\"outlinewidth\":0,\"ticks\":\"\"}}}],\"bar\":[{\"error_x\":{\"color\":\"#2a3f5f\"},\"error_y\":{\"color\":\"#2a3f5f\"},\"marker\":{\"line\":{\"color\":\"#E5ECF6\",\"width\":0.5},\"pattern\":{\"fillmode\":\"overlay\",\"size\":10,\"solidity\":0.2}},\"type\":\"bar\"}],\"scattergeo\":[{\"type\":\"scattergeo\",\"marker\":{\"colorbar\":{\"outlinewidth\":0,\"ticks\":\"\"}}}],\"scatterpolar\":[{\"type\":\"scatterpolar\",\"marker\":{\"colorbar\":{\"outlinewidth\":0,\"ticks\":\"\"}}}],\"histogram\":[{\"marker\":{\"pattern\":{\"fillmode\":\"overlay\",\"size\":10,\"solidity\":0.2}},\"type\":\"histogram\"}],\"scattergl\":[{\"type\":\"scattergl\",\"marker\":{\"colorbar\":{\"outlinewidth\":0,\"ticks\":\"\"}}}],\"scatter3d\":[{\"type\":\"scatter3d\",\"line\":{\"colorbar\":{\"outlinewidth\":0,\"ticks\":\"\"}},\"marker\":{\"colorbar\":{\"outlinewidth\":0,\"ticks\":\"\"}}}],\"scattermapbox\":[{\"type\":\"scattermapbox\",\"marker\":{\"colorbar\":{\"outlinewidth\":0,\"ticks\":\"\"}}}],\"scatterternary\":[{\"type\":\"scatterternary\",\"marker\":{\"colorbar\":{\"outlinewidth\":0,\"ticks\":\"\"}}}],\"scattercarpet\":[{\"type\":\"scattercarpet\",\"marker\":{\"colorbar\":{\"outlinewidth\":0,\"ticks\":\"\"}}}],\"carpet\":[{\"aaxis\":{\"endlinecolor\":\"#2a3f5f\",\"gridcolor\":\"white\",\"linecolor\":\"white\",\"minorgridcolor\":\"white\",\"startlinecolor\":\"#2a3f5f\"},\"baxis\":{\"endlinecolor\":\"#2a3f5f\",\"gridcolor\":\"white\",\"linecolor\":\"white\",\"minorgridcolor\":\"white\",\"startlinecolor\":\"#2a3f5f\"},\"type\":\"carpet\"}],\"table\":[{\"cells\":{\"fill\":{\"color\":\"#EBF0F8\"},\"line\":{\"color\":\"white\"}},\"header\":{\"fill\":{\"color\":\"#C8D4E3\"},\"line\":{\"color\":\"white\"}},\"type\":\"table\"}],\"barpolar\":[{\"marker\":{\"line\":{\"color\":\"#E5ECF6\",\"width\":0.5},\"pattern\":{\"fillmode\":\"overlay\",\"size\":10,\"solidity\":0.2}},\"type\":\"barpolar\"}],\"pie\":[{\"automargin\":true,\"type\":\"pie\"}]},\"layout\":{\"autotypenumbers\":\"strict\",\"colorway\":[\"#636efa\",\"#EF553B\",\"#00cc96\",\"#ab63fa\",\"#FFA15A\",\"#19d3f3\",\"#FF6692\",\"#B6E880\",\"#FF97FF\",\"#FECB52\"],\"font\":{\"color\":\"#2a3f5f\"},\"hovermode\":\"closest\",\"hoverlabel\":{\"align\":\"left\"},\"paper_bgcolor\":\"white\",\"plot_bgcolor\":\"#E5ECF6\",\"polar\":{\"bgcolor\":\"#E5ECF6\",\"angularaxis\":{\"gridcolor\":\"white\",\"linecolor\":\"white\",\"ticks\":\"\"},\"radialaxis\":{\"gridcolor\":\"white\",\"linecolor\":\"white\",\"ticks\":\"\"}},\"ternary\":{\"bgcolor\":\"#E5ECF6\",\"aaxis\":{\"gridcolor\":\"white\",\"linecolor\":\"white\",\"ticks\":\"\"},\"baxis\":{\"gridcolor\":\"white\",\"linecolor\":\"white\",\"ticks\":\"\"},\"caxis\":{\"gridcolor\":\"white\",\"linecolor\":\"white\",\"ticks\":\"\"}},\"coloraxis\":{\"colorbar\":{\"outlinewidth\":0,\"ticks\":\"\"}},\"colorscale\":{\"sequential\":[[0.0,\"#0d0887\"],[0.1111111111111111,\"#46039f\"],[0.2222222222222222,\"#7201a8\"],[0.3333333333333333,\"#9c179e\"],[0.4444444444444444,\"#bd3786\"],[0.5555555555555556,\"#d8576b\"],[0.6666666666666666,\"#ed7953\"],[0.7777777777777778,\"#fb9f3a\"],[0.8888888888888888,\"#fdca26\"],[1.0,\"#f0f921\"]],\"sequentialminus\":[[0.0,\"#0d0887\"],[0.1111111111111111,\"#46039f\"],[0.2222222222222222,\"#7201a8\"],[0.3333333333333333,\"#9c179e\"],[0.4444444444444444,\"#bd3786\"],[0.5555555555555556,\"#d8576b\"],[0.6666666666666666,\"#ed7953\"],[0.7777777777777778,\"#fb9f3a\"],[0.8888888888888888,\"#fdca26\"],[1.0,\"#f0f921\"]],\"diverging\":[[0,\"#8e0152\"],[0.1,\"#c51b7d\"],[0.2,\"#de77ae\"],[0.3,\"#f1b6da\"],[0.4,\"#fde0ef\"],[0.5,\"#f7f7f7\"],[0.6,\"#e6f5d0\"],[0.7,\"#b8e186\"],[0.8,\"#7fbc41\"],[0.9,\"#4d9221\"],[1,\"#276419\"]]},\"xaxis\":{\"gridcolor\":\"white\",\"linecolor\":\"white\",\"ticks\":\"\",\"title\":{\"standoff\":15},\"zerolinecolor\":\"white\",\"automargin\":true,\"zerolinewidth\":2},\"yaxis\":{\"gridcolor\":\"white\",\"linecolor\":\"white\",\"ticks\":\"\",\"title\":{\"standoff\":15},\"zerolinecolor\":\"white\",\"automargin\":true,\"zerolinewidth\":2},\"scene\":{\"xaxis\":{\"backgroundcolor\":\"#E5ECF6\",\"gridcolor\":\"white\",\"linecolor\":\"white\",\"showbackground\":true,\"ticks\":\"\",\"zerolinecolor\":\"white\",\"gridwidth\":2},\"yaxis\":{\"backgroundcolor\":\"#E5ECF6\",\"gridcolor\":\"white\",\"linecolor\":\"white\",\"showbackground\":true,\"ticks\":\"\",\"zerolinecolor\":\"white\",\"gridwidth\":2},\"zaxis\":{\"backgroundcolor\":\"#E5ECF6\",\"gridcolor\":\"white\",\"linecolor\":\"white\",\"showbackground\":true,\"ticks\":\"\",\"zerolinecolor\":\"white\",\"gridwidth\":2}},\"shapedefaults\":{\"line\":{\"color\":\"#2a3f5f\"}},\"annotationdefaults\":{\"arrowcolor\":\"#2a3f5f\",\"arrowhead\":0,\"arrowwidth\":1},\"geo\":{\"bgcolor\":\"white\",\"landcolor\":\"#E5ECF6\",\"subunitcolor\":\"white\",\"showland\":true,\"showlakes\":true,\"lakecolor\":\"white\"},\"title\":{\"x\":0.05},\"mapbox\":{\"style\":\"light\"}}},\"xaxis\":{\"anchor\":\"y\",\"domain\":[0.0,0.3],\"tickvals\":[\"Yes\",\"No\"],\"ticktext\":[\"Yes\",\"No\"],\"categoryorder\":\"array\",\"categoryarray\":[\"Yes\",\"No\"],\"showline\":true,\"linewidth\":2,\"linecolor\":\"grey\",\"mirror\":true},\"yaxis\":{\"anchor\":\"x\",\"domain\":[0.0,1.0],\"title\":{\"text\":\"Proportion of Images (%)\"},\"showline\":true,\"linewidth\":2,\"linecolor\":\"grey\",\"mirror\":true},\"xaxis2\":{\"anchor\":\"y2\",\"domain\":[0.35,0.6499999999999999],\"tickvals\":[\"Yes\",\"No\"],\"ticktext\":[\"Yes\",\"No\"],\"categoryorder\":\"array\",\"categoryarray\":[\"Yes\",\"No\"],\"showline\":true,\"linewidth\":2,\"linecolor\":\"grey\",\"mirror\":true},\"yaxis2\":{\"anchor\":\"x2\",\"domain\":[0.0,1.0],\"matches\":\"y\",\"showticklabels\":false,\"showline\":true,\"linewidth\":2,\"linecolor\":\"grey\",\"mirror\":true},\"xaxis3\":{\"anchor\":\"y3\",\"domain\":[0.7,1.0],\"tickvals\":[\"Yes\",\"No\"],\"ticktext\":[\"Yes\",\"No\"],\"categoryorder\":\"array\",\"categoryarray\":[\"Yes\",\"No\"],\"showline\":true,\"linewidth\":2,\"linecolor\":\"grey\",\"mirror\":true},\"yaxis3\":{\"anchor\":\"x3\",\"domain\":[0.0,1.0],\"matches\":\"y\",\"showticklabels\":false,\"showline\":true,\"linewidth\":2,\"linecolor\":\"grey\",\"mirror\":true},\"annotations\":[{\"font\":{\"size\":16},\"showarrow\":false,\"text\":\"Dall-E 3\",\"x\":0.15,\"xanchor\":\"center\",\"xref\":\"paper\",\"y\":1.0,\"yanchor\":\"bottom\",\"yref\":\"paper\"},{\"font\":{\"size\":16},\"showarrow\":false,\"text\":\"Stable Diffusion 2.1\",\"x\":0.49999999999999994,\"xanchor\":\"center\",\"xref\":\"paper\",\"y\":1.0,\"yanchor\":\"bottom\",\"yref\":\"paper\"},{\"font\":{\"size\":16},\"showarrow\":false,\"text\":\"Dall-E 2\",\"x\":0.85,\"xanchor\":\"center\",\"xref\":\"paper\",\"y\":1.0,\"yanchor\":\"bottom\",\"yref\":\"paper\"}],\"legend\":{\"title\":{\"text\":\"Country\"},\"orientation\":\"v\",\"yanchor\":\"top\",\"y\":1,\"xanchor\":\"right\",\"x\":1.15,\"itemwidth\":30,\"itemsizing\":\"constant\",\"traceorder\":\"normal\",\"bordercolor\":\"grey\",\"borderwidth\":1},\"title\":{\"font\":{\"family\":\"Helvetica Neue\",\"size\":18,\"color\":\"black\"},\"text\":\"Is this a picture of food?\",\"y\":0.9,\"x\":0.5,\"xanchor\":\"center\",\"yanchor\":\"top\"},\"font\":{\"family\":\"Helvetica Neue\",\"size\":12},\"plot_bgcolor\":\"white\",\"barmode\":\"group\",\"width\":1200,\"height\":400},                        {\"responsive\": true}                    ).then(function(){\n",
       "                            \n",
       "var gd = document.getElementById('8fdf60fe-6c66-4df3-ac45-d654c35ce09f');\n",
       "var x = new MutationObserver(function (mutations, observer) {{\n",
       "        var display = window.getComputedStyle(gd).display;\n",
       "        if (!display || display === 'none') {{\n",
       "            console.log([gd, 'removed!']);\n",
       "            Plotly.purge(gd);\n",
       "            observer.disconnect();\n",
       "        }}\n",
       "}});\n",
       "\n",
       "// Listen for the removal of the full notebook cells\n",
       "var notebookContainer = gd.closest('#notebook-container');\n",
       "if (notebookContainer) {{\n",
       "    x.observe(notebookContainer, {childList: true});\n",
       "}}\n",
       "\n",
       "// Listen for the clearing of the current output cell\n",
       "var outputEl = gd.closest('.output');\n",
       "if (outputEl) {{\n",
       "    x.observe(outputEl, {childList: true});\n",
       "}}\n",
       "\n",
       "                        })                };                });            </script>        </div>"
      ]
     },
     "metadata": {},
     "output_type": "display_data"
    },
    {
     "data": {
      "application/vnd.plotly.v1+json": {
       "config": {
        "plotlyServerURL": "https://plot.ly"
       },
       "data": [
        {
         "legendgroup": "Algeria",
         "marker": {
          "color": "#41cc96"
         },
         "name": "Algeria",
         "showlegend": true,
         "type": "bar",
         "x": [
          "Outdoors",
          "Indoors"
         ],
         "xaxis": "x",
         "y": [
          6.666666666666667,
          93.33333333333333
         ],
         "yaxis": "y"
        },
        {
         "legendgroup": "Nigeria",
         "marker": {
          "color": "#ef563b"
         },
         "name": "Nigeria",
         "showlegend": true,
         "type": "bar",
         "x": [
          "Outdoors",
          "Indoors"
         ],
         "xaxis": "x",
         "y": [
          4,
          96
         ],
         "yaxis": "y"
        },
        {
         "legendgroup": "South Africa",
         "marker": {
          "color": "#f7a15b"
         },
         "name": "South Africa",
         "showlegend": true,
         "type": "bar",
         "x": [
          "Outdoors",
          "Indoors"
         ],
         "xaxis": "x",
         "y": [
          8,
          92
         ],
         "yaxis": "y"
        },
        {
         "legendgroup": "United States",
         "marker": {
          "color": "#47d3f3"
         },
         "name": "United States",
         "showlegend": true,
         "type": "bar",
         "x": [
          "Outdoors",
          "Indoors"
         ],
         "xaxis": "x",
         "y": [
          19.333333333333332,
          80.66666666666666
         ],
         "yaxis": "y"
        },
        {
         "legendgroup": "Kenya",
         "marker": {
          "color": "#636efb"
         },
         "name": "Kenya",
         "showlegend": true,
         "type": "bar",
         "x": [
          "Outdoors",
          "Indoors"
         ],
         "xaxis": "x",
         "y": [
          12.307692307692308,
          87.6923076923077
         ],
         "yaxis": "y"
        },
        {
         "legendgroup": "Cameroon",
         "marker": {
          "color": "#ab63fb"
         },
         "name": "Cameroon",
         "showlegend": true,
         "type": "bar",
         "x": [
          "Outdoors",
          "Indoors"
         ],
         "xaxis": "x",
         "y": [
          6,
          94
         ],
         "yaxis": "y"
        },
        {
         "legendgroup": "Algeria",
         "marker": {
          "color": "#41cc96"
         },
         "name": "Algeria",
         "showlegend": false,
         "type": "bar",
         "x": [
          "Outdoors",
          "Indoors"
         ],
         "xaxis": "x2",
         "y": [
          12.666666666666668,
          87.33333333333333
         ],
         "yaxis": "y2"
        },
        {
         "legendgroup": "Nigeria",
         "marker": {
          "color": "#ef563b"
         },
         "name": "Nigeria",
         "showlegend": false,
         "type": "bar",
         "x": [
          "Outdoors",
          "Indoors"
         ],
         "xaxis": "x2",
         "y": [
          3.3333333333333335,
          96.66666666666667
         ],
         "yaxis": "y2"
        },
        {
         "legendgroup": "South Africa",
         "marker": {
          "color": "#f7a15b"
         },
         "name": "South Africa",
         "showlegend": false,
         "type": "bar",
         "x": [
          "Outdoors",
          "Indoors"
         ],
         "xaxis": "x2",
         "y": [
          10.666666666666668,
          89.33333333333333
         ],
         "yaxis": "y2"
        },
        {
         "legendgroup": "United States",
         "marker": {
          "color": "#47d3f3"
         },
         "name": "United States",
         "showlegend": false,
         "type": "bar",
         "x": [
          "Outdoors",
          "Indoors"
         ],
         "xaxis": "x2",
         "y": [
          20.666666666666668,
          79.33333333333333
         ],
         "yaxis": "y2"
        },
        {
         "legendgroup": "Kenya",
         "marker": {
          "color": "#636efb"
         },
         "name": "Kenya",
         "showlegend": false,
         "type": "bar",
         "x": [
          "Outdoors",
          "Indoors"
         ],
         "xaxis": "x2",
         "y": [
          8.21917808219178,
          91.78082191780823
         ],
         "yaxis": "y2"
        },
        {
         "legendgroup": "Cameroon",
         "marker": {
          "color": "#ab63fb"
         },
         "name": "Cameroon",
         "showlegend": false,
         "type": "bar",
         "x": [
          "Outdoors",
          "Indoors"
         ],
         "xaxis": "x2",
         "y": [
          5,
          95
         ],
         "yaxis": "y2"
        },
        {
         "legendgroup": "Algeria",
         "marker": {
          "color": "#41cc96"
         },
         "name": "Algeria",
         "showlegend": false,
         "type": "bar",
         "x": [
          "Outdoors",
          "Indoors"
         ],
         "xaxis": "x3",
         "y": [
          8.666666666666668,
          91.33333333333333
         ],
         "yaxis": "y3"
        },
        {
         "legendgroup": "Nigeria",
         "marker": {
          "color": "#ef563b"
         },
         "name": "Nigeria",
         "showlegend": false,
         "type": "bar",
         "x": [
          "Outdoors",
          "Indoors"
         ],
         "xaxis": "x3",
         "y": [
          0,
          0
         ],
         "yaxis": "y3"
        },
        {
         "legendgroup": "South Africa",
         "marker": {
          "color": "#f7a15b"
         },
         "name": "South Africa",
         "showlegend": false,
         "type": "bar",
         "x": [
          "Outdoors",
          "Indoors"
         ],
         "xaxis": "x3",
         "y": [
          47.368421052631575,
          52.63157894736842
         ],
         "yaxis": "y3"
        },
        {
         "legendgroup": "United States",
         "marker": {
          "color": "#47d3f3"
         },
         "name": "United States",
         "showlegend": false,
         "type": "bar",
         "x": [
          "Outdoors",
          "Indoors"
         ],
         "xaxis": "x3",
         "y": [
          15.333333333333332,
          84.66666666666667
         ],
         "yaxis": "y3"
        },
        {
         "legendgroup": "Kenya",
         "marker": {
          "color": "#636efb"
         },
         "name": "Kenya",
         "showlegend": false,
         "type": "bar",
         "x": [
          "Outdoors",
          "Indoors"
         ],
         "xaxis": "x3",
         "y": [
          43.07692307692308,
          56.92307692307692
         ],
         "yaxis": "y3"
        },
        {
         "legendgroup": "Cameroon",
         "marker": {
          "color": "#ab63fb"
         },
         "name": "Cameroon",
         "showlegend": false,
         "type": "bar",
         "x": [
          "Outdoors",
          "Indoors"
         ],
         "xaxis": "x3",
         "y": [
          15.862068965517242,
          84.13793103448276
         ],
         "yaxis": "y3"
        }
       ],
       "layout": {
        "annotations": [
         {
          "font": {
           "size": 16
          },
          "showarrow": false,
          "text": "Dall-E 3",
          "x": 0.15,
          "xanchor": "center",
          "xref": "paper",
          "y": 1,
          "yanchor": "bottom",
          "yref": "paper"
         },
         {
          "font": {
           "size": 16
          },
          "showarrow": false,
          "text": "Stable Diffusion 2.1",
          "x": 0.49999999999999994,
          "xanchor": "center",
          "xref": "paper",
          "y": 1,
          "yanchor": "bottom",
          "yref": "paper"
         },
         {
          "font": {
           "size": 16
          },
          "showarrow": false,
          "text": "Dall-E 2",
          "x": 0.85,
          "xanchor": "center",
          "xref": "paper",
          "y": 1,
          "yanchor": "bottom",
          "yref": "paper"
         }
        ],
        "barmode": "group",
        "font": {
         "family": "Helvetica Neue",
         "size": 12
        },
        "height": 400,
        "legend": {
         "bordercolor": "grey",
         "borderwidth": 1,
         "itemsizing": "constant",
         "itemwidth": 30,
         "orientation": "v",
         "title": {
          "text": "Country"
         },
         "traceorder": "normal",
         "x": 1.15,
         "xanchor": "right",
         "y": 1,
         "yanchor": "top"
        },
        "plot_bgcolor": "white",
        "template": {
         "data": {
          "bar": [
           {
            "error_x": {
             "color": "#2a3f5f"
            },
            "error_y": {
             "color": "#2a3f5f"
            },
            "marker": {
             "line": {
              "color": "#E5ECF6",
              "width": 0.5
             },
             "pattern": {
              "fillmode": "overlay",
              "size": 10,
              "solidity": 0.2
             }
            },
            "type": "bar"
           }
          ],
          "barpolar": [
           {
            "marker": {
             "line": {
              "color": "#E5ECF6",
              "width": 0.5
             },
             "pattern": {
              "fillmode": "overlay",
              "size": 10,
              "solidity": 0.2
             }
            },
            "type": "barpolar"
           }
          ],
          "carpet": [
           {
            "aaxis": {
             "endlinecolor": "#2a3f5f",
             "gridcolor": "white",
             "linecolor": "white",
             "minorgridcolor": "white",
             "startlinecolor": "#2a3f5f"
            },
            "baxis": {
             "endlinecolor": "#2a3f5f",
             "gridcolor": "white",
             "linecolor": "white",
             "minorgridcolor": "white",
             "startlinecolor": "#2a3f5f"
            },
            "type": "carpet"
           }
          ],
          "choropleth": [
           {
            "colorbar": {
             "outlinewidth": 0,
             "ticks": ""
            },
            "type": "choropleth"
           }
          ],
          "contour": [
           {
            "colorbar": {
             "outlinewidth": 0,
             "ticks": ""
            },
            "colorscale": [
             [
              0,
              "#0d0887"
             ],
             [
              0.1111111111111111,
              "#46039f"
             ],
             [
              0.2222222222222222,
              "#7201a8"
             ],
             [
              0.3333333333333333,
              "#9c179e"
             ],
             [
              0.4444444444444444,
              "#bd3786"
             ],
             [
              0.5555555555555556,
              "#d8576b"
             ],
             [
              0.6666666666666666,
              "#ed7953"
             ],
             [
              0.7777777777777778,
              "#fb9f3a"
             ],
             [
              0.8888888888888888,
              "#fdca26"
             ],
             [
              1,
              "#f0f921"
             ]
            ],
            "type": "contour"
           }
          ],
          "contourcarpet": [
           {
            "colorbar": {
             "outlinewidth": 0,
             "ticks": ""
            },
            "type": "contourcarpet"
           }
          ],
          "heatmap": [
           {
            "colorbar": {
             "outlinewidth": 0,
             "ticks": ""
            },
            "colorscale": [
             [
              0,
              "#0d0887"
             ],
             [
              0.1111111111111111,
              "#46039f"
             ],
             [
              0.2222222222222222,
              "#7201a8"
             ],
             [
              0.3333333333333333,
              "#9c179e"
             ],
             [
              0.4444444444444444,
              "#bd3786"
             ],
             [
              0.5555555555555556,
              "#d8576b"
             ],
             [
              0.6666666666666666,
              "#ed7953"
             ],
             [
              0.7777777777777778,
              "#fb9f3a"
             ],
             [
              0.8888888888888888,
              "#fdca26"
             ],
             [
              1,
              "#f0f921"
             ]
            ],
            "type": "heatmap"
           }
          ],
          "heatmapgl": [
           {
            "colorbar": {
             "outlinewidth": 0,
             "ticks": ""
            },
            "colorscale": [
             [
              0,
              "#0d0887"
             ],
             [
              0.1111111111111111,
              "#46039f"
             ],
             [
              0.2222222222222222,
              "#7201a8"
             ],
             [
              0.3333333333333333,
              "#9c179e"
             ],
             [
              0.4444444444444444,
              "#bd3786"
             ],
             [
              0.5555555555555556,
              "#d8576b"
             ],
             [
              0.6666666666666666,
              "#ed7953"
             ],
             [
              0.7777777777777778,
              "#fb9f3a"
             ],
             [
              0.8888888888888888,
              "#fdca26"
             ],
             [
              1,
              "#f0f921"
             ]
            ],
            "type": "heatmapgl"
           }
          ],
          "histogram": [
           {
            "marker": {
             "pattern": {
              "fillmode": "overlay",
              "size": 10,
              "solidity": 0.2
             }
            },
            "type": "histogram"
           }
          ],
          "histogram2d": [
           {
            "colorbar": {
             "outlinewidth": 0,
             "ticks": ""
            },
            "colorscale": [
             [
              0,
              "#0d0887"
             ],
             [
              0.1111111111111111,
              "#46039f"
             ],
             [
              0.2222222222222222,
              "#7201a8"
             ],
             [
              0.3333333333333333,
              "#9c179e"
             ],
             [
              0.4444444444444444,
              "#bd3786"
             ],
             [
              0.5555555555555556,
              "#d8576b"
             ],
             [
              0.6666666666666666,
              "#ed7953"
             ],
             [
              0.7777777777777778,
              "#fb9f3a"
             ],
             [
              0.8888888888888888,
              "#fdca26"
             ],
             [
              1,
              "#f0f921"
             ]
            ],
            "type": "histogram2d"
           }
          ],
          "histogram2dcontour": [
           {
            "colorbar": {
             "outlinewidth": 0,
             "ticks": ""
            },
            "colorscale": [
             [
              0,
              "#0d0887"
             ],
             [
              0.1111111111111111,
              "#46039f"
             ],
             [
              0.2222222222222222,
              "#7201a8"
             ],
             [
              0.3333333333333333,
              "#9c179e"
             ],
             [
              0.4444444444444444,
              "#bd3786"
             ],
             [
              0.5555555555555556,
              "#d8576b"
             ],
             [
              0.6666666666666666,
              "#ed7953"
             ],
             [
              0.7777777777777778,
              "#fb9f3a"
             ],
             [
              0.8888888888888888,
              "#fdca26"
             ],
             [
              1,
              "#f0f921"
             ]
            ],
            "type": "histogram2dcontour"
           }
          ],
          "mesh3d": [
           {
            "colorbar": {
             "outlinewidth": 0,
             "ticks": ""
            },
            "type": "mesh3d"
           }
          ],
          "parcoords": [
           {
            "line": {
             "colorbar": {
              "outlinewidth": 0,
              "ticks": ""
             }
            },
            "type": "parcoords"
           }
          ],
          "pie": [
           {
            "automargin": true,
            "type": "pie"
           }
          ],
          "scatter": [
           {
            "fillpattern": {
             "fillmode": "overlay",
             "size": 10,
             "solidity": 0.2
            },
            "type": "scatter"
           }
          ],
          "scatter3d": [
           {
            "line": {
             "colorbar": {
              "outlinewidth": 0,
              "ticks": ""
             }
            },
            "marker": {
             "colorbar": {
              "outlinewidth": 0,
              "ticks": ""
             }
            },
            "type": "scatter3d"
           }
          ],
          "scattercarpet": [
           {
            "marker": {
             "colorbar": {
              "outlinewidth": 0,
              "ticks": ""
             }
            },
            "type": "scattercarpet"
           }
          ],
          "scattergeo": [
           {
            "marker": {
             "colorbar": {
              "outlinewidth": 0,
              "ticks": ""
             }
            },
            "type": "scattergeo"
           }
          ],
          "scattergl": [
           {
            "marker": {
             "colorbar": {
              "outlinewidth": 0,
              "ticks": ""
             }
            },
            "type": "scattergl"
           }
          ],
          "scattermapbox": [
           {
            "marker": {
             "colorbar": {
              "outlinewidth": 0,
              "ticks": ""
             }
            },
            "type": "scattermapbox"
           }
          ],
          "scatterpolar": [
           {
            "marker": {
             "colorbar": {
              "outlinewidth": 0,
              "ticks": ""
             }
            },
            "type": "scatterpolar"
           }
          ],
          "scatterpolargl": [
           {
            "marker": {
             "colorbar": {
              "outlinewidth": 0,
              "ticks": ""
             }
            },
            "type": "scatterpolargl"
           }
          ],
          "scatterternary": [
           {
            "marker": {
             "colorbar": {
              "outlinewidth": 0,
              "ticks": ""
             }
            },
            "type": "scatterternary"
           }
          ],
          "surface": [
           {
            "colorbar": {
             "outlinewidth": 0,
             "ticks": ""
            },
            "colorscale": [
             [
              0,
              "#0d0887"
             ],
             [
              0.1111111111111111,
              "#46039f"
             ],
             [
              0.2222222222222222,
              "#7201a8"
             ],
             [
              0.3333333333333333,
              "#9c179e"
             ],
             [
              0.4444444444444444,
              "#bd3786"
             ],
             [
              0.5555555555555556,
              "#d8576b"
             ],
             [
              0.6666666666666666,
              "#ed7953"
             ],
             [
              0.7777777777777778,
              "#fb9f3a"
             ],
             [
              0.8888888888888888,
              "#fdca26"
             ],
             [
              1,
              "#f0f921"
             ]
            ],
            "type": "surface"
           }
          ],
          "table": [
           {
            "cells": {
             "fill": {
              "color": "#EBF0F8"
             },
             "line": {
              "color": "white"
             }
            },
            "header": {
             "fill": {
              "color": "#C8D4E3"
             },
             "line": {
              "color": "white"
             }
            },
            "type": "table"
           }
          ]
         },
         "layout": {
          "annotationdefaults": {
           "arrowcolor": "#2a3f5f",
           "arrowhead": 0,
           "arrowwidth": 1
          },
          "autotypenumbers": "strict",
          "coloraxis": {
           "colorbar": {
            "outlinewidth": 0,
            "ticks": ""
           }
          },
          "colorscale": {
           "diverging": [
            [
             0,
             "#8e0152"
            ],
            [
             0.1,
             "#c51b7d"
            ],
            [
             0.2,
             "#de77ae"
            ],
            [
             0.3,
             "#f1b6da"
            ],
            [
             0.4,
             "#fde0ef"
            ],
            [
             0.5,
             "#f7f7f7"
            ],
            [
             0.6,
             "#e6f5d0"
            ],
            [
             0.7,
             "#b8e186"
            ],
            [
             0.8,
             "#7fbc41"
            ],
            [
             0.9,
             "#4d9221"
            ],
            [
             1,
             "#276419"
            ]
           ],
           "sequential": [
            [
             0,
             "#0d0887"
            ],
            [
             0.1111111111111111,
             "#46039f"
            ],
            [
             0.2222222222222222,
             "#7201a8"
            ],
            [
             0.3333333333333333,
             "#9c179e"
            ],
            [
             0.4444444444444444,
             "#bd3786"
            ],
            [
             0.5555555555555556,
             "#d8576b"
            ],
            [
             0.6666666666666666,
             "#ed7953"
            ],
            [
             0.7777777777777778,
             "#fb9f3a"
            ],
            [
             0.8888888888888888,
             "#fdca26"
            ],
            [
             1,
             "#f0f921"
            ]
           ],
           "sequentialminus": [
            [
             0,
             "#0d0887"
            ],
            [
             0.1111111111111111,
             "#46039f"
            ],
            [
             0.2222222222222222,
             "#7201a8"
            ],
            [
             0.3333333333333333,
             "#9c179e"
            ],
            [
             0.4444444444444444,
             "#bd3786"
            ],
            [
             0.5555555555555556,
             "#d8576b"
            ],
            [
             0.6666666666666666,
             "#ed7953"
            ],
            [
             0.7777777777777778,
             "#fb9f3a"
            ],
            [
             0.8888888888888888,
             "#fdca26"
            ],
            [
             1,
             "#f0f921"
            ]
           ]
          },
          "colorway": [
           "#636efa",
           "#EF553B",
           "#00cc96",
           "#ab63fa",
           "#FFA15A",
           "#19d3f3",
           "#FF6692",
           "#B6E880",
           "#FF97FF",
           "#FECB52"
          ],
          "font": {
           "color": "#2a3f5f"
          },
          "geo": {
           "bgcolor": "white",
           "lakecolor": "white",
           "landcolor": "#E5ECF6",
           "showlakes": true,
           "showland": true,
           "subunitcolor": "white"
          },
          "hoverlabel": {
           "align": "left"
          },
          "hovermode": "closest",
          "mapbox": {
           "style": "light"
          },
          "paper_bgcolor": "white",
          "plot_bgcolor": "#E5ECF6",
          "polar": {
           "angularaxis": {
            "gridcolor": "white",
            "linecolor": "white",
            "ticks": ""
           },
           "bgcolor": "#E5ECF6",
           "radialaxis": {
            "gridcolor": "white",
            "linecolor": "white",
            "ticks": ""
           }
          },
          "scene": {
           "xaxis": {
            "backgroundcolor": "#E5ECF6",
            "gridcolor": "white",
            "gridwidth": 2,
            "linecolor": "white",
            "showbackground": true,
            "ticks": "",
            "zerolinecolor": "white"
           },
           "yaxis": {
            "backgroundcolor": "#E5ECF6",
            "gridcolor": "white",
            "gridwidth": 2,
            "linecolor": "white",
            "showbackground": true,
            "ticks": "",
            "zerolinecolor": "white"
           },
           "zaxis": {
            "backgroundcolor": "#E5ECF6",
            "gridcolor": "white",
            "gridwidth": 2,
            "linecolor": "white",
            "showbackground": true,
            "ticks": "",
            "zerolinecolor": "white"
           }
          },
          "shapedefaults": {
           "line": {
            "color": "#2a3f5f"
           }
          },
          "ternary": {
           "aaxis": {
            "gridcolor": "white",
            "linecolor": "white",
            "ticks": ""
           },
           "baxis": {
            "gridcolor": "white",
            "linecolor": "white",
            "ticks": ""
           },
           "bgcolor": "#E5ECF6",
           "caxis": {
            "gridcolor": "white",
            "linecolor": "white",
            "ticks": ""
           }
          },
          "title": {
           "x": 0.05
          },
          "xaxis": {
           "automargin": true,
           "gridcolor": "white",
           "linecolor": "white",
           "ticks": "",
           "title": {
            "standoff": 15
           },
           "zerolinecolor": "white",
           "zerolinewidth": 2
          },
          "yaxis": {
           "automargin": true,
           "gridcolor": "white",
           "linecolor": "white",
           "ticks": "",
           "title": {
            "standoff": 15
           },
           "zerolinecolor": "white",
           "zerolinewidth": 2
          }
         }
        },
        "title": {
         "font": {
          "color": "black",
          "family": "Helvetica Neue",
          "size": 18
         },
         "text": "Is the dish placed outdoors or indoors?",
         "x": 0.5,
         "xanchor": "center",
         "y": 0.9,
         "yanchor": "top"
        },
        "width": 1200,
        "xaxis": {
         "anchor": "y",
         "categoryarray": [
          "Outdoors",
          "Indoors"
         ],
         "categoryorder": "array",
         "domain": [
          0,
          0.3
         ],
         "linecolor": "grey",
         "linewidth": 2,
         "mirror": true,
         "showline": true,
         "ticktext": [
          "Outdoors",
          "Indoors"
         ],
         "tickvals": [
          "Outdoors",
          "Indoors"
         ]
        },
        "xaxis2": {
         "anchor": "y2",
         "categoryarray": [
          "Outdoors",
          "Indoors"
         ],
         "categoryorder": "array",
         "domain": [
          0.35,
          0.6499999999999999
         ],
         "linecolor": "grey",
         "linewidth": 2,
         "mirror": true,
         "showline": true,
         "ticktext": [
          "Outdoors",
          "Indoors"
         ],
         "tickvals": [
          "Outdoors",
          "Indoors"
         ]
        },
        "xaxis3": {
         "anchor": "y3",
         "categoryarray": [
          "Outdoors",
          "Indoors"
         ],
         "categoryorder": "array",
         "domain": [
          0.7,
          1
         ],
         "linecolor": "grey",
         "linewidth": 2,
         "mirror": true,
         "showline": true,
         "ticktext": [
          "Outdoors",
          "Indoors"
         ],
         "tickvals": [
          "Outdoors",
          "Indoors"
         ]
        },
        "yaxis": {
         "anchor": "x",
         "domain": [
          0,
          1
         ],
         "linecolor": "grey",
         "linewidth": 2,
         "mirror": true,
         "showline": true,
         "title": {
          "text": "Proportion of Images (%)"
         }
        },
        "yaxis2": {
         "anchor": "x2",
         "domain": [
          0,
          1
         ],
         "linecolor": "grey",
         "linewidth": 2,
         "matches": "y",
         "mirror": true,
         "showline": true,
         "showticklabels": false
        },
        "yaxis3": {
         "anchor": "x3",
         "domain": [
          0,
          1
         ],
         "linecolor": "grey",
         "linewidth": 2,
         "matches": "y",
         "mirror": true,
         "showline": true,
         "showticklabels": false
        }
       }
      },
      "text/html": [
       "<div>                            <div id=\"d78e5756-2b5c-4b96-8654-bf6d0bb6ff79\" class=\"plotly-graph-div\" style=\"height:400px; width:1200px;\"></div>            <script type=\"text/javascript\">                require([\"plotly\"], function(Plotly) {                    window.PLOTLYENV=window.PLOTLYENV || {};                                    if (document.getElementById(\"d78e5756-2b5c-4b96-8654-bf6d0bb6ff79\")) {                    Plotly.newPlot(                        \"d78e5756-2b5c-4b96-8654-bf6d0bb6ff79\",                        [{\"legendgroup\":\"Algeria\",\"marker\":{\"color\":\"#41cc96\"},\"name\":\"Algeria\",\"showlegend\":true,\"x\":[\"Outdoors\",\"Indoors\"],\"y\":[6.666666666666667,93.33333333333333],\"type\":\"bar\",\"xaxis\":\"x\",\"yaxis\":\"y\"},{\"legendgroup\":\"Nigeria\",\"marker\":{\"color\":\"#ef563b\"},\"name\":\"Nigeria\",\"showlegend\":true,\"x\":[\"Outdoors\",\"Indoors\"],\"y\":[4.0,96.0],\"type\":\"bar\",\"xaxis\":\"x\",\"yaxis\":\"y\"},{\"legendgroup\":\"South Africa\",\"marker\":{\"color\":\"#f7a15b\"},\"name\":\"South Africa\",\"showlegend\":true,\"x\":[\"Outdoors\",\"Indoors\"],\"y\":[8.0,92.0],\"type\":\"bar\",\"xaxis\":\"x\",\"yaxis\":\"y\"},{\"legendgroup\":\"United States\",\"marker\":{\"color\":\"#47d3f3\"},\"name\":\"United States\",\"showlegend\":true,\"x\":[\"Outdoors\",\"Indoors\"],\"y\":[19.333333333333332,80.66666666666666],\"type\":\"bar\",\"xaxis\":\"x\",\"yaxis\":\"y\"},{\"legendgroup\":\"Kenya\",\"marker\":{\"color\":\"#636efb\"},\"name\":\"Kenya\",\"showlegend\":true,\"x\":[\"Outdoors\",\"Indoors\"],\"y\":[12.307692307692308,87.6923076923077],\"type\":\"bar\",\"xaxis\":\"x\",\"yaxis\":\"y\"},{\"legendgroup\":\"Cameroon\",\"marker\":{\"color\":\"#ab63fb\"},\"name\":\"Cameroon\",\"showlegend\":true,\"x\":[\"Outdoors\",\"Indoors\"],\"y\":[6.0,94.0],\"type\":\"bar\",\"xaxis\":\"x\",\"yaxis\":\"y\"},{\"legendgroup\":\"Algeria\",\"marker\":{\"color\":\"#41cc96\"},\"name\":\"Algeria\",\"showlegend\":false,\"x\":[\"Outdoors\",\"Indoors\"],\"y\":[12.666666666666668,87.33333333333333],\"type\":\"bar\",\"xaxis\":\"x2\",\"yaxis\":\"y2\"},{\"legendgroup\":\"Nigeria\",\"marker\":{\"color\":\"#ef563b\"},\"name\":\"Nigeria\",\"showlegend\":false,\"x\":[\"Outdoors\",\"Indoors\"],\"y\":[3.3333333333333335,96.66666666666667],\"type\":\"bar\",\"xaxis\":\"x2\",\"yaxis\":\"y2\"},{\"legendgroup\":\"South Africa\",\"marker\":{\"color\":\"#f7a15b\"},\"name\":\"South Africa\",\"showlegend\":false,\"x\":[\"Outdoors\",\"Indoors\"],\"y\":[10.666666666666668,89.33333333333333],\"type\":\"bar\",\"xaxis\":\"x2\",\"yaxis\":\"y2\"},{\"legendgroup\":\"United States\",\"marker\":{\"color\":\"#47d3f3\"},\"name\":\"United States\",\"showlegend\":false,\"x\":[\"Outdoors\",\"Indoors\"],\"y\":[20.666666666666668,79.33333333333333],\"type\":\"bar\",\"xaxis\":\"x2\",\"yaxis\":\"y2\"},{\"legendgroup\":\"Kenya\",\"marker\":{\"color\":\"#636efb\"},\"name\":\"Kenya\",\"showlegend\":false,\"x\":[\"Outdoors\",\"Indoors\"],\"y\":[8.21917808219178,91.78082191780823],\"type\":\"bar\",\"xaxis\":\"x2\",\"yaxis\":\"y2\"},{\"legendgroup\":\"Cameroon\",\"marker\":{\"color\":\"#ab63fb\"},\"name\":\"Cameroon\",\"showlegend\":false,\"x\":[\"Outdoors\",\"Indoors\"],\"y\":[5.0,95.0],\"type\":\"bar\",\"xaxis\":\"x2\",\"yaxis\":\"y2\"},{\"legendgroup\":\"Algeria\",\"marker\":{\"color\":\"#41cc96\"},\"name\":\"Algeria\",\"showlegend\":false,\"x\":[\"Outdoors\",\"Indoors\"],\"y\":[8.666666666666668,91.33333333333333],\"type\":\"bar\",\"xaxis\":\"x3\",\"yaxis\":\"y3\"},{\"legendgroup\":\"Nigeria\",\"marker\":{\"color\":\"#ef563b\"},\"name\":\"Nigeria\",\"showlegend\":false,\"x\":[\"Outdoors\",\"Indoors\"],\"y\":[0.0,0.0],\"type\":\"bar\",\"xaxis\":\"x3\",\"yaxis\":\"y3\"},{\"legendgroup\":\"South Africa\",\"marker\":{\"color\":\"#f7a15b\"},\"name\":\"South Africa\",\"showlegend\":false,\"x\":[\"Outdoors\",\"Indoors\"],\"y\":[47.368421052631575,52.63157894736842],\"type\":\"bar\",\"xaxis\":\"x3\",\"yaxis\":\"y3\"},{\"legendgroup\":\"United States\",\"marker\":{\"color\":\"#47d3f3\"},\"name\":\"United States\",\"showlegend\":false,\"x\":[\"Outdoors\",\"Indoors\"],\"y\":[15.333333333333332,84.66666666666667],\"type\":\"bar\",\"xaxis\":\"x3\",\"yaxis\":\"y3\"},{\"legendgroup\":\"Kenya\",\"marker\":{\"color\":\"#636efb\"},\"name\":\"Kenya\",\"showlegend\":false,\"x\":[\"Outdoors\",\"Indoors\"],\"y\":[43.07692307692308,56.92307692307692],\"type\":\"bar\",\"xaxis\":\"x3\",\"yaxis\":\"y3\"},{\"legendgroup\":\"Cameroon\",\"marker\":{\"color\":\"#ab63fb\"},\"name\":\"Cameroon\",\"showlegend\":false,\"x\":[\"Outdoors\",\"Indoors\"],\"y\":[15.862068965517242,84.13793103448276],\"type\":\"bar\",\"xaxis\":\"x3\",\"yaxis\":\"y3\"}],                        {\"template\":{\"data\":{\"histogram2dcontour\":[{\"type\":\"histogram2dcontour\",\"colorbar\":{\"outlinewidth\":0,\"ticks\":\"\"},\"colorscale\":[[0.0,\"#0d0887\"],[0.1111111111111111,\"#46039f\"],[0.2222222222222222,\"#7201a8\"],[0.3333333333333333,\"#9c179e\"],[0.4444444444444444,\"#bd3786\"],[0.5555555555555556,\"#d8576b\"],[0.6666666666666666,\"#ed7953\"],[0.7777777777777778,\"#fb9f3a\"],[0.8888888888888888,\"#fdca26\"],[1.0,\"#f0f921\"]]}],\"choropleth\":[{\"type\":\"choropleth\",\"colorbar\":{\"outlinewidth\":0,\"ticks\":\"\"}}],\"histogram2d\":[{\"type\":\"histogram2d\",\"colorbar\":{\"outlinewidth\":0,\"ticks\":\"\"},\"colorscale\":[[0.0,\"#0d0887\"],[0.1111111111111111,\"#46039f\"],[0.2222222222222222,\"#7201a8\"],[0.3333333333333333,\"#9c179e\"],[0.4444444444444444,\"#bd3786\"],[0.5555555555555556,\"#d8576b\"],[0.6666666666666666,\"#ed7953\"],[0.7777777777777778,\"#fb9f3a\"],[0.8888888888888888,\"#fdca26\"],[1.0,\"#f0f921\"]]}],\"heatmap\":[{\"type\":\"heatmap\",\"colorbar\":{\"outlinewidth\":0,\"ticks\":\"\"},\"colorscale\":[[0.0,\"#0d0887\"],[0.1111111111111111,\"#46039f\"],[0.2222222222222222,\"#7201a8\"],[0.3333333333333333,\"#9c179e\"],[0.4444444444444444,\"#bd3786\"],[0.5555555555555556,\"#d8576b\"],[0.6666666666666666,\"#ed7953\"],[0.7777777777777778,\"#fb9f3a\"],[0.8888888888888888,\"#fdca26\"],[1.0,\"#f0f921\"]]}],\"heatmapgl\":[{\"type\":\"heatmapgl\",\"colorbar\":{\"outlinewidth\":0,\"ticks\":\"\"},\"colorscale\":[[0.0,\"#0d0887\"],[0.1111111111111111,\"#46039f\"],[0.2222222222222222,\"#7201a8\"],[0.3333333333333333,\"#9c179e\"],[0.4444444444444444,\"#bd3786\"],[0.5555555555555556,\"#d8576b\"],[0.6666666666666666,\"#ed7953\"],[0.7777777777777778,\"#fb9f3a\"],[0.8888888888888888,\"#fdca26\"],[1.0,\"#f0f921\"]]}],\"contourcarpet\":[{\"type\":\"contourcarpet\",\"colorbar\":{\"outlinewidth\":0,\"ticks\":\"\"}}],\"contour\":[{\"type\":\"contour\",\"colorbar\":{\"outlinewidth\":0,\"ticks\":\"\"},\"colorscale\":[[0.0,\"#0d0887\"],[0.1111111111111111,\"#46039f\"],[0.2222222222222222,\"#7201a8\"],[0.3333333333333333,\"#9c179e\"],[0.4444444444444444,\"#bd3786\"],[0.5555555555555556,\"#d8576b\"],[0.6666666666666666,\"#ed7953\"],[0.7777777777777778,\"#fb9f3a\"],[0.8888888888888888,\"#fdca26\"],[1.0,\"#f0f921\"]]}],\"surface\":[{\"type\":\"surface\",\"colorbar\":{\"outlinewidth\":0,\"ticks\":\"\"},\"colorscale\":[[0.0,\"#0d0887\"],[0.1111111111111111,\"#46039f\"],[0.2222222222222222,\"#7201a8\"],[0.3333333333333333,\"#9c179e\"],[0.4444444444444444,\"#bd3786\"],[0.5555555555555556,\"#d8576b\"],[0.6666666666666666,\"#ed7953\"],[0.7777777777777778,\"#fb9f3a\"],[0.8888888888888888,\"#fdca26\"],[1.0,\"#f0f921\"]]}],\"mesh3d\":[{\"type\":\"mesh3d\",\"colorbar\":{\"outlinewidth\":0,\"ticks\":\"\"}}],\"scatter\":[{\"fillpattern\":{\"fillmode\":\"overlay\",\"size\":10,\"solidity\":0.2},\"type\":\"scatter\"}],\"parcoords\":[{\"type\":\"parcoords\",\"line\":{\"colorbar\":{\"outlinewidth\":0,\"ticks\":\"\"}}}],\"scatterpolargl\":[{\"type\":\"scatterpolargl\",\"marker\":{\"colorbar\":{\"outlinewidth\":0,\"ticks\":\"\"}}}],\"bar\":[{\"error_x\":{\"color\":\"#2a3f5f\"},\"error_y\":{\"color\":\"#2a3f5f\"},\"marker\":{\"line\":{\"color\":\"#E5ECF6\",\"width\":0.5},\"pattern\":{\"fillmode\":\"overlay\",\"size\":10,\"solidity\":0.2}},\"type\":\"bar\"}],\"scattergeo\":[{\"type\":\"scattergeo\",\"marker\":{\"colorbar\":{\"outlinewidth\":0,\"ticks\":\"\"}}}],\"scatterpolar\":[{\"type\":\"scatterpolar\",\"marker\":{\"colorbar\":{\"outlinewidth\":0,\"ticks\":\"\"}}}],\"histogram\":[{\"marker\":{\"pattern\":{\"fillmode\":\"overlay\",\"size\":10,\"solidity\":0.2}},\"type\":\"histogram\"}],\"scattergl\":[{\"type\":\"scattergl\",\"marker\":{\"colorbar\":{\"outlinewidth\":0,\"ticks\":\"\"}}}],\"scatter3d\":[{\"type\":\"scatter3d\",\"line\":{\"colorbar\":{\"outlinewidth\":0,\"ticks\":\"\"}},\"marker\":{\"colorbar\":{\"outlinewidth\":0,\"ticks\":\"\"}}}],\"scattermapbox\":[{\"type\":\"scattermapbox\",\"marker\":{\"colorbar\":{\"outlinewidth\":0,\"ticks\":\"\"}}}],\"scatterternary\":[{\"type\":\"scatterternary\",\"marker\":{\"colorbar\":{\"outlinewidth\":0,\"ticks\":\"\"}}}],\"scattercarpet\":[{\"type\":\"scattercarpet\",\"marker\":{\"colorbar\":{\"outlinewidth\":0,\"ticks\":\"\"}}}],\"carpet\":[{\"aaxis\":{\"endlinecolor\":\"#2a3f5f\",\"gridcolor\":\"white\",\"linecolor\":\"white\",\"minorgridcolor\":\"white\",\"startlinecolor\":\"#2a3f5f\"},\"baxis\":{\"endlinecolor\":\"#2a3f5f\",\"gridcolor\":\"white\",\"linecolor\":\"white\",\"minorgridcolor\":\"white\",\"startlinecolor\":\"#2a3f5f\"},\"type\":\"carpet\"}],\"table\":[{\"cells\":{\"fill\":{\"color\":\"#EBF0F8\"},\"line\":{\"color\":\"white\"}},\"header\":{\"fill\":{\"color\":\"#C8D4E3\"},\"line\":{\"color\":\"white\"}},\"type\":\"table\"}],\"barpolar\":[{\"marker\":{\"line\":{\"color\":\"#E5ECF6\",\"width\":0.5},\"pattern\":{\"fillmode\":\"overlay\",\"size\":10,\"solidity\":0.2}},\"type\":\"barpolar\"}],\"pie\":[{\"automargin\":true,\"type\":\"pie\"}]},\"layout\":{\"autotypenumbers\":\"strict\",\"colorway\":[\"#636efa\",\"#EF553B\",\"#00cc96\",\"#ab63fa\",\"#FFA15A\",\"#19d3f3\",\"#FF6692\",\"#B6E880\",\"#FF97FF\",\"#FECB52\"],\"font\":{\"color\":\"#2a3f5f\"},\"hovermode\":\"closest\",\"hoverlabel\":{\"align\":\"left\"},\"paper_bgcolor\":\"white\",\"plot_bgcolor\":\"#E5ECF6\",\"polar\":{\"bgcolor\":\"#E5ECF6\",\"angularaxis\":{\"gridcolor\":\"white\",\"linecolor\":\"white\",\"ticks\":\"\"},\"radialaxis\":{\"gridcolor\":\"white\",\"linecolor\":\"white\",\"ticks\":\"\"}},\"ternary\":{\"bgcolor\":\"#E5ECF6\",\"aaxis\":{\"gridcolor\":\"white\",\"linecolor\":\"white\",\"ticks\":\"\"},\"baxis\":{\"gridcolor\":\"white\",\"linecolor\":\"white\",\"ticks\":\"\"},\"caxis\":{\"gridcolor\":\"white\",\"linecolor\":\"white\",\"ticks\":\"\"}},\"coloraxis\":{\"colorbar\":{\"outlinewidth\":0,\"ticks\":\"\"}},\"colorscale\":{\"sequential\":[[0.0,\"#0d0887\"],[0.1111111111111111,\"#46039f\"],[0.2222222222222222,\"#7201a8\"],[0.3333333333333333,\"#9c179e\"],[0.4444444444444444,\"#bd3786\"],[0.5555555555555556,\"#d8576b\"],[0.6666666666666666,\"#ed7953\"],[0.7777777777777778,\"#fb9f3a\"],[0.8888888888888888,\"#fdca26\"],[1.0,\"#f0f921\"]],\"sequentialminus\":[[0.0,\"#0d0887\"],[0.1111111111111111,\"#46039f\"],[0.2222222222222222,\"#7201a8\"],[0.3333333333333333,\"#9c179e\"],[0.4444444444444444,\"#bd3786\"],[0.5555555555555556,\"#d8576b\"],[0.6666666666666666,\"#ed7953\"],[0.7777777777777778,\"#fb9f3a\"],[0.8888888888888888,\"#fdca26\"],[1.0,\"#f0f921\"]],\"diverging\":[[0,\"#8e0152\"],[0.1,\"#c51b7d\"],[0.2,\"#de77ae\"],[0.3,\"#f1b6da\"],[0.4,\"#fde0ef\"],[0.5,\"#f7f7f7\"],[0.6,\"#e6f5d0\"],[0.7,\"#b8e186\"],[0.8,\"#7fbc41\"],[0.9,\"#4d9221\"],[1,\"#276419\"]]},\"xaxis\":{\"gridcolor\":\"white\",\"linecolor\":\"white\",\"ticks\":\"\",\"title\":{\"standoff\":15},\"zerolinecolor\":\"white\",\"automargin\":true,\"zerolinewidth\":2},\"yaxis\":{\"gridcolor\":\"white\",\"linecolor\":\"white\",\"ticks\":\"\",\"title\":{\"standoff\":15},\"zerolinecolor\":\"white\",\"automargin\":true,\"zerolinewidth\":2},\"scene\":{\"xaxis\":{\"backgroundcolor\":\"#E5ECF6\",\"gridcolor\":\"white\",\"linecolor\":\"white\",\"showbackground\":true,\"ticks\":\"\",\"zerolinecolor\":\"white\",\"gridwidth\":2},\"yaxis\":{\"backgroundcolor\":\"#E5ECF6\",\"gridcolor\":\"white\",\"linecolor\":\"white\",\"showbackground\":true,\"ticks\":\"\",\"zerolinecolor\":\"white\",\"gridwidth\":2},\"zaxis\":{\"backgroundcolor\":\"#E5ECF6\",\"gridcolor\":\"white\",\"linecolor\":\"white\",\"showbackground\":true,\"ticks\":\"\",\"zerolinecolor\":\"white\",\"gridwidth\":2}},\"shapedefaults\":{\"line\":{\"color\":\"#2a3f5f\"}},\"annotationdefaults\":{\"arrowcolor\":\"#2a3f5f\",\"arrowhead\":0,\"arrowwidth\":1},\"geo\":{\"bgcolor\":\"white\",\"landcolor\":\"#E5ECF6\",\"subunitcolor\":\"white\",\"showland\":true,\"showlakes\":true,\"lakecolor\":\"white\"},\"title\":{\"x\":0.05},\"mapbox\":{\"style\":\"light\"}}},\"xaxis\":{\"anchor\":\"y\",\"domain\":[0.0,0.3],\"tickvals\":[\"Outdoors\",\"Indoors\"],\"ticktext\":[\"Outdoors\",\"Indoors\"],\"categoryorder\":\"array\",\"categoryarray\":[\"Outdoors\",\"Indoors\"],\"showline\":true,\"linewidth\":2,\"linecolor\":\"grey\",\"mirror\":true},\"yaxis\":{\"anchor\":\"x\",\"domain\":[0.0,1.0],\"title\":{\"text\":\"Proportion of Images (%)\"},\"showline\":true,\"linewidth\":2,\"linecolor\":\"grey\",\"mirror\":true},\"xaxis2\":{\"anchor\":\"y2\",\"domain\":[0.35,0.6499999999999999],\"tickvals\":[\"Outdoors\",\"Indoors\"],\"ticktext\":[\"Outdoors\",\"Indoors\"],\"categoryorder\":\"array\",\"categoryarray\":[\"Outdoors\",\"Indoors\"],\"showline\":true,\"linewidth\":2,\"linecolor\":\"grey\",\"mirror\":true},\"yaxis2\":{\"anchor\":\"x2\",\"domain\":[0.0,1.0],\"matches\":\"y\",\"showticklabels\":false,\"showline\":true,\"linewidth\":2,\"linecolor\":\"grey\",\"mirror\":true},\"xaxis3\":{\"anchor\":\"y3\",\"domain\":[0.7,1.0],\"tickvals\":[\"Outdoors\",\"Indoors\"],\"ticktext\":[\"Outdoors\",\"Indoors\"],\"categoryorder\":\"array\",\"categoryarray\":[\"Outdoors\",\"Indoors\"],\"showline\":true,\"linewidth\":2,\"linecolor\":\"grey\",\"mirror\":true},\"yaxis3\":{\"anchor\":\"x3\",\"domain\":[0.0,1.0],\"matches\":\"y\",\"showticklabels\":false,\"showline\":true,\"linewidth\":2,\"linecolor\":\"grey\",\"mirror\":true},\"annotations\":[{\"font\":{\"size\":16},\"showarrow\":false,\"text\":\"Dall-E 3\",\"x\":0.15,\"xanchor\":\"center\",\"xref\":\"paper\",\"y\":1.0,\"yanchor\":\"bottom\",\"yref\":\"paper\"},{\"font\":{\"size\":16},\"showarrow\":false,\"text\":\"Stable Diffusion 2.1\",\"x\":0.49999999999999994,\"xanchor\":\"center\",\"xref\":\"paper\",\"y\":1.0,\"yanchor\":\"bottom\",\"yref\":\"paper\"},{\"font\":{\"size\":16},\"showarrow\":false,\"text\":\"Dall-E 2\",\"x\":0.85,\"xanchor\":\"center\",\"xref\":\"paper\",\"y\":1.0,\"yanchor\":\"bottom\",\"yref\":\"paper\"}],\"legend\":{\"title\":{\"text\":\"Country\"},\"orientation\":\"v\",\"yanchor\":\"top\",\"y\":1,\"xanchor\":\"right\",\"x\":1.15,\"itemwidth\":30,\"itemsizing\":\"constant\",\"traceorder\":\"normal\",\"bordercolor\":\"grey\",\"borderwidth\":1},\"title\":{\"font\":{\"family\":\"Helvetica Neue\",\"size\":18,\"color\":\"black\"},\"text\":\"Is the dish placed outdoors or indoors?\",\"y\":0.9,\"x\":0.5,\"xanchor\":\"center\",\"yanchor\":\"top\"},\"font\":{\"family\":\"Helvetica Neue\",\"size\":12},\"plot_bgcolor\":\"white\",\"barmode\":\"group\",\"width\":1200,\"height\":400},                        {\"responsive\": true}                    ).then(function(){\n",
       "                            \n",
       "var gd = document.getElementById('d78e5756-2b5c-4b96-8654-bf6d0bb6ff79');\n",
       "var x = new MutationObserver(function (mutations, observer) {{\n",
       "        var display = window.getComputedStyle(gd).display;\n",
       "        if (!display || display === 'none') {{\n",
       "            console.log([gd, 'removed!']);\n",
       "            Plotly.purge(gd);\n",
       "            observer.disconnect();\n",
       "        }}\n",
       "}});\n",
       "\n",
       "// Listen for the removal of the full notebook cells\n",
       "var notebookContainer = gd.closest('#notebook-container');\n",
       "if (notebookContainer) {{\n",
       "    x.observe(notebookContainer, {childList: true});\n",
       "}}\n",
       "\n",
       "// Listen for the clearing of the current output cell\n",
       "var outputEl = gd.closest('.output');\n",
       "if (outputEl) {{\n",
       "    x.observe(outputEl, {childList: true});\n",
       "}}\n",
       "\n",
       "                        })                };                });            </script>        </div>"
      ]
     },
     "metadata": {},
     "output_type": "display_data"
    },
    {
     "data": {
      "application/vnd.plotly.v1+json": {
       "config": {
        "plotlyServerURL": "https://plot.ly"
       },
       "data": [
        {
         "legendgroup": "Algeria",
         "marker": {
          "color": "#41cc96"
         },
         "name": "Algeria",
         "showlegend": true,
         "type": "bar",
         "x": [
          "Fork",
          "Spoon",
          "Knife",
          "Chopsticks",
          "No utensils shown"
         ],
         "xaxis": "x",
         "y": [
          17.333333333333336,
          22,
          12.666666666666668,
          1.3333333333333335,
          46.666666666666664
         ],
         "yaxis": "y"
        },
        {
         "legendgroup": "Nigeria",
         "marker": {
          "color": "#ef563b"
         },
         "name": "Nigeria",
         "showlegend": true,
         "type": "bar",
         "x": [
          "Fork",
          "Spoon",
          "Knife",
          "Chopsticks",
          "No utensils shown"
         ],
         "xaxis": "x",
         "y": [
          13.333333333333334,
          27.333333333333332,
          5.333333333333334,
          13.333333333333334,
          40.666666666666664
         ],
         "yaxis": "y"
        },
        {
         "legendgroup": "South Africa",
         "marker": {
          "color": "#f7a15b"
         },
         "name": "South Africa",
         "showlegend": true,
         "type": "bar",
         "x": [
          "Fork",
          "Spoon",
          "Knife",
          "Chopsticks",
          "No utensils shown"
         ],
         "xaxis": "x",
         "y": [
          22,
          27.333333333333332,
          10.666666666666668,
          5.333333333333334,
          34.66666666666667
         ],
         "yaxis": "y"
        },
        {
         "legendgroup": "United States",
         "marker": {
          "color": "#47d3f3"
         },
         "name": "United States",
         "showlegend": true,
         "type": "bar",
         "x": [
          "Fork",
          "Spoon",
          "Knife",
          "Chopsticks",
          "No utensils shown"
         ],
         "xaxis": "x",
         "y": [
          16.666666666666664,
          16,
          20,
          0,
          47.333333333333336
         ],
         "yaxis": "y"
        },
        {
         "legendgroup": "Kenya",
         "marker": {
          "color": "#636efb"
         },
         "name": "Kenya",
         "showlegend": true,
         "type": "bar",
         "x": [
          "Fork",
          "Spoon",
          "Knife",
          "Chopsticks",
          "No utensils shown"
         ],
         "xaxis": "x",
         "y": [
          16.153846153846153,
          24.615384615384617,
          10,
          3.8461538461538463,
          45.38461538461539
         ],
         "yaxis": "y"
        },
        {
         "legendgroup": "Cameroon",
         "marker": {
          "color": "#ab63fb"
         },
         "name": "Cameroon",
         "showlegend": true,
         "type": "bar",
         "x": [
          "Fork",
          "Spoon",
          "Knife",
          "Chopsticks",
          "No utensils shown"
         ],
         "xaxis": "x",
         "y": [
          20,
          38,
          6,
          11.333333333333332,
          24.666666666666668
         ],
         "yaxis": "y"
        },
        {
         "legendgroup": "Algeria",
         "marker": {
          "color": "#41cc96"
         },
         "name": "Algeria",
         "showlegend": false,
         "type": "bar",
         "x": [
          "Fork",
          "Spoon",
          "Knife",
          "Chopsticks",
          "No utensils shown"
         ],
         "xaxis": "x2",
         "y": [
          2.666666666666667,
          1.3333333333333335,
          0,
          2.666666666666667,
          93.33333333333333
         ],
         "yaxis": "y2"
        },
        {
         "legendgroup": "Nigeria",
         "marker": {
          "color": "#ef563b"
         },
         "name": "Nigeria",
         "showlegend": false,
         "type": "bar",
         "x": [
          "Fork",
          "Spoon",
          "Knife",
          "Chopsticks",
          "No utensils shown"
         ],
         "xaxis": "x2",
         "y": [
          3.3333333333333335,
          2.666666666666667,
          0.6666666666666667,
          2,
          91.33333333333333
         ],
         "yaxis": "y2"
        },
        {
         "legendgroup": "South Africa",
         "marker": {
          "color": "#f7a15b"
         },
         "name": "South Africa",
         "showlegend": false,
         "type": "bar",
         "x": [
          "Fork",
          "Spoon",
          "Knife",
          "Chopsticks",
          "No utensils shown"
         ],
         "xaxis": "x2",
         "y": [
          9.333333333333334,
          8.666666666666668,
          2.666666666666667,
          0.6666666666666667,
          78.66666666666666
         ],
         "yaxis": "y2"
        },
        {
         "legendgroup": "United States",
         "marker": {
          "color": "#47d3f3"
         },
         "name": "United States",
         "showlegend": false,
         "type": "bar",
         "x": [
          "Fork",
          "Spoon",
          "Knife",
          "Chopsticks",
          "No utensils shown"
         ],
         "xaxis": "x2",
         "y": [
          8.666666666666668,
          8,
          3.3333333333333335,
          1.3333333333333335,
          78.66666666666666
         ],
         "yaxis": "y2"
        },
        {
         "legendgroup": "Kenya",
         "marker": {
          "color": "#636efb"
         },
         "name": "Kenya",
         "showlegend": false,
         "type": "bar",
         "x": [
          "Fork",
          "Spoon",
          "Knife",
          "Chopsticks",
          "No utensils shown"
         ],
         "xaxis": "x2",
         "y": [
          3.4246575342465753,
          5.47945205479452,
          2.054794520547945,
          4.794520547945205,
          84.24657534246576
         ],
         "yaxis": "y2"
        },
        {
         "legendgroup": "Cameroon",
         "marker": {
          "color": "#ab63fb"
         },
         "name": "Cameroon",
         "showlegend": false,
         "type": "bar",
         "x": [
          "Fork",
          "Spoon",
          "Knife",
          "Chopsticks",
          "No utensils shown"
         ],
         "xaxis": "x2",
         "y": [
          2.5,
          3.125,
          0.625,
          1.25,
          92.5
         ],
         "yaxis": "y2"
        },
        {
         "legendgroup": "Algeria",
         "marker": {
          "color": "#41cc96"
         },
         "name": "Algeria",
         "showlegend": false,
         "type": "bar",
         "x": [
          "Fork",
          "Spoon",
          "Knife",
          "Chopsticks",
          "No utensils shown"
         ],
         "xaxis": "x3",
         "y": [
          0,
          2.666666666666667,
          1.3333333333333335,
          0,
          96
         ],
         "yaxis": "y3"
        },
        {
         "legendgroup": "Nigeria",
         "marker": {
          "color": "#ef563b"
         },
         "name": "Nigeria",
         "showlegend": false,
         "type": "bar",
         "x": [
          "Fork",
          "Spoon",
          "Knife",
          "Chopsticks",
          "No utensils shown"
         ],
         "xaxis": "x3",
         "y": [
          0,
          0,
          0,
          0,
          0
         ],
         "yaxis": "y3"
        },
        {
         "legendgroup": "South Africa",
         "marker": {
          "color": "#f7a15b"
         },
         "name": "South Africa",
         "showlegend": false,
         "type": "bar",
         "x": [
          "Fork",
          "Spoon",
          "Knife",
          "Chopsticks",
          "No utensils shown"
         ],
         "xaxis": "x3",
         "y": [
          1.3157894736842104,
          12.5,
          1.9736842105263157,
          0,
          84.21052631578947
         ],
         "yaxis": "y3"
        },
        {
         "legendgroup": "United States",
         "marker": {
          "color": "#47d3f3"
         },
         "name": "United States",
         "showlegend": false,
         "type": "bar",
         "x": [
          "Fork",
          "Spoon",
          "Knife",
          "Chopsticks",
          "No utensils shown"
         ],
         "xaxis": "x3",
         "y": [
          2.666666666666667,
          4,
          5.333333333333334,
          0,
          88
         ],
         "yaxis": "y3"
        },
        {
         "legendgroup": "Kenya",
         "marker": {
          "color": "#636efb"
         },
         "name": "Kenya",
         "showlegend": false,
         "type": "bar",
         "x": [
          "Fork",
          "Spoon",
          "Knife",
          "Chopsticks",
          "No utensils shown"
         ],
         "xaxis": "x3",
         "y": [
          0,
          9.230769230769232,
          2.307692307692308,
          0.7692307692307693,
          87.6923076923077
         ],
         "yaxis": "y3"
        },
        {
         "legendgroup": "Cameroon",
         "marker": {
          "color": "#ab63fb"
         },
         "name": "Cameroon",
         "showlegend": false,
         "type": "bar",
         "x": [
          "Fork",
          "Spoon",
          "Knife",
          "Chopsticks",
          "No utensils shown"
         ],
         "xaxis": "x3",
         "y": [
          0,
          8.275862068965518,
          4.137931034482759,
          0,
          87.58620689655172
         ],
         "yaxis": "y3"
        }
       ],
       "layout": {
        "annotations": [
         {
          "font": {
           "size": 16
          },
          "showarrow": false,
          "text": "Dall-E 3",
          "x": 0.15,
          "xanchor": "center",
          "xref": "paper",
          "y": 1,
          "yanchor": "bottom",
          "yref": "paper"
         },
         {
          "font": {
           "size": 16
          },
          "showarrow": false,
          "text": "Stable Diffusion 2.1",
          "x": 0.49999999999999994,
          "xanchor": "center",
          "xref": "paper",
          "y": 1,
          "yanchor": "bottom",
          "yref": "paper"
         },
         {
          "font": {
           "size": 16
          },
          "showarrow": false,
          "text": "Dall-E 2",
          "x": 0.85,
          "xanchor": "center",
          "xref": "paper",
          "y": 1,
          "yanchor": "bottom",
          "yref": "paper"
         }
        ],
        "barmode": "group",
        "font": {
         "family": "Helvetica Neue",
         "size": 12
        },
        "height": 400,
        "legend": {
         "bordercolor": "grey",
         "borderwidth": 1,
         "itemsizing": "constant",
         "itemwidth": 30,
         "orientation": "v",
         "title": {
          "text": "Country"
         },
         "traceorder": "normal",
         "x": 1.15,
         "xanchor": "right",
         "y": 1,
         "yanchor": "top"
        },
        "plot_bgcolor": "white",
        "template": {
         "data": {
          "bar": [
           {
            "error_x": {
             "color": "#2a3f5f"
            },
            "error_y": {
             "color": "#2a3f5f"
            },
            "marker": {
             "line": {
              "color": "#E5ECF6",
              "width": 0.5
             },
             "pattern": {
              "fillmode": "overlay",
              "size": 10,
              "solidity": 0.2
             }
            },
            "type": "bar"
           }
          ],
          "barpolar": [
           {
            "marker": {
             "line": {
              "color": "#E5ECF6",
              "width": 0.5
             },
             "pattern": {
              "fillmode": "overlay",
              "size": 10,
              "solidity": 0.2
             }
            },
            "type": "barpolar"
           }
          ],
          "carpet": [
           {
            "aaxis": {
             "endlinecolor": "#2a3f5f",
             "gridcolor": "white",
             "linecolor": "white",
             "minorgridcolor": "white",
             "startlinecolor": "#2a3f5f"
            },
            "baxis": {
             "endlinecolor": "#2a3f5f",
             "gridcolor": "white",
             "linecolor": "white",
             "minorgridcolor": "white",
             "startlinecolor": "#2a3f5f"
            },
            "type": "carpet"
           }
          ],
          "choropleth": [
           {
            "colorbar": {
             "outlinewidth": 0,
             "ticks": ""
            },
            "type": "choropleth"
           }
          ],
          "contour": [
           {
            "colorbar": {
             "outlinewidth": 0,
             "ticks": ""
            },
            "colorscale": [
             [
              0,
              "#0d0887"
             ],
             [
              0.1111111111111111,
              "#46039f"
             ],
             [
              0.2222222222222222,
              "#7201a8"
             ],
             [
              0.3333333333333333,
              "#9c179e"
             ],
             [
              0.4444444444444444,
              "#bd3786"
             ],
             [
              0.5555555555555556,
              "#d8576b"
             ],
             [
              0.6666666666666666,
              "#ed7953"
             ],
             [
              0.7777777777777778,
              "#fb9f3a"
             ],
             [
              0.8888888888888888,
              "#fdca26"
             ],
             [
              1,
              "#f0f921"
             ]
            ],
            "type": "contour"
           }
          ],
          "contourcarpet": [
           {
            "colorbar": {
             "outlinewidth": 0,
             "ticks": ""
            },
            "type": "contourcarpet"
           }
          ],
          "heatmap": [
           {
            "colorbar": {
             "outlinewidth": 0,
             "ticks": ""
            },
            "colorscale": [
             [
              0,
              "#0d0887"
             ],
             [
              0.1111111111111111,
              "#46039f"
             ],
             [
              0.2222222222222222,
              "#7201a8"
             ],
             [
              0.3333333333333333,
              "#9c179e"
             ],
             [
              0.4444444444444444,
              "#bd3786"
             ],
             [
              0.5555555555555556,
              "#d8576b"
             ],
             [
              0.6666666666666666,
              "#ed7953"
             ],
             [
              0.7777777777777778,
              "#fb9f3a"
             ],
             [
              0.8888888888888888,
              "#fdca26"
             ],
             [
              1,
              "#f0f921"
             ]
            ],
            "type": "heatmap"
           }
          ],
          "heatmapgl": [
           {
            "colorbar": {
             "outlinewidth": 0,
             "ticks": ""
            },
            "colorscale": [
             [
              0,
              "#0d0887"
             ],
             [
              0.1111111111111111,
              "#46039f"
             ],
             [
              0.2222222222222222,
              "#7201a8"
             ],
             [
              0.3333333333333333,
              "#9c179e"
             ],
             [
              0.4444444444444444,
              "#bd3786"
             ],
             [
              0.5555555555555556,
              "#d8576b"
             ],
             [
              0.6666666666666666,
              "#ed7953"
             ],
             [
              0.7777777777777778,
              "#fb9f3a"
             ],
             [
              0.8888888888888888,
              "#fdca26"
             ],
             [
              1,
              "#f0f921"
             ]
            ],
            "type": "heatmapgl"
           }
          ],
          "histogram": [
           {
            "marker": {
             "pattern": {
              "fillmode": "overlay",
              "size": 10,
              "solidity": 0.2
             }
            },
            "type": "histogram"
           }
          ],
          "histogram2d": [
           {
            "colorbar": {
             "outlinewidth": 0,
             "ticks": ""
            },
            "colorscale": [
             [
              0,
              "#0d0887"
             ],
             [
              0.1111111111111111,
              "#46039f"
             ],
             [
              0.2222222222222222,
              "#7201a8"
             ],
             [
              0.3333333333333333,
              "#9c179e"
             ],
             [
              0.4444444444444444,
              "#bd3786"
             ],
             [
              0.5555555555555556,
              "#d8576b"
             ],
             [
              0.6666666666666666,
              "#ed7953"
             ],
             [
              0.7777777777777778,
              "#fb9f3a"
             ],
             [
              0.8888888888888888,
              "#fdca26"
             ],
             [
              1,
              "#f0f921"
             ]
            ],
            "type": "histogram2d"
           }
          ],
          "histogram2dcontour": [
           {
            "colorbar": {
             "outlinewidth": 0,
             "ticks": ""
            },
            "colorscale": [
             [
              0,
              "#0d0887"
             ],
             [
              0.1111111111111111,
              "#46039f"
             ],
             [
              0.2222222222222222,
              "#7201a8"
             ],
             [
              0.3333333333333333,
              "#9c179e"
             ],
             [
              0.4444444444444444,
              "#bd3786"
             ],
             [
              0.5555555555555556,
              "#d8576b"
             ],
             [
              0.6666666666666666,
              "#ed7953"
             ],
             [
              0.7777777777777778,
              "#fb9f3a"
             ],
             [
              0.8888888888888888,
              "#fdca26"
             ],
             [
              1,
              "#f0f921"
             ]
            ],
            "type": "histogram2dcontour"
           }
          ],
          "mesh3d": [
           {
            "colorbar": {
             "outlinewidth": 0,
             "ticks": ""
            },
            "type": "mesh3d"
           }
          ],
          "parcoords": [
           {
            "line": {
             "colorbar": {
              "outlinewidth": 0,
              "ticks": ""
             }
            },
            "type": "parcoords"
           }
          ],
          "pie": [
           {
            "automargin": true,
            "type": "pie"
           }
          ],
          "scatter": [
           {
            "fillpattern": {
             "fillmode": "overlay",
             "size": 10,
             "solidity": 0.2
            },
            "type": "scatter"
           }
          ],
          "scatter3d": [
           {
            "line": {
             "colorbar": {
              "outlinewidth": 0,
              "ticks": ""
             }
            },
            "marker": {
             "colorbar": {
              "outlinewidth": 0,
              "ticks": ""
             }
            },
            "type": "scatter3d"
           }
          ],
          "scattercarpet": [
           {
            "marker": {
             "colorbar": {
              "outlinewidth": 0,
              "ticks": ""
             }
            },
            "type": "scattercarpet"
           }
          ],
          "scattergeo": [
           {
            "marker": {
             "colorbar": {
              "outlinewidth": 0,
              "ticks": ""
             }
            },
            "type": "scattergeo"
           }
          ],
          "scattergl": [
           {
            "marker": {
             "colorbar": {
              "outlinewidth": 0,
              "ticks": ""
             }
            },
            "type": "scattergl"
           }
          ],
          "scattermapbox": [
           {
            "marker": {
             "colorbar": {
              "outlinewidth": 0,
              "ticks": ""
             }
            },
            "type": "scattermapbox"
           }
          ],
          "scatterpolar": [
           {
            "marker": {
             "colorbar": {
              "outlinewidth": 0,
              "ticks": ""
             }
            },
            "type": "scatterpolar"
           }
          ],
          "scatterpolargl": [
           {
            "marker": {
             "colorbar": {
              "outlinewidth": 0,
              "ticks": ""
             }
            },
            "type": "scatterpolargl"
           }
          ],
          "scatterternary": [
           {
            "marker": {
             "colorbar": {
              "outlinewidth": 0,
              "ticks": ""
             }
            },
            "type": "scatterternary"
           }
          ],
          "surface": [
           {
            "colorbar": {
             "outlinewidth": 0,
             "ticks": ""
            },
            "colorscale": [
             [
              0,
              "#0d0887"
             ],
             [
              0.1111111111111111,
              "#46039f"
             ],
             [
              0.2222222222222222,
              "#7201a8"
             ],
             [
              0.3333333333333333,
              "#9c179e"
             ],
             [
              0.4444444444444444,
              "#bd3786"
             ],
             [
              0.5555555555555556,
              "#d8576b"
             ],
             [
              0.6666666666666666,
              "#ed7953"
             ],
             [
              0.7777777777777778,
              "#fb9f3a"
             ],
             [
              0.8888888888888888,
              "#fdca26"
             ],
             [
              1,
              "#f0f921"
             ]
            ],
            "type": "surface"
           }
          ],
          "table": [
           {
            "cells": {
             "fill": {
              "color": "#EBF0F8"
             },
             "line": {
              "color": "white"
             }
            },
            "header": {
             "fill": {
              "color": "#C8D4E3"
             },
             "line": {
              "color": "white"
             }
            },
            "type": "table"
           }
          ]
         },
         "layout": {
          "annotationdefaults": {
           "arrowcolor": "#2a3f5f",
           "arrowhead": 0,
           "arrowwidth": 1
          },
          "autotypenumbers": "strict",
          "coloraxis": {
           "colorbar": {
            "outlinewidth": 0,
            "ticks": ""
           }
          },
          "colorscale": {
           "diverging": [
            [
             0,
             "#8e0152"
            ],
            [
             0.1,
             "#c51b7d"
            ],
            [
             0.2,
             "#de77ae"
            ],
            [
             0.3,
             "#f1b6da"
            ],
            [
             0.4,
             "#fde0ef"
            ],
            [
             0.5,
             "#f7f7f7"
            ],
            [
             0.6,
             "#e6f5d0"
            ],
            [
             0.7,
             "#b8e186"
            ],
            [
             0.8,
             "#7fbc41"
            ],
            [
             0.9,
             "#4d9221"
            ],
            [
             1,
             "#276419"
            ]
           ],
           "sequential": [
            [
             0,
             "#0d0887"
            ],
            [
             0.1111111111111111,
             "#46039f"
            ],
            [
             0.2222222222222222,
             "#7201a8"
            ],
            [
             0.3333333333333333,
             "#9c179e"
            ],
            [
             0.4444444444444444,
             "#bd3786"
            ],
            [
             0.5555555555555556,
             "#d8576b"
            ],
            [
             0.6666666666666666,
             "#ed7953"
            ],
            [
             0.7777777777777778,
             "#fb9f3a"
            ],
            [
             0.8888888888888888,
             "#fdca26"
            ],
            [
             1,
             "#f0f921"
            ]
           ],
           "sequentialminus": [
            [
             0,
             "#0d0887"
            ],
            [
             0.1111111111111111,
             "#46039f"
            ],
            [
             0.2222222222222222,
             "#7201a8"
            ],
            [
             0.3333333333333333,
             "#9c179e"
            ],
            [
             0.4444444444444444,
             "#bd3786"
            ],
            [
             0.5555555555555556,
             "#d8576b"
            ],
            [
             0.6666666666666666,
             "#ed7953"
            ],
            [
             0.7777777777777778,
             "#fb9f3a"
            ],
            [
             0.8888888888888888,
             "#fdca26"
            ],
            [
             1,
             "#f0f921"
            ]
           ]
          },
          "colorway": [
           "#636efa",
           "#EF553B",
           "#00cc96",
           "#ab63fa",
           "#FFA15A",
           "#19d3f3",
           "#FF6692",
           "#B6E880",
           "#FF97FF",
           "#FECB52"
          ],
          "font": {
           "color": "#2a3f5f"
          },
          "geo": {
           "bgcolor": "white",
           "lakecolor": "white",
           "landcolor": "#E5ECF6",
           "showlakes": true,
           "showland": true,
           "subunitcolor": "white"
          },
          "hoverlabel": {
           "align": "left"
          },
          "hovermode": "closest",
          "mapbox": {
           "style": "light"
          },
          "paper_bgcolor": "white",
          "plot_bgcolor": "#E5ECF6",
          "polar": {
           "angularaxis": {
            "gridcolor": "white",
            "linecolor": "white",
            "ticks": ""
           },
           "bgcolor": "#E5ECF6",
           "radialaxis": {
            "gridcolor": "white",
            "linecolor": "white",
            "ticks": ""
           }
          },
          "scene": {
           "xaxis": {
            "backgroundcolor": "#E5ECF6",
            "gridcolor": "white",
            "gridwidth": 2,
            "linecolor": "white",
            "showbackground": true,
            "ticks": "",
            "zerolinecolor": "white"
           },
           "yaxis": {
            "backgroundcolor": "#E5ECF6",
            "gridcolor": "white",
            "gridwidth": 2,
            "linecolor": "white",
            "showbackground": true,
            "ticks": "",
            "zerolinecolor": "white"
           },
           "zaxis": {
            "backgroundcolor": "#E5ECF6",
            "gridcolor": "white",
            "gridwidth": 2,
            "linecolor": "white",
            "showbackground": true,
            "ticks": "",
            "zerolinecolor": "white"
           }
          },
          "shapedefaults": {
           "line": {
            "color": "#2a3f5f"
           }
          },
          "ternary": {
           "aaxis": {
            "gridcolor": "white",
            "linecolor": "white",
            "ticks": ""
           },
           "baxis": {
            "gridcolor": "white",
            "linecolor": "white",
            "ticks": ""
           },
           "bgcolor": "#E5ECF6",
           "caxis": {
            "gridcolor": "white",
            "linecolor": "white",
            "ticks": ""
           }
          },
          "title": {
           "x": 0.05
          },
          "xaxis": {
           "automargin": true,
           "gridcolor": "white",
           "linecolor": "white",
           "ticks": "",
           "title": {
            "standoff": 15
           },
           "zerolinecolor": "white",
           "zerolinewidth": 2
          },
          "yaxis": {
           "automargin": true,
           "gridcolor": "white",
           "linecolor": "white",
           "ticks": "",
           "title": {
            "standoff": 15
           },
           "zerolinecolor": "white",
           "zerolinewidth": 2
          }
         }
        },
        "title": {
         "font": {
          "color": "black",
          "family": "Helvetica Neue",
          "size": 18
         },
         "text": "What utensils, if any, are shown in this image?",
         "x": 0.5,
         "xanchor": "center",
         "y": 0.9,
         "yanchor": "top"
        },
        "width": 1200,
        "xaxis": {
         "anchor": "y",
         "categoryarray": [
          "Fork",
          "Spoon",
          "Knife",
          "Chopsticks",
          "No utensils shown"
         ],
         "categoryorder": "array",
         "domain": [
          0,
          0.3
         ],
         "linecolor": "grey",
         "linewidth": 2,
         "mirror": true,
         "showline": true,
         "ticktext": [
          "Fork",
          "Spoon",
          "Knife",
          "Chopsticks",
          "No utensils shown"
         ],
         "tickvals": [
          "Fork",
          "Spoon",
          "Knife",
          "Chopsticks",
          "No utensils shown"
         ]
        },
        "xaxis2": {
         "anchor": "y2",
         "categoryarray": [
          "Fork",
          "Spoon",
          "Knife",
          "Chopsticks",
          "No utensils shown"
         ],
         "categoryorder": "array",
         "domain": [
          0.35,
          0.6499999999999999
         ],
         "linecolor": "grey",
         "linewidth": 2,
         "mirror": true,
         "showline": true,
         "ticktext": [
          "Fork",
          "Spoon",
          "Knife",
          "Chopsticks",
          "No utensils shown"
         ],
         "tickvals": [
          "Fork",
          "Spoon",
          "Knife",
          "Chopsticks",
          "No utensils shown"
         ]
        },
        "xaxis3": {
         "anchor": "y3",
         "categoryarray": [
          "Fork",
          "Spoon",
          "Knife",
          "Chopsticks",
          "No utensils shown"
         ],
         "categoryorder": "array",
         "domain": [
          0.7,
          1
         ],
         "linecolor": "grey",
         "linewidth": 2,
         "mirror": true,
         "showline": true,
         "ticktext": [
          "Fork",
          "Spoon",
          "Knife",
          "Chopsticks",
          "No utensils shown"
         ],
         "tickvals": [
          "Fork",
          "Spoon",
          "Knife",
          "Chopsticks",
          "No utensils shown"
         ]
        },
        "yaxis": {
         "anchor": "x",
         "domain": [
          0,
          1
         ],
         "linecolor": "grey",
         "linewidth": 2,
         "mirror": true,
         "showline": true,
         "title": {
          "text": "Proportion of Images (%)"
         }
        },
        "yaxis2": {
         "anchor": "x2",
         "domain": [
          0,
          1
         ],
         "linecolor": "grey",
         "linewidth": 2,
         "matches": "y",
         "mirror": true,
         "showline": true,
         "showticklabels": false
        },
        "yaxis3": {
         "anchor": "x3",
         "domain": [
          0,
          1
         ],
         "linecolor": "grey",
         "linewidth": 2,
         "matches": "y",
         "mirror": true,
         "showline": true,
         "showticklabels": false
        }
       }
      },
      "text/html": [
       "<div>                            <div id=\"f6ff9b61-5cbf-4ebb-8388-5da4694a8c08\" class=\"plotly-graph-div\" style=\"height:400px; width:1200px;\"></div>            <script type=\"text/javascript\">                require([\"plotly\"], function(Plotly) {                    window.PLOTLYENV=window.PLOTLYENV || {};                                    if (document.getElementById(\"f6ff9b61-5cbf-4ebb-8388-5da4694a8c08\")) {                    Plotly.newPlot(                        \"f6ff9b61-5cbf-4ebb-8388-5da4694a8c08\",                        [{\"legendgroup\":\"Algeria\",\"marker\":{\"color\":\"#41cc96\"},\"name\":\"Algeria\",\"showlegend\":true,\"x\":[\"Fork\",\"Spoon\",\"Knife\",\"Chopsticks\",\"No utensils shown\"],\"y\":[17.333333333333336,22.0,12.666666666666668,1.3333333333333335,46.666666666666664],\"type\":\"bar\",\"xaxis\":\"x\",\"yaxis\":\"y\"},{\"legendgroup\":\"Nigeria\",\"marker\":{\"color\":\"#ef563b\"},\"name\":\"Nigeria\",\"showlegend\":true,\"x\":[\"Fork\",\"Spoon\",\"Knife\",\"Chopsticks\",\"No utensils shown\"],\"y\":[13.333333333333334,27.333333333333332,5.333333333333334,13.333333333333334,40.666666666666664],\"type\":\"bar\",\"xaxis\":\"x\",\"yaxis\":\"y\"},{\"legendgroup\":\"South Africa\",\"marker\":{\"color\":\"#f7a15b\"},\"name\":\"South Africa\",\"showlegend\":true,\"x\":[\"Fork\",\"Spoon\",\"Knife\",\"Chopsticks\",\"No utensils shown\"],\"y\":[22.0,27.333333333333332,10.666666666666668,5.333333333333334,34.66666666666667],\"type\":\"bar\",\"xaxis\":\"x\",\"yaxis\":\"y\"},{\"legendgroup\":\"United States\",\"marker\":{\"color\":\"#47d3f3\"},\"name\":\"United States\",\"showlegend\":true,\"x\":[\"Fork\",\"Spoon\",\"Knife\",\"Chopsticks\",\"No utensils shown\"],\"y\":[16.666666666666664,16.0,20.0,0.0,47.333333333333336],\"type\":\"bar\",\"xaxis\":\"x\",\"yaxis\":\"y\"},{\"legendgroup\":\"Kenya\",\"marker\":{\"color\":\"#636efb\"},\"name\":\"Kenya\",\"showlegend\":true,\"x\":[\"Fork\",\"Spoon\",\"Knife\",\"Chopsticks\",\"No utensils shown\"],\"y\":[16.153846153846153,24.615384615384617,10.0,3.8461538461538463,45.38461538461539],\"type\":\"bar\",\"xaxis\":\"x\",\"yaxis\":\"y\"},{\"legendgroup\":\"Cameroon\",\"marker\":{\"color\":\"#ab63fb\"},\"name\":\"Cameroon\",\"showlegend\":true,\"x\":[\"Fork\",\"Spoon\",\"Knife\",\"Chopsticks\",\"No utensils shown\"],\"y\":[20.0,38.0,6.0,11.333333333333332,24.666666666666668],\"type\":\"bar\",\"xaxis\":\"x\",\"yaxis\":\"y\"},{\"legendgroup\":\"Algeria\",\"marker\":{\"color\":\"#41cc96\"},\"name\":\"Algeria\",\"showlegend\":false,\"x\":[\"Fork\",\"Spoon\",\"Knife\",\"Chopsticks\",\"No utensils shown\"],\"y\":[2.666666666666667,1.3333333333333335,0.0,2.666666666666667,93.33333333333333],\"type\":\"bar\",\"xaxis\":\"x2\",\"yaxis\":\"y2\"},{\"legendgroup\":\"Nigeria\",\"marker\":{\"color\":\"#ef563b\"},\"name\":\"Nigeria\",\"showlegend\":false,\"x\":[\"Fork\",\"Spoon\",\"Knife\",\"Chopsticks\",\"No utensils shown\"],\"y\":[3.3333333333333335,2.666666666666667,0.6666666666666667,2.0,91.33333333333333],\"type\":\"bar\",\"xaxis\":\"x2\",\"yaxis\":\"y2\"},{\"legendgroup\":\"South Africa\",\"marker\":{\"color\":\"#f7a15b\"},\"name\":\"South Africa\",\"showlegend\":false,\"x\":[\"Fork\",\"Spoon\",\"Knife\",\"Chopsticks\",\"No utensils shown\"],\"y\":[9.333333333333334,8.666666666666668,2.666666666666667,0.6666666666666667,78.66666666666666],\"type\":\"bar\",\"xaxis\":\"x2\",\"yaxis\":\"y2\"},{\"legendgroup\":\"United States\",\"marker\":{\"color\":\"#47d3f3\"},\"name\":\"United States\",\"showlegend\":false,\"x\":[\"Fork\",\"Spoon\",\"Knife\",\"Chopsticks\",\"No utensils shown\"],\"y\":[8.666666666666668,8.0,3.3333333333333335,1.3333333333333335,78.66666666666666],\"type\":\"bar\",\"xaxis\":\"x2\",\"yaxis\":\"y2\"},{\"legendgroup\":\"Kenya\",\"marker\":{\"color\":\"#636efb\"},\"name\":\"Kenya\",\"showlegend\":false,\"x\":[\"Fork\",\"Spoon\",\"Knife\",\"Chopsticks\",\"No utensils shown\"],\"y\":[3.4246575342465753,5.47945205479452,2.054794520547945,4.794520547945205,84.24657534246576],\"type\":\"bar\",\"xaxis\":\"x2\",\"yaxis\":\"y2\"},{\"legendgroup\":\"Cameroon\",\"marker\":{\"color\":\"#ab63fb\"},\"name\":\"Cameroon\",\"showlegend\":false,\"x\":[\"Fork\",\"Spoon\",\"Knife\",\"Chopsticks\",\"No utensils shown\"],\"y\":[2.5,3.125,0.625,1.25,92.5],\"type\":\"bar\",\"xaxis\":\"x2\",\"yaxis\":\"y2\"},{\"legendgroup\":\"Algeria\",\"marker\":{\"color\":\"#41cc96\"},\"name\":\"Algeria\",\"showlegend\":false,\"x\":[\"Fork\",\"Spoon\",\"Knife\",\"Chopsticks\",\"No utensils shown\"],\"y\":[0.0,2.666666666666667,1.3333333333333335,0.0,96.0],\"type\":\"bar\",\"xaxis\":\"x3\",\"yaxis\":\"y3\"},{\"legendgroup\":\"Nigeria\",\"marker\":{\"color\":\"#ef563b\"},\"name\":\"Nigeria\",\"showlegend\":false,\"x\":[\"Fork\",\"Spoon\",\"Knife\",\"Chopsticks\",\"No utensils shown\"],\"y\":[0.0,0.0,0.0,0.0,0.0],\"type\":\"bar\",\"xaxis\":\"x3\",\"yaxis\":\"y3\"},{\"legendgroup\":\"South Africa\",\"marker\":{\"color\":\"#f7a15b\"},\"name\":\"South Africa\",\"showlegend\":false,\"x\":[\"Fork\",\"Spoon\",\"Knife\",\"Chopsticks\",\"No utensils shown\"],\"y\":[1.3157894736842104,12.5,1.9736842105263157,0.0,84.21052631578947],\"type\":\"bar\",\"xaxis\":\"x3\",\"yaxis\":\"y3\"},{\"legendgroup\":\"United States\",\"marker\":{\"color\":\"#47d3f3\"},\"name\":\"United States\",\"showlegend\":false,\"x\":[\"Fork\",\"Spoon\",\"Knife\",\"Chopsticks\",\"No utensils shown\"],\"y\":[2.666666666666667,4.0,5.333333333333334,0.0,88.0],\"type\":\"bar\",\"xaxis\":\"x3\",\"yaxis\":\"y3\"},{\"legendgroup\":\"Kenya\",\"marker\":{\"color\":\"#636efb\"},\"name\":\"Kenya\",\"showlegend\":false,\"x\":[\"Fork\",\"Spoon\",\"Knife\",\"Chopsticks\",\"No utensils shown\"],\"y\":[0.0,9.230769230769232,2.307692307692308,0.7692307692307693,87.6923076923077],\"type\":\"bar\",\"xaxis\":\"x3\",\"yaxis\":\"y3\"},{\"legendgroup\":\"Cameroon\",\"marker\":{\"color\":\"#ab63fb\"},\"name\":\"Cameroon\",\"showlegend\":false,\"x\":[\"Fork\",\"Spoon\",\"Knife\",\"Chopsticks\",\"No utensils shown\"],\"y\":[0.0,8.275862068965518,4.137931034482759,0.0,87.58620689655172],\"type\":\"bar\",\"xaxis\":\"x3\",\"yaxis\":\"y3\"}],                        {\"template\":{\"data\":{\"histogram2dcontour\":[{\"type\":\"histogram2dcontour\",\"colorbar\":{\"outlinewidth\":0,\"ticks\":\"\"},\"colorscale\":[[0.0,\"#0d0887\"],[0.1111111111111111,\"#46039f\"],[0.2222222222222222,\"#7201a8\"],[0.3333333333333333,\"#9c179e\"],[0.4444444444444444,\"#bd3786\"],[0.5555555555555556,\"#d8576b\"],[0.6666666666666666,\"#ed7953\"],[0.7777777777777778,\"#fb9f3a\"],[0.8888888888888888,\"#fdca26\"],[1.0,\"#f0f921\"]]}],\"choropleth\":[{\"type\":\"choropleth\",\"colorbar\":{\"outlinewidth\":0,\"ticks\":\"\"}}],\"histogram2d\":[{\"type\":\"histogram2d\",\"colorbar\":{\"outlinewidth\":0,\"ticks\":\"\"},\"colorscale\":[[0.0,\"#0d0887\"],[0.1111111111111111,\"#46039f\"],[0.2222222222222222,\"#7201a8\"],[0.3333333333333333,\"#9c179e\"],[0.4444444444444444,\"#bd3786\"],[0.5555555555555556,\"#d8576b\"],[0.6666666666666666,\"#ed7953\"],[0.7777777777777778,\"#fb9f3a\"],[0.8888888888888888,\"#fdca26\"],[1.0,\"#f0f921\"]]}],\"heatmap\":[{\"type\":\"heatmap\",\"colorbar\":{\"outlinewidth\":0,\"ticks\":\"\"},\"colorscale\":[[0.0,\"#0d0887\"],[0.1111111111111111,\"#46039f\"],[0.2222222222222222,\"#7201a8\"],[0.3333333333333333,\"#9c179e\"],[0.4444444444444444,\"#bd3786\"],[0.5555555555555556,\"#d8576b\"],[0.6666666666666666,\"#ed7953\"],[0.7777777777777778,\"#fb9f3a\"],[0.8888888888888888,\"#fdca26\"],[1.0,\"#f0f921\"]]}],\"heatmapgl\":[{\"type\":\"heatmapgl\",\"colorbar\":{\"outlinewidth\":0,\"ticks\":\"\"},\"colorscale\":[[0.0,\"#0d0887\"],[0.1111111111111111,\"#46039f\"],[0.2222222222222222,\"#7201a8\"],[0.3333333333333333,\"#9c179e\"],[0.4444444444444444,\"#bd3786\"],[0.5555555555555556,\"#d8576b\"],[0.6666666666666666,\"#ed7953\"],[0.7777777777777778,\"#fb9f3a\"],[0.8888888888888888,\"#fdca26\"],[1.0,\"#f0f921\"]]}],\"contourcarpet\":[{\"type\":\"contourcarpet\",\"colorbar\":{\"outlinewidth\":0,\"ticks\":\"\"}}],\"contour\":[{\"type\":\"contour\",\"colorbar\":{\"outlinewidth\":0,\"ticks\":\"\"},\"colorscale\":[[0.0,\"#0d0887\"],[0.1111111111111111,\"#46039f\"],[0.2222222222222222,\"#7201a8\"],[0.3333333333333333,\"#9c179e\"],[0.4444444444444444,\"#bd3786\"],[0.5555555555555556,\"#d8576b\"],[0.6666666666666666,\"#ed7953\"],[0.7777777777777778,\"#fb9f3a\"],[0.8888888888888888,\"#fdca26\"],[1.0,\"#f0f921\"]]}],\"surface\":[{\"type\":\"surface\",\"colorbar\":{\"outlinewidth\":0,\"ticks\":\"\"},\"colorscale\":[[0.0,\"#0d0887\"],[0.1111111111111111,\"#46039f\"],[0.2222222222222222,\"#7201a8\"],[0.3333333333333333,\"#9c179e\"],[0.4444444444444444,\"#bd3786\"],[0.5555555555555556,\"#d8576b\"],[0.6666666666666666,\"#ed7953\"],[0.7777777777777778,\"#fb9f3a\"],[0.8888888888888888,\"#fdca26\"],[1.0,\"#f0f921\"]]}],\"mesh3d\":[{\"type\":\"mesh3d\",\"colorbar\":{\"outlinewidth\":0,\"ticks\":\"\"}}],\"scatter\":[{\"fillpattern\":{\"fillmode\":\"overlay\",\"size\":10,\"solidity\":0.2},\"type\":\"scatter\"}],\"parcoords\":[{\"type\":\"parcoords\",\"line\":{\"colorbar\":{\"outlinewidth\":0,\"ticks\":\"\"}}}],\"scatterpolargl\":[{\"type\":\"scatterpolargl\",\"marker\":{\"colorbar\":{\"outlinewidth\":0,\"ticks\":\"\"}}}],\"bar\":[{\"error_x\":{\"color\":\"#2a3f5f\"},\"error_y\":{\"color\":\"#2a3f5f\"},\"marker\":{\"line\":{\"color\":\"#E5ECF6\",\"width\":0.5},\"pattern\":{\"fillmode\":\"overlay\",\"size\":10,\"solidity\":0.2}},\"type\":\"bar\"}],\"scattergeo\":[{\"type\":\"scattergeo\",\"marker\":{\"colorbar\":{\"outlinewidth\":0,\"ticks\":\"\"}}}],\"scatterpolar\":[{\"type\":\"scatterpolar\",\"marker\":{\"colorbar\":{\"outlinewidth\":0,\"ticks\":\"\"}}}],\"histogram\":[{\"marker\":{\"pattern\":{\"fillmode\":\"overlay\",\"size\":10,\"solidity\":0.2}},\"type\":\"histogram\"}],\"scattergl\":[{\"type\":\"scattergl\",\"marker\":{\"colorbar\":{\"outlinewidth\":0,\"ticks\":\"\"}}}],\"scatter3d\":[{\"type\":\"scatter3d\",\"line\":{\"colorbar\":{\"outlinewidth\":0,\"ticks\":\"\"}},\"marker\":{\"colorbar\":{\"outlinewidth\":0,\"ticks\":\"\"}}}],\"scattermapbox\":[{\"type\":\"scattermapbox\",\"marker\":{\"colorbar\":{\"outlinewidth\":0,\"ticks\":\"\"}}}],\"scatterternary\":[{\"type\":\"scatterternary\",\"marker\":{\"colorbar\":{\"outlinewidth\":0,\"ticks\":\"\"}}}],\"scattercarpet\":[{\"type\":\"scattercarpet\",\"marker\":{\"colorbar\":{\"outlinewidth\":0,\"ticks\":\"\"}}}],\"carpet\":[{\"aaxis\":{\"endlinecolor\":\"#2a3f5f\",\"gridcolor\":\"white\",\"linecolor\":\"white\",\"minorgridcolor\":\"white\",\"startlinecolor\":\"#2a3f5f\"},\"baxis\":{\"endlinecolor\":\"#2a3f5f\",\"gridcolor\":\"white\",\"linecolor\":\"white\",\"minorgridcolor\":\"white\",\"startlinecolor\":\"#2a3f5f\"},\"type\":\"carpet\"}],\"table\":[{\"cells\":{\"fill\":{\"color\":\"#EBF0F8\"},\"line\":{\"color\":\"white\"}},\"header\":{\"fill\":{\"color\":\"#C8D4E3\"},\"line\":{\"color\":\"white\"}},\"type\":\"table\"}],\"barpolar\":[{\"marker\":{\"line\":{\"color\":\"#E5ECF6\",\"width\":0.5},\"pattern\":{\"fillmode\":\"overlay\",\"size\":10,\"solidity\":0.2}},\"type\":\"barpolar\"}],\"pie\":[{\"automargin\":true,\"type\":\"pie\"}]},\"layout\":{\"autotypenumbers\":\"strict\",\"colorway\":[\"#636efa\",\"#EF553B\",\"#00cc96\",\"#ab63fa\",\"#FFA15A\",\"#19d3f3\",\"#FF6692\",\"#B6E880\",\"#FF97FF\",\"#FECB52\"],\"font\":{\"color\":\"#2a3f5f\"},\"hovermode\":\"closest\",\"hoverlabel\":{\"align\":\"left\"},\"paper_bgcolor\":\"white\",\"plot_bgcolor\":\"#E5ECF6\",\"polar\":{\"bgcolor\":\"#E5ECF6\",\"angularaxis\":{\"gridcolor\":\"white\",\"linecolor\":\"white\",\"ticks\":\"\"},\"radialaxis\":{\"gridcolor\":\"white\",\"linecolor\":\"white\",\"ticks\":\"\"}},\"ternary\":{\"bgcolor\":\"#E5ECF6\",\"aaxis\":{\"gridcolor\":\"white\",\"linecolor\":\"white\",\"ticks\":\"\"},\"baxis\":{\"gridcolor\":\"white\",\"linecolor\":\"white\",\"ticks\":\"\"},\"caxis\":{\"gridcolor\":\"white\",\"linecolor\":\"white\",\"ticks\":\"\"}},\"coloraxis\":{\"colorbar\":{\"outlinewidth\":0,\"ticks\":\"\"}},\"colorscale\":{\"sequential\":[[0.0,\"#0d0887\"],[0.1111111111111111,\"#46039f\"],[0.2222222222222222,\"#7201a8\"],[0.3333333333333333,\"#9c179e\"],[0.4444444444444444,\"#bd3786\"],[0.5555555555555556,\"#d8576b\"],[0.6666666666666666,\"#ed7953\"],[0.7777777777777778,\"#fb9f3a\"],[0.8888888888888888,\"#fdca26\"],[1.0,\"#f0f921\"]],\"sequentialminus\":[[0.0,\"#0d0887\"],[0.1111111111111111,\"#46039f\"],[0.2222222222222222,\"#7201a8\"],[0.3333333333333333,\"#9c179e\"],[0.4444444444444444,\"#bd3786\"],[0.5555555555555556,\"#d8576b\"],[0.6666666666666666,\"#ed7953\"],[0.7777777777777778,\"#fb9f3a\"],[0.8888888888888888,\"#fdca26\"],[1.0,\"#f0f921\"]],\"diverging\":[[0,\"#8e0152\"],[0.1,\"#c51b7d\"],[0.2,\"#de77ae\"],[0.3,\"#f1b6da\"],[0.4,\"#fde0ef\"],[0.5,\"#f7f7f7\"],[0.6,\"#e6f5d0\"],[0.7,\"#b8e186\"],[0.8,\"#7fbc41\"],[0.9,\"#4d9221\"],[1,\"#276419\"]]},\"xaxis\":{\"gridcolor\":\"white\",\"linecolor\":\"white\",\"ticks\":\"\",\"title\":{\"standoff\":15},\"zerolinecolor\":\"white\",\"automargin\":true,\"zerolinewidth\":2},\"yaxis\":{\"gridcolor\":\"white\",\"linecolor\":\"white\",\"ticks\":\"\",\"title\":{\"standoff\":15},\"zerolinecolor\":\"white\",\"automargin\":true,\"zerolinewidth\":2},\"scene\":{\"xaxis\":{\"backgroundcolor\":\"#E5ECF6\",\"gridcolor\":\"white\",\"linecolor\":\"white\",\"showbackground\":true,\"ticks\":\"\",\"zerolinecolor\":\"white\",\"gridwidth\":2},\"yaxis\":{\"backgroundcolor\":\"#E5ECF6\",\"gridcolor\":\"white\",\"linecolor\":\"white\",\"showbackground\":true,\"ticks\":\"\",\"zerolinecolor\":\"white\",\"gridwidth\":2},\"zaxis\":{\"backgroundcolor\":\"#E5ECF6\",\"gridcolor\":\"white\",\"linecolor\":\"white\",\"showbackground\":true,\"ticks\":\"\",\"zerolinecolor\":\"white\",\"gridwidth\":2}},\"shapedefaults\":{\"line\":{\"color\":\"#2a3f5f\"}},\"annotationdefaults\":{\"arrowcolor\":\"#2a3f5f\",\"arrowhead\":0,\"arrowwidth\":1},\"geo\":{\"bgcolor\":\"white\",\"landcolor\":\"#E5ECF6\",\"subunitcolor\":\"white\",\"showland\":true,\"showlakes\":true,\"lakecolor\":\"white\"},\"title\":{\"x\":0.05},\"mapbox\":{\"style\":\"light\"}}},\"xaxis\":{\"anchor\":\"y\",\"domain\":[0.0,0.3],\"tickvals\":[\"Fork\",\"Spoon\",\"Knife\",\"Chopsticks\",\"No utensils shown\"],\"ticktext\":[\"Fork\",\"Spoon\",\"Knife\",\"Chopsticks\",\"No utensils shown\"],\"categoryorder\":\"array\",\"categoryarray\":[\"Fork\",\"Spoon\",\"Knife\",\"Chopsticks\",\"No utensils shown\"],\"showline\":true,\"linewidth\":2,\"linecolor\":\"grey\",\"mirror\":true},\"yaxis\":{\"anchor\":\"x\",\"domain\":[0.0,1.0],\"title\":{\"text\":\"Proportion of Images (%)\"},\"showline\":true,\"linewidth\":2,\"linecolor\":\"grey\",\"mirror\":true},\"xaxis2\":{\"anchor\":\"y2\",\"domain\":[0.35,0.6499999999999999],\"tickvals\":[\"Fork\",\"Spoon\",\"Knife\",\"Chopsticks\",\"No utensils shown\"],\"ticktext\":[\"Fork\",\"Spoon\",\"Knife\",\"Chopsticks\",\"No utensils shown\"],\"categoryorder\":\"array\",\"categoryarray\":[\"Fork\",\"Spoon\",\"Knife\",\"Chopsticks\",\"No utensils shown\"],\"showline\":true,\"linewidth\":2,\"linecolor\":\"grey\",\"mirror\":true},\"yaxis2\":{\"anchor\":\"x2\",\"domain\":[0.0,1.0],\"matches\":\"y\",\"showticklabels\":false,\"showline\":true,\"linewidth\":2,\"linecolor\":\"grey\",\"mirror\":true},\"xaxis3\":{\"anchor\":\"y3\",\"domain\":[0.7,1.0],\"tickvals\":[\"Fork\",\"Spoon\",\"Knife\",\"Chopsticks\",\"No utensils shown\"],\"ticktext\":[\"Fork\",\"Spoon\",\"Knife\",\"Chopsticks\",\"No utensils shown\"],\"categoryorder\":\"array\",\"categoryarray\":[\"Fork\",\"Spoon\",\"Knife\",\"Chopsticks\",\"No utensils shown\"],\"showline\":true,\"linewidth\":2,\"linecolor\":\"grey\",\"mirror\":true},\"yaxis3\":{\"anchor\":\"x3\",\"domain\":[0.0,1.0],\"matches\":\"y\",\"showticklabels\":false,\"showline\":true,\"linewidth\":2,\"linecolor\":\"grey\",\"mirror\":true},\"annotations\":[{\"font\":{\"size\":16},\"showarrow\":false,\"text\":\"Dall-E 3\",\"x\":0.15,\"xanchor\":\"center\",\"xref\":\"paper\",\"y\":1.0,\"yanchor\":\"bottom\",\"yref\":\"paper\"},{\"font\":{\"size\":16},\"showarrow\":false,\"text\":\"Stable Diffusion 2.1\",\"x\":0.49999999999999994,\"xanchor\":\"center\",\"xref\":\"paper\",\"y\":1.0,\"yanchor\":\"bottom\",\"yref\":\"paper\"},{\"font\":{\"size\":16},\"showarrow\":false,\"text\":\"Dall-E 2\",\"x\":0.85,\"xanchor\":\"center\",\"xref\":\"paper\",\"y\":1.0,\"yanchor\":\"bottom\",\"yref\":\"paper\"}],\"legend\":{\"title\":{\"text\":\"Country\"},\"orientation\":\"v\",\"yanchor\":\"top\",\"y\":1,\"xanchor\":\"right\",\"x\":1.15,\"itemwidth\":30,\"itemsizing\":\"constant\",\"traceorder\":\"normal\",\"bordercolor\":\"grey\",\"borderwidth\":1},\"title\":{\"font\":{\"family\":\"Helvetica Neue\",\"size\":18,\"color\":\"black\"},\"text\":\"What utensils, if any, are shown in this image?\",\"y\":0.9,\"x\":0.5,\"xanchor\":\"center\",\"yanchor\":\"top\"},\"font\":{\"family\":\"Helvetica Neue\",\"size\":12},\"plot_bgcolor\":\"white\",\"barmode\":\"group\",\"width\":1200,\"height\":400},                        {\"responsive\": true}                    ).then(function(){\n",
       "                            \n",
       "var gd = document.getElementById('f6ff9b61-5cbf-4ebb-8388-5da4694a8c08');\n",
       "var x = new MutationObserver(function (mutations, observer) {{\n",
       "        var display = window.getComputedStyle(gd).display;\n",
       "        if (!display || display === 'none') {{\n",
       "            console.log([gd, 'removed!']);\n",
       "            Plotly.purge(gd);\n",
       "            observer.disconnect();\n",
       "        }}\n",
       "}});\n",
       "\n",
       "// Listen for the removal of the full notebook cells\n",
       "var notebookContainer = gd.closest('#notebook-container');\n",
       "if (notebookContainer) {{\n",
       "    x.observe(notebookContainer, {childList: true});\n",
       "}}\n",
       "\n",
       "// Listen for the clearing of the current output cell\n",
       "var outputEl = gd.closest('.output');\n",
       "if (outputEl) {{\n",
       "    x.observe(outputEl, {childList: true});\n",
       "}}\n",
       "\n",
       "                        })                };                });            </script>        </div>"
      ]
     },
     "metadata": {},
     "output_type": "display_data"
    },
    {
     "data": {
      "application/vnd.plotly.v1+json": {
       "config": {
        "plotlyServerURL": "https://plot.ly"
       },
       "data": [
        {
         "legendgroup": "Algeria",
         "marker": {
          "color": "#41cc96"
         },
         "name": "Algeria",
         "showlegend": true,
         "type": "bar",
         "x": [
          "Yes",
          "No"
         ],
         "xaxis": "x",
         "y": [
          87.33333333333333,
          12.666666666666668
         ],
         "yaxis": "y"
        },
        {
         "legendgroup": "Nigeria",
         "marker": {
          "color": "#ef563b"
         },
         "name": "Nigeria",
         "showlegend": true,
         "type": "bar",
         "x": [
          "Yes",
          "No"
         ],
         "xaxis": "x",
         "y": [
          77.33333333333333,
          22.666666666666664
         ],
         "yaxis": "y"
        },
        {
         "legendgroup": "South Africa",
         "marker": {
          "color": "#f7a15b"
         },
         "name": "South Africa",
         "showlegend": true,
         "type": "bar",
         "x": [
          "Yes",
          "No"
         ],
         "xaxis": "x",
         "y": [
          85.33333333333334,
          14.666666666666666
         ],
         "yaxis": "y"
        },
        {
         "legendgroup": "United States",
         "marker": {
          "color": "#47d3f3"
         },
         "name": "United States",
         "showlegend": true,
         "type": "bar",
         "x": [
          "Yes",
          "No"
         ],
         "xaxis": "x",
         "y": [
          90,
          10
         ],
         "yaxis": "y"
        },
        {
         "legendgroup": "Kenya",
         "marker": {
          "color": "#636efb"
         },
         "name": "Kenya",
         "showlegend": true,
         "type": "bar",
         "x": [
          "Yes",
          "No"
         ],
         "xaxis": "x",
         "y": [
          80.76923076923077,
          19.230769230769234
         ],
         "yaxis": "y"
        },
        {
         "legendgroup": "Cameroon",
         "marker": {
          "color": "#ab63fb"
         },
         "name": "Cameroon",
         "showlegend": true,
         "type": "bar",
         "x": [
          "Yes",
          "No"
         ],
         "xaxis": "x",
         "y": [
          85.33333333333334,
          14.666666666666666
         ],
         "yaxis": "y"
        },
        {
         "legendgroup": "Algeria",
         "marker": {
          "color": "#41cc96"
         },
         "name": "Algeria",
         "showlegend": false,
         "type": "bar",
         "x": [
          "Yes",
          "No"
         ],
         "xaxis": "x2",
         "y": [
          85.33333333333334,
          14.666666666666666
         ],
         "yaxis": "y2"
        },
        {
         "legendgroup": "Nigeria",
         "marker": {
          "color": "#ef563b"
         },
         "name": "Nigeria",
         "showlegend": false,
         "type": "bar",
         "x": [
          "Yes",
          "No"
         ],
         "xaxis": "x2",
         "y": [
          86,
          14.000000000000002
         ],
         "yaxis": "y2"
        },
        {
         "legendgroup": "South Africa",
         "marker": {
          "color": "#f7a15b"
         },
         "name": "South Africa",
         "showlegend": false,
         "type": "bar",
         "x": [
          "Yes",
          "No"
         ],
         "xaxis": "x2",
         "y": [
          92.66666666666666,
          7.333333333333333
         ],
         "yaxis": "y2"
        },
        {
         "legendgroup": "United States",
         "marker": {
          "color": "#47d3f3"
         },
         "name": "United States",
         "showlegend": false,
         "type": "bar",
         "x": [
          "Yes",
          "No"
         ],
         "xaxis": "x2",
         "y": [
          91.33333333333333,
          8.666666666666668
         ],
         "yaxis": "y2"
        },
        {
         "legendgroup": "Kenya",
         "marker": {
          "color": "#636efb"
         },
         "name": "Kenya",
         "showlegend": false,
         "type": "bar",
         "x": [
          "Yes",
          "No"
         ],
         "xaxis": "x2",
         "y": [
          84.24657534246576,
          15.753424657534246
         ],
         "yaxis": "y2"
        },
        {
         "legendgroup": "Cameroon",
         "marker": {
          "color": "#ab63fb"
         },
         "name": "Cameroon",
         "showlegend": false,
         "type": "bar",
         "x": [
          "Yes",
          "No"
         ],
         "xaxis": "x2",
         "y": [
          88.75,
          11.25
         ],
         "yaxis": "y2"
        },
        {
         "legendgroup": "Algeria",
         "marker": {
          "color": "#41cc96"
         },
         "name": "Algeria",
         "showlegend": false,
         "type": "bar",
         "x": [
          "Yes",
          "No"
         ],
         "xaxis": "x3",
         "y": [
          92,
          8
         ],
         "yaxis": "y3"
        },
        {
         "legendgroup": "Nigeria",
         "marker": {
          "color": "#ef563b"
         },
         "name": "Nigeria",
         "showlegend": false,
         "type": "bar",
         "x": [
          "Yes",
          "No"
         ],
         "xaxis": "x3",
         "y": [
          0,
          0
         ],
         "yaxis": "y3"
        },
        {
         "legendgroup": "South Africa",
         "marker": {
          "color": "#f7a15b"
         },
         "name": "South Africa",
         "showlegend": false,
         "type": "bar",
         "x": [
          "Yes",
          "No"
         ],
         "xaxis": "x3",
         "y": [
          78.94736842105263,
          21.052631578947366
         ],
         "yaxis": "y3"
        },
        {
         "legendgroup": "United States",
         "marker": {
          "color": "#47d3f3"
         },
         "name": "United States",
         "showlegend": false,
         "type": "bar",
         "x": [
          "Yes",
          "No"
         ],
         "xaxis": "x3",
         "y": [
          94,
          6
         ],
         "yaxis": "y3"
        },
        {
         "legendgroup": "Kenya",
         "marker": {
          "color": "#636efb"
         },
         "name": "Kenya",
         "showlegend": false,
         "type": "bar",
         "x": [
          "Yes",
          "No"
         ],
         "xaxis": "x3",
         "y": [
          85.38461538461539,
          14.615384615384617
         ],
         "yaxis": "y3"
        },
        {
         "legendgroup": "Cameroon",
         "marker": {
          "color": "#ab63fb"
         },
         "name": "Cameroon",
         "showlegend": false,
         "type": "bar",
         "x": [
          "Yes",
          "No"
         ],
         "xaxis": "x3",
         "y": [
          84.13793103448276,
          15.862068965517242
         ],
         "yaxis": "y3"
        }
       ],
       "layout": {
        "annotations": [
         {
          "font": {
           "size": 16
          },
          "showarrow": false,
          "text": "Dall-E 3",
          "x": 0.15,
          "xanchor": "center",
          "xref": "paper",
          "y": 1,
          "yanchor": "bottom",
          "yref": "paper"
         },
         {
          "font": {
           "size": 16
          },
          "showarrow": false,
          "text": "Stable Diffusion 2.1",
          "x": 0.49999999999999994,
          "xanchor": "center",
          "xref": "paper",
          "y": 1,
          "yanchor": "bottom",
          "yref": "paper"
         },
         {
          "font": {
           "size": 16
          },
          "showarrow": false,
          "text": "Dall-E 2",
          "x": 0.85,
          "xanchor": "center",
          "xref": "paper",
          "y": 1,
          "yanchor": "bottom",
          "yref": "paper"
         }
        ],
        "barmode": "group",
        "font": {
         "family": "Helvetica Neue",
         "size": 12
        },
        "height": 400,
        "legend": {
         "bordercolor": "grey",
         "borderwidth": 1,
         "itemsizing": "constant",
         "itemwidth": 30,
         "orientation": "v",
         "title": {
          "text": "Country"
         },
         "traceorder": "normal",
         "x": 1.15,
         "xanchor": "right",
         "y": 1,
         "yanchor": "top"
        },
        "plot_bgcolor": "white",
        "template": {
         "data": {
          "bar": [
           {
            "error_x": {
             "color": "#2a3f5f"
            },
            "error_y": {
             "color": "#2a3f5f"
            },
            "marker": {
             "line": {
              "color": "#E5ECF6",
              "width": 0.5
             },
             "pattern": {
              "fillmode": "overlay",
              "size": 10,
              "solidity": 0.2
             }
            },
            "type": "bar"
           }
          ],
          "barpolar": [
           {
            "marker": {
             "line": {
              "color": "#E5ECF6",
              "width": 0.5
             },
             "pattern": {
              "fillmode": "overlay",
              "size": 10,
              "solidity": 0.2
             }
            },
            "type": "barpolar"
           }
          ],
          "carpet": [
           {
            "aaxis": {
             "endlinecolor": "#2a3f5f",
             "gridcolor": "white",
             "linecolor": "white",
             "minorgridcolor": "white",
             "startlinecolor": "#2a3f5f"
            },
            "baxis": {
             "endlinecolor": "#2a3f5f",
             "gridcolor": "white",
             "linecolor": "white",
             "minorgridcolor": "white",
             "startlinecolor": "#2a3f5f"
            },
            "type": "carpet"
           }
          ],
          "choropleth": [
           {
            "colorbar": {
             "outlinewidth": 0,
             "ticks": ""
            },
            "type": "choropleth"
           }
          ],
          "contour": [
           {
            "colorbar": {
             "outlinewidth": 0,
             "ticks": ""
            },
            "colorscale": [
             [
              0,
              "#0d0887"
             ],
             [
              0.1111111111111111,
              "#46039f"
             ],
             [
              0.2222222222222222,
              "#7201a8"
             ],
             [
              0.3333333333333333,
              "#9c179e"
             ],
             [
              0.4444444444444444,
              "#bd3786"
             ],
             [
              0.5555555555555556,
              "#d8576b"
             ],
             [
              0.6666666666666666,
              "#ed7953"
             ],
             [
              0.7777777777777778,
              "#fb9f3a"
             ],
             [
              0.8888888888888888,
              "#fdca26"
             ],
             [
              1,
              "#f0f921"
             ]
            ],
            "type": "contour"
           }
          ],
          "contourcarpet": [
           {
            "colorbar": {
             "outlinewidth": 0,
             "ticks": ""
            },
            "type": "contourcarpet"
           }
          ],
          "heatmap": [
           {
            "colorbar": {
             "outlinewidth": 0,
             "ticks": ""
            },
            "colorscale": [
             [
              0,
              "#0d0887"
             ],
             [
              0.1111111111111111,
              "#46039f"
             ],
             [
              0.2222222222222222,
              "#7201a8"
             ],
             [
              0.3333333333333333,
              "#9c179e"
             ],
             [
              0.4444444444444444,
              "#bd3786"
             ],
             [
              0.5555555555555556,
              "#d8576b"
             ],
             [
              0.6666666666666666,
              "#ed7953"
             ],
             [
              0.7777777777777778,
              "#fb9f3a"
             ],
             [
              0.8888888888888888,
              "#fdca26"
             ],
             [
              1,
              "#f0f921"
             ]
            ],
            "type": "heatmap"
           }
          ],
          "heatmapgl": [
           {
            "colorbar": {
             "outlinewidth": 0,
             "ticks": ""
            },
            "colorscale": [
             [
              0,
              "#0d0887"
             ],
             [
              0.1111111111111111,
              "#46039f"
             ],
             [
              0.2222222222222222,
              "#7201a8"
             ],
             [
              0.3333333333333333,
              "#9c179e"
             ],
             [
              0.4444444444444444,
              "#bd3786"
             ],
             [
              0.5555555555555556,
              "#d8576b"
             ],
             [
              0.6666666666666666,
              "#ed7953"
             ],
             [
              0.7777777777777778,
              "#fb9f3a"
             ],
             [
              0.8888888888888888,
              "#fdca26"
             ],
             [
              1,
              "#f0f921"
             ]
            ],
            "type": "heatmapgl"
           }
          ],
          "histogram": [
           {
            "marker": {
             "pattern": {
              "fillmode": "overlay",
              "size": 10,
              "solidity": 0.2
             }
            },
            "type": "histogram"
           }
          ],
          "histogram2d": [
           {
            "colorbar": {
             "outlinewidth": 0,
             "ticks": ""
            },
            "colorscale": [
             [
              0,
              "#0d0887"
             ],
             [
              0.1111111111111111,
              "#46039f"
             ],
             [
              0.2222222222222222,
              "#7201a8"
             ],
             [
              0.3333333333333333,
              "#9c179e"
             ],
             [
              0.4444444444444444,
              "#bd3786"
             ],
             [
              0.5555555555555556,
              "#d8576b"
             ],
             [
              0.6666666666666666,
              "#ed7953"
             ],
             [
              0.7777777777777778,
              "#fb9f3a"
             ],
             [
              0.8888888888888888,
              "#fdca26"
             ],
             [
              1,
              "#f0f921"
             ]
            ],
            "type": "histogram2d"
           }
          ],
          "histogram2dcontour": [
           {
            "colorbar": {
             "outlinewidth": 0,
             "ticks": ""
            },
            "colorscale": [
             [
              0,
              "#0d0887"
             ],
             [
              0.1111111111111111,
              "#46039f"
             ],
             [
              0.2222222222222222,
              "#7201a8"
             ],
             [
              0.3333333333333333,
              "#9c179e"
             ],
             [
              0.4444444444444444,
              "#bd3786"
             ],
             [
              0.5555555555555556,
              "#d8576b"
             ],
             [
              0.6666666666666666,
              "#ed7953"
             ],
             [
              0.7777777777777778,
              "#fb9f3a"
             ],
             [
              0.8888888888888888,
              "#fdca26"
             ],
             [
              1,
              "#f0f921"
             ]
            ],
            "type": "histogram2dcontour"
           }
          ],
          "mesh3d": [
           {
            "colorbar": {
             "outlinewidth": 0,
             "ticks": ""
            },
            "type": "mesh3d"
           }
          ],
          "parcoords": [
           {
            "line": {
             "colorbar": {
              "outlinewidth": 0,
              "ticks": ""
             }
            },
            "type": "parcoords"
           }
          ],
          "pie": [
           {
            "automargin": true,
            "type": "pie"
           }
          ],
          "scatter": [
           {
            "fillpattern": {
             "fillmode": "overlay",
             "size": 10,
             "solidity": 0.2
            },
            "type": "scatter"
           }
          ],
          "scatter3d": [
           {
            "line": {
             "colorbar": {
              "outlinewidth": 0,
              "ticks": ""
             }
            },
            "marker": {
             "colorbar": {
              "outlinewidth": 0,
              "ticks": ""
             }
            },
            "type": "scatter3d"
           }
          ],
          "scattercarpet": [
           {
            "marker": {
             "colorbar": {
              "outlinewidth": 0,
              "ticks": ""
             }
            },
            "type": "scattercarpet"
           }
          ],
          "scattergeo": [
           {
            "marker": {
             "colorbar": {
              "outlinewidth": 0,
              "ticks": ""
             }
            },
            "type": "scattergeo"
           }
          ],
          "scattergl": [
           {
            "marker": {
             "colorbar": {
              "outlinewidth": 0,
              "ticks": ""
             }
            },
            "type": "scattergl"
           }
          ],
          "scattermapbox": [
           {
            "marker": {
             "colorbar": {
              "outlinewidth": 0,
              "ticks": ""
             }
            },
            "type": "scattermapbox"
           }
          ],
          "scatterpolar": [
           {
            "marker": {
             "colorbar": {
              "outlinewidth": 0,
              "ticks": ""
             }
            },
            "type": "scatterpolar"
           }
          ],
          "scatterpolargl": [
           {
            "marker": {
             "colorbar": {
              "outlinewidth": 0,
              "ticks": ""
             }
            },
            "type": "scatterpolargl"
           }
          ],
          "scatterternary": [
           {
            "marker": {
             "colorbar": {
              "outlinewidth": 0,
              "ticks": ""
             }
            },
            "type": "scatterternary"
           }
          ],
          "surface": [
           {
            "colorbar": {
             "outlinewidth": 0,
             "ticks": ""
            },
            "colorscale": [
             [
              0,
              "#0d0887"
             ],
             [
              0.1111111111111111,
              "#46039f"
             ],
             [
              0.2222222222222222,
              "#7201a8"
             ],
             [
              0.3333333333333333,
              "#9c179e"
             ],
             [
              0.4444444444444444,
              "#bd3786"
             ],
             [
              0.5555555555555556,
              "#d8576b"
             ],
             [
              0.6666666666666666,
              "#ed7953"
             ],
             [
              0.7777777777777778,
              "#fb9f3a"
             ],
             [
              0.8888888888888888,
              "#fdca26"
             ],
             [
              1,
              "#f0f921"
             ]
            ],
            "type": "surface"
           }
          ],
          "table": [
           {
            "cells": {
             "fill": {
              "color": "#EBF0F8"
             },
             "line": {
              "color": "white"
             }
            },
            "header": {
             "fill": {
              "color": "#C8D4E3"
             },
             "line": {
              "color": "white"
             }
            },
            "type": "table"
           }
          ]
         },
         "layout": {
          "annotationdefaults": {
           "arrowcolor": "#2a3f5f",
           "arrowhead": 0,
           "arrowwidth": 1
          },
          "autotypenumbers": "strict",
          "coloraxis": {
           "colorbar": {
            "outlinewidth": 0,
            "ticks": ""
           }
          },
          "colorscale": {
           "diverging": [
            [
             0,
             "#8e0152"
            ],
            [
             0.1,
             "#c51b7d"
            ],
            [
             0.2,
             "#de77ae"
            ],
            [
             0.3,
             "#f1b6da"
            ],
            [
             0.4,
             "#fde0ef"
            ],
            [
             0.5,
             "#f7f7f7"
            ],
            [
             0.6,
             "#e6f5d0"
            ],
            [
             0.7,
             "#b8e186"
            ],
            [
             0.8,
             "#7fbc41"
            ],
            [
             0.9,
             "#4d9221"
            ],
            [
             1,
             "#276419"
            ]
           ],
           "sequential": [
            [
             0,
             "#0d0887"
            ],
            [
             0.1111111111111111,
             "#46039f"
            ],
            [
             0.2222222222222222,
             "#7201a8"
            ],
            [
             0.3333333333333333,
             "#9c179e"
            ],
            [
             0.4444444444444444,
             "#bd3786"
            ],
            [
             0.5555555555555556,
             "#d8576b"
            ],
            [
             0.6666666666666666,
             "#ed7953"
            ],
            [
             0.7777777777777778,
             "#fb9f3a"
            ],
            [
             0.8888888888888888,
             "#fdca26"
            ],
            [
             1,
             "#f0f921"
            ]
           ],
           "sequentialminus": [
            [
             0,
             "#0d0887"
            ],
            [
             0.1111111111111111,
             "#46039f"
            ],
            [
             0.2222222222222222,
             "#7201a8"
            ],
            [
             0.3333333333333333,
             "#9c179e"
            ],
            [
             0.4444444444444444,
             "#bd3786"
            ],
            [
             0.5555555555555556,
             "#d8576b"
            ],
            [
             0.6666666666666666,
             "#ed7953"
            ],
            [
             0.7777777777777778,
             "#fb9f3a"
            ],
            [
             0.8888888888888888,
             "#fdca26"
            ],
            [
             1,
             "#f0f921"
            ]
           ]
          },
          "colorway": [
           "#636efa",
           "#EF553B",
           "#00cc96",
           "#ab63fa",
           "#FFA15A",
           "#19d3f3",
           "#FF6692",
           "#B6E880",
           "#FF97FF",
           "#FECB52"
          ],
          "font": {
           "color": "#2a3f5f"
          },
          "geo": {
           "bgcolor": "white",
           "lakecolor": "white",
           "landcolor": "#E5ECF6",
           "showlakes": true,
           "showland": true,
           "subunitcolor": "white"
          },
          "hoverlabel": {
           "align": "left"
          },
          "hovermode": "closest",
          "mapbox": {
           "style": "light"
          },
          "paper_bgcolor": "white",
          "plot_bgcolor": "#E5ECF6",
          "polar": {
           "angularaxis": {
            "gridcolor": "white",
            "linecolor": "white",
            "ticks": ""
           },
           "bgcolor": "#E5ECF6",
           "radialaxis": {
            "gridcolor": "white",
            "linecolor": "white",
            "ticks": ""
           }
          },
          "scene": {
           "xaxis": {
            "backgroundcolor": "#E5ECF6",
            "gridcolor": "white",
            "gridwidth": 2,
            "linecolor": "white",
            "showbackground": true,
            "ticks": "",
            "zerolinecolor": "white"
           },
           "yaxis": {
            "backgroundcolor": "#E5ECF6",
            "gridcolor": "white",
            "gridwidth": 2,
            "linecolor": "white",
            "showbackground": true,
            "ticks": "",
            "zerolinecolor": "white"
           },
           "zaxis": {
            "backgroundcolor": "#E5ECF6",
            "gridcolor": "white",
            "gridwidth": 2,
            "linecolor": "white",
            "showbackground": true,
            "ticks": "",
            "zerolinecolor": "white"
           }
          },
          "shapedefaults": {
           "line": {
            "color": "#2a3f5f"
           }
          },
          "ternary": {
           "aaxis": {
            "gridcolor": "white",
            "linecolor": "white",
            "ticks": ""
           },
           "baxis": {
            "gridcolor": "white",
            "linecolor": "white",
            "ticks": ""
           },
           "bgcolor": "#E5ECF6",
           "caxis": {
            "gridcolor": "white",
            "linecolor": "white",
            "ticks": ""
           }
          },
          "title": {
           "x": 0.05
          },
          "xaxis": {
           "automargin": true,
           "gridcolor": "white",
           "linecolor": "white",
           "ticks": "",
           "title": {
            "standoff": 15
           },
           "zerolinecolor": "white",
           "zerolinewidth": 2
          },
          "yaxis": {
           "automargin": true,
           "gridcolor": "white",
           "linecolor": "white",
           "ticks": "",
           "title": {
            "standoff": 15
           },
           "zerolinecolor": "white",
           "zerolinewidth": 2
          }
         }
        },
        "title": {
         "font": {
          "color": "black",
          "family": "Helvetica Neue",
          "size": 18
         },
         "text": "Is the dish placed on a table?",
         "x": 0.5,
         "xanchor": "center",
         "y": 0.9,
         "yanchor": "top"
        },
        "width": 1200,
        "xaxis": {
         "anchor": "y",
         "categoryarray": [
          "Yes",
          "No"
         ],
         "categoryorder": "array",
         "domain": [
          0,
          0.3
         ],
         "linecolor": "grey",
         "linewidth": 2,
         "mirror": true,
         "showline": true,
         "ticktext": [
          "Yes",
          "No"
         ],
         "tickvals": [
          "Yes",
          "No"
         ]
        },
        "xaxis2": {
         "anchor": "y2",
         "categoryarray": [
          "Yes",
          "No"
         ],
         "categoryorder": "array",
         "domain": [
          0.35,
          0.6499999999999999
         ],
         "linecolor": "grey",
         "linewidth": 2,
         "mirror": true,
         "showline": true,
         "ticktext": [
          "Yes",
          "No"
         ],
         "tickvals": [
          "Yes",
          "No"
         ]
        },
        "xaxis3": {
         "anchor": "y3",
         "categoryarray": [
          "Yes",
          "No"
         ],
         "categoryorder": "array",
         "domain": [
          0.7,
          1
         ],
         "linecolor": "grey",
         "linewidth": 2,
         "mirror": true,
         "showline": true,
         "ticktext": [
          "Yes",
          "No"
         ],
         "tickvals": [
          "Yes",
          "No"
         ]
        },
        "yaxis": {
         "anchor": "x",
         "domain": [
          0,
          1
         ],
         "linecolor": "grey",
         "linewidth": 2,
         "mirror": true,
         "showline": true,
         "title": {
          "text": "Proportion of Images (%)"
         }
        },
        "yaxis2": {
         "anchor": "x2",
         "domain": [
          0,
          1
         ],
         "linecolor": "grey",
         "linewidth": 2,
         "matches": "y",
         "mirror": true,
         "showline": true,
         "showticklabels": false
        },
        "yaxis3": {
         "anchor": "x3",
         "domain": [
          0,
          1
         ],
         "linecolor": "grey",
         "linewidth": 2,
         "matches": "y",
         "mirror": true,
         "showline": true,
         "showticklabels": false
        }
       }
      },
      "text/html": [
       "<div>                            <div id=\"daf8c622-2d3c-456c-b009-0aef2bc78f27\" class=\"plotly-graph-div\" style=\"height:400px; width:1200px;\"></div>            <script type=\"text/javascript\">                require([\"plotly\"], function(Plotly) {                    window.PLOTLYENV=window.PLOTLYENV || {};                                    if (document.getElementById(\"daf8c622-2d3c-456c-b009-0aef2bc78f27\")) {                    Plotly.newPlot(                        \"daf8c622-2d3c-456c-b009-0aef2bc78f27\",                        [{\"legendgroup\":\"Algeria\",\"marker\":{\"color\":\"#41cc96\"},\"name\":\"Algeria\",\"showlegend\":true,\"x\":[\"Yes\",\"No\"],\"y\":[87.33333333333333,12.666666666666668],\"type\":\"bar\",\"xaxis\":\"x\",\"yaxis\":\"y\"},{\"legendgroup\":\"Nigeria\",\"marker\":{\"color\":\"#ef563b\"},\"name\":\"Nigeria\",\"showlegend\":true,\"x\":[\"Yes\",\"No\"],\"y\":[77.33333333333333,22.666666666666664],\"type\":\"bar\",\"xaxis\":\"x\",\"yaxis\":\"y\"},{\"legendgroup\":\"South Africa\",\"marker\":{\"color\":\"#f7a15b\"},\"name\":\"South Africa\",\"showlegend\":true,\"x\":[\"Yes\",\"No\"],\"y\":[85.33333333333334,14.666666666666666],\"type\":\"bar\",\"xaxis\":\"x\",\"yaxis\":\"y\"},{\"legendgroup\":\"United States\",\"marker\":{\"color\":\"#47d3f3\"},\"name\":\"United States\",\"showlegend\":true,\"x\":[\"Yes\",\"No\"],\"y\":[90.0,10.0],\"type\":\"bar\",\"xaxis\":\"x\",\"yaxis\":\"y\"},{\"legendgroup\":\"Kenya\",\"marker\":{\"color\":\"#636efb\"},\"name\":\"Kenya\",\"showlegend\":true,\"x\":[\"Yes\",\"No\"],\"y\":[80.76923076923077,19.230769230769234],\"type\":\"bar\",\"xaxis\":\"x\",\"yaxis\":\"y\"},{\"legendgroup\":\"Cameroon\",\"marker\":{\"color\":\"#ab63fb\"},\"name\":\"Cameroon\",\"showlegend\":true,\"x\":[\"Yes\",\"No\"],\"y\":[85.33333333333334,14.666666666666666],\"type\":\"bar\",\"xaxis\":\"x\",\"yaxis\":\"y\"},{\"legendgroup\":\"Algeria\",\"marker\":{\"color\":\"#41cc96\"},\"name\":\"Algeria\",\"showlegend\":false,\"x\":[\"Yes\",\"No\"],\"y\":[85.33333333333334,14.666666666666666],\"type\":\"bar\",\"xaxis\":\"x2\",\"yaxis\":\"y2\"},{\"legendgroup\":\"Nigeria\",\"marker\":{\"color\":\"#ef563b\"},\"name\":\"Nigeria\",\"showlegend\":false,\"x\":[\"Yes\",\"No\"],\"y\":[86.0,14.000000000000002],\"type\":\"bar\",\"xaxis\":\"x2\",\"yaxis\":\"y2\"},{\"legendgroup\":\"South Africa\",\"marker\":{\"color\":\"#f7a15b\"},\"name\":\"South Africa\",\"showlegend\":false,\"x\":[\"Yes\",\"No\"],\"y\":[92.66666666666666,7.333333333333333],\"type\":\"bar\",\"xaxis\":\"x2\",\"yaxis\":\"y2\"},{\"legendgroup\":\"United States\",\"marker\":{\"color\":\"#47d3f3\"},\"name\":\"United States\",\"showlegend\":false,\"x\":[\"Yes\",\"No\"],\"y\":[91.33333333333333,8.666666666666668],\"type\":\"bar\",\"xaxis\":\"x2\",\"yaxis\":\"y2\"},{\"legendgroup\":\"Kenya\",\"marker\":{\"color\":\"#636efb\"},\"name\":\"Kenya\",\"showlegend\":false,\"x\":[\"Yes\",\"No\"],\"y\":[84.24657534246576,15.753424657534246],\"type\":\"bar\",\"xaxis\":\"x2\",\"yaxis\":\"y2\"},{\"legendgroup\":\"Cameroon\",\"marker\":{\"color\":\"#ab63fb\"},\"name\":\"Cameroon\",\"showlegend\":false,\"x\":[\"Yes\",\"No\"],\"y\":[88.75,11.25],\"type\":\"bar\",\"xaxis\":\"x2\",\"yaxis\":\"y2\"},{\"legendgroup\":\"Algeria\",\"marker\":{\"color\":\"#41cc96\"},\"name\":\"Algeria\",\"showlegend\":false,\"x\":[\"Yes\",\"No\"],\"y\":[92.0,8.0],\"type\":\"bar\",\"xaxis\":\"x3\",\"yaxis\":\"y3\"},{\"legendgroup\":\"Nigeria\",\"marker\":{\"color\":\"#ef563b\"},\"name\":\"Nigeria\",\"showlegend\":false,\"x\":[\"Yes\",\"No\"],\"y\":[0.0,0.0],\"type\":\"bar\",\"xaxis\":\"x3\",\"yaxis\":\"y3\"},{\"legendgroup\":\"South Africa\",\"marker\":{\"color\":\"#f7a15b\"},\"name\":\"South Africa\",\"showlegend\":false,\"x\":[\"Yes\",\"No\"],\"y\":[78.94736842105263,21.052631578947366],\"type\":\"bar\",\"xaxis\":\"x3\",\"yaxis\":\"y3\"},{\"legendgroup\":\"United States\",\"marker\":{\"color\":\"#47d3f3\"},\"name\":\"United States\",\"showlegend\":false,\"x\":[\"Yes\",\"No\"],\"y\":[94.0,6.0],\"type\":\"bar\",\"xaxis\":\"x3\",\"yaxis\":\"y3\"},{\"legendgroup\":\"Kenya\",\"marker\":{\"color\":\"#636efb\"},\"name\":\"Kenya\",\"showlegend\":false,\"x\":[\"Yes\",\"No\"],\"y\":[85.38461538461539,14.615384615384617],\"type\":\"bar\",\"xaxis\":\"x3\",\"yaxis\":\"y3\"},{\"legendgroup\":\"Cameroon\",\"marker\":{\"color\":\"#ab63fb\"},\"name\":\"Cameroon\",\"showlegend\":false,\"x\":[\"Yes\",\"No\"],\"y\":[84.13793103448276,15.862068965517242],\"type\":\"bar\",\"xaxis\":\"x3\",\"yaxis\":\"y3\"}],                        {\"template\":{\"data\":{\"histogram2dcontour\":[{\"type\":\"histogram2dcontour\",\"colorbar\":{\"outlinewidth\":0,\"ticks\":\"\"},\"colorscale\":[[0.0,\"#0d0887\"],[0.1111111111111111,\"#46039f\"],[0.2222222222222222,\"#7201a8\"],[0.3333333333333333,\"#9c179e\"],[0.4444444444444444,\"#bd3786\"],[0.5555555555555556,\"#d8576b\"],[0.6666666666666666,\"#ed7953\"],[0.7777777777777778,\"#fb9f3a\"],[0.8888888888888888,\"#fdca26\"],[1.0,\"#f0f921\"]]}],\"choropleth\":[{\"type\":\"choropleth\",\"colorbar\":{\"outlinewidth\":0,\"ticks\":\"\"}}],\"histogram2d\":[{\"type\":\"histogram2d\",\"colorbar\":{\"outlinewidth\":0,\"ticks\":\"\"},\"colorscale\":[[0.0,\"#0d0887\"],[0.1111111111111111,\"#46039f\"],[0.2222222222222222,\"#7201a8\"],[0.3333333333333333,\"#9c179e\"],[0.4444444444444444,\"#bd3786\"],[0.5555555555555556,\"#d8576b\"],[0.6666666666666666,\"#ed7953\"],[0.7777777777777778,\"#fb9f3a\"],[0.8888888888888888,\"#fdca26\"],[1.0,\"#f0f921\"]]}],\"heatmap\":[{\"type\":\"heatmap\",\"colorbar\":{\"outlinewidth\":0,\"ticks\":\"\"},\"colorscale\":[[0.0,\"#0d0887\"],[0.1111111111111111,\"#46039f\"],[0.2222222222222222,\"#7201a8\"],[0.3333333333333333,\"#9c179e\"],[0.4444444444444444,\"#bd3786\"],[0.5555555555555556,\"#d8576b\"],[0.6666666666666666,\"#ed7953\"],[0.7777777777777778,\"#fb9f3a\"],[0.8888888888888888,\"#fdca26\"],[1.0,\"#f0f921\"]]}],\"heatmapgl\":[{\"type\":\"heatmapgl\",\"colorbar\":{\"outlinewidth\":0,\"ticks\":\"\"},\"colorscale\":[[0.0,\"#0d0887\"],[0.1111111111111111,\"#46039f\"],[0.2222222222222222,\"#7201a8\"],[0.3333333333333333,\"#9c179e\"],[0.4444444444444444,\"#bd3786\"],[0.5555555555555556,\"#d8576b\"],[0.6666666666666666,\"#ed7953\"],[0.7777777777777778,\"#fb9f3a\"],[0.8888888888888888,\"#fdca26\"],[1.0,\"#f0f921\"]]}],\"contourcarpet\":[{\"type\":\"contourcarpet\",\"colorbar\":{\"outlinewidth\":0,\"ticks\":\"\"}}],\"contour\":[{\"type\":\"contour\",\"colorbar\":{\"outlinewidth\":0,\"ticks\":\"\"},\"colorscale\":[[0.0,\"#0d0887\"],[0.1111111111111111,\"#46039f\"],[0.2222222222222222,\"#7201a8\"],[0.3333333333333333,\"#9c179e\"],[0.4444444444444444,\"#bd3786\"],[0.5555555555555556,\"#d8576b\"],[0.6666666666666666,\"#ed7953\"],[0.7777777777777778,\"#fb9f3a\"],[0.8888888888888888,\"#fdca26\"],[1.0,\"#f0f921\"]]}],\"surface\":[{\"type\":\"surface\",\"colorbar\":{\"outlinewidth\":0,\"ticks\":\"\"},\"colorscale\":[[0.0,\"#0d0887\"],[0.1111111111111111,\"#46039f\"],[0.2222222222222222,\"#7201a8\"],[0.3333333333333333,\"#9c179e\"],[0.4444444444444444,\"#bd3786\"],[0.5555555555555556,\"#d8576b\"],[0.6666666666666666,\"#ed7953\"],[0.7777777777777778,\"#fb9f3a\"],[0.8888888888888888,\"#fdca26\"],[1.0,\"#f0f921\"]]}],\"mesh3d\":[{\"type\":\"mesh3d\",\"colorbar\":{\"outlinewidth\":0,\"ticks\":\"\"}}],\"scatter\":[{\"fillpattern\":{\"fillmode\":\"overlay\",\"size\":10,\"solidity\":0.2},\"type\":\"scatter\"}],\"parcoords\":[{\"type\":\"parcoords\",\"line\":{\"colorbar\":{\"outlinewidth\":0,\"ticks\":\"\"}}}],\"scatterpolargl\":[{\"type\":\"scatterpolargl\",\"marker\":{\"colorbar\":{\"outlinewidth\":0,\"ticks\":\"\"}}}],\"bar\":[{\"error_x\":{\"color\":\"#2a3f5f\"},\"error_y\":{\"color\":\"#2a3f5f\"},\"marker\":{\"line\":{\"color\":\"#E5ECF6\",\"width\":0.5},\"pattern\":{\"fillmode\":\"overlay\",\"size\":10,\"solidity\":0.2}},\"type\":\"bar\"}],\"scattergeo\":[{\"type\":\"scattergeo\",\"marker\":{\"colorbar\":{\"outlinewidth\":0,\"ticks\":\"\"}}}],\"scatterpolar\":[{\"type\":\"scatterpolar\",\"marker\":{\"colorbar\":{\"outlinewidth\":0,\"ticks\":\"\"}}}],\"histogram\":[{\"marker\":{\"pattern\":{\"fillmode\":\"overlay\",\"size\":10,\"solidity\":0.2}},\"type\":\"histogram\"}],\"scattergl\":[{\"type\":\"scattergl\",\"marker\":{\"colorbar\":{\"outlinewidth\":0,\"ticks\":\"\"}}}],\"scatter3d\":[{\"type\":\"scatter3d\",\"line\":{\"colorbar\":{\"outlinewidth\":0,\"ticks\":\"\"}},\"marker\":{\"colorbar\":{\"outlinewidth\":0,\"ticks\":\"\"}}}],\"scattermapbox\":[{\"type\":\"scattermapbox\",\"marker\":{\"colorbar\":{\"outlinewidth\":0,\"ticks\":\"\"}}}],\"scatterternary\":[{\"type\":\"scatterternary\",\"marker\":{\"colorbar\":{\"outlinewidth\":0,\"ticks\":\"\"}}}],\"scattercarpet\":[{\"type\":\"scattercarpet\",\"marker\":{\"colorbar\":{\"outlinewidth\":0,\"ticks\":\"\"}}}],\"carpet\":[{\"aaxis\":{\"endlinecolor\":\"#2a3f5f\",\"gridcolor\":\"white\",\"linecolor\":\"white\",\"minorgridcolor\":\"white\",\"startlinecolor\":\"#2a3f5f\"},\"baxis\":{\"endlinecolor\":\"#2a3f5f\",\"gridcolor\":\"white\",\"linecolor\":\"white\",\"minorgridcolor\":\"white\",\"startlinecolor\":\"#2a3f5f\"},\"type\":\"carpet\"}],\"table\":[{\"cells\":{\"fill\":{\"color\":\"#EBF0F8\"},\"line\":{\"color\":\"white\"}},\"header\":{\"fill\":{\"color\":\"#C8D4E3\"},\"line\":{\"color\":\"white\"}},\"type\":\"table\"}],\"barpolar\":[{\"marker\":{\"line\":{\"color\":\"#E5ECF6\",\"width\":0.5},\"pattern\":{\"fillmode\":\"overlay\",\"size\":10,\"solidity\":0.2}},\"type\":\"barpolar\"}],\"pie\":[{\"automargin\":true,\"type\":\"pie\"}]},\"layout\":{\"autotypenumbers\":\"strict\",\"colorway\":[\"#636efa\",\"#EF553B\",\"#00cc96\",\"#ab63fa\",\"#FFA15A\",\"#19d3f3\",\"#FF6692\",\"#B6E880\",\"#FF97FF\",\"#FECB52\"],\"font\":{\"color\":\"#2a3f5f\"},\"hovermode\":\"closest\",\"hoverlabel\":{\"align\":\"left\"},\"paper_bgcolor\":\"white\",\"plot_bgcolor\":\"#E5ECF6\",\"polar\":{\"bgcolor\":\"#E5ECF6\",\"angularaxis\":{\"gridcolor\":\"white\",\"linecolor\":\"white\",\"ticks\":\"\"},\"radialaxis\":{\"gridcolor\":\"white\",\"linecolor\":\"white\",\"ticks\":\"\"}},\"ternary\":{\"bgcolor\":\"#E5ECF6\",\"aaxis\":{\"gridcolor\":\"white\",\"linecolor\":\"white\",\"ticks\":\"\"},\"baxis\":{\"gridcolor\":\"white\",\"linecolor\":\"white\",\"ticks\":\"\"},\"caxis\":{\"gridcolor\":\"white\",\"linecolor\":\"white\",\"ticks\":\"\"}},\"coloraxis\":{\"colorbar\":{\"outlinewidth\":0,\"ticks\":\"\"}},\"colorscale\":{\"sequential\":[[0.0,\"#0d0887\"],[0.1111111111111111,\"#46039f\"],[0.2222222222222222,\"#7201a8\"],[0.3333333333333333,\"#9c179e\"],[0.4444444444444444,\"#bd3786\"],[0.5555555555555556,\"#d8576b\"],[0.6666666666666666,\"#ed7953\"],[0.7777777777777778,\"#fb9f3a\"],[0.8888888888888888,\"#fdca26\"],[1.0,\"#f0f921\"]],\"sequentialminus\":[[0.0,\"#0d0887\"],[0.1111111111111111,\"#46039f\"],[0.2222222222222222,\"#7201a8\"],[0.3333333333333333,\"#9c179e\"],[0.4444444444444444,\"#bd3786\"],[0.5555555555555556,\"#d8576b\"],[0.6666666666666666,\"#ed7953\"],[0.7777777777777778,\"#fb9f3a\"],[0.8888888888888888,\"#fdca26\"],[1.0,\"#f0f921\"]],\"diverging\":[[0,\"#8e0152\"],[0.1,\"#c51b7d\"],[0.2,\"#de77ae\"],[0.3,\"#f1b6da\"],[0.4,\"#fde0ef\"],[0.5,\"#f7f7f7\"],[0.6,\"#e6f5d0\"],[0.7,\"#b8e186\"],[0.8,\"#7fbc41\"],[0.9,\"#4d9221\"],[1,\"#276419\"]]},\"xaxis\":{\"gridcolor\":\"white\",\"linecolor\":\"white\",\"ticks\":\"\",\"title\":{\"standoff\":15},\"zerolinecolor\":\"white\",\"automargin\":true,\"zerolinewidth\":2},\"yaxis\":{\"gridcolor\":\"white\",\"linecolor\":\"white\",\"ticks\":\"\",\"title\":{\"standoff\":15},\"zerolinecolor\":\"white\",\"automargin\":true,\"zerolinewidth\":2},\"scene\":{\"xaxis\":{\"backgroundcolor\":\"#E5ECF6\",\"gridcolor\":\"white\",\"linecolor\":\"white\",\"showbackground\":true,\"ticks\":\"\",\"zerolinecolor\":\"white\",\"gridwidth\":2},\"yaxis\":{\"backgroundcolor\":\"#E5ECF6\",\"gridcolor\":\"white\",\"linecolor\":\"white\",\"showbackground\":true,\"ticks\":\"\",\"zerolinecolor\":\"white\",\"gridwidth\":2},\"zaxis\":{\"backgroundcolor\":\"#E5ECF6\",\"gridcolor\":\"white\",\"linecolor\":\"white\",\"showbackground\":true,\"ticks\":\"\",\"zerolinecolor\":\"white\",\"gridwidth\":2}},\"shapedefaults\":{\"line\":{\"color\":\"#2a3f5f\"}},\"annotationdefaults\":{\"arrowcolor\":\"#2a3f5f\",\"arrowhead\":0,\"arrowwidth\":1},\"geo\":{\"bgcolor\":\"white\",\"landcolor\":\"#E5ECF6\",\"subunitcolor\":\"white\",\"showland\":true,\"showlakes\":true,\"lakecolor\":\"white\"},\"title\":{\"x\":0.05},\"mapbox\":{\"style\":\"light\"}}},\"xaxis\":{\"anchor\":\"y\",\"domain\":[0.0,0.3],\"tickvals\":[\"Yes\",\"No\"],\"ticktext\":[\"Yes\",\"No\"],\"categoryorder\":\"array\",\"categoryarray\":[\"Yes\",\"No\"],\"showline\":true,\"linewidth\":2,\"linecolor\":\"grey\",\"mirror\":true},\"yaxis\":{\"anchor\":\"x\",\"domain\":[0.0,1.0],\"title\":{\"text\":\"Proportion of Images (%)\"},\"showline\":true,\"linewidth\":2,\"linecolor\":\"grey\",\"mirror\":true},\"xaxis2\":{\"anchor\":\"y2\",\"domain\":[0.35,0.6499999999999999],\"tickvals\":[\"Yes\",\"No\"],\"ticktext\":[\"Yes\",\"No\"],\"categoryorder\":\"array\",\"categoryarray\":[\"Yes\",\"No\"],\"showline\":true,\"linewidth\":2,\"linecolor\":\"grey\",\"mirror\":true},\"yaxis2\":{\"anchor\":\"x2\",\"domain\":[0.0,1.0],\"matches\":\"y\",\"showticklabels\":false,\"showline\":true,\"linewidth\":2,\"linecolor\":\"grey\",\"mirror\":true},\"xaxis3\":{\"anchor\":\"y3\",\"domain\":[0.7,1.0],\"tickvals\":[\"Yes\",\"No\"],\"ticktext\":[\"Yes\",\"No\"],\"categoryorder\":\"array\",\"categoryarray\":[\"Yes\",\"No\"],\"showline\":true,\"linewidth\":2,\"linecolor\":\"grey\",\"mirror\":true},\"yaxis3\":{\"anchor\":\"x3\",\"domain\":[0.0,1.0],\"matches\":\"y\",\"showticklabels\":false,\"showline\":true,\"linewidth\":2,\"linecolor\":\"grey\",\"mirror\":true},\"annotations\":[{\"font\":{\"size\":16},\"showarrow\":false,\"text\":\"Dall-E 3\",\"x\":0.15,\"xanchor\":\"center\",\"xref\":\"paper\",\"y\":1.0,\"yanchor\":\"bottom\",\"yref\":\"paper\"},{\"font\":{\"size\":16},\"showarrow\":false,\"text\":\"Stable Diffusion 2.1\",\"x\":0.49999999999999994,\"xanchor\":\"center\",\"xref\":\"paper\",\"y\":1.0,\"yanchor\":\"bottom\",\"yref\":\"paper\"},{\"font\":{\"size\":16},\"showarrow\":false,\"text\":\"Dall-E 2\",\"x\":0.85,\"xanchor\":\"center\",\"xref\":\"paper\",\"y\":1.0,\"yanchor\":\"bottom\",\"yref\":\"paper\"}],\"legend\":{\"title\":{\"text\":\"Country\"},\"orientation\":\"v\",\"yanchor\":\"top\",\"y\":1,\"xanchor\":\"right\",\"x\":1.15,\"itemwidth\":30,\"itemsizing\":\"constant\",\"traceorder\":\"normal\",\"bordercolor\":\"grey\",\"borderwidth\":1},\"title\":{\"font\":{\"family\":\"Helvetica Neue\",\"size\":18,\"color\":\"black\"},\"text\":\"Is the dish placed on a table?\",\"y\":0.9,\"x\":0.5,\"xanchor\":\"center\",\"yanchor\":\"top\"},\"font\":{\"family\":\"Helvetica Neue\",\"size\":12},\"plot_bgcolor\":\"white\",\"barmode\":\"group\",\"width\":1200,\"height\":400},                        {\"responsive\": true}                    ).then(function(){\n",
       "                            \n",
       "var gd = document.getElementById('daf8c622-2d3c-456c-b009-0aef2bc78f27');\n",
       "var x = new MutationObserver(function (mutations, observer) {{\n",
       "        var display = window.getComputedStyle(gd).display;\n",
       "        if (!display || display === 'none') {{\n",
       "            console.log([gd, 'removed!']);\n",
       "            Plotly.purge(gd);\n",
       "            observer.disconnect();\n",
       "        }}\n",
       "}});\n",
       "\n",
       "// Listen for the removal of the full notebook cells\n",
       "var notebookContainer = gd.closest('#notebook-container');\n",
       "if (notebookContainer) {{\n",
       "    x.observe(notebookContainer, {childList: true});\n",
       "}}\n",
       "\n",
       "// Listen for the clearing of the current output cell\n",
       "var outputEl = gd.closest('.output');\n",
       "if (outputEl) {{\n",
       "    x.observe(outputEl, {childList: true});\n",
       "}}\n",
       "\n",
       "                        })                };                });            </script>        </div>"
      ]
     },
     "metadata": {},
     "output_type": "display_data"
    },
    {
     "data": {
      "application/vnd.plotly.v1+json": {
       "config": {
        "plotlyServerURL": "https://plot.ly"
       },
       "data": [
        {
         "legendgroup": "Algeria",
         "marker": {
          "color": "#41cc96"
         },
         "name": "Algeria",
         "showlegend": true,
         "type": "bar",
         "x": [
          "Ceramic",
          "Glass",
          "Metal",
          "Plastic",
          "Wood",
          "Paper",
          "Clay"
         ],
         "xaxis": "x",
         "y": [
          76.66666666666667,
          0,
          13.333333333333334,
          0,
          8.666666666666668,
          0.6666666666666667,
          0.6666666666666667
         ],
         "yaxis": "y"
        },
        {
         "legendgroup": "Nigeria",
         "marker": {
          "color": "#ef563b"
         },
         "name": "Nigeria",
         "showlegend": true,
         "type": "bar",
         "x": [
          "Ceramic",
          "Glass",
          "Metal",
          "Plastic",
          "Wood",
          "Paper",
          "Clay"
         ],
         "xaxis": "x",
         "y": [
          71.33333333333334,
          0,
          8.666666666666668,
          0,
          18.666666666666668,
          0,
          1.3333333333333335
         ],
         "yaxis": "y"
        },
        {
         "legendgroup": "South Africa",
         "marker": {
          "color": "#f7a15b"
         },
         "name": "South Africa",
         "showlegend": true,
         "type": "bar",
         "x": [
          "Ceramic",
          "Glass",
          "Metal",
          "Plastic",
          "Wood",
          "Paper",
          "Clay"
         ],
         "xaxis": "x",
         "y": [
          61.33333333333333,
          0.6666666666666667,
          21.333333333333336,
          0.6666666666666667,
          13.333333333333334,
          0.6666666666666667,
          2
         ],
         "yaxis": "y"
        },
        {
         "legendgroup": "United States",
         "marker": {
          "color": "#47d3f3"
         },
         "name": "United States",
         "showlegend": true,
         "type": "bar",
         "x": [
          "Ceramic",
          "Glass",
          "Metal",
          "Plastic",
          "Wood",
          "Paper",
          "Clay"
         ],
         "xaxis": "x",
         "y": [
          42,
          10,
          27.333333333333332,
          2.666666666666667,
          14.666666666666666,
          3.3333333333333335,
          0
         ],
         "yaxis": "y"
        },
        {
         "legendgroup": "Kenya",
         "marker": {
          "color": "#636efb"
         },
         "name": "Kenya",
         "showlegend": true,
         "type": "bar",
         "x": [
          "Ceramic",
          "Glass",
          "Metal",
          "Plastic",
          "Wood",
          "Paper",
          "Clay"
         ],
         "xaxis": "x",
         "y": [
          60.76923076923077,
          0.7692307692307693,
          14.615384615384617,
          0,
          23.076923076923077,
          0,
          0.7692307692307693
         ],
         "yaxis": "y"
        },
        {
         "legendgroup": "Cameroon",
         "marker": {
          "color": "#ab63fb"
         },
         "name": "Cameroon",
         "showlegend": true,
         "type": "bar",
         "x": [
          "Ceramic",
          "Glass",
          "Metal",
          "Plastic",
          "Wood",
          "Paper",
          "Clay"
         ],
         "xaxis": "x",
         "y": [
          55.333333333333336,
          0,
          14.666666666666666,
          0.6666666666666667,
          24.666666666666668,
          0.6666666666666667,
          4
         ],
         "yaxis": "y"
        },
        {
         "legendgroup": "Algeria",
         "marker": {
          "color": "#41cc96"
         },
         "name": "Algeria",
         "showlegend": false,
         "type": "bar",
         "x": [
          "Ceramic",
          "Glass",
          "Metal",
          "Plastic",
          "Wood",
          "Paper",
          "Clay"
         ],
         "xaxis": "x2",
         "y": [
          61.33333333333333,
          14.666666666666666,
          4.666666666666667,
          12,
          0.6666666666666667,
          6.666666666666667,
          0
         ],
         "yaxis": "y2"
        },
        {
         "legendgroup": "Nigeria",
         "marker": {
          "color": "#ef563b"
         },
         "name": "Nigeria",
         "showlegend": false,
         "type": "bar",
         "x": [
          "Ceramic",
          "Glass",
          "Metal",
          "Plastic",
          "Wood",
          "Paper",
          "Clay"
         ],
         "xaxis": "x2",
         "y": [
          54,
          10,
          8.666666666666668,
          22,
          0.6666666666666667,
          4.666666666666667,
          0
         ],
         "yaxis": "y2"
        },
        {
         "legendgroup": "South Africa",
         "marker": {
          "color": "#f7a15b"
         },
         "name": "South Africa",
         "showlegend": false,
         "type": "bar",
         "x": [
          "Ceramic",
          "Glass",
          "Metal",
          "Plastic",
          "Wood",
          "Paper",
          "Clay"
         ],
         "xaxis": "x2",
         "y": [
          56.666666666666664,
          11.333333333333332,
          10.666666666666668,
          13.333333333333334,
          2,
          6,
          0
         ],
         "yaxis": "y2"
        },
        {
         "legendgroup": "United States",
         "marker": {
          "color": "#47d3f3"
         },
         "name": "United States",
         "showlegend": false,
         "type": "bar",
         "x": [
          "Ceramic",
          "Glass",
          "Metal",
          "Plastic",
          "Wood",
          "Paper",
          "Clay"
         ],
         "xaxis": "x2",
         "y": [
          42.66666666666667,
          24,
          12.666666666666668,
          13.333333333333334,
          1.3333333333333335,
          6,
          0
         ],
         "yaxis": "y2"
        },
        {
         "legendgroup": "Kenya",
         "marker": {
          "color": "#636efb"
         },
         "name": "Kenya",
         "showlegend": false,
         "type": "bar",
         "x": [
          "Ceramic",
          "Glass",
          "Metal",
          "Plastic",
          "Wood",
          "Paper",
          "Clay"
         ],
         "xaxis": "x2",
         "y": [
          60.273972602739725,
          13.013698630136986,
          8.21917808219178,
          16.43835616438356,
          0,
          2.054794520547945,
          0
         ],
         "yaxis": "y2"
        },
        {
         "legendgroup": "Cameroon",
         "marker": {
          "color": "#ab63fb"
         },
         "name": "Cameroon",
         "showlegend": false,
         "type": "bar",
         "x": [
          "Ceramic",
          "Glass",
          "Metal",
          "Plastic",
          "Wood",
          "Paper",
          "Clay"
         ],
         "xaxis": "x2",
         "y": [
          63.74999999999999,
          10,
          5.625,
          15,
          0.625,
          5,
          0
         ],
         "yaxis": "y2"
        },
        {
         "legendgroup": "Algeria",
         "marker": {
          "color": "#41cc96"
         },
         "name": "Algeria",
         "showlegend": false,
         "type": "bar",
         "x": [
          "Ceramic",
          "Glass",
          "Metal",
          "Plastic",
          "Wood",
          "Paper",
          "Clay"
         ],
         "xaxis": "x3",
         "y": [
          67.33333333333333,
          9.333333333333334,
          9.333333333333334,
          1.3333333333333335,
          4.666666666666667,
          4,
          4
         ],
         "yaxis": "y3"
        },
        {
         "legendgroup": "Nigeria",
         "marker": {
          "color": "#ef563b"
         },
         "name": "Nigeria",
         "showlegend": false,
         "type": "bar",
         "x": [
          "Ceramic",
          "Glass",
          "Metal",
          "Plastic",
          "Wood",
          "Paper",
          "Clay"
         ],
         "xaxis": "x3",
         "y": [
          0,
          0,
          0,
          0,
          0,
          0,
          0
         ],
         "yaxis": "y3"
        },
        {
         "legendgroup": "South Africa",
         "marker": {
          "color": "#f7a15b"
         },
         "name": "South Africa",
         "showlegend": false,
         "type": "bar",
         "x": [
          "Ceramic",
          "Glass",
          "Metal",
          "Plastic",
          "Wood",
          "Paper",
          "Clay"
         ],
         "xaxis": "x3",
         "y": [
          45.39473684210527,
          4.605263157894736,
          11.18421052631579,
          3.289473684210526,
          24.342105263157894,
          2.631578947368421,
          8.552631578947368
         ],
         "yaxis": "y3"
        },
        {
         "legendgroup": "United States",
         "marker": {
          "color": "#47d3f3"
         },
         "name": "United States",
         "showlegend": false,
         "type": "bar",
         "x": [
          "Ceramic",
          "Glass",
          "Metal",
          "Plastic",
          "Wood",
          "Paper",
          "Clay"
         ],
         "xaxis": "x3",
         "y": [
          38.666666666666664,
          9.333333333333334,
          13.333333333333334,
          11.333333333333332,
          24,
          3.3333333333333335,
          0
         ],
         "yaxis": "y3"
        },
        {
         "legendgroup": "Kenya",
         "marker": {
          "color": "#636efb"
         },
         "name": "Kenya",
         "showlegend": false,
         "type": "bar",
         "x": [
          "Ceramic",
          "Glass",
          "Metal",
          "Plastic",
          "Wood",
          "Paper",
          "Clay"
         ],
         "xaxis": "x3",
         "y": [
          59.23076923076923,
          5.384615384615385,
          20,
          7.6923076923076925,
          5.384615384615385,
          1.5384615384615385,
          0.7692307692307693
         ],
         "yaxis": "y3"
        },
        {
         "legendgroup": "Cameroon",
         "marker": {
          "color": "#ab63fb"
         },
         "name": "Cameroon",
         "showlegend": false,
         "type": "bar",
         "x": [
          "Ceramic",
          "Glass",
          "Metal",
          "Plastic",
          "Wood",
          "Paper",
          "Clay"
         ],
         "xaxis": "x3",
         "y": [
          67.58620689655173,
          4.827586206896552,
          12.413793103448276,
          8.275862068965518,
          2.0689655172413794,
          2.0689655172413794,
          2.7586206896551726
         ],
         "yaxis": "y3"
        }
       ],
       "layout": {
        "annotations": [
         {
          "font": {
           "size": 16
          },
          "showarrow": false,
          "text": "Dall-E 3",
          "x": 0.15,
          "xanchor": "center",
          "xref": "paper",
          "y": 1,
          "yanchor": "bottom",
          "yref": "paper"
         },
         {
          "font": {
           "size": 16
          },
          "showarrow": false,
          "text": "Stable Diffusion 2.1",
          "x": 0.49999999999999994,
          "xanchor": "center",
          "xref": "paper",
          "y": 1,
          "yanchor": "bottom",
          "yref": "paper"
         },
         {
          "font": {
           "size": 16
          },
          "showarrow": false,
          "text": "Dall-E 2",
          "x": 0.85,
          "xanchor": "center",
          "xref": "paper",
          "y": 1,
          "yanchor": "bottom",
          "yref": "paper"
         }
        ],
        "barmode": "group",
        "font": {
         "family": "Helvetica Neue",
         "size": 12
        },
        "height": 400,
        "legend": {
         "bordercolor": "grey",
         "borderwidth": 1,
         "itemsizing": "constant",
         "itemwidth": 30,
         "orientation": "v",
         "title": {
          "text": "Country"
         },
         "traceorder": "normal",
         "x": 1.15,
         "xanchor": "right",
         "y": 1,
         "yanchor": "top"
        },
        "plot_bgcolor": "white",
        "template": {
         "data": {
          "bar": [
           {
            "error_x": {
             "color": "#2a3f5f"
            },
            "error_y": {
             "color": "#2a3f5f"
            },
            "marker": {
             "line": {
              "color": "#E5ECF6",
              "width": 0.5
             },
             "pattern": {
              "fillmode": "overlay",
              "size": 10,
              "solidity": 0.2
             }
            },
            "type": "bar"
           }
          ],
          "barpolar": [
           {
            "marker": {
             "line": {
              "color": "#E5ECF6",
              "width": 0.5
             },
             "pattern": {
              "fillmode": "overlay",
              "size": 10,
              "solidity": 0.2
             }
            },
            "type": "barpolar"
           }
          ],
          "carpet": [
           {
            "aaxis": {
             "endlinecolor": "#2a3f5f",
             "gridcolor": "white",
             "linecolor": "white",
             "minorgridcolor": "white",
             "startlinecolor": "#2a3f5f"
            },
            "baxis": {
             "endlinecolor": "#2a3f5f",
             "gridcolor": "white",
             "linecolor": "white",
             "minorgridcolor": "white",
             "startlinecolor": "#2a3f5f"
            },
            "type": "carpet"
           }
          ],
          "choropleth": [
           {
            "colorbar": {
             "outlinewidth": 0,
             "ticks": ""
            },
            "type": "choropleth"
           }
          ],
          "contour": [
           {
            "colorbar": {
             "outlinewidth": 0,
             "ticks": ""
            },
            "colorscale": [
             [
              0,
              "#0d0887"
             ],
             [
              0.1111111111111111,
              "#46039f"
             ],
             [
              0.2222222222222222,
              "#7201a8"
             ],
             [
              0.3333333333333333,
              "#9c179e"
             ],
             [
              0.4444444444444444,
              "#bd3786"
             ],
             [
              0.5555555555555556,
              "#d8576b"
             ],
             [
              0.6666666666666666,
              "#ed7953"
             ],
             [
              0.7777777777777778,
              "#fb9f3a"
             ],
             [
              0.8888888888888888,
              "#fdca26"
             ],
             [
              1,
              "#f0f921"
             ]
            ],
            "type": "contour"
           }
          ],
          "contourcarpet": [
           {
            "colorbar": {
             "outlinewidth": 0,
             "ticks": ""
            },
            "type": "contourcarpet"
           }
          ],
          "heatmap": [
           {
            "colorbar": {
             "outlinewidth": 0,
             "ticks": ""
            },
            "colorscale": [
             [
              0,
              "#0d0887"
             ],
             [
              0.1111111111111111,
              "#46039f"
             ],
             [
              0.2222222222222222,
              "#7201a8"
             ],
             [
              0.3333333333333333,
              "#9c179e"
             ],
             [
              0.4444444444444444,
              "#bd3786"
             ],
             [
              0.5555555555555556,
              "#d8576b"
             ],
             [
              0.6666666666666666,
              "#ed7953"
             ],
             [
              0.7777777777777778,
              "#fb9f3a"
             ],
             [
              0.8888888888888888,
              "#fdca26"
             ],
             [
              1,
              "#f0f921"
             ]
            ],
            "type": "heatmap"
           }
          ],
          "heatmapgl": [
           {
            "colorbar": {
             "outlinewidth": 0,
             "ticks": ""
            },
            "colorscale": [
             [
              0,
              "#0d0887"
             ],
             [
              0.1111111111111111,
              "#46039f"
             ],
             [
              0.2222222222222222,
              "#7201a8"
             ],
             [
              0.3333333333333333,
              "#9c179e"
             ],
             [
              0.4444444444444444,
              "#bd3786"
             ],
             [
              0.5555555555555556,
              "#d8576b"
             ],
             [
              0.6666666666666666,
              "#ed7953"
             ],
             [
              0.7777777777777778,
              "#fb9f3a"
             ],
             [
              0.8888888888888888,
              "#fdca26"
             ],
             [
              1,
              "#f0f921"
             ]
            ],
            "type": "heatmapgl"
           }
          ],
          "histogram": [
           {
            "marker": {
             "pattern": {
              "fillmode": "overlay",
              "size": 10,
              "solidity": 0.2
             }
            },
            "type": "histogram"
           }
          ],
          "histogram2d": [
           {
            "colorbar": {
             "outlinewidth": 0,
             "ticks": ""
            },
            "colorscale": [
             [
              0,
              "#0d0887"
             ],
             [
              0.1111111111111111,
              "#46039f"
             ],
             [
              0.2222222222222222,
              "#7201a8"
             ],
             [
              0.3333333333333333,
              "#9c179e"
             ],
             [
              0.4444444444444444,
              "#bd3786"
             ],
             [
              0.5555555555555556,
              "#d8576b"
             ],
             [
              0.6666666666666666,
              "#ed7953"
             ],
             [
              0.7777777777777778,
              "#fb9f3a"
             ],
             [
              0.8888888888888888,
              "#fdca26"
             ],
             [
              1,
              "#f0f921"
             ]
            ],
            "type": "histogram2d"
           }
          ],
          "histogram2dcontour": [
           {
            "colorbar": {
             "outlinewidth": 0,
             "ticks": ""
            },
            "colorscale": [
             [
              0,
              "#0d0887"
             ],
             [
              0.1111111111111111,
              "#46039f"
             ],
             [
              0.2222222222222222,
              "#7201a8"
             ],
             [
              0.3333333333333333,
              "#9c179e"
             ],
             [
              0.4444444444444444,
              "#bd3786"
             ],
             [
              0.5555555555555556,
              "#d8576b"
             ],
             [
              0.6666666666666666,
              "#ed7953"
             ],
             [
              0.7777777777777778,
              "#fb9f3a"
             ],
             [
              0.8888888888888888,
              "#fdca26"
             ],
             [
              1,
              "#f0f921"
             ]
            ],
            "type": "histogram2dcontour"
           }
          ],
          "mesh3d": [
           {
            "colorbar": {
             "outlinewidth": 0,
             "ticks": ""
            },
            "type": "mesh3d"
           }
          ],
          "parcoords": [
           {
            "line": {
             "colorbar": {
              "outlinewidth": 0,
              "ticks": ""
             }
            },
            "type": "parcoords"
           }
          ],
          "pie": [
           {
            "automargin": true,
            "type": "pie"
           }
          ],
          "scatter": [
           {
            "fillpattern": {
             "fillmode": "overlay",
             "size": 10,
             "solidity": 0.2
            },
            "type": "scatter"
           }
          ],
          "scatter3d": [
           {
            "line": {
             "colorbar": {
              "outlinewidth": 0,
              "ticks": ""
             }
            },
            "marker": {
             "colorbar": {
              "outlinewidth": 0,
              "ticks": ""
             }
            },
            "type": "scatter3d"
           }
          ],
          "scattercarpet": [
           {
            "marker": {
             "colorbar": {
              "outlinewidth": 0,
              "ticks": ""
             }
            },
            "type": "scattercarpet"
           }
          ],
          "scattergeo": [
           {
            "marker": {
             "colorbar": {
              "outlinewidth": 0,
              "ticks": ""
             }
            },
            "type": "scattergeo"
           }
          ],
          "scattergl": [
           {
            "marker": {
             "colorbar": {
              "outlinewidth": 0,
              "ticks": ""
             }
            },
            "type": "scattergl"
           }
          ],
          "scattermapbox": [
           {
            "marker": {
             "colorbar": {
              "outlinewidth": 0,
              "ticks": ""
             }
            },
            "type": "scattermapbox"
           }
          ],
          "scatterpolar": [
           {
            "marker": {
             "colorbar": {
              "outlinewidth": 0,
              "ticks": ""
             }
            },
            "type": "scatterpolar"
           }
          ],
          "scatterpolargl": [
           {
            "marker": {
             "colorbar": {
              "outlinewidth": 0,
              "ticks": ""
             }
            },
            "type": "scatterpolargl"
           }
          ],
          "scatterternary": [
           {
            "marker": {
             "colorbar": {
              "outlinewidth": 0,
              "ticks": ""
             }
            },
            "type": "scatterternary"
           }
          ],
          "surface": [
           {
            "colorbar": {
             "outlinewidth": 0,
             "ticks": ""
            },
            "colorscale": [
             [
              0,
              "#0d0887"
             ],
             [
              0.1111111111111111,
              "#46039f"
             ],
             [
              0.2222222222222222,
              "#7201a8"
             ],
             [
              0.3333333333333333,
              "#9c179e"
             ],
             [
              0.4444444444444444,
              "#bd3786"
             ],
             [
              0.5555555555555556,
              "#d8576b"
             ],
             [
              0.6666666666666666,
              "#ed7953"
             ],
             [
              0.7777777777777778,
              "#fb9f3a"
             ],
             [
              0.8888888888888888,
              "#fdca26"
             ],
             [
              1,
              "#f0f921"
             ]
            ],
            "type": "surface"
           }
          ],
          "table": [
           {
            "cells": {
             "fill": {
              "color": "#EBF0F8"
             },
             "line": {
              "color": "white"
             }
            },
            "header": {
             "fill": {
              "color": "#C8D4E3"
             },
             "line": {
              "color": "white"
             }
            },
            "type": "table"
           }
          ]
         },
         "layout": {
          "annotationdefaults": {
           "arrowcolor": "#2a3f5f",
           "arrowhead": 0,
           "arrowwidth": 1
          },
          "autotypenumbers": "strict",
          "coloraxis": {
           "colorbar": {
            "outlinewidth": 0,
            "ticks": ""
           }
          },
          "colorscale": {
           "diverging": [
            [
             0,
             "#8e0152"
            ],
            [
             0.1,
             "#c51b7d"
            ],
            [
             0.2,
             "#de77ae"
            ],
            [
             0.3,
             "#f1b6da"
            ],
            [
             0.4,
             "#fde0ef"
            ],
            [
             0.5,
             "#f7f7f7"
            ],
            [
             0.6,
             "#e6f5d0"
            ],
            [
             0.7,
             "#b8e186"
            ],
            [
             0.8,
             "#7fbc41"
            ],
            [
             0.9,
             "#4d9221"
            ],
            [
             1,
             "#276419"
            ]
           ],
           "sequential": [
            [
             0,
             "#0d0887"
            ],
            [
             0.1111111111111111,
             "#46039f"
            ],
            [
             0.2222222222222222,
             "#7201a8"
            ],
            [
             0.3333333333333333,
             "#9c179e"
            ],
            [
             0.4444444444444444,
             "#bd3786"
            ],
            [
             0.5555555555555556,
             "#d8576b"
            ],
            [
             0.6666666666666666,
             "#ed7953"
            ],
            [
             0.7777777777777778,
             "#fb9f3a"
            ],
            [
             0.8888888888888888,
             "#fdca26"
            ],
            [
             1,
             "#f0f921"
            ]
           ],
           "sequentialminus": [
            [
             0,
             "#0d0887"
            ],
            [
             0.1111111111111111,
             "#46039f"
            ],
            [
             0.2222222222222222,
             "#7201a8"
            ],
            [
             0.3333333333333333,
             "#9c179e"
            ],
            [
             0.4444444444444444,
             "#bd3786"
            ],
            [
             0.5555555555555556,
             "#d8576b"
            ],
            [
             0.6666666666666666,
             "#ed7953"
            ],
            [
             0.7777777777777778,
             "#fb9f3a"
            ],
            [
             0.8888888888888888,
             "#fdca26"
            ],
            [
             1,
             "#f0f921"
            ]
           ]
          },
          "colorway": [
           "#636efa",
           "#EF553B",
           "#00cc96",
           "#ab63fa",
           "#FFA15A",
           "#19d3f3",
           "#FF6692",
           "#B6E880",
           "#FF97FF",
           "#FECB52"
          ],
          "font": {
           "color": "#2a3f5f"
          },
          "geo": {
           "bgcolor": "white",
           "lakecolor": "white",
           "landcolor": "#E5ECF6",
           "showlakes": true,
           "showland": true,
           "subunitcolor": "white"
          },
          "hoverlabel": {
           "align": "left"
          },
          "hovermode": "closest",
          "mapbox": {
           "style": "light"
          },
          "paper_bgcolor": "white",
          "plot_bgcolor": "#E5ECF6",
          "polar": {
           "angularaxis": {
            "gridcolor": "white",
            "linecolor": "white",
            "ticks": ""
           },
           "bgcolor": "#E5ECF6",
           "radialaxis": {
            "gridcolor": "white",
            "linecolor": "white",
            "ticks": ""
           }
          },
          "scene": {
           "xaxis": {
            "backgroundcolor": "#E5ECF6",
            "gridcolor": "white",
            "gridwidth": 2,
            "linecolor": "white",
            "showbackground": true,
            "ticks": "",
            "zerolinecolor": "white"
           },
           "yaxis": {
            "backgroundcolor": "#E5ECF6",
            "gridcolor": "white",
            "gridwidth": 2,
            "linecolor": "white",
            "showbackground": true,
            "ticks": "",
            "zerolinecolor": "white"
           },
           "zaxis": {
            "backgroundcolor": "#E5ECF6",
            "gridcolor": "white",
            "gridwidth": 2,
            "linecolor": "white",
            "showbackground": true,
            "ticks": "",
            "zerolinecolor": "white"
           }
          },
          "shapedefaults": {
           "line": {
            "color": "#2a3f5f"
           }
          },
          "ternary": {
           "aaxis": {
            "gridcolor": "white",
            "linecolor": "white",
            "ticks": ""
           },
           "baxis": {
            "gridcolor": "white",
            "linecolor": "white",
            "ticks": ""
           },
           "bgcolor": "#E5ECF6",
           "caxis": {
            "gridcolor": "white",
            "linecolor": "white",
            "ticks": ""
           }
          },
          "title": {
           "x": 0.05
          },
          "xaxis": {
           "automargin": true,
           "gridcolor": "white",
           "linecolor": "white",
           "ticks": "",
           "title": {
            "standoff": 15
           },
           "zerolinecolor": "white",
           "zerolinewidth": 2
          },
          "yaxis": {
           "automargin": true,
           "gridcolor": "white",
           "linecolor": "white",
           "ticks": "",
           "title": {
            "standoff": 15
           },
           "zerolinecolor": "white",
           "zerolinewidth": 2
          }
         }
        },
        "title": {
         "font": {
          "color": "black",
          "family": "Helvetica Neue",
          "size": 18
         },
         "text": "What material is the dish or plate in the image most likely made of?",
         "x": 0.5,
         "xanchor": "center",
         "y": 0.9,
         "yanchor": "top"
        },
        "width": 1200,
        "xaxis": {
         "anchor": "y",
         "categoryarray": [
          "Ceramic",
          "Glass",
          "Metal",
          "Plastic",
          "Wood",
          "Paper",
          "Clay"
         ],
         "categoryorder": "array",
         "domain": [
          0,
          0.3
         ],
         "linecolor": "grey",
         "linewidth": 2,
         "mirror": true,
         "showline": true,
         "ticktext": [
          "Ceramic",
          "Glass",
          "Metal",
          "Plastic",
          "Wood",
          "Paper",
          "Clay"
         ],
         "tickvals": [
          "Ceramic",
          "Glass",
          "Metal",
          "Plastic",
          "Wood",
          "Paper",
          "Clay"
         ]
        },
        "xaxis2": {
         "anchor": "y2",
         "categoryarray": [
          "Ceramic",
          "Glass",
          "Metal",
          "Plastic",
          "Wood",
          "Paper",
          "Clay"
         ],
         "categoryorder": "array",
         "domain": [
          0.35,
          0.6499999999999999
         ],
         "linecolor": "grey",
         "linewidth": 2,
         "mirror": true,
         "showline": true,
         "ticktext": [
          "Ceramic",
          "Glass",
          "Metal",
          "Plastic",
          "Wood",
          "Paper",
          "Clay"
         ],
         "tickvals": [
          "Ceramic",
          "Glass",
          "Metal",
          "Plastic",
          "Wood",
          "Paper",
          "Clay"
         ]
        },
        "xaxis3": {
         "anchor": "y3",
         "categoryarray": [
          "Ceramic",
          "Glass",
          "Metal",
          "Plastic",
          "Wood",
          "Paper",
          "Clay"
         ],
         "categoryorder": "array",
         "domain": [
          0.7,
          1
         ],
         "linecolor": "grey",
         "linewidth": 2,
         "mirror": true,
         "showline": true,
         "ticktext": [
          "Ceramic",
          "Glass",
          "Metal",
          "Plastic",
          "Wood",
          "Paper",
          "Clay"
         ],
         "tickvals": [
          "Ceramic",
          "Glass",
          "Metal",
          "Plastic",
          "Wood",
          "Paper",
          "Clay"
         ]
        },
        "yaxis": {
         "anchor": "x",
         "domain": [
          0,
          1
         ],
         "linecolor": "grey",
         "linewidth": 2,
         "mirror": true,
         "showline": true,
         "title": {
          "text": "Proportion of Images (%)"
         }
        },
        "yaxis2": {
         "anchor": "x2",
         "domain": [
          0,
          1
         ],
         "linecolor": "grey",
         "linewidth": 2,
         "matches": "y",
         "mirror": true,
         "showline": true,
         "showticklabels": false
        },
        "yaxis3": {
         "anchor": "x3",
         "domain": [
          0,
          1
         ],
         "linecolor": "grey",
         "linewidth": 2,
         "matches": "y",
         "mirror": true,
         "showline": true,
         "showticklabels": false
        }
       }
      },
      "text/html": [
       "<div>                            <div id=\"502d017c-fa23-4f40-b3ea-74d8db77bee9\" class=\"plotly-graph-div\" style=\"height:400px; width:1200px;\"></div>            <script type=\"text/javascript\">                require([\"plotly\"], function(Plotly) {                    window.PLOTLYENV=window.PLOTLYENV || {};                                    if (document.getElementById(\"502d017c-fa23-4f40-b3ea-74d8db77bee9\")) {                    Plotly.newPlot(                        \"502d017c-fa23-4f40-b3ea-74d8db77bee9\",                        [{\"legendgroup\":\"Algeria\",\"marker\":{\"color\":\"#41cc96\"},\"name\":\"Algeria\",\"showlegend\":true,\"x\":[\"Ceramic\",\"Glass\",\"Metal\",\"Plastic\",\"Wood\",\"Paper\",\"Clay\"],\"y\":[76.66666666666667,0.0,13.333333333333334,0.0,8.666666666666668,0.6666666666666667,0.6666666666666667],\"type\":\"bar\",\"xaxis\":\"x\",\"yaxis\":\"y\"},{\"legendgroup\":\"Nigeria\",\"marker\":{\"color\":\"#ef563b\"},\"name\":\"Nigeria\",\"showlegend\":true,\"x\":[\"Ceramic\",\"Glass\",\"Metal\",\"Plastic\",\"Wood\",\"Paper\",\"Clay\"],\"y\":[71.33333333333334,0.0,8.666666666666668,0.0,18.666666666666668,0.0,1.3333333333333335],\"type\":\"bar\",\"xaxis\":\"x\",\"yaxis\":\"y\"},{\"legendgroup\":\"South Africa\",\"marker\":{\"color\":\"#f7a15b\"},\"name\":\"South Africa\",\"showlegend\":true,\"x\":[\"Ceramic\",\"Glass\",\"Metal\",\"Plastic\",\"Wood\",\"Paper\",\"Clay\"],\"y\":[61.33333333333333,0.6666666666666667,21.333333333333336,0.6666666666666667,13.333333333333334,0.6666666666666667,2.0],\"type\":\"bar\",\"xaxis\":\"x\",\"yaxis\":\"y\"},{\"legendgroup\":\"United States\",\"marker\":{\"color\":\"#47d3f3\"},\"name\":\"United States\",\"showlegend\":true,\"x\":[\"Ceramic\",\"Glass\",\"Metal\",\"Plastic\",\"Wood\",\"Paper\",\"Clay\"],\"y\":[42.0,10.0,27.333333333333332,2.666666666666667,14.666666666666666,3.3333333333333335,0.0],\"type\":\"bar\",\"xaxis\":\"x\",\"yaxis\":\"y\"},{\"legendgroup\":\"Kenya\",\"marker\":{\"color\":\"#636efb\"},\"name\":\"Kenya\",\"showlegend\":true,\"x\":[\"Ceramic\",\"Glass\",\"Metal\",\"Plastic\",\"Wood\",\"Paper\",\"Clay\"],\"y\":[60.76923076923077,0.7692307692307693,14.615384615384617,0.0,23.076923076923077,0.0,0.7692307692307693],\"type\":\"bar\",\"xaxis\":\"x\",\"yaxis\":\"y\"},{\"legendgroup\":\"Cameroon\",\"marker\":{\"color\":\"#ab63fb\"},\"name\":\"Cameroon\",\"showlegend\":true,\"x\":[\"Ceramic\",\"Glass\",\"Metal\",\"Plastic\",\"Wood\",\"Paper\",\"Clay\"],\"y\":[55.333333333333336,0.0,14.666666666666666,0.6666666666666667,24.666666666666668,0.6666666666666667,4.0],\"type\":\"bar\",\"xaxis\":\"x\",\"yaxis\":\"y\"},{\"legendgroup\":\"Algeria\",\"marker\":{\"color\":\"#41cc96\"},\"name\":\"Algeria\",\"showlegend\":false,\"x\":[\"Ceramic\",\"Glass\",\"Metal\",\"Plastic\",\"Wood\",\"Paper\",\"Clay\"],\"y\":[61.33333333333333,14.666666666666666,4.666666666666667,12.0,0.6666666666666667,6.666666666666667,0.0],\"type\":\"bar\",\"xaxis\":\"x2\",\"yaxis\":\"y2\"},{\"legendgroup\":\"Nigeria\",\"marker\":{\"color\":\"#ef563b\"},\"name\":\"Nigeria\",\"showlegend\":false,\"x\":[\"Ceramic\",\"Glass\",\"Metal\",\"Plastic\",\"Wood\",\"Paper\",\"Clay\"],\"y\":[54.0,10.0,8.666666666666668,22.0,0.6666666666666667,4.666666666666667,0.0],\"type\":\"bar\",\"xaxis\":\"x2\",\"yaxis\":\"y2\"},{\"legendgroup\":\"South Africa\",\"marker\":{\"color\":\"#f7a15b\"},\"name\":\"South Africa\",\"showlegend\":false,\"x\":[\"Ceramic\",\"Glass\",\"Metal\",\"Plastic\",\"Wood\",\"Paper\",\"Clay\"],\"y\":[56.666666666666664,11.333333333333332,10.666666666666668,13.333333333333334,2.0,6.0,0.0],\"type\":\"bar\",\"xaxis\":\"x2\",\"yaxis\":\"y2\"},{\"legendgroup\":\"United States\",\"marker\":{\"color\":\"#47d3f3\"},\"name\":\"United States\",\"showlegend\":false,\"x\":[\"Ceramic\",\"Glass\",\"Metal\",\"Plastic\",\"Wood\",\"Paper\",\"Clay\"],\"y\":[42.66666666666667,24.0,12.666666666666668,13.333333333333334,1.3333333333333335,6.0,0.0],\"type\":\"bar\",\"xaxis\":\"x2\",\"yaxis\":\"y2\"},{\"legendgroup\":\"Kenya\",\"marker\":{\"color\":\"#636efb\"},\"name\":\"Kenya\",\"showlegend\":false,\"x\":[\"Ceramic\",\"Glass\",\"Metal\",\"Plastic\",\"Wood\",\"Paper\",\"Clay\"],\"y\":[60.273972602739725,13.013698630136986,8.21917808219178,16.43835616438356,0.0,2.054794520547945,0.0],\"type\":\"bar\",\"xaxis\":\"x2\",\"yaxis\":\"y2\"},{\"legendgroup\":\"Cameroon\",\"marker\":{\"color\":\"#ab63fb\"},\"name\":\"Cameroon\",\"showlegend\":false,\"x\":[\"Ceramic\",\"Glass\",\"Metal\",\"Plastic\",\"Wood\",\"Paper\",\"Clay\"],\"y\":[63.74999999999999,10.0,5.625,15.0,0.625,5.0,0.0],\"type\":\"bar\",\"xaxis\":\"x2\",\"yaxis\":\"y2\"},{\"legendgroup\":\"Algeria\",\"marker\":{\"color\":\"#41cc96\"},\"name\":\"Algeria\",\"showlegend\":false,\"x\":[\"Ceramic\",\"Glass\",\"Metal\",\"Plastic\",\"Wood\",\"Paper\",\"Clay\"],\"y\":[67.33333333333333,9.333333333333334,9.333333333333334,1.3333333333333335,4.666666666666667,4.0,4.0],\"type\":\"bar\",\"xaxis\":\"x3\",\"yaxis\":\"y3\"},{\"legendgroup\":\"Nigeria\",\"marker\":{\"color\":\"#ef563b\"},\"name\":\"Nigeria\",\"showlegend\":false,\"x\":[\"Ceramic\",\"Glass\",\"Metal\",\"Plastic\",\"Wood\",\"Paper\",\"Clay\"],\"y\":[0.0,0.0,0.0,0.0,0.0,0.0,0.0],\"type\":\"bar\",\"xaxis\":\"x3\",\"yaxis\":\"y3\"},{\"legendgroup\":\"South Africa\",\"marker\":{\"color\":\"#f7a15b\"},\"name\":\"South Africa\",\"showlegend\":false,\"x\":[\"Ceramic\",\"Glass\",\"Metal\",\"Plastic\",\"Wood\",\"Paper\",\"Clay\"],\"y\":[45.39473684210527,4.605263157894736,11.18421052631579,3.289473684210526,24.342105263157894,2.631578947368421,8.552631578947368],\"type\":\"bar\",\"xaxis\":\"x3\",\"yaxis\":\"y3\"},{\"legendgroup\":\"United States\",\"marker\":{\"color\":\"#47d3f3\"},\"name\":\"United States\",\"showlegend\":false,\"x\":[\"Ceramic\",\"Glass\",\"Metal\",\"Plastic\",\"Wood\",\"Paper\",\"Clay\"],\"y\":[38.666666666666664,9.333333333333334,13.333333333333334,11.333333333333332,24.0,3.3333333333333335,0.0],\"type\":\"bar\",\"xaxis\":\"x3\",\"yaxis\":\"y3\"},{\"legendgroup\":\"Kenya\",\"marker\":{\"color\":\"#636efb\"},\"name\":\"Kenya\",\"showlegend\":false,\"x\":[\"Ceramic\",\"Glass\",\"Metal\",\"Plastic\",\"Wood\",\"Paper\",\"Clay\"],\"y\":[59.23076923076923,5.384615384615385,20.0,7.6923076923076925,5.384615384615385,1.5384615384615385,0.7692307692307693],\"type\":\"bar\",\"xaxis\":\"x3\",\"yaxis\":\"y3\"},{\"legendgroup\":\"Cameroon\",\"marker\":{\"color\":\"#ab63fb\"},\"name\":\"Cameroon\",\"showlegend\":false,\"x\":[\"Ceramic\",\"Glass\",\"Metal\",\"Plastic\",\"Wood\",\"Paper\",\"Clay\"],\"y\":[67.58620689655173,4.827586206896552,12.413793103448276,8.275862068965518,2.0689655172413794,2.0689655172413794,2.7586206896551726],\"type\":\"bar\",\"xaxis\":\"x3\",\"yaxis\":\"y3\"}],                        {\"template\":{\"data\":{\"histogram2dcontour\":[{\"type\":\"histogram2dcontour\",\"colorbar\":{\"outlinewidth\":0,\"ticks\":\"\"},\"colorscale\":[[0.0,\"#0d0887\"],[0.1111111111111111,\"#46039f\"],[0.2222222222222222,\"#7201a8\"],[0.3333333333333333,\"#9c179e\"],[0.4444444444444444,\"#bd3786\"],[0.5555555555555556,\"#d8576b\"],[0.6666666666666666,\"#ed7953\"],[0.7777777777777778,\"#fb9f3a\"],[0.8888888888888888,\"#fdca26\"],[1.0,\"#f0f921\"]]}],\"choropleth\":[{\"type\":\"choropleth\",\"colorbar\":{\"outlinewidth\":0,\"ticks\":\"\"}}],\"histogram2d\":[{\"type\":\"histogram2d\",\"colorbar\":{\"outlinewidth\":0,\"ticks\":\"\"},\"colorscale\":[[0.0,\"#0d0887\"],[0.1111111111111111,\"#46039f\"],[0.2222222222222222,\"#7201a8\"],[0.3333333333333333,\"#9c179e\"],[0.4444444444444444,\"#bd3786\"],[0.5555555555555556,\"#d8576b\"],[0.6666666666666666,\"#ed7953\"],[0.7777777777777778,\"#fb9f3a\"],[0.8888888888888888,\"#fdca26\"],[1.0,\"#f0f921\"]]}],\"heatmap\":[{\"type\":\"heatmap\",\"colorbar\":{\"outlinewidth\":0,\"ticks\":\"\"},\"colorscale\":[[0.0,\"#0d0887\"],[0.1111111111111111,\"#46039f\"],[0.2222222222222222,\"#7201a8\"],[0.3333333333333333,\"#9c179e\"],[0.4444444444444444,\"#bd3786\"],[0.5555555555555556,\"#d8576b\"],[0.6666666666666666,\"#ed7953\"],[0.7777777777777778,\"#fb9f3a\"],[0.8888888888888888,\"#fdca26\"],[1.0,\"#f0f921\"]]}],\"heatmapgl\":[{\"type\":\"heatmapgl\",\"colorbar\":{\"outlinewidth\":0,\"ticks\":\"\"},\"colorscale\":[[0.0,\"#0d0887\"],[0.1111111111111111,\"#46039f\"],[0.2222222222222222,\"#7201a8\"],[0.3333333333333333,\"#9c179e\"],[0.4444444444444444,\"#bd3786\"],[0.5555555555555556,\"#d8576b\"],[0.6666666666666666,\"#ed7953\"],[0.7777777777777778,\"#fb9f3a\"],[0.8888888888888888,\"#fdca26\"],[1.0,\"#f0f921\"]]}],\"contourcarpet\":[{\"type\":\"contourcarpet\",\"colorbar\":{\"outlinewidth\":0,\"ticks\":\"\"}}],\"contour\":[{\"type\":\"contour\",\"colorbar\":{\"outlinewidth\":0,\"ticks\":\"\"},\"colorscale\":[[0.0,\"#0d0887\"],[0.1111111111111111,\"#46039f\"],[0.2222222222222222,\"#7201a8\"],[0.3333333333333333,\"#9c179e\"],[0.4444444444444444,\"#bd3786\"],[0.5555555555555556,\"#d8576b\"],[0.6666666666666666,\"#ed7953\"],[0.7777777777777778,\"#fb9f3a\"],[0.8888888888888888,\"#fdca26\"],[1.0,\"#f0f921\"]]}],\"surface\":[{\"type\":\"surface\",\"colorbar\":{\"outlinewidth\":0,\"ticks\":\"\"},\"colorscale\":[[0.0,\"#0d0887\"],[0.1111111111111111,\"#46039f\"],[0.2222222222222222,\"#7201a8\"],[0.3333333333333333,\"#9c179e\"],[0.4444444444444444,\"#bd3786\"],[0.5555555555555556,\"#d8576b\"],[0.6666666666666666,\"#ed7953\"],[0.7777777777777778,\"#fb9f3a\"],[0.8888888888888888,\"#fdca26\"],[1.0,\"#f0f921\"]]}],\"mesh3d\":[{\"type\":\"mesh3d\",\"colorbar\":{\"outlinewidth\":0,\"ticks\":\"\"}}],\"scatter\":[{\"fillpattern\":{\"fillmode\":\"overlay\",\"size\":10,\"solidity\":0.2},\"type\":\"scatter\"}],\"parcoords\":[{\"type\":\"parcoords\",\"line\":{\"colorbar\":{\"outlinewidth\":0,\"ticks\":\"\"}}}],\"scatterpolargl\":[{\"type\":\"scatterpolargl\",\"marker\":{\"colorbar\":{\"outlinewidth\":0,\"ticks\":\"\"}}}],\"bar\":[{\"error_x\":{\"color\":\"#2a3f5f\"},\"error_y\":{\"color\":\"#2a3f5f\"},\"marker\":{\"line\":{\"color\":\"#E5ECF6\",\"width\":0.5},\"pattern\":{\"fillmode\":\"overlay\",\"size\":10,\"solidity\":0.2}},\"type\":\"bar\"}],\"scattergeo\":[{\"type\":\"scattergeo\",\"marker\":{\"colorbar\":{\"outlinewidth\":0,\"ticks\":\"\"}}}],\"scatterpolar\":[{\"type\":\"scatterpolar\",\"marker\":{\"colorbar\":{\"outlinewidth\":0,\"ticks\":\"\"}}}],\"histogram\":[{\"marker\":{\"pattern\":{\"fillmode\":\"overlay\",\"size\":10,\"solidity\":0.2}},\"type\":\"histogram\"}],\"scattergl\":[{\"type\":\"scattergl\",\"marker\":{\"colorbar\":{\"outlinewidth\":0,\"ticks\":\"\"}}}],\"scatter3d\":[{\"type\":\"scatter3d\",\"line\":{\"colorbar\":{\"outlinewidth\":0,\"ticks\":\"\"}},\"marker\":{\"colorbar\":{\"outlinewidth\":0,\"ticks\":\"\"}}}],\"scattermapbox\":[{\"type\":\"scattermapbox\",\"marker\":{\"colorbar\":{\"outlinewidth\":0,\"ticks\":\"\"}}}],\"scatterternary\":[{\"type\":\"scatterternary\",\"marker\":{\"colorbar\":{\"outlinewidth\":0,\"ticks\":\"\"}}}],\"scattercarpet\":[{\"type\":\"scattercarpet\",\"marker\":{\"colorbar\":{\"outlinewidth\":0,\"ticks\":\"\"}}}],\"carpet\":[{\"aaxis\":{\"endlinecolor\":\"#2a3f5f\",\"gridcolor\":\"white\",\"linecolor\":\"white\",\"minorgridcolor\":\"white\",\"startlinecolor\":\"#2a3f5f\"},\"baxis\":{\"endlinecolor\":\"#2a3f5f\",\"gridcolor\":\"white\",\"linecolor\":\"white\",\"minorgridcolor\":\"white\",\"startlinecolor\":\"#2a3f5f\"},\"type\":\"carpet\"}],\"table\":[{\"cells\":{\"fill\":{\"color\":\"#EBF0F8\"},\"line\":{\"color\":\"white\"}},\"header\":{\"fill\":{\"color\":\"#C8D4E3\"},\"line\":{\"color\":\"white\"}},\"type\":\"table\"}],\"barpolar\":[{\"marker\":{\"line\":{\"color\":\"#E5ECF6\",\"width\":0.5},\"pattern\":{\"fillmode\":\"overlay\",\"size\":10,\"solidity\":0.2}},\"type\":\"barpolar\"}],\"pie\":[{\"automargin\":true,\"type\":\"pie\"}]},\"layout\":{\"autotypenumbers\":\"strict\",\"colorway\":[\"#636efa\",\"#EF553B\",\"#00cc96\",\"#ab63fa\",\"#FFA15A\",\"#19d3f3\",\"#FF6692\",\"#B6E880\",\"#FF97FF\",\"#FECB52\"],\"font\":{\"color\":\"#2a3f5f\"},\"hovermode\":\"closest\",\"hoverlabel\":{\"align\":\"left\"},\"paper_bgcolor\":\"white\",\"plot_bgcolor\":\"#E5ECF6\",\"polar\":{\"bgcolor\":\"#E5ECF6\",\"angularaxis\":{\"gridcolor\":\"white\",\"linecolor\":\"white\",\"ticks\":\"\"},\"radialaxis\":{\"gridcolor\":\"white\",\"linecolor\":\"white\",\"ticks\":\"\"}},\"ternary\":{\"bgcolor\":\"#E5ECF6\",\"aaxis\":{\"gridcolor\":\"white\",\"linecolor\":\"white\",\"ticks\":\"\"},\"baxis\":{\"gridcolor\":\"white\",\"linecolor\":\"white\",\"ticks\":\"\"},\"caxis\":{\"gridcolor\":\"white\",\"linecolor\":\"white\",\"ticks\":\"\"}},\"coloraxis\":{\"colorbar\":{\"outlinewidth\":0,\"ticks\":\"\"}},\"colorscale\":{\"sequential\":[[0.0,\"#0d0887\"],[0.1111111111111111,\"#46039f\"],[0.2222222222222222,\"#7201a8\"],[0.3333333333333333,\"#9c179e\"],[0.4444444444444444,\"#bd3786\"],[0.5555555555555556,\"#d8576b\"],[0.6666666666666666,\"#ed7953\"],[0.7777777777777778,\"#fb9f3a\"],[0.8888888888888888,\"#fdca26\"],[1.0,\"#f0f921\"]],\"sequentialminus\":[[0.0,\"#0d0887\"],[0.1111111111111111,\"#46039f\"],[0.2222222222222222,\"#7201a8\"],[0.3333333333333333,\"#9c179e\"],[0.4444444444444444,\"#bd3786\"],[0.5555555555555556,\"#d8576b\"],[0.6666666666666666,\"#ed7953\"],[0.7777777777777778,\"#fb9f3a\"],[0.8888888888888888,\"#fdca26\"],[1.0,\"#f0f921\"]],\"diverging\":[[0,\"#8e0152\"],[0.1,\"#c51b7d\"],[0.2,\"#de77ae\"],[0.3,\"#f1b6da\"],[0.4,\"#fde0ef\"],[0.5,\"#f7f7f7\"],[0.6,\"#e6f5d0\"],[0.7,\"#b8e186\"],[0.8,\"#7fbc41\"],[0.9,\"#4d9221\"],[1,\"#276419\"]]},\"xaxis\":{\"gridcolor\":\"white\",\"linecolor\":\"white\",\"ticks\":\"\",\"title\":{\"standoff\":15},\"zerolinecolor\":\"white\",\"automargin\":true,\"zerolinewidth\":2},\"yaxis\":{\"gridcolor\":\"white\",\"linecolor\":\"white\",\"ticks\":\"\",\"title\":{\"standoff\":15},\"zerolinecolor\":\"white\",\"automargin\":true,\"zerolinewidth\":2},\"scene\":{\"xaxis\":{\"backgroundcolor\":\"#E5ECF6\",\"gridcolor\":\"white\",\"linecolor\":\"white\",\"showbackground\":true,\"ticks\":\"\",\"zerolinecolor\":\"white\",\"gridwidth\":2},\"yaxis\":{\"backgroundcolor\":\"#E5ECF6\",\"gridcolor\":\"white\",\"linecolor\":\"white\",\"showbackground\":true,\"ticks\":\"\",\"zerolinecolor\":\"white\",\"gridwidth\":2},\"zaxis\":{\"backgroundcolor\":\"#E5ECF6\",\"gridcolor\":\"white\",\"linecolor\":\"white\",\"showbackground\":true,\"ticks\":\"\",\"zerolinecolor\":\"white\",\"gridwidth\":2}},\"shapedefaults\":{\"line\":{\"color\":\"#2a3f5f\"}},\"annotationdefaults\":{\"arrowcolor\":\"#2a3f5f\",\"arrowhead\":0,\"arrowwidth\":1},\"geo\":{\"bgcolor\":\"white\",\"landcolor\":\"#E5ECF6\",\"subunitcolor\":\"white\",\"showland\":true,\"showlakes\":true,\"lakecolor\":\"white\"},\"title\":{\"x\":0.05},\"mapbox\":{\"style\":\"light\"}}},\"xaxis\":{\"anchor\":\"y\",\"domain\":[0.0,0.3],\"tickvals\":[\"Ceramic\",\"Glass\",\"Metal\",\"Plastic\",\"Wood\",\"Paper\",\"Clay\"],\"ticktext\":[\"Ceramic\",\"Glass\",\"Metal\",\"Plastic\",\"Wood\",\"Paper\",\"Clay\"],\"categoryorder\":\"array\",\"categoryarray\":[\"Ceramic\",\"Glass\",\"Metal\",\"Plastic\",\"Wood\",\"Paper\",\"Clay\"],\"showline\":true,\"linewidth\":2,\"linecolor\":\"grey\",\"mirror\":true},\"yaxis\":{\"anchor\":\"x\",\"domain\":[0.0,1.0],\"title\":{\"text\":\"Proportion of Images (%)\"},\"showline\":true,\"linewidth\":2,\"linecolor\":\"grey\",\"mirror\":true},\"xaxis2\":{\"anchor\":\"y2\",\"domain\":[0.35,0.6499999999999999],\"tickvals\":[\"Ceramic\",\"Glass\",\"Metal\",\"Plastic\",\"Wood\",\"Paper\",\"Clay\"],\"ticktext\":[\"Ceramic\",\"Glass\",\"Metal\",\"Plastic\",\"Wood\",\"Paper\",\"Clay\"],\"categoryorder\":\"array\",\"categoryarray\":[\"Ceramic\",\"Glass\",\"Metal\",\"Plastic\",\"Wood\",\"Paper\",\"Clay\"],\"showline\":true,\"linewidth\":2,\"linecolor\":\"grey\",\"mirror\":true},\"yaxis2\":{\"anchor\":\"x2\",\"domain\":[0.0,1.0],\"matches\":\"y\",\"showticklabels\":false,\"showline\":true,\"linewidth\":2,\"linecolor\":\"grey\",\"mirror\":true},\"xaxis3\":{\"anchor\":\"y3\",\"domain\":[0.7,1.0],\"tickvals\":[\"Ceramic\",\"Glass\",\"Metal\",\"Plastic\",\"Wood\",\"Paper\",\"Clay\"],\"ticktext\":[\"Ceramic\",\"Glass\",\"Metal\",\"Plastic\",\"Wood\",\"Paper\",\"Clay\"],\"categoryorder\":\"array\",\"categoryarray\":[\"Ceramic\",\"Glass\",\"Metal\",\"Plastic\",\"Wood\",\"Paper\",\"Clay\"],\"showline\":true,\"linewidth\":2,\"linecolor\":\"grey\",\"mirror\":true},\"yaxis3\":{\"anchor\":\"x3\",\"domain\":[0.0,1.0],\"matches\":\"y\",\"showticklabels\":false,\"showline\":true,\"linewidth\":2,\"linecolor\":\"grey\",\"mirror\":true},\"annotations\":[{\"font\":{\"size\":16},\"showarrow\":false,\"text\":\"Dall-E 3\",\"x\":0.15,\"xanchor\":\"center\",\"xref\":\"paper\",\"y\":1.0,\"yanchor\":\"bottom\",\"yref\":\"paper\"},{\"font\":{\"size\":16},\"showarrow\":false,\"text\":\"Stable Diffusion 2.1\",\"x\":0.49999999999999994,\"xanchor\":\"center\",\"xref\":\"paper\",\"y\":1.0,\"yanchor\":\"bottom\",\"yref\":\"paper\"},{\"font\":{\"size\":16},\"showarrow\":false,\"text\":\"Dall-E 2\",\"x\":0.85,\"xanchor\":\"center\",\"xref\":\"paper\",\"y\":1.0,\"yanchor\":\"bottom\",\"yref\":\"paper\"}],\"legend\":{\"title\":{\"text\":\"Country\"},\"orientation\":\"v\",\"yanchor\":\"top\",\"y\":1,\"xanchor\":\"right\",\"x\":1.15,\"itemwidth\":30,\"itemsizing\":\"constant\",\"traceorder\":\"normal\",\"bordercolor\":\"grey\",\"borderwidth\":1},\"title\":{\"font\":{\"family\":\"Helvetica Neue\",\"size\":18,\"color\":\"black\"},\"text\":\"What material is the dish or plate in the image most likely made of?\",\"y\":0.9,\"x\":0.5,\"xanchor\":\"center\",\"yanchor\":\"top\"},\"font\":{\"family\":\"Helvetica Neue\",\"size\":12},\"plot_bgcolor\":\"white\",\"barmode\":\"group\",\"width\":1200,\"height\":400},                        {\"responsive\": true}                    ).then(function(){\n",
       "                            \n",
       "var gd = document.getElementById('502d017c-fa23-4f40-b3ea-74d8db77bee9');\n",
       "var x = new MutationObserver(function (mutations, observer) {{\n",
       "        var display = window.getComputedStyle(gd).display;\n",
       "        if (!display || display === 'none') {{\n",
       "            console.log([gd, 'removed!']);\n",
       "            Plotly.purge(gd);\n",
       "            observer.disconnect();\n",
       "        }}\n",
       "}});\n",
       "\n",
       "// Listen for the removal of the full notebook cells\n",
       "var notebookContainer = gd.closest('#notebook-container');\n",
       "if (notebookContainer) {{\n",
       "    x.observe(notebookContainer, {childList: true});\n",
       "}}\n",
       "\n",
       "// Listen for the clearing of the current output cell\n",
       "var outputEl = gd.closest('.output');\n",
       "if (outputEl) {{\n",
       "    x.observe(outputEl, {childList: true});\n",
       "}}\n",
       "\n",
       "                        })                };                });            </script>        </div>"
      ]
     },
     "metadata": {},
     "output_type": "display_data"
    },
    {
     "data": {
      "application/vnd.plotly.v1+json": {
       "config": {
        "plotlyServerURL": "https://plot.ly"
       },
       "data": [
        {
         "legendgroup": "Algeria",
         "marker": {
          "color": "#41cc96"
         },
         "name": "Algeria",
         "showlegend": true,
         "type": "bar",
         "x": [
          "Wood",
          "Glass",
          "Metal",
          "Plastic",
          "Stone or Concrete",
          "Bamboo",
          "Fabric or Cloth",
          "Other",
          "No table or surface visible"
         ],
         "xaxis": "x",
         "y": [
          60,
          1.3333333333333335,
          4,
          0,
          24,
          2,
          8.666666666666668,
          0,
          0
         ],
         "yaxis": "y"
        },
        {
         "legendgroup": "Nigeria",
         "marker": {
          "color": "#ef563b"
         },
         "name": "Nigeria",
         "showlegend": true,
         "type": "bar",
         "x": [
          "Wood",
          "Glass",
          "Metal",
          "Plastic",
          "Stone or Concrete",
          "Bamboo",
          "Fabric or Cloth",
          "Other",
          "No table or surface visible"
         ],
         "xaxis": "x",
         "y": [
          64.66666666666666,
          2.666666666666667,
          1.3333333333333335,
          0,
          18,
          6,
          6.666666666666667,
          0,
          0.6666666666666667
         ],
         "yaxis": "y"
        },
        {
         "legendgroup": "South Africa",
         "marker": {
          "color": "#f7a15b"
         },
         "name": "South Africa",
         "showlegend": true,
         "type": "bar",
         "x": [
          "Wood",
          "Glass",
          "Metal",
          "Plastic",
          "Stone or Concrete",
          "Bamboo",
          "Fabric or Cloth",
          "Other",
          "No table or surface visible"
         ],
         "xaxis": "x",
         "y": [
          56.666666666666664,
          2,
          4.666666666666667,
          0,
          25.333333333333336,
          3.3333333333333335,
          7.333333333333333,
          0,
          0.6666666666666667
         ],
         "yaxis": "y"
        },
        {
         "legendgroup": "United States",
         "marker": {
          "color": "#47d3f3"
         },
         "name": "United States",
         "showlegend": true,
         "type": "bar",
         "x": [
          "Wood",
          "Glass",
          "Metal",
          "Plastic",
          "Stone or Concrete",
          "Bamboo",
          "Fabric or Cloth",
          "Other",
          "No table or surface visible"
         ],
         "xaxis": "x",
         "y": [
          77.33333333333333,
          5.333333333333334,
          4.666666666666667,
          0,
          6.666666666666667,
          1.3333333333333335,
          4,
          0,
          0.6666666666666667
         ],
         "yaxis": "y"
        },
        {
         "legendgroup": "Kenya",
         "marker": {
          "color": "#636efb"
         },
         "name": "Kenya",
         "showlegend": true,
         "type": "bar",
         "x": [
          "Wood",
          "Glass",
          "Metal",
          "Plastic",
          "Stone or Concrete",
          "Bamboo",
          "Fabric or Cloth",
          "Other",
          "No table or surface visible"
         ],
         "xaxis": "x",
         "y": [
          54.61538461538461,
          2.307692307692308,
          3.8461538461538463,
          0,
          16.153846153846153,
          4.615384615384616,
          17.692307692307693,
          0,
          0.7692307692307693
         ],
         "yaxis": "y"
        },
        {
         "legendgroup": "Cameroon",
         "marker": {
          "color": "#ab63fb"
         },
         "name": "Cameroon",
         "showlegend": true,
         "type": "bar",
         "x": [
          "Wood",
          "Glass",
          "Metal",
          "Plastic",
          "Stone or Concrete",
          "Bamboo",
          "Fabric or Cloth",
          "Other",
          "No table or surface visible"
         ],
         "xaxis": "x",
         "y": [
          64,
          0.6666666666666667,
          1.3333333333333335,
          0,
          10.666666666666668,
          14.666666666666666,
          8,
          0,
          0.6666666666666667
         ],
         "yaxis": "y"
        },
        {
         "legendgroup": "Algeria",
         "marker": {
          "color": "#41cc96"
         },
         "name": "Algeria",
         "showlegend": false,
         "type": "bar",
         "x": [
          "Wood",
          "Glass",
          "Metal",
          "Plastic",
          "Stone or Concrete",
          "Bamboo",
          "Fabric or Cloth",
          "Other",
          "No table or surface visible"
         ],
         "xaxis": "x2",
         "y": [
          11.333333333333332,
          13.333333333333334,
          2,
          0,
          1.3333333333333335,
          2,
          69.33333333333334,
          0,
          0.6666666666666667
         ],
         "yaxis": "y2"
        },
        {
         "legendgroup": "Nigeria",
         "marker": {
          "color": "#ef563b"
         },
         "name": "Nigeria",
         "showlegend": false,
         "type": "bar",
         "x": [
          "Wood",
          "Glass",
          "Metal",
          "Plastic",
          "Stone or Concrete",
          "Bamboo",
          "Fabric or Cloth",
          "Other",
          "No table or surface visible"
         ],
         "xaxis": "x2",
         "y": [
          20,
          11.333333333333332,
          2.666666666666667,
          2.666666666666667,
          3.3333333333333335,
          2.666666666666667,
          56.666666666666664,
          0,
          0.6666666666666667
         ],
         "yaxis": "y2"
        },
        {
         "legendgroup": "South Africa",
         "marker": {
          "color": "#f7a15b"
         },
         "name": "South Africa",
         "showlegend": false,
         "type": "bar",
         "x": [
          "Wood",
          "Glass",
          "Metal",
          "Plastic",
          "Stone or Concrete",
          "Bamboo",
          "Fabric or Cloth",
          "Other",
          "No table or surface visible"
         ],
         "xaxis": "x2",
         "y": [
          24,
          7.333333333333333,
          1.3333333333333335,
          0.6666666666666667,
          2,
          3.3333333333333335,
          61.33333333333333,
          0,
          0
         ],
         "yaxis": "y2"
        },
        {
         "legendgroup": "United States",
         "marker": {
          "color": "#47d3f3"
         },
         "name": "United States",
         "showlegend": false,
         "type": "bar",
         "x": [
          "Wood",
          "Glass",
          "Metal",
          "Plastic",
          "Stone or Concrete",
          "Bamboo",
          "Fabric or Cloth",
          "Other",
          "No table or surface visible"
         ],
         "xaxis": "x2",
         "y": [
          41.333333333333336,
          16.666666666666664,
          7.333333333333333,
          0.6666666666666667,
          4.666666666666667,
          0.6666666666666667,
          27.333333333333332,
          0,
          1.3333333333333335
         ],
         "yaxis": "y2"
        },
        {
         "legendgroup": "Kenya",
         "marker": {
          "color": "#636efb"
         },
         "name": "Kenya",
         "showlegend": false,
         "type": "bar",
         "x": [
          "Wood",
          "Glass",
          "Metal",
          "Plastic",
          "Stone or Concrete",
          "Bamboo",
          "Fabric or Cloth",
          "Other",
          "No table or surface visible"
         ],
         "xaxis": "x2",
         "y": [
          25.34246575342466,
          10.273972602739725,
          1.36986301369863,
          0.684931506849315,
          2.054794520547945,
          3.4246575342465753,
          56.849315068493155,
          0,
          0
         ],
         "yaxis": "y2"
        },
        {
         "legendgroup": "Cameroon",
         "marker": {
          "color": "#ab63fb"
         },
         "name": "Cameroon",
         "showlegend": false,
         "type": "bar",
         "x": [
          "Wood",
          "Glass",
          "Metal",
          "Plastic",
          "Stone or Concrete",
          "Bamboo",
          "Fabric or Cloth",
          "Other",
          "No table or surface visible"
         ],
         "xaxis": "x2",
         "y": [
          16.25,
          7.5,
          0,
          1.25,
          1.875,
          4.375,
          68.125,
          0,
          0.625
         ],
         "yaxis": "y2"
        },
        {
         "legendgroup": "Algeria",
         "marker": {
          "color": "#41cc96"
         },
         "name": "Algeria",
         "showlegend": false,
         "type": "bar",
         "x": [
          "Wood",
          "Glass",
          "Metal",
          "Plastic",
          "Stone or Concrete",
          "Bamboo",
          "Fabric or Cloth",
          "Other",
          "No table or surface visible"
         ],
         "xaxis": "x3",
         "y": [
          34,
          14.000000000000002,
          4.666666666666667,
          1.3333333333333335,
          24,
          0.6666666666666667,
          20.666666666666668,
          0,
          0.6666666666666667
         ],
         "yaxis": "y3"
        },
        {
         "legendgroup": "Nigeria",
         "marker": {
          "color": "#ef563b"
         },
         "name": "Nigeria",
         "showlegend": false,
         "type": "bar",
         "x": [
          "Wood",
          "Glass",
          "Metal",
          "Plastic",
          "Stone or Concrete",
          "Bamboo",
          "Fabric or Cloth",
          "Other",
          "No table or surface visible"
         ],
         "xaxis": "x3",
         "y": [
          0,
          0,
          0,
          0,
          0,
          0,
          0,
          0,
          0
         ],
         "yaxis": "y3"
        },
        {
         "legendgroup": "South Africa",
         "marker": {
          "color": "#f7a15b"
         },
         "name": "South Africa",
         "showlegend": false,
         "type": "bar",
         "x": [
          "Wood",
          "Glass",
          "Metal",
          "Plastic",
          "Stone or Concrete",
          "Bamboo",
          "Fabric or Cloth",
          "Other",
          "No table or surface visible"
         ],
         "xaxis": "x3",
         "y": [
          53.94736842105263,
          5.263157894736842,
          0.6578947368421052,
          0.6578947368421052,
          31.57894736842105,
          4.605263157894736,
          3.289473684210526,
          0,
          0
         ],
         "yaxis": "y3"
        },
        {
         "legendgroup": "United States",
         "marker": {
          "color": "#47d3f3"
         },
         "name": "United States",
         "showlegend": false,
         "type": "bar",
         "x": [
          "Wood",
          "Glass",
          "Metal",
          "Plastic",
          "Stone or Concrete",
          "Bamboo",
          "Fabric or Cloth",
          "Other",
          "No table or surface visible"
         ],
         "xaxis": "x3",
         "y": [
          70,
          5.333333333333334,
          6,
          0.6666666666666667,
          11.333333333333332,
          2.666666666666667,
          4,
          0,
          0
         ],
         "yaxis": "y3"
        },
        {
         "legendgroup": "Kenya",
         "marker": {
          "color": "#636efb"
         },
         "name": "Kenya",
         "showlegend": false,
         "type": "bar",
         "x": [
          "Wood",
          "Glass",
          "Metal",
          "Plastic",
          "Stone or Concrete",
          "Bamboo",
          "Fabric or Cloth",
          "Other",
          "No table or surface visible"
         ],
         "xaxis": "x3",
         "y": [
          51.53846153846153,
          3.076923076923077,
          6.153846153846154,
          0.7692307692307693,
          19.230769230769234,
          10.76923076923077,
          7.6923076923076925,
          0,
          0.7692307692307693
         ],
         "yaxis": "y3"
        },
        {
         "legendgroup": "Cameroon",
         "marker": {
          "color": "#ab63fb"
         },
         "name": "Cameroon",
         "showlegend": false,
         "type": "bar",
         "x": [
          "Wood",
          "Glass",
          "Metal",
          "Plastic",
          "Stone or Concrete",
          "Bamboo",
          "Fabric or Cloth",
          "Other",
          "No table or surface visible"
         ],
         "xaxis": "x3",
         "y": [
          36.55172413793103,
          6.206896551724138,
          3.4482758620689653,
          3.4482758620689653,
          37.24137931034483,
          5.517241379310345,
          6.896551724137931,
          0,
          0.6896551724137931
         ],
         "yaxis": "y3"
        }
       ],
       "layout": {
        "annotations": [
         {
          "font": {
           "size": 16
          },
          "showarrow": false,
          "text": "Dall-E 3",
          "x": 0.15,
          "xanchor": "center",
          "xref": "paper",
          "y": 1,
          "yanchor": "bottom",
          "yref": "paper"
         },
         {
          "font": {
           "size": 16
          },
          "showarrow": false,
          "text": "Stable Diffusion 2.1",
          "x": 0.49999999999999994,
          "xanchor": "center",
          "xref": "paper",
          "y": 1,
          "yanchor": "bottom",
          "yref": "paper"
         },
         {
          "font": {
           "size": 16
          },
          "showarrow": false,
          "text": "Dall-E 2",
          "x": 0.85,
          "xanchor": "center",
          "xref": "paper",
          "y": 1,
          "yanchor": "bottom",
          "yref": "paper"
         }
        ],
        "barmode": "group",
        "font": {
         "family": "Helvetica Neue",
         "size": 12
        },
        "height": 400,
        "legend": {
         "bordercolor": "grey",
         "borderwidth": 1,
         "itemsizing": "constant",
         "itemwidth": 30,
         "orientation": "v",
         "title": {
          "text": "Country"
         },
         "traceorder": "normal",
         "x": 1.15,
         "xanchor": "right",
         "y": 1,
         "yanchor": "top"
        },
        "plot_bgcolor": "white",
        "template": {
         "data": {
          "bar": [
           {
            "error_x": {
             "color": "#2a3f5f"
            },
            "error_y": {
             "color": "#2a3f5f"
            },
            "marker": {
             "line": {
              "color": "#E5ECF6",
              "width": 0.5
             },
             "pattern": {
              "fillmode": "overlay",
              "size": 10,
              "solidity": 0.2
             }
            },
            "type": "bar"
           }
          ],
          "barpolar": [
           {
            "marker": {
             "line": {
              "color": "#E5ECF6",
              "width": 0.5
             },
             "pattern": {
              "fillmode": "overlay",
              "size": 10,
              "solidity": 0.2
             }
            },
            "type": "barpolar"
           }
          ],
          "carpet": [
           {
            "aaxis": {
             "endlinecolor": "#2a3f5f",
             "gridcolor": "white",
             "linecolor": "white",
             "minorgridcolor": "white",
             "startlinecolor": "#2a3f5f"
            },
            "baxis": {
             "endlinecolor": "#2a3f5f",
             "gridcolor": "white",
             "linecolor": "white",
             "minorgridcolor": "white",
             "startlinecolor": "#2a3f5f"
            },
            "type": "carpet"
           }
          ],
          "choropleth": [
           {
            "colorbar": {
             "outlinewidth": 0,
             "ticks": ""
            },
            "type": "choropleth"
           }
          ],
          "contour": [
           {
            "colorbar": {
             "outlinewidth": 0,
             "ticks": ""
            },
            "colorscale": [
             [
              0,
              "#0d0887"
             ],
             [
              0.1111111111111111,
              "#46039f"
             ],
             [
              0.2222222222222222,
              "#7201a8"
             ],
             [
              0.3333333333333333,
              "#9c179e"
             ],
             [
              0.4444444444444444,
              "#bd3786"
             ],
             [
              0.5555555555555556,
              "#d8576b"
             ],
             [
              0.6666666666666666,
              "#ed7953"
             ],
             [
              0.7777777777777778,
              "#fb9f3a"
             ],
             [
              0.8888888888888888,
              "#fdca26"
             ],
             [
              1,
              "#f0f921"
             ]
            ],
            "type": "contour"
           }
          ],
          "contourcarpet": [
           {
            "colorbar": {
             "outlinewidth": 0,
             "ticks": ""
            },
            "type": "contourcarpet"
           }
          ],
          "heatmap": [
           {
            "colorbar": {
             "outlinewidth": 0,
             "ticks": ""
            },
            "colorscale": [
             [
              0,
              "#0d0887"
             ],
             [
              0.1111111111111111,
              "#46039f"
             ],
             [
              0.2222222222222222,
              "#7201a8"
             ],
             [
              0.3333333333333333,
              "#9c179e"
             ],
             [
              0.4444444444444444,
              "#bd3786"
             ],
             [
              0.5555555555555556,
              "#d8576b"
             ],
             [
              0.6666666666666666,
              "#ed7953"
             ],
             [
              0.7777777777777778,
              "#fb9f3a"
             ],
             [
              0.8888888888888888,
              "#fdca26"
             ],
             [
              1,
              "#f0f921"
             ]
            ],
            "type": "heatmap"
           }
          ],
          "heatmapgl": [
           {
            "colorbar": {
             "outlinewidth": 0,
             "ticks": ""
            },
            "colorscale": [
             [
              0,
              "#0d0887"
             ],
             [
              0.1111111111111111,
              "#46039f"
             ],
             [
              0.2222222222222222,
              "#7201a8"
             ],
             [
              0.3333333333333333,
              "#9c179e"
             ],
             [
              0.4444444444444444,
              "#bd3786"
             ],
             [
              0.5555555555555556,
              "#d8576b"
             ],
             [
              0.6666666666666666,
              "#ed7953"
             ],
             [
              0.7777777777777778,
              "#fb9f3a"
             ],
             [
              0.8888888888888888,
              "#fdca26"
             ],
             [
              1,
              "#f0f921"
             ]
            ],
            "type": "heatmapgl"
           }
          ],
          "histogram": [
           {
            "marker": {
             "pattern": {
              "fillmode": "overlay",
              "size": 10,
              "solidity": 0.2
             }
            },
            "type": "histogram"
           }
          ],
          "histogram2d": [
           {
            "colorbar": {
             "outlinewidth": 0,
             "ticks": ""
            },
            "colorscale": [
             [
              0,
              "#0d0887"
             ],
             [
              0.1111111111111111,
              "#46039f"
             ],
             [
              0.2222222222222222,
              "#7201a8"
             ],
             [
              0.3333333333333333,
              "#9c179e"
             ],
             [
              0.4444444444444444,
              "#bd3786"
             ],
             [
              0.5555555555555556,
              "#d8576b"
             ],
             [
              0.6666666666666666,
              "#ed7953"
             ],
             [
              0.7777777777777778,
              "#fb9f3a"
             ],
             [
              0.8888888888888888,
              "#fdca26"
             ],
             [
              1,
              "#f0f921"
             ]
            ],
            "type": "histogram2d"
           }
          ],
          "histogram2dcontour": [
           {
            "colorbar": {
             "outlinewidth": 0,
             "ticks": ""
            },
            "colorscale": [
             [
              0,
              "#0d0887"
             ],
             [
              0.1111111111111111,
              "#46039f"
             ],
             [
              0.2222222222222222,
              "#7201a8"
             ],
             [
              0.3333333333333333,
              "#9c179e"
             ],
             [
              0.4444444444444444,
              "#bd3786"
             ],
             [
              0.5555555555555556,
              "#d8576b"
             ],
             [
              0.6666666666666666,
              "#ed7953"
             ],
             [
              0.7777777777777778,
              "#fb9f3a"
             ],
             [
              0.8888888888888888,
              "#fdca26"
             ],
             [
              1,
              "#f0f921"
             ]
            ],
            "type": "histogram2dcontour"
           }
          ],
          "mesh3d": [
           {
            "colorbar": {
             "outlinewidth": 0,
             "ticks": ""
            },
            "type": "mesh3d"
           }
          ],
          "parcoords": [
           {
            "line": {
             "colorbar": {
              "outlinewidth": 0,
              "ticks": ""
             }
            },
            "type": "parcoords"
           }
          ],
          "pie": [
           {
            "automargin": true,
            "type": "pie"
           }
          ],
          "scatter": [
           {
            "fillpattern": {
             "fillmode": "overlay",
             "size": 10,
             "solidity": 0.2
            },
            "type": "scatter"
           }
          ],
          "scatter3d": [
           {
            "line": {
             "colorbar": {
              "outlinewidth": 0,
              "ticks": ""
             }
            },
            "marker": {
             "colorbar": {
              "outlinewidth": 0,
              "ticks": ""
             }
            },
            "type": "scatter3d"
           }
          ],
          "scattercarpet": [
           {
            "marker": {
             "colorbar": {
              "outlinewidth": 0,
              "ticks": ""
             }
            },
            "type": "scattercarpet"
           }
          ],
          "scattergeo": [
           {
            "marker": {
             "colorbar": {
              "outlinewidth": 0,
              "ticks": ""
             }
            },
            "type": "scattergeo"
           }
          ],
          "scattergl": [
           {
            "marker": {
             "colorbar": {
              "outlinewidth": 0,
              "ticks": ""
             }
            },
            "type": "scattergl"
           }
          ],
          "scattermapbox": [
           {
            "marker": {
             "colorbar": {
              "outlinewidth": 0,
              "ticks": ""
             }
            },
            "type": "scattermapbox"
           }
          ],
          "scatterpolar": [
           {
            "marker": {
             "colorbar": {
              "outlinewidth": 0,
              "ticks": ""
             }
            },
            "type": "scatterpolar"
           }
          ],
          "scatterpolargl": [
           {
            "marker": {
             "colorbar": {
              "outlinewidth": 0,
              "ticks": ""
             }
            },
            "type": "scatterpolargl"
           }
          ],
          "scatterternary": [
           {
            "marker": {
             "colorbar": {
              "outlinewidth": 0,
              "ticks": ""
             }
            },
            "type": "scatterternary"
           }
          ],
          "surface": [
           {
            "colorbar": {
             "outlinewidth": 0,
             "ticks": ""
            },
            "colorscale": [
             [
              0,
              "#0d0887"
             ],
             [
              0.1111111111111111,
              "#46039f"
             ],
             [
              0.2222222222222222,
              "#7201a8"
             ],
             [
              0.3333333333333333,
              "#9c179e"
             ],
             [
              0.4444444444444444,
              "#bd3786"
             ],
             [
              0.5555555555555556,
              "#d8576b"
             ],
             [
              0.6666666666666666,
              "#ed7953"
             ],
             [
              0.7777777777777778,
              "#fb9f3a"
             ],
             [
              0.8888888888888888,
              "#fdca26"
             ],
             [
              1,
              "#f0f921"
             ]
            ],
            "type": "surface"
           }
          ],
          "table": [
           {
            "cells": {
             "fill": {
              "color": "#EBF0F8"
             },
             "line": {
              "color": "white"
             }
            },
            "header": {
             "fill": {
              "color": "#C8D4E3"
             },
             "line": {
              "color": "white"
             }
            },
            "type": "table"
           }
          ]
         },
         "layout": {
          "annotationdefaults": {
           "arrowcolor": "#2a3f5f",
           "arrowhead": 0,
           "arrowwidth": 1
          },
          "autotypenumbers": "strict",
          "coloraxis": {
           "colorbar": {
            "outlinewidth": 0,
            "ticks": ""
           }
          },
          "colorscale": {
           "diverging": [
            [
             0,
             "#8e0152"
            ],
            [
             0.1,
             "#c51b7d"
            ],
            [
             0.2,
             "#de77ae"
            ],
            [
             0.3,
             "#f1b6da"
            ],
            [
             0.4,
             "#fde0ef"
            ],
            [
             0.5,
             "#f7f7f7"
            ],
            [
             0.6,
             "#e6f5d0"
            ],
            [
             0.7,
             "#b8e186"
            ],
            [
             0.8,
             "#7fbc41"
            ],
            [
             0.9,
             "#4d9221"
            ],
            [
             1,
             "#276419"
            ]
           ],
           "sequential": [
            [
             0,
             "#0d0887"
            ],
            [
             0.1111111111111111,
             "#46039f"
            ],
            [
             0.2222222222222222,
             "#7201a8"
            ],
            [
             0.3333333333333333,
             "#9c179e"
            ],
            [
             0.4444444444444444,
             "#bd3786"
            ],
            [
             0.5555555555555556,
             "#d8576b"
            ],
            [
             0.6666666666666666,
             "#ed7953"
            ],
            [
             0.7777777777777778,
             "#fb9f3a"
            ],
            [
             0.8888888888888888,
             "#fdca26"
            ],
            [
             1,
             "#f0f921"
            ]
           ],
           "sequentialminus": [
            [
             0,
             "#0d0887"
            ],
            [
             0.1111111111111111,
             "#46039f"
            ],
            [
             0.2222222222222222,
             "#7201a8"
            ],
            [
             0.3333333333333333,
             "#9c179e"
            ],
            [
             0.4444444444444444,
             "#bd3786"
            ],
            [
             0.5555555555555556,
             "#d8576b"
            ],
            [
             0.6666666666666666,
             "#ed7953"
            ],
            [
             0.7777777777777778,
             "#fb9f3a"
            ],
            [
             0.8888888888888888,
             "#fdca26"
            ],
            [
             1,
             "#f0f921"
            ]
           ]
          },
          "colorway": [
           "#636efa",
           "#EF553B",
           "#00cc96",
           "#ab63fa",
           "#FFA15A",
           "#19d3f3",
           "#FF6692",
           "#B6E880",
           "#FF97FF",
           "#FECB52"
          ],
          "font": {
           "color": "#2a3f5f"
          },
          "geo": {
           "bgcolor": "white",
           "lakecolor": "white",
           "landcolor": "#E5ECF6",
           "showlakes": true,
           "showland": true,
           "subunitcolor": "white"
          },
          "hoverlabel": {
           "align": "left"
          },
          "hovermode": "closest",
          "mapbox": {
           "style": "light"
          },
          "paper_bgcolor": "white",
          "plot_bgcolor": "#E5ECF6",
          "polar": {
           "angularaxis": {
            "gridcolor": "white",
            "linecolor": "white",
            "ticks": ""
           },
           "bgcolor": "#E5ECF6",
           "radialaxis": {
            "gridcolor": "white",
            "linecolor": "white",
            "ticks": ""
           }
          },
          "scene": {
           "xaxis": {
            "backgroundcolor": "#E5ECF6",
            "gridcolor": "white",
            "gridwidth": 2,
            "linecolor": "white",
            "showbackground": true,
            "ticks": "",
            "zerolinecolor": "white"
           },
           "yaxis": {
            "backgroundcolor": "#E5ECF6",
            "gridcolor": "white",
            "gridwidth": 2,
            "linecolor": "white",
            "showbackground": true,
            "ticks": "",
            "zerolinecolor": "white"
           },
           "zaxis": {
            "backgroundcolor": "#E5ECF6",
            "gridcolor": "white",
            "gridwidth": 2,
            "linecolor": "white",
            "showbackground": true,
            "ticks": "",
            "zerolinecolor": "white"
           }
          },
          "shapedefaults": {
           "line": {
            "color": "#2a3f5f"
           }
          },
          "ternary": {
           "aaxis": {
            "gridcolor": "white",
            "linecolor": "white",
            "ticks": ""
           },
           "baxis": {
            "gridcolor": "white",
            "linecolor": "white",
            "ticks": ""
           },
           "bgcolor": "#E5ECF6",
           "caxis": {
            "gridcolor": "white",
            "linecolor": "white",
            "ticks": ""
           }
          },
          "title": {
           "x": 0.05
          },
          "xaxis": {
           "automargin": true,
           "gridcolor": "white",
           "linecolor": "white",
           "ticks": "",
           "title": {
            "standoff": 15
           },
           "zerolinecolor": "white",
           "zerolinewidth": 2
          },
          "yaxis": {
           "automargin": true,
           "gridcolor": "white",
           "linecolor": "white",
           "ticks": "",
           "title": {
            "standoff": 15
           },
           "zerolinecolor": "white",
           "zerolinewidth": 2
          }
         }
        },
        "title": {
         "font": {
          "color": "black",
          "family": "Helvetica Neue",
          "size": 18
         },
         "text": "What is the likely material of the table or surface on which the dish is placed in the image?",
         "x": 0.5,
         "xanchor": "center",
         "y": 0.9,
         "yanchor": "top"
        },
        "width": 1200,
        "xaxis": {
         "anchor": "y",
         "categoryarray": [
          "Wood",
          "Glass",
          "Metal",
          "Plastic",
          "Stone or Concrete",
          "Bamboo",
          "Fabric or Cloth",
          "Other",
          "No table or surface visible"
         ],
         "categoryorder": "array",
         "domain": [
          0,
          0.3
         ],
         "linecolor": "grey",
         "linewidth": 2,
         "mirror": true,
         "showline": true,
         "ticktext": [
          "Wood",
          "Glass",
          "Metal",
          "Plastic",
          "Stone or Concrete",
          "Bamboo",
          "Fabric or Cloth",
          "Other",
          "No table or surface visible"
         ],
         "tickvals": [
          "Wood",
          "Glass",
          "Metal",
          "Plastic",
          "Stone or Concrete",
          "Bamboo",
          "Fabric or Cloth",
          "Other",
          "No table or surface visible"
         ]
        },
        "xaxis2": {
         "anchor": "y2",
         "categoryarray": [
          "Wood",
          "Glass",
          "Metal",
          "Plastic",
          "Stone or Concrete",
          "Bamboo",
          "Fabric or Cloth",
          "Other",
          "No table or surface visible"
         ],
         "categoryorder": "array",
         "domain": [
          0.35,
          0.6499999999999999
         ],
         "linecolor": "grey",
         "linewidth": 2,
         "mirror": true,
         "showline": true,
         "ticktext": [
          "Wood",
          "Glass",
          "Metal",
          "Plastic",
          "Stone or Concrete",
          "Bamboo",
          "Fabric or Cloth",
          "Other",
          "No table or surface visible"
         ],
         "tickvals": [
          "Wood",
          "Glass",
          "Metal",
          "Plastic",
          "Stone or Concrete",
          "Bamboo",
          "Fabric or Cloth",
          "Other",
          "No table or surface visible"
         ]
        },
        "xaxis3": {
         "anchor": "y3",
         "categoryarray": [
          "Wood",
          "Glass",
          "Metal",
          "Plastic",
          "Stone or Concrete",
          "Bamboo",
          "Fabric or Cloth",
          "Other",
          "No table or surface visible"
         ],
         "categoryorder": "array",
         "domain": [
          0.7,
          1
         ],
         "linecolor": "grey",
         "linewidth": 2,
         "mirror": true,
         "showline": true,
         "ticktext": [
          "Wood",
          "Glass",
          "Metal",
          "Plastic",
          "Stone or Concrete",
          "Bamboo",
          "Fabric or Cloth",
          "Other",
          "No table or surface visible"
         ],
         "tickvals": [
          "Wood",
          "Glass",
          "Metal",
          "Plastic",
          "Stone or Concrete",
          "Bamboo",
          "Fabric or Cloth",
          "Other",
          "No table or surface visible"
         ]
        },
        "yaxis": {
         "anchor": "x",
         "domain": [
          0,
          1
         ],
         "linecolor": "grey",
         "linewidth": 2,
         "mirror": true,
         "showline": true,
         "title": {
          "text": "Proportion of Images (%)"
         }
        },
        "yaxis2": {
         "anchor": "x2",
         "domain": [
          0,
          1
         ],
         "linecolor": "grey",
         "linewidth": 2,
         "matches": "y",
         "mirror": true,
         "showline": true,
         "showticklabels": false
        },
        "yaxis3": {
         "anchor": "x3",
         "domain": [
          0,
          1
         ],
         "linecolor": "grey",
         "linewidth": 2,
         "matches": "y",
         "mirror": true,
         "showline": true,
         "showticklabels": false
        }
       }
      },
      "text/html": [
       "<div>                            <div id=\"5c65c791-de89-455a-a6fe-284cbb41efec\" class=\"plotly-graph-div\" style=\"height:400px; width:1200px;\"></div>            <script type=\"text/javascript\">                require([\"plotly\"], function(Plotly) {                    window.PLOTLYENV=window.PLOTLYENV || {};                                    if (document.getElementById(\"5c65c791-de89-455a-a6fe-284cbb41efec\")) {                    Plotly.newPlot(                        \"5c65c791-de89-455a-a6fe-284cbb41efec\",                        [{\"legendgroup\":\"Algeria\",\"marker\":{\"color\":\"#41cc96\"},\"name\":\"Algeria\",\"showlegend\":true,\"x\":[\"Wood\",\"Glass\",\"Metal\",\"Plastic\",\"Stone or Concrete\",\"Bamboo\",\"Fabric or Cloth\",\"Other\",\"No table or surface visible\"],\"y\":[60.0,1.3333333333333335,4.0,0.0,24.0,2.0,8.666666666666668,0.0,0.0],\"type\":\"bar\",\"xaxis\":\"x\",\"yaxis\":\"y\"},{\"legendgroup\":\"Nigeria\",\"marker\":{\"color\":\"#ef563b\"},\"name\":\"Nigeria\",\"showlegend\":true,\"x\":[\"Wood\",\"Glass\",\"Metal\",\"Plastic\",\"Stone or Concrete\",\"Bamboo\",\"Fabric or Cloth\",\"Other\",\"No table or surface visible\"],\"y\":[64.66666666666666,2.666666666666667,1.3333333333333335,0.0,18.0,6.0,6.666666666666667,0.0,0.6666666666666667],\"type\":\"bar\",\"xaxis\":\"x\",\"yaxis\":\"y\"},{\"legendgroup\":\"South Africa\",\"marker\":{\"color\":\"#f7a15b\"},\"name\":\"South Africa\",\"showlegend\":true,\"x\":[\"Wood\",\"Glass\",\"Metal\",\"Plastic\",\"Stone or Concrete\",\"Bamboo\",\"Fabric or Cloth\",\"Other\",\"No table or surface visible\"],\"y\":[56.666666666666664,2.0,4.666666666666667,0.0,25.333333333333336,3.3333333333333335,7.333333333333333,0.0,0.6666666666666667],\"type\":\"bar\",\"xaxis\":\"x\",\"yaxis\":\"y\"},{\"legendgroup\":\"United States\",\"marker\":{\"color\":\"#47d3f3\"},\"name\":\"United States\",\"showlegend\":true,\"x\":[\"Wood\",\"Glass\",\"Metal\",\"Plastic\",\"Stone or Concrete\",\"Bamboo\",\"Fabric or Cloth\",\"Other\",\"No table or surface visible\"],\"y\":[77.33333333333333,5.333333333333334,4.666666666666667,0.0,6.666666666666667,1.3333333333333335,4.0,0.0,0.6666666666666667],\"type\":\"bar\",\"xaxis\":\"x\",\"yaxis\":\"y\"},{\"legendgroup\":\"Kenya\",\"marker\":{\"color\":\"#636efb\"},\"name\":\"Kenya\",\"showlegend\":true,\"x\":[\"Wood\",\"Glass\",\"Metal\",\"Plastic\",\"Stone or Concrete\",\"Bamboo\",\"Fabric or Cloth\",\"Other\",\"No table or surface visible\"],\"y\":[54.61538461538461,2.307692307692308,3.8461538461538463,0.0,16.153846153846153,4.615384615384616,17.692307692307693,0.0,0.7692307692307693],\"type\":\"bar\",\"xaxis\":\"x\",\"yaxis\":\"y\"},{\"legendgroup\":\"Cameroon\",\"marker\":{\"color\":\"#ab63fb\"},\"name\":\"Cameroon\",\"showlegend\":true,\"x\":[\"Wood\",\"Glass\",\"Metal\",\"Plastic\",\"Stone or Concrete\",\"Bamboo\",\"Fabric or Cloth\",\"Other\",\"No table or surface visible\"],\"y\":[64.0,0.6666666666666667,1.3333333333333335,0.0,10.666666666666668,14.666666666666666,8.0,0.0,0.6666666666666667],\"type\":\"bar\",\"xaxis\":\"x\",\"yaxis\":\"y\"},{\"legendgroup\":\"Algeria\",\"marker\":{\"color\":\"#41cc96\"},\"name\":\"Algeria\",\"showlegend\":false,\"x\":[\"Wood\",\"Glass\",\"Metal\",\"Plastic\",\"Stone or Concrete\",\"Bamboo\",\"Fabric or Cloth\",\"Other\",\"No table or surface visible\"],\"y\":[11.333333333333332,13.333333333333334,2.0,0.0,1.3333333333333335,2.0,69.33333333333334,0.0,0.6666666666666667],\"type\":\"bar\",\"xaxis\":\"x2\",\"yaxis\":\"y2\"},{\"legendgroup\":\"Nigeria\",\"marker\":{\"color\":\"#ef563b\"},\"name\":\"Nigeria\",\"showlegend\":false,\"x\":[\"Wood\",\"Glass\",\"Metal\",\"Plastic\",\"Stone or Concrete\",\"Bamboo\",\"Fabric or Cloth\",\"Other\",\"No table or surface visible\"],\"y\":[20.0,11.333333333333332,2.666666666666667,2.666666666666667,3.3333333333333335,2.666666666666667,56.666666666666664,0.0,0.6666666666666667],\"type\":\"bar\",\"xaxis\":\"x2\",\"yaxis\":\"y2\"},{\"legendgroup\":\"South Africa\",\"marker\":{\"color\":\"#f7a15b\"},\"name\":\"South Africa\",\"showlegend\":false,\"x\":[\"Wood\",\"Glass\",\"Metal\",\"Plastic\",\"Stone or Concrete\",\"Bamboo\",\"Fabric or Cloth\",\"Other\",\"No table or surface visible\"],\"y\":[24.0,7.333333333333333,1.3333333333333335,0.6666666666666667,2.0,3.3333333333333335,61.33333333333333,0.0,0.0],\"type\":\"bar\",\"xaxis\":\"x2\",\"yaxis\":\"y2\"},{\"legendgroup\":\"United States\",\"marker\":{\"color\":\"#47d3f3\"},\"name\":\"United States\",\"showlegend\":false,\"x\":[\"Wood\",\"Glass\",\"Metal\",\"Plastic\",\"Stone or Concrete\",\"Bamboo\",\"Fabric or Cloth\",\"Other\",\"No table or surface visible\"],\"y\":[41.333333333333336,16.666666666666664,7.333333333333333,0.6666666666666667,4.666666666666667,0.6666666666666667,27.333333333333332,0.0,1.3333333333333335],\"type\":\"bar\",\"xaxis\":\"x2\",\"yaxis\":\"y2\"},{\"legendgroup\":\"Kenya\",\"marker\":{\"color\":\"#636efb\"},\"name\":\"Kenya\",\"showlegend\":false,\"x\":[\"Wood\",\"Glass\",\"Metal\",\"Plastic\",\"Stone or Concrete\",\"Bamboo\",\"Fabric or Cloth\",\"Other\",\"No table or surface visible\"],\"y\":[25.34246575342466,10.273972602739725,1.36986301369863,0.684931506849315,2.054794520547945,3.4246575342465753,56.849315068493155,0.0,0.0],\"type\":\"bar\",\"xaxis\":\"x2\",\"yaxis\":\"y2\"},{\"legendgroup\":\"Cameroon\",\"marker\":{\"color\":\"#ab63fb\"},\"name\":\"Cameroon\",\"showlegend\":false,\"x\":[\"Wood\",\"Glass\",\"Metal\",\"Plastic\",\"Stone or Concrete\",\"Bamboo\",\"Fabric or Cloth\",\"Other\",\"No table or surface visible\"],\"y\":[16.25,7.5,0.0,1.25,1.875,4.375,68.125,0.0,0.625],\"type\":\"bar\",\"xaxis\":\"x2\",\"yaxis\":\"y2\"},{\"legendgroup\":\"Algeria\",\"marker\":{\"color\":\"#41cc96\"},\"name\":\"Algeria\",\"showlegend\":false,\"x\":[\"Wood\",\"Glass\",\"Metal\",\"Plastic\",\"Stone or Concrete\",\"Bamboo\",\"Fabric or Cloth\",\"Other\",\"No table or surface visible\"],\"y\":[34.0,14.000000000000002,4.666666666666667,1.3333333333333335,24.0,0.6666666666666667,20.666666666666668,0.0,0.6666666666666667],\"type\":\"bar\",\"xaxis\":\"x3\",\"yaxis\":\"y3\"},{\"legendgroup\":\"Nigeria\",\"marker\":{\"color\":\"#ef563b\"},\"name\":\"Nigeria\",\"showlegend\":false,\"x\":[\"Wood\",\"Glass\",\"Metal\",\"Plastic\",\"Stone or Concrete\",\"Bamboo\",\"Fabric or Cloth\",\"Other\",\"No table or surface visible\"],\"y\":[0.0,0.0,0.0,0.0,0.0,0.0,0.0,0.0,0.0],\"type\":\"bar\",\"xaxis\":\"x3\",\"yaxis\":\"y3\"},{\"legendgroup\":\"South Africa\",\"marker\":{\"color\":\"#f7a15b\"},\"name\":\"South Africa\",\"showlegend\":false,\"x\":[\"Wood\",\"Glass\",\"Metal\",\"Plastic\",\"Stone or Concrete\",\"Bamboo\",\"Fabric or Cloth\",\"Other\",\"No table or surface visible\"],\"y\":[53.94736842105263,5.263157894736842,0.6578947368421052,0.6578947368421052,31.57894736842105,4.605263157894736,3.289473684210526,0.0,0.0],\"type\":\"bar\",\"xaxis\":\"x3\",\"yaxis\":\"y3\"},{\"legendgroup\":\"United States\",\"marker\":{\"color\":\"#47d3f3\"},\"name\":\"United States\",\"showlegend\":false,\"x\":[\"Wood\",\"Glass\",\"Metal\",\"Plastic\",\"Stone or Concrete\",\"Bamboo\",\"Fabric or Cloth\",\"Other\",\"No table or surface visible\"],\"y\":[70.0,5.333333333333334,6.0,0.6666666666666667,11.333333333333332,2.666666666666667,4.0,0.0,0.0],\"type\":\"bar\",\"xaxis\":\"x3\",\"yaxis\":\"y3\"},{\"legendgroup\":\"Kenya\",\"marker\":{\"color\":\"#636efb\"},\"name\":\"Kenya\",\"showlegend\":false,\"x\":[\"Wood\",\"Glass\",\"Metal\",\"Plastic\",\"Stone or Concrete\",\"Bamboo\",\"Fabric or Cloth\",\"Other\",\"No table or surface visible\"],\"y\":[51.53846153846153,3.076923076923077,6.153846153846154,0.7692307692307693,19.230769230769234,10.76923076923077,7.6923076923076925,0.0,0.7692307692307693],\"type\":\"bar\",\"xaxis\":\"x3\",\"yaxis\":\"y3\"},{\"legendgroup\":\"Cameroon\",\"marker\":{\"color\":\"#ab63fb\"},\"name\":\"Cameroon\",\"showlegend\":false,\"x\":[\"Wood\",\"Glass\",\"Metal\",\"Plastic\",\"Stone or Concrete\",\"Bamboo\",\"Fabric or Cloth\",\"Other\",\"No table or surface visible\"],\"y\":[36.55172413793103,6.206896551724138,3.4482758620689653,3.4482758620689653,37.24137931034483,5.517241379310345,6.896551724137931,0.0,0.6896551724137931],\"type\":\"bar\",\"xaxis\":\"x3\",\"yaxis\":\"y3\"}],                        {\"template\":{\"data\":{\"histogram2dcontour\":[{\"type\":\"histogram2dcontour\",\"colorbar\":{\"outlinewidth\":0,\"ticks\":\"\"},\"colorscale\":[[0.0,\"#0d0887\"],[0.1111111111111111,\"#46039f\"],[0.2222222222222222,\"#7201a8\"],[0.3333333333333333,\"#9c179e\"],[0.4444444444444444,\"#bd3786\"],[0.5555555555555556,\"#d8576b\"],[0.6666666666666666,\"#ed7953\"],[0.7777777777777778,\"#fb9f3a\"],[0.8888888888888888,\"#fdca26\"],[1.0,\"#f0f921\"]]}],\"choropleth\":[{\"type\":\"choropleth\",\"colorbar\":{\"outlinewidth\":0,\"ticks\":\"\"}}],\"histogram2d\":[{\"type\":\"histogram2d\",\"colorbar\":{\"outlinewidth\":0,\"ticks\":\"\"},\"colorscale\":[[0.0,\"#0d0887\"],[0.1111111111111111,\"#46039f\"],[0.2222222222222222,\"#7201a8\"],[0.3333333333333333,\"#9c179e\"],[0.4444444444444444,\"#bd3786\"],[0.5555555555555556,\"#d8576b\"],[0.6666666666666666,\"#ed7953\"],[0.7777777777777778,\"#fb9f3a\"],[0.8888888888888888,\"#fdca26\"],[1.0,\"#f0f921\"]]}],\"heatmap\":[{\"type\":\"heatmap\",\"colorbar\":{\"outlinewidth\":0,\"ticks\":\"\"},\"colorscale\":[[0.0,\"#0d0887\"],[0.1111111111111111,\"#46039f\"],[0.2222222222222222,\"#7201a8\"],[0.3333333333333333,\"#9c179e\"],[0.4444444444444444,\"#bd3786\"],[0.5555555555555556,\"#d8576b\"],[0.6666666666666666,\"#ed7953\"],[0.7777777777777778,\"#fb9f3a\"],[0.8888888888888888,\"#fdca26\"],[1.0,\"#f0f921\"]]}],\"heatmapgl\":[{\"type\":\"heatmapgl\",\"colorbar\":{\"outlinewidth\":0,\"ticks\":\"\"},\"colorscale\":[[0.0,\"#0d0887\"],[0.1111111111111111,\"#46039f\"],[0.2222222222222222,\"#7201a8\"],[0.3333333333333333,\"#9c179e\"],[0.4444444444444444,\"#bd3786\"],[0.5555555555555556,\"#d8576b\"],[0.6666666666666666,\"#ed7953\"],[0.7777777777777778,\"#fb9f3a\"],[0.8888888888888888,\"#fdca26\"],[1.0,\"#f0f921\"]]}],\"contourcarpet\":[{\"type\":\"contourcarpet\",\"colorbar\":{\"outlinewidth\":0,\"ticks\":\"\"}}],\"contour\":[{\"type\":\"contour\",\"colorbar\":{\"outlinewidth\":0,\"ticks\":\"\"},\"colorscale\":[[0.0,\"#0d0887\"],[0.1111111111111111,\"#46039f\"],[0.2222222222222222,\"#7201a8\"],[0.3333333333333333,\"#9c179e\"],[0.4444444444444444,\"#bd3786\"],[0.5555555555555556,\"#d8576b\"],[0.6666666666666666,\"#ed7953\"],[0.7777777777777778,\"#fb9f3a\"],[0.8888888888888888,\"#fdca26\"],[1.0,\"#f0f921\"]]}],\"surface\":[{\"type\":\"surface\",\"colorbar\":{\"outlinewidth\":0,\"ticks\":\"\"},\"colorscale\":[[0.0,\"#0d0887\"],[0.1111111111111111,\"#46039f\"],[0.2222222222222222,\"#7201a8\"],[0.3333333333333333,\"#9c179e\"],[0.4444444444444444,\"#bd3786\"],[0.5555555555555556,\"#d8576b\"],[0.6666666666666666,\"#ed7953\"],[0.7777777777777778,\"#fb9f3a\"],[0.8888888888888888,\"#fdca26\"],[1.0,\"#f0f921\"]]}],\"mesh3d\":[{\"type\":\"mesh3d\",\"colorbar\":{\"outlinewidth\":0,\"ticks\":\"\"}}],\"scatter\":[{\"fillpattern\":{\"fillmode\":\"overlay\",\"size\":10,\"solidity\":0.2},\"type\":\"scatter\"}],\"parcoords\":[{\"type\":\"parcoords\",\"line\":{\"colorbar\":{\"outlinewidth\":0,\"ticks\":\"\"}}}],\"scatterpolargl\":[{\"type\":\"scatterpolargl\",\"marker\":{\"colorbar\":{\"outlinewidth\":0,\"ticks\":\"\"}}}],\"bar\":[{\"error_x\":{\"color\":\"#2a3f5f\"},\"error_y\":{\"color\":\"#2a3f5f\"},\"marker\":{\"line\":{\"color\":\"#E5ECF6\",\"width\":0.5},\"pattern\":{\"fillmode\":\"overlay\",\"size\":10,\"solidity\":0.2}},\"type\":\"bar\"}],\"scattergeo\":[{\"type\":\"scattergeo\",\"marker\":{\"colorbar\":{\"outlinewidth\":0,\"ticks\":\"\"}}}],\"scatterpolar\":[{\"type\":\"scatterpolar\",\"marker\":{\"colorbar\":{\"outlinewidth\":0,\"ticks\":\"\"}}}],\"histogram\":[{\"marker\":{\"pattern\":{\"fillmode\":\"overlay\",\"size\":10,\"solidity\":0.2}},\"type\":\"histogram\"}],\"scattergl\":[{\"type\":\"scattergl\",\"marker\":{\"colorbar\":{\"outlinewidth\":0,\"ticks\":\"\"}}}],\"scatter3d\":[{\"type\":\"scatter3d\",\"line\":{\"colorbar\":{\"outlinewidth\":0,\"ticks\":\"\"}},\"marker\":{\"colorbar\":{\"outlinewidth\":0,\"ticks\":\"\"}}}],\"scattermapbox\":[{\"type\":\"scattermapbox\",\"marker\":{\"colorbar\":{\"outlinewidth\":0,\"ticks\":\"\"}}}],\"scatterternary\":[{\"type\":\"scatterternary\",\"marker\":{\"colorbar\":{\"outlinewidth\":0,\"ticks\":\"\"}}}],\"scattercarpet\":[{\"type\":\"scattercarpet\",\"marker\":{\"colorbar\":{\"outlinewidth\":0,\"ticks\":\"\"}}}],\"carpet\":[{\"aaxis\":{\"endlinecolor\":\"#2a3f5f\",\"gridcolor\":\"white\",\"linecolor\":\"white\",\"minorgridcolor\":\"white\",\"startlinecolor\":\"#2a3f5f\"},\"baxis\":{\"endlinecolor\":\"#2a3f5f\",\"gridcolor\":\"white\",\"linecolor\":\"white\",\"minorgridcolor\":\"white\",\"startlinecolor\":\"#2a3f5f\"},\"type\":\"carpet\"}],\"table\":[{\"cells\":{\"fill\":{\"color\":\"#EBF0F8\"},\"line\":{\"color\":\"white\"}},\"header\":{\"fill\":{\"color\":\"#C8D4E3\"},\"line\":{\"color\":\"white\"}},\"type\":\"table\"}],\"barpolar\":[{\"marker\":{\"line\":{\"color\":\"#E5ECF6\",\"width\":0.5},\"pattern\":{\"fillmode\":\"overlay\",\"size\":10,\"solidity\":0.2}},\"type\":\"barpolar\"}],\"pie\":[{\"automargin\":true,\"type\":\"pie\"}]},\"layout\":{\"autotypenumbers\":\"strict\",\"colorway\":[\"#636efa\",\"#EF553B\",\"#00cc96\",\"#ab63fa\",\"#FFA15A\",\"#19d3f3\",\"#FF6692\",\"#B6E880\",\"#FF97FF\",\"#FECB52\"],\"font\":{\"color\":\"#2a3f5f\"},\"hovermode\":\"closest\",\"hoverlabel\":{\"align\":\"left\"},\"paper_bgcolor\":\"white\",\"plot_bgcolor\":\"#E5ECF6\",\"polar\":{\"bgcolor\":\"#E5ECF6\",\"angularaxis\":{\"gridcolor\":\"white\",\"linecolor\":\"white\",\"ticks\":\"\"},\"radialaxis\":{\"gridcolor\":\"white\",\"linecolor\":\"white\",\"ticks\":\"\"}},\"ternary\":{\"bgcolor\":\"#E5ECF6\",\"aaxis\":{\"gridcolor\":\"white\",\"linecolor\":\"white\",\"ticks\":\"\"},\"baxis\":{\"gridcolor\":\"white\",\"linecolor\":\"white\",\"ticks\":\"\"},\"caxis\":{\"gridcolor\":\"white\",\"linecolor\":\"white\",\"ticks\":\"\"}},\"coloraxis\":{\"colorbar\":{\"outlinewidth\":0,\"ticks\":\"\"}},\"colorscale\":{\"sequential\":[[0.0,\"#0d0887\"],[0.1111111111111111,\"#46039f\"],[0.2222222222222222,\"#7201a8\"],[0.3333333333333333,\"#9c179e\"],[0.4444444444444444,\"#bd3786\"],[0.5555555555555556,\"#d8576b\"],[0.6666666666666666,\"#ed7953\"],[0.7777777777777778,\"#fb9f3a\"],[0.8888888888888888,\"#fdca26\"],[1.0,\"#f0f921\"]],\"sequentialminus\":[[0.0,\"#0d0887\"],[0.1111111111111111,\"#46039f\"],[0.2222222222222222,\"#7201a8\"],[0.3333333333333333,\"#9c179e\"],[0.4444444444444444,\"#bd3786\"],[0.5555555555555556,\"#d8576b\"],[0.6666666666666666,\"#ed7953\"],[0.7777777777777778,\"#fb9f3a\"],[0.8888888888888888,\"#fdca26\"],[1.0,\"#f0f921\"]],\"diverging\":[[0,\"#8e0152\"],[0.1,\"#c51b7d\"],[0.2,\"#de77ae\"],[0.3,\"#f1b6da\"],[0.4,\"#fde0ef\"],[0.5,\"#f7f7f7\"],[0.6,\"#e6f5d0\"],[0.7,\"#b8e186\"],[0.8,\"#7fbc41\"],[0.9,\"#4d9221\"],[1,\"#276419\"]]},\"xaxis\":{\"gridcolor\":\"white\",\"linecolor\":\"white\",\"ticks\":\"\",\"title\":{\"standoff\":15},\"zerolinecolor\":\"white\",\"automargin\":true,\"zerolinewidth\":2},\"yaxis\":{\"gridcolor\":\"white\",\"linecolor\":\"white\",\"ticks\":\"\",\"title\":{\"standoff\":15},\"zerolinecolor\":\"white\",\"automargin\":true,\"zerolinewidth\":2},\"scene\":{\"xaxis\":{\"backgroundcolor\":\"#E5ECF6\",\"gridcolor\":\"white\",\"linecolor\":\"white\",\"showbackground\":true,\"ticks\":\"\",\"zerolinecolor\":\"white\",\"gridwidth\":2},\"yaxis\":{\"backgroundcolor\":\"#E5ECF6\",\"gridcolor\":\"white\",\"linecolor\":\"white\",\"showbackground\":true,\"ticks\":\"\",\"zerolinecolor\":\"white\",\"gridwidth\":2},\"zaxis\":{\"backgroundcolor\":\"#E5ECF6\",\"gridcolor\":\"white\",\"linecolor\":\"white\",\"showbackground\":true,\"ticks\":\"\",\"zerolinecolor\":\"white\",\"gridwidth\":2}},\"shapedefaults\":{\"line\":{\"color\":\"#2a3f5f\"}},\"annotationdefaults\":{\"arrowcolor\":\"#2a3f5f\",\"arrowhead\":0,\"arrowwidth\":1},\"geo\":{\"bgcolor\":\"white\",\"landcolor\":\"#E5ECF6\",\"subunitcolor\":\"white\",\"showland\":true,\"showlakes\":true,\"lakecolor\":\"white\"},\"title\":{\"x\":0.05},\"mapbox\":{\"style\":\"light\"}}},\"xaxis\":{\"anchor\":\"y\",\"domain\":[0.0,0.3],\"tickvals\":[\"Wood\",\"Glass\",\"Metal\",\"Plastic\",\"Stone or Concrete\",\"Bamboo\",\"Fabric or Cloth\",\"Other\",\"No table or surface visible\"],\"ticktext\":[\"Wood\",\"Glass\",\"Metal\",\"Plastic\",\"Stone or Concrete\",\"Bamboo\",\"Fabric or Cloth\",\"Other\",\"No table or surface visible\"],\"categoryorder\":\"array\",\"categoryarray\":[\"Wood\",\"Glass\",\"Metal\",\"Plastic\",\"Stone or Concrete\",\"Bamboo\",\"Fabric or Cloth\",\"Other\",\"No table or surface visible\"],\"showline\":true,\"linewidth\":2,\"linecolor\":\"grey\",\"mirror\":true},\"yaxis\":{\"anchor\":\"x\",\"domain\":[0.0,1.0],\"title\":{\"text\":\"Proportion of Images (%)\"},\"showline\":true,\"linewidth\":2,\"linecolor\":\"grey\",\"mirror\":true},\"xaxis2\":{\"anchor\":\"y2\",\"domain\":[0.35,0.6499999999999999],\"tickvals\":[\"Wood\",\"Glass\",\"Metal\",\"Plastic\",\"Stone or Concrete\",\"Bamboo\",\"Fabric or Cloth\",\"Other\",\"No table or surface visible\"],\"ticktext\":[\"Wood\",\"Glass\",\"Metal\",\"Plastic\",\"Stone or Concrete\",\"Bamboo\",\"Fabric or Cloth\",\"Other\",\"No table or surface visible\"],\"categoryorder\":\"array\",\"categoryarray\":[\"Wood\",\"Glass\",\"Metal\",\"Plastic\",\"Stone or Concrete\",\"Bamboo\",\"Fabric or Cloth\",\"Other\",\"No table or surface visible\"],\"showline\":true,\"linewidth\":2,\"linecolor\":\"grey\",\"mirror\":true},\"yaxis2\":{\"anchor\":\"x2\",\"domain\":[0.0,1.0],\"matches\":\"y\",\"showticklabels\":false,\"showline\":true,\"linewidth\":2,\"linecolor\":\"grey\",\"mirror\":true},\"xaxis3\":{\"anchor\":\"y3\",\"domain\":[0.7,1.0],\"tickvals\":[\"Wood\",\"Glass\",\"Metal\",\"Plastic\",\"Stone or Concrete\",\"Bamboo\",\"Fabric or Cloth\",\"Other\",\"No table or surface visible\"],\"ticktext\":[\"Wood\",\"Glass\",\"Metal\",\"Plastic\",\"Stone or Concrete\",\"Bamboo\",\"Fabric or Cloth\",\"Other\",\"No table or surface visible\"],\"categoryorder\":\"array\",\"categoryarray\":[\"Wood\",\"Glass\",\"Metal\",\"Plastic\",\"Stone or Concrete\",\"Bamboo\",\"Fabric or Cloth\",\"Other\",\"No table or surface visible\"],\"showline\":true,\"linewidth\":2,\"linecolor\":\"grey\",\"mirror\":true},\"yaxis3\":{\"anchor\":\"x3\",\"domain\":[0.0,1.0],\"matches\":\"y\",\"showticklabels\":false,\"showline\":true,\"linewidth\":2,\"linecolor\":\"grey\",\"mirror\":true},\"annotations\":[{\"font\":{\"size\":16},\"showarrow\":false,\"text\":\"Dall-E 3\",\"x\":0.15,\"xanchor\":\"center\",\"xref\":\"paper\",\"y\":1.0,\"yanchor\":\"bottom\",\"yref\":\"paper\"},{\"font\":{\"size\":16},\"showarrow\":false,\"text\":\"Stable Diffusion 2.1\",\"x\":0.49999999999999994,\"xanchor\":\"center\",\"xref\":\"paper\",\"y\":1.0,\"yanchor\":\"bottom\",\"yref\":\"paper\"},{\"font\":{\"size\":16},\"showarrow\":false,\"text\":\"Dall-E 2\",\"x\":0.85,\"xanchor\":\"center\",\"xref\":\"paper\",\"y\":1.0,\"yanchor\":\"bottom\",\"yref\":\"paper\"}],\"legend\":{\"title\":{\"text\":\"Country\"},\"orientation\":\"v\",\"yanchor\":\"top\",\"y\":1,\"xanchor\":\"right\",\"x\":1.15,\"itemwidth\":30,\"itemsizing\":\"constant\",\"traceorder\":\"normal\",\"bordercolor\":\"grey\",\"borderwidth\":1},\"title\":{\"font\":{\"family\":\"Helvetica Neue\",\"size\":18,\"color\":\"black\"},\"text\":\"What is the likely material of the table or surface on which the dish is placed in the image?\",\"y\":0.9,\"x\":0.5,\"xanchor\":\"center\",\"yanchor\":\"top\"},\"font\":{\"family\":\"Helvetica Neue\",\"size\":12},\"plot_bgcolor\":\"white\",\"barmode\":\"group\",\"width\":1200,\"height\":400},                        {\"responsive\": true}                    ).then(function(){\n",
       "                            \n",
       "var gd = document.getElementById('5c65c791-de89-455a-a6fe-284cbb41efec');\n",
       "var x = new MutationObserver(function (mutations, observer) {{\n",
       "        var display = window.getComputedStyle(gd).display;\n",
       "        if (!display || display === 'none') {{\n",
       "            console.log([gd, 'removed!']);\n",
       "            Plotly.purge(gd);\n",
       "            observer.disconnect();\n",
       "        }}\n",
       "}});\n",
       "\n",
       "// Listen for the removal of the full notebook cells\n",
       "var notebookContainer = gd.closest('#notebook-container');\n",
       "if (notebookContainer) {{\n",
       "    x.observe(notebookContainer, {childList: true});\n",
       "}}\n",
       "\n",
       "// Listen for the clearing of the current output cell\n",
       "var outputEl = gd.closest('.output');\n",
       "if (outputEl) {{\n",
       "    x.observe(outputEl, {childList: true});\n",
       "}}\n",
       "\n",
       "                        })                };                });            </script>        </div>"
      ]
     },
     "metadata": {},
     "output_type": "display_data"
    },
    {
     "data": {
      "application/vnd.plotly.v1+json": {
       "config": {
        "plotlyServerURL": "https://plot.ly"
       },
       "data": [
        {
         "legendgroup": "Algeria",
         "marker": {
          "color": "#41cc96"
         },
         "name": "Algeria",
         "showlegend": true,
         "type": "bar",
         "x": [
          "Bright and vibrant",
          "Neutral and earthy",
          "Dark and moody",
          "Pastel and soft",
          "Monochrome",
          "Mixed colors"
         ],
         "xaxis": "x",
         "y": [
          50,
          48,
          0.6666666666666667,
          0.6666666666666667,
          0.6666666666666667,
          0
         ],
         "yaxis": "y"
        },
        {
         "legendgroup": "Nigeria",
         "marker": {
          "color": "#ef563b"
         },
         "name": "Nigeria",
         "showlegend": true,
         "type": "bar",
         "x": [
          "Bright and vibrant",
          "Neutral and earthy",
          "Dark and moody",
          "Pastel and soft",
          "Monochrome",
          "Mixed colors"
         ],
         "xaxis": "x",
         "y": [
          52,
          46,
          2,
          0,
          0,
          0
         ],
         "yaxis": "y"
        },
        {
         "legendgroup": "South Africa",
         "marker": {
          "color": "#f7a15b"
         },
         "name": "South Africa",
         "showlegend": true,
         "type": "bar",
         "x": [
          "Bright and vibrant",
          "Neutral and earthy",
          "Dark and moody",
          "Pastel and soft",
          "Monochrome",
          "Mixed colors"
         ],
         "xaxis": "x",
         "y": [
          36.666666666666664,
          57.333333333333336,
          4,
          1.3333333333333335,
          0,
          0
         ],
         "yaxis": "y"
        },
        {
         "legendgroup": "United States",
         "marker": {
          "color": "#47d3f3"
         },
         "name": "United States",
         "showlegend": true,
         "type": "bar",
         "x": [
          "Bright and vibrant",
          "Neutral and earthy",
          "Dark and moody",
          "Pastel and soft",
          "Monochrome",
          "Mixed colors"
         ],
         "xaxis": "x",
         "y": [
          28.000000000000004,
          59.333333333333336,
          8,
          3.3333333333333335,
          0,
          0
         ],
         "yaxis": "y"
        },
        {
         "legendgroup": "Kenya",
         "marker": {
          "color": "#636efb"
         },
         "name": "Kenya",
         "showlegend": true,
         "type": "bar",
         "x": [
          "Bright and vibrant",
          "Neutral and earthy",
          "Dark and moody",
          "Pastel and soft",
          "Monochrome",
          "Mixed colors"
         ],
         "xaxis": "x",
         "y": [
          47.69230769230769,
          46.92307692307692,
          5.384615384615385,
          0,
          0,
          0
         ],
         "yaxis": "y"
        },
        {
         "legendgroup": "Cameroon",
         "marker": {
          "color": "#ab63fb"
         },
         "name": "Cameroon",
         "showlegend": true,
         "type": "bar",
         "x": [
          "Bright and vibrant",
          "Neutral and earthy",
          "Dark and moody",
          "Pastel and soft",
          "Monochrome",
          "Mixed colors"
         ],
         "xaxis": "x",
         "y": [
          49.333333333333336,
          46.666666666666664,
          4,
          0,
          0,
          0
         ],
         "yaxis": "y"
        },
        {
         "legendgroup": "Algeria",
         "marker": {
          "color": "#41cc96"
         },
         "name": "Algeria",
         "showlegend": false,
         "type": "bar",
         "x": [
          "Bright and vibrant",
          "Neutral and earthy",
          "Dark and moody",
          "Pastel and soft",
          "Monochrome",
          "Mixed colors"
         ],
         "xaxis": "x2",
         "y": [
          96.66666666666667,
          0.6666666666666667,
          2.666666666666667,
          0,
          0,
          0
         ],
         "yaxis": "y2"
        },
        {
         "legendgroup": "Nigeria",
         "marker": {
          "color": "#ef563b"
         },
         "name": "Nigeria",
         "showlegend": false,
         "type": "bar",
         "x": [
          "Bright and vibrant",
          "Neutral and earthy",
          "Dark and moody",
          "Pastel and soft",
          "Monochrome",
          "Mixed colors"
         ],
         "xaxis": "x2",
         "y": [
          83.33333333333334,
          7.333333333333333,
          9.333333333333334,
          0,
          0,
          0
         ],
         "yaxis": "y2"
        },
        {
         "legendgroup": "South Africa",
         "marker": {
          "color": "#f7a15b"
         },
         "name": "South Africa",
         "showlegend": false,
         "type": "bar",
         "x": [
          "Bright and vibrant",
          "Neutral and earthy",
          "Dark and moody",
          "Pastel and soft",
          "Monochrome",
          "Mixed colors"
         ],
         "xaxis": "x2",
         "y": [
          80,
          10,
          9.333333333333334,
          0,
          0,
          0
         ],
         "yaxis": "y2"
        },
        {
         "legendgroup": "United States",
         "marker": {
          "color": "#47d3f3"
         },
         "name": "United States",
         "showlegend": false,
         "type": "bar",
         "x": [
          "Bright and vibrant",
          "Neutral and earthy",
          "Dark and moody",
          "Pastel and soft",
          "Monochrome",
          "Mixed colors"
         ],
         "xaxis": "x2",
         "y": [
          62.66666666666667,
          17.333333333333336,
          17.333333333333336,
          2,
          0,
          0.6666666666666667
         ],
         "yaxis": "y2"
        },
        {
         "legendgroup": "Kenya",
         "marker": {
          "color": "#636efb"
         },
         "name": "Kenya",
         "showlegend": false,
         "type": "bar",
         "x": [
          "Bright and vibrant",
          "Neutral and earthy",
          "Dark and moody",
          "Pastel and soft",
          "Monochrome",
          "Mixed colors"
         ],
         "xaxis": "x2",
         "y": [
          83.56164383561644,
          10.273972602739725,
          6.164383561643835,
          0,
          0,
          0
         ],
         "yaxis": "y2"
        },
        {
         "legendgroup": "Cameroon",
         "marker": {
          "color": "#ab63fb"
         },
         "name": "Cameroon",
         "showlegend": false,
         "type": "bar",
         "x": [
          "Bright and vibrant",
          "Neutral and earthy",
          "Dark and moody",
          "Pastel and soft",
          "Monochrome",
          "Mixed colors"
         ],
         "xaxis": "x2",
         "y": [
          86.875,
          5,
          8.125,
          0,
          0,
          0
         ],
         "yaxis": "y2"
        },
        {
         "legendgroup": "Algeria",
         "marker": {
          "color": "#41cc96"
         },
         "name": "Algeria",
         "showlegend": false,
         "type": "bar",
         "x": [
          "Bright and vibrant",
          "Neutral and earthy",
          "Dark and moody",
          "Pastel and soft",
          "Monochrome",
          "Mixed colors"
         ],
         "xaxis": "x3",
         "y": [
          28.000000000000004,
          40.666666666666664,
          26,
          5.333333333333334,
          0,
          0
         ],
         "yaxis": "y3"
        },
        {
         "legendgroup": "Nigeria",
         "marker": {
          "color": "#ef563b"
         },
         "name": "Nigeria",
         "showlegend": false,
         "type": "bar",
         "x": [
          "Bright and vibrant",
          "Neutral and earthy",
          "Dark and moody",
          "Pastel and soft",
          "Monochrome",
          "Mixed colors"
         ],
         "xaxis": "x3",
         "y": [
          0,
          0,
          0,
          0,
          0,
          0
         ],
         "yaxis": "y3"
        },
        {
         "legendgroup": "South Africa",
         "marker": {
          "color": "#f7a15b"
         },
         "name": "South Africa",
         "showlegend": false,
         "type": "bar",
         "x": [
          "Bright and vibrant",
          "Neutral and earthy",
          "Dark and moody",
          "Pastel and soft",
          "Monochrome",
          "Mixed colors"
         ],
         "xaxis": "x3",
         "y": [
          21.052631578947366,
          58.55263157894737,
          20.394736842105264,
          0,
          0,
          0
         ],
         "yaxis": "y3"
        },
        {
         "legendgroup": "United States",
         "marker": {
          "color": "#47d3f3"
         },
         "name": "United States",
         "showlegend": false,
         "type": "bar",
         "x": [
          "Bright and vibrant",
          "Neutral and earthy",
          "Dark and moody",
          "Pastel and soft",
          "Monochrome",
          "Mixed colors"
         ],
         "xaxis": "x3",
         "y": [
          38.666666666666664,
          40,
          16.666666666666664,
          4.666666666666667,
          0,
          0
         ],
         "yaxis": "y3"
        },
        {
         "legendgroup": "Kenya",
         "marker": {
          "color": "#636efb"
         },
         "name": "Kenya",
         "showlegend": false,
         "type": "bar",
         "x": [
          "Bright and vibrant",
          "Neutral and earthy",
          "Dark and moody",
          "Pastel and soft",
          "Monochrome",
          "Mixed colors"
         ],
         "xaxis": "x3",
         "y": [
          44.61538461538462,
          23.076923076923077,
          31.538461538461537,
          0.7692307692307693,
          0,
          0
         ],
         "yaxis": "y3"
        },
        {
         "legendgroup": "Cameroon",
         "marker": {
          "color": "#ab63fb"
         },
         "name": "Cameroon",
         "showlegend": false,
         "type": "bar",
         "x": [
          "Bright and vibrant",
          "Neutral and earthy",
          "Dark and moody",
          "Pastel and soft",
          "Monochrome",
          "Mixed colors"
         ],
         "xaxis": "x3",
         "y": [
          40,
          22.758620689655174,
          36.55172413793103,
          0.6896551724137931,
          0,
          0
         ],
         "yaxis": "y3"
        }
       ],
       "layout": {
        "annotations": [
         {
          "font": {
           "size": 16
          },
          "showarrow": false,
          "text": "Dall-E 3",
          "x": 0.15,
          "xanchor": "center",
          "xref": "paper",
          "y": 1,
          "yanchor": "bottom",
          "yref": "paper"
         },
         {
          "font": {
           "size": 16
          },
          "showarrow": false,
          "text": "Stable Diffusion 2.1",
          "x": 0.49999999999999994,
          "xanchor": "center",
          "xref": "paper",
          "y": 1,
          "yanchor": "bottom",
          "yref": "paper"
         },
         {
          "font": {
           "size": 16
          },
          "showarrow": false,
          "text": "Dall-E 2",
          "x": 0.85,
          "xanchor": "center",
          "xref": "paper",
          "y": 1,
          "yanchor": "bottom",
          "yref": "paper"
         }
        ],
        "barmode": "group",
        "font": {
         "family": "Helvetica Neue",
         "size": 12
        },
        "height": 400,
        "legend": {
         "bordercolor": "grey",
         "borderwidth": 1,
         "itemsizing": "constant",
         "itemwidth": 30,
         "orientation": "v",
         "title": {
          "text": "Country"
         },
         "traceorder": "normal",
         "x": 1.15,
         "xanchor": "right",
         "y": 1,
         "yanchor": "top"
        },
        "plot_bgcolor": "white",
        "template": {
         "data": {
          "bar": [
           {
            "error_x": {
             "color": "#2a3f5f"
            },
            "error_y": {
             "color": "#2a3f5f"
            },
            "marker": {
             "line": {
              "color": "#E5ECF6",
              "width": 0.5
             },
             "pattern": {
              "fillmode": "overlay",
              "size": 10,
              "solidity": 0.2
             }
            },
            "type": "bar"
           }
          ],
          "barpolar": [
           {
            "marker": {
             "line": {
              "color": "#E5ECF6",
              "width": 0.5
             },
             "pattern": {
              "fillmode": "overlay",
              "size": 10,
              "solidity": 0.2
             }
            },
            "type": "barpolar"
           }
          ],
          "carpet": [
           {
            "aaxis": {
             "endlinecolor": "#2a3f5f",
             "gridcolor": "white",
             "linecolor": "white",
             "minorgridcolor": "white",
             "startlinecolor": "#2a3f5f"
            },
            "baxis": {
             "endlinecolor": "#2a3f5f",
             "gridcolor": "white",
             "linecolor": "white",
             "minorgridcolor": "white",
             "startlinecolor": "#2a3f5f"
            },
            "type": "carpet"
           }
          ],
          "choropleth": [
           {
            "colorbar": {
             "outlinewidth": 0,
             "ticks": ""
            },
            "type": "choropleth"
           }
          ],
          "contour": [
           {
            "colorbar": {
             "outlinewidth": 0,
             "ticks": ""
            },
            "colorscale": [
             [
              0,
              "#0d0887"
             ],
             [
              0.1111111111111111,
              "#46039f"
             ],
             [
              0.2222222222222222,
              "#7201a8"
             ],
             [
              0.3333333333333333,
              "#9c179e"
             ],
             [
              0.4444444444444444,
              "#bd3786"
             ],
             [
              0.5555555555555556,
              "#d8576b"
             ],
             [
              0.6666666666666666,
              "#ed7953"
             ],
             [
              0.7777777777777778,
              "#fb9f3a"
             ],
             [
              0.8888888888888888,
              "#fdca26"
             ],
             [
              1,
              "#f0f921"
             ]
            ],
            "type": "contour"
           }
          ],
          "contourcarpet": [
           {
            "colorbar": {
             "outlinewidth": 0,
             "ticks": ""
            },
            "type": "contourcarpet"
           }
          ],
          "heatmap": [
           {
            "colorbar": {
             "outlinewidth": 0,
             "ticks": ""
            },
            "colorscale": [
             [
              0,
              "#0d0887"
             ],
             [
              0.1111111111111111,
              "#46039f"
             ],
             [
              0.2222222222222222,
              "#7201a8"
             ],
             [
              0.3333333333333333,
              "#9c179e"
             ],
             [
              0.4444444444444444,
              "#bd3786"
             ],
             [
              0.5555555555555556,
              "#d8576b"
             ],
             [
              0.6666666666666666,
              "#ed7953"
             ],
             [
              0.7777777777777778,
              "#fb9f3a"
             ],
             [
              0.8888888888888888,
              "#fdca26"
             ],
             [
              1,
              "#f0f921"
             ]
            ],
            "type": "heatmap"
           }
          ],
          "heatmapgl": [
           {
            "colorbar": {
             "outlinewidth": 0,
             "ticks": ""
            },
            "colorscale": [
             [
              0,
              "#0d0887"
             ],
             [
              0.1111111111111111,
              "#46039f"
             ],
             [
              0.2222222222222222,
              "#7201a8"
             ],
             [
              0.3333333333333333,
              "#9c179e"
             ],
             [
              0.4444444444444444,
              "#bd3786"
             ],
             [
              0.5555555555555556,
              "#d8576b"
             ],
             [
              0.6666666666666666,
              "#ed7953"
             ],
             [
              0.7777777777777778,
              "#fb9f3a"
             ],
             [
              0.8888888888888888,
              "#fdca26"
             ],
             [
              1,
              "#f0f921"
             ]
            ],
            "type": "heatmapgl"
           }
          ],
          "histogram": [
           {
            "marker": {
             "pattern": {
              "fillmode": "overlay",
              "size": 10,
              "solidity": 0.2
             }
            },
            "type": "histogram"
           }
          ],
          "histogram2d": [
           {
            "colorbar": {
             "outlinewidth": 0,
             "ticks": ""
            },
            "colorscale": [
             [
              0,
              "#0d0887"
             ],
             [
              0.1111111111111111,
              "#46039f"
             ],
             [
              0.2222222222222222,
              "#7201a8"
             ],
             [
              0.3333333333333333,
              "#9c179e"
             ],
             [
              0.4444444444444444,
              "#bd3786"
             ],
             [
              0.5555555555555556,
              "#d8576b"
             ],
             [
              0.6666666666666666,
              "#ed7953"
             ],
             [
              0.7777777777777778,
              "#fb9f3a"
             ],
             [
              0.8888888888888888,
              "#fdca26"
             ],
             [
              1,
              "#f0f921"
             ]
            ],
            "type": "histogram2d"
           }
          ],
          "histogram2dcontour": [
           {
            "colorbar": {
             "outlinewidth": 0,
             "ticks": ""
            },
            "colorscale": [
             [
              0,
              "#0d0887"
             ],
             [
              0.1111111111111111,
              "#46039f"
             ],
             [
              0.2222222222222222,
              "#7201a8"
             ],
             [
              0.3333333333333333,
              "#9c179e"
             ],
             [
              0.4444444444444444,
              "#bd3786"
             ],
             [
              0.5555555555555556,
              "#d8576b"
             ],
             [
              0.6666666666666666,
              "#ed7953"
             ],
             [
              0.7777777777777778,
              "#fb9f3a"
             ],
             [
              0.8888888888888888,
              "#fdca26"
             ],
             [
              1,
              "#f0f921"
             ]
            ],
            "type": "histogram2dcontour"
           }
          ],
          "mesh3d": [
           {
            "colorbar": {
             "outlinewidth": 0,
             "ticks": ""
            },
            "type": "mesh3d"
           }
          ],
          "parcoords": [
           {
            "line": {
             "colorbar": {
              "outlinewidth": 0,
              "ticks": ""
             }
            },
            "type": "parcoords"
           }
          ],
          "pie": [
           {
            "automargin": true,
            "type": "pie"
           }
          ],
          "scatter": [
           {
            "fillpattern": {
             "fillmode": "overlay",
             "size": 10,
             "solidity": 0.2
            },
            "type": "scatter"
           }
          ],
          "scatter3d": [
           {
            "line": {
             "colorbar": {
              "outlinewidth": 0,
              "ticks": ""
             }
            },
            "marker": {
             "colorbar": {
              "outlinewidth": 0,
              "ticks": ""
             }
            },
            "type": "scatter3d"
           }
          ],
          "scattercarpet": [
           {
            "marker": {
             "colorbar": {
              "outlinewidth": 0,
              "ticks": ""
             }
            },
            "type": "scattercarpet"
           }
          ],
          "scattergeo": [
           {
            "marker": {
             "colorbar": {
              "outlinewidth": 0,
              "ticks": ""
             }
            },
            "type": "scattergeo"
           }
          ],
          "scattergl": [
           {
            "marker": {
             "colorbar": {
              "outlinewidth": 0,
              "ticks": ""
             }
            },
            "type": "scattergl"
           }
          ],
          "scattermapbox": [
           {
            "marker": {
             "colorbar": {
              "outlinewidth": 0,
              "ticks": ""
             }
            },
            "type": "scattermapbox"
           }
          ],
          "scatterpolar": [
           {
            "marker": {
             "colorbar": {
              "outlinewidth": 0,
              "ticks": ""
             }
            },
            "type": "scatterpolar"
           }
          ],
          "scatterpolargl": [
           {
            "marker": {
             "colorbar": {
              "outlinewidth": 0,
              "ticks": ""
             }
            },
            "type": "scatterpolargl"
           }
          ],
          "scatterternary": [
           {
            "marker": {
             "colorbar": {
              "outlinewidth": 0,
              "ticks": ""
             }
            },
            "type": "scatterternary"
           }
          ],
          "surface": [
           {
            "colorbar": {
             "outlinewidth": 0,
             "ticks": ""
            },
            "colorscale": [
             [
              0,
              "#0d0887"
             ],
             [
              0.1111111111111111,
              "#46039f"
             ],
             [
              0.2222222222222222,
              "#7201a8"
             ],
             [
              0.3333333333333333,
              "#9c179e"
             ],
             [
              0.4444444444444444,
              "#bd3786"
             ],
             [
              0.5555555555555556,
              "#d8576b"
             ],
             [
              0.6666666666666666,
              "#ed7953"
             ],
             [
              0.7777777777777778,
              "#fb9f3a"
             ],
             [
              0.8888888888888888,
              "#fdca26"
             ],
             [
              1,
              "#f0f921"
             ]
            ],
            "type": "surface"
           }
          ],
          "table": [
           {
            "cells": {
             "fill": {
              "color": "#EBF0F8"
             },
             "line": {
              "color": "white"
             }
            },
            "header": {
             "fill": {
              "color": "#C8D4E3"
             },
             "line": {
              "color": "white"
             }
            },
            "type": "table"
           }
          ]
         },
         "layout": {
          "annotationdefaults": {
           "arrowcolor": "#2a3f5f",
           "arrowhead": 0,
           "arrowwidth": 1
          },
          "autotypenumbers": "strict",
          "coloraxis": {
           "colorbar": {
            "outlinewidth": 0,
            "ticks": ""
           }
          },
          "colorscale": {
           "diverging": [
            [
             0,
             "#8e0152"
            ],
            [
             0.1,
             "#c51b7d"
            ],
            [
             0.2,
             "#de77ae"
            ],
            [
             0.3,
             "#f1b6da"
            ],
            [
             0.4,
             "#fde0ef"
            ],
            [
             0.5,
             "#f7f7f7"
            ],
            [
             0.6,
             "#e6f5d0"
            ],
            [
             0.7,
             "#b8e186"
            ],
            [
             0.8,
             "#7fbc41"
            ],
            [
             0.9,
             "#4d9221"
            ],
            [
             1,
             "#276419"
            ]
           ],
           "sequential": [
            [
             0,
             "#0d0887"
            ],
            [
             0.1111111111111111,
             "#46039f"
            ],
            [
             0.2222222222222222,
             "#7201a8"
            ],
            [
             0.3333333333333333,
             "#9c179e"
            ],
            [
             0.4444444444444444,
             "#bd3786"
            ],
            [
             0.5555555555555556,
             "#d8576b"
            ],
            [
             0.6666666666666666,
             "#ed7953"
            ],
            [
             0.7777777777777778,
             "#fb9f3a"
            ],
            [
             0.8888888888888888,
             "#fdca26"
            ],
            [
             1,
             "#f0f921"
            ]
           ],
           "sequentialminus": [
            [
             0,
             "#0d0887"
            ],
            [
             0.1111111111111111,
             "#46039f"
            ],
            [
             0.2222222222222222,
             "#7201a8"
            ],
            [
             0.3333333333333333,
             "#9c179e"
            ],
            [
             0.4444444444444444,
             "#bd3786"
            ],
            [
             0.5555555555555556,
             "#d8576b"
            ],
            [
             0.6666666666666666,
             "#ed7953"
            ],
            [
             0.7777777777777778,
             "#fb9f3a"
            ],
            [
             0.8888888888888888,
             "#fdca26"
            ],
            [
             1,
             "#f0f921"
            ]
           ]
          },
          "colorway": [
           "#636efa",
           "#EF553B",
           "#00cc96",
           "#ab63fa",
           "#FFA15A",
           "#19d3f3",
           "#FF6692",
           "#B6E880",
           "#FF97FF",
           "#FECB52"
          ],
          "font": {
           "color": "#2a3f5f"
          },
          "geo": {
           "bgcolor": "white",
           "lakecolor": "white",
           "landcolor": "#E5ECF6",
           "showlakes": true,
           "showland": true,
           "subunitcolor": "white"
          },
          "hoverlabel": {
           "align": "left"
          },
          "hovermode": "closest",
          "mapbox": {
           "style": "light"
          },
          "paper_bgcolor": "white",
          "plot_bgcolor": "#E5ECF6",
          "polar": {
           "angularaxis": {
            "gridcolor": "white",
            "linecolor": "white",
            "ticks": ""
           },
           "bgcolor": "#E5ECF6",
           "radialaxis": {
            "gridcolor": "white",
            "linecolor": "white",
            "ticks": ""
           }
          },
          "scene": {
           "xaxis": {
            "backgroundcolor": "#E5ECF6",
            "gridcolor": "white",
            "gridwidth": 2,
            "linecolor": "white",
            "showbackground": true,
            "ticks": "",
            "zerolinecolor": "white"
           },
           "yaxis": {
            "backgroundcolor": "#E5ECF6",
            "gridcolor": "white",
            "gridwidth": 2,
            "linecolor": "white",
            "showbackground": true,
            "ticks": "",
            "zerolinecolor": "white"
           },
           "zaxis": {
            "backgroundcolor": "#E5ECF6",
            "gridcolor": "white",
            "gridwidth": 2,
            "linecolor": "white",
            "showbackground": true,
            "ticks": "",
            "zerolinecolor": "white"
           }
          },
          "shapedefaults": {
           "line": {
            "color": "#2a3f5f"
           }
          },
          "ternary": {
           "aaxis": {
            "gridcolor": "white",
            "linecolor": "white",
            "ticks": ""
           },
           "baxis": {
            "gridcolor": "white",
            "linecolor": "white",
            "ticks": ""
           },
           "bgcolor": "#E5ECF6",
           "caxis": {
            "gridcolor": "white",
            "linecolor": "white",
            "ticks": ""
           }
          },
          "title": {
           "x": 0.05
          },
          "xaxis": {
           "automargin": true,
           "gridcolor": "white",
           "linecolor": "white",
           "ticks": "",
           "title": {
            "standoff": 15
           },
           "zerolinecolor": "white",
           "zerolinewidth": 2
          },
          "yaxis": {
           "automargin": true,
           "gridcolor": "white",
           "linecolor": "white",
           "ticks": "",
           "title": {
            "standoff": 15
           },
           "zerolinecolor": "white",
           "zerolinewidth": 2
          }
         }
        },
        "title": {
         "font": {
          "color": "black",
          "family": "Helvetica Neue",
          "size": 18
         },
         "text": "What is the dominant color scheme of the image?",
         "x": 0.5,
         "xanchor": "center",
         "y": 0.9,
         "yanchor": "top"
        },
        "width": 1200,
        "xaxis": {
         "anchor": "y",
         "categoryarray": [
          "Bright and vibrant",
          "Neutral and earthy",
          "Dark and moody",
          "Pastel and soft",
          "Monochrome",
          "Mixed colors"
         ],
         "categoryorder": "array",
         "domain": [
          0,
          0.3
         ],
         "linecolor": "grey",
         "linewidth": 2,
         "mirror": true,
         "showline": true,
         "ticktext": [
          "Bright and vibrant",
          "Neutral and earthy",
          "Dark and moody",
          "Pastel and soft",
          "Monochrome",
          "Mixed colors"
         ],
         "tickvals": [
          "Bright and vibrant",
          "Neutral and earthy",
          "Dark and moody",
          "Pastel and soft",
          "Monochrome",
          "Mixed colors"
         ]
        },
        "xaxis2": {
         "anchor": "y2",
         "categoryarray": [
          "Bright and vibrant",
          "Neutral and earthy",
          "Dark and moody",
          "Pastel and soft",
          "Monochrome",
          "Mixed colors"
         ],
         "categoryorder": "array",
         "domain": [
          0.35,
          0.6499999999999999
         ],
         "linecolor": "grey",
         "linewidth": 2,
         "mirror": true,
         "showline": true,
         "ticktext": [
          "Bright and vibrant",
          "Neutral and earthy",
          "Dark and moody",
          "Pastel and soft",
          "Monochrome",
          "Mixed colors"
         ],
         "tickvals": [
          "Bright and vibrant",
          "Neutral and earthy",
          "Dark and moody",
          "Pastel and soft",
          "Monochrome",
          "Mixed colors"
         ]
        },
        "xaxis3": {
         "anchor": "y3",
         "categoryarray": [
          "Bright and vibrant",
          "Neutral and earthy",
          "Dark and moody",
          "Pastel and soft",
          "Monochrome",
          "Mixed colors"
         ],
         "categoryorder": "array",
         "domain": [
          0.7,
          1
         ],
         "linecolor": "grey",
         "linewidth": 2,
         "mirror": true,
         "showline": true,
         "ticktext": [
          "Bright and vibrant",
          "Neutral and earthy",
          "Dark and moody",
          "Pastel and soft",
          "Monochrome",
          "Mixed colors"
         ],
         "tickvals": [
          "Bright and vibrant",
          "Neutral and earthy",
          "Dark and moody",
          "Pastel and soft",
          "Monochrome",
          "Mixed colors"
         ]
        },
        "yaxis": {
         "anchor": "x",
         "domain": [
          0,
          1
         ],
         "linecolor": "grey",
         "linewidth": 2,
         "mirror": true,
         "showline": true,
         "title": {
          "text": "Proportion of Images (%)"
         }
        },
        "yaxis2": {
         "anchor": "x2",
         "domain": [
          0,
          1
         ],
         "linecolor": "grey",
         "linewidth": 2,
         "matches": "y",
         "mirror": true,
         "showline": true,
         "showticklabels": false
        },
        "yaxis3": {
         "anchor": "x3",
         "domain": [
          0,
          1
         ],
         "linecolor": "grey",
         "linewidth": 2,
         "matches": "y",
         "mirror": true,
         "showline": true,
         "showticklabels": false
        }
       }
      },
      "text/html": [
       "<div>                            <div id=\"dd758b27-d4e3-4884-8996-d5e59c819fa7\" class=\"plotly-graph-div\" style=\"height:400px; width:1200px;\"></div>            <script type=\"text/javascript\">                require([\"plotly\"], function(Plotly) {                    window.PLOTLYENV=window.PLOTLYENV || {};                                    if (document.getElementById(\"dd758b27-d4e3-4884-8996-d5e59c819fa7\")) {                    Plotly.newPlot(                        \"dd758b27-d4e3-4884-8996-d5e59c819fa7\",                        [{\"legendgroup\":\"Algeria\",\"marker\":{\"color\":\"#41cc96\"},\"name\":\"Algeria\",\"showlegend\":true,\"x\":[\"Bright and vibrant\",\"Neutral and earthy\",\"Dark and moody\",\"Pastel and soft\",\"Monochrome\",\"Mixed colors\"],\"y\":[50.0,48.0,0.6666666666666667,0.6666666666666667,0.6666666666666667,0.0],\"type\":\"bar\",\"xaxis\":\"x\",\"yaxis\":\"y\"},{\"legendgroup\":\"Nigeria\",\"marker\":{\"color\":\"#ef563b\"},\"name\":\"Nigeria\",\"showlegend\":true,\"x\":[\"Bright and vibrant\",\"Neutral and earthy\",\"Dark and moody\",\"Pastel and soft\",\"Monochrome\",\"Mixed colors\"],\"y\":[52.0,46.0,2.0,0.0,0.0,0.0],\"type\":\"bar\",\"xaxis\":\"x\",\"yaxis\":\"y\"},{\"legendgroup\":\"South Africa\",\"marker\":{\"color\":\"#f7a15b\"},\"name\":\"South Africa\",\"showlegend\":true,\"x\":[\"Bright and vibrant\",\"Neutral and earthy\",\"Dark and moody\",\"Pastel and soft\",\"Monochrome\",\"Mixed colors\"],\"y\":[36.666666666666664,57.333333333333336,4.0,1.3333333333333335,0.0,0.0],\"type\":\"bar\",\"xaxis\":\"x\",\"yaxis\":\"y\"},{\"legendgroup\":\"United States\",\"marker\":{\"color\":\"#47d3f3\"},\"name\":\"United States\",\"showlegend\":true,\"x\":[\"Bright and vibrant\",\"Neutral and earthy\",\"Dark and moody\",\"Pastel and soft\",\"Monochrome\",\"Mixed colors\"],\"y\":[28.000000000000004,59.333333333333336,8.0,3.3333333333333335,0.0,0.0],\"type\":\"bar\",\"xaxis\":\"x\",\"yaxis\":\"y\"},{\"legendgroup\":\"Kenya\",\"marker\":{\"color\":\"#636efb\"},\"name\":\"Kenya\",\"showlegend\":true,\"x\":[\"Bright and vibrant\",\"Neutral and earthy\",\"Dark and moody\",\"Pastel and soft\",\"Monochrome\",\"Mixed colors\"],\"y\":[47.69230769230769,46.92307692307692,5.384615384615385,0.0,0.0,0.0],\"type\":\"bar\",\"xaxis\":\"x\",\"yaxis\":\"y\"},{\"legendgroup\":\"Cameroon\",\"marker\":{\"color\":\"#ab63fb\"},\"name\":\"Cameroon\",\"showlegend\":true,\"x\":[\"Bright and vibrant\",\"Neutral and earthy\",\"Dark and moody\",\"Pastel and soft\",\"Monochrome\",\"Mixed colors\"],\"y\":[49.333333333333336,46.666666666666664,4.0,0.0,0.0,0.0],\"type\":\"bar\",\"xaxis\":\"x\",\"yaxis\":\"y\"},{\"legendgroup\":\"Algeria\",\"marker\":{\"color\":\"#41cc96\"},\"name\":\"Algeria\",\"showlegend\":false,\"x\":[\"Bright and vibrant\",\"Neutral and earthy\",\"Dark and moody\",\"Pastel and soft\",\"Monochrome\",\"Mixed colors\"],\"y\":[96.66666666666667,0.6666666666666667,2.666666666666667,0.0,0.0,0.0],\"type\":\"bar\",\"xaxis\":\"x2\",\"yaxis\":\"y2\"},{\"legendgroup\":\"Nigeria\",\"marker\":{\"color\":\"#ef563b\"},\"name\":\"Nigeria\",\"showlegend\":false,\"x\":[\"Bright and vibrant\",\"Neutral and earthy\",\"Dark and moody\",\"Pastel and soft\",\"Monochrome\",\"Mixed colors\"],\"y\":[83.33333333333334,7.333333333333333,9.333333333333334,0.0,0.0,0.0],\"type\":\"bar\",\"xaxis\":\"x2\",\"yaxis\":\"y2\"},{\"legendgroup\":\"South Africa\",\"marker\":{\"color\":\"#f7a15b\"},\"name\":\"South Africa\",\"showlegend\":false,\"x\":[\"Bright and vibrant\",\"Neutral and earthy\",\"Dark and moody\",\"Pastel and soft\",\"Monochrome\",\"Mixed colors\"],\"y\":[80.0,10.0,9.333333333333334,0.0,0.0,0.0],\"type\":\"bar\",\"xaxis\":\"x2\",\"yaxis\":\"y2\"},{\"legendgroup\":\"United States\",\"marker\":{\"color\":\"#47d3f3\"},\"name\":\"United States\",\"showlegend\":false,\"x\":[\"Bright and vibrant\",\"Neutral and earthy\",\"Dark and moody\",\"Pastel and soft\",\"Monochrome\",\"Mixed colors\"],\"y\":[62.66666666666667,17.333333333333336,17.333333333333336,2.0,0.0,0.6666666666666667],\"type\":\"bar\",\"xaxis\":\"x2\",\"yaxis\":\"y2\"},{\"legendgroup\":\"Kenya\",\"marker\":{\"color\":\"#636efb\"},\"name\":\"Kenya\",\"showlegend\":false,\"x\":[\"Bright and vibrant\",\"Neutral and earthy\",\"Dark and moody\",\"Pastel and soft\",\"Monochrome\",\"Mixed colors\"],\"y\":[83.56164383561644,10.273972602739725,6.164383561643835,0.0,0.0,0.0],\"type\":\"bar\",\"xaxis\":\"x2\",\"yaxis\":\"y2\"},{\"legendgroup\":\"Cameroon\",\"marker\":{\"color\":\"#ab63fb\"},\"name\":\"Cameroon\",\"showlegend\":false,\"x\":[\"Bright and vibrant\",\"Neutral and earthy\",\"Dark and moody\",\"Pastel and soft\",\"Monochrome\",\"Mixed colors\"],\"y\":[86.875,5.0,8.125,0.0,0.0,0.0],\"type\":\"bar\",\"xaxis\":\"x2\",\"yaxis\":\"y2\"},{\"legendgroup\":\"Algeria\",\"marker\":{\"color\":\"#41cc96\"},\"name\":\"Algeria\",\"showlegend\":false,\"x\":[\"Bright and vibrant\",\"Neutral and earthy\",\"Dark and moody\",\"Pastel and soft\",\"Monochrome\",\"Mixed colors\"],\"y\":[28.000000000000004,40.666666666666664,26.0,5.333333333333334,0.0,0.0],\"type\":\"bar\",\"xaxis\":\"x3\",\"yaxis\":\"y3\"},{\"legendgroup\":\"Nigeria\",\"marker\":{\"color\":\"#ef563b\"},\"name\":\"Nigeria\",\"showlegend\":false,\"x\":[\"Bright and vibrant\",\"Neutral and earthy\",\"Dark and moody\",\"Pastel and soft\",\"Monochrome\",\"Mixed colors\"],\"y\":[0.0,0.0,0.0,0.0,0.0,0.0],\"type\":\"bar\",\"xaxis\":\"x3\",\"yaxis\":\"y3\"},{\"legendgroup\":\"South Africa\",\"marker\":{\"color\":\"#f7a15b\"},\"name\":\"South Africa\",\"showlegend\":false,\"x\":[\"Bright and vibrant\",\"Neutral and earthy\",\"Dark and moody\",\"Pastel and soft\",\"Monochrome\",\"Mixed colors\"],\"y\":[21.052631578947366,58.55263157894737,20.394736842105264,0.0,0.0,0.0],\"type\":\"bar\",\"xaxis\":\"x3\",\"yaxis\":\"y3\"},{\"legendgroup\":\"United States\",\"marker\":{\"color\":\"#47d3f3\"},\"name\":\"United States\",\"showlegend\":false,\"x\":[\"Bright and vibrant\",\"Neutral and earthy\",\"Dark and moody\",\"Pastel and soft\",\"Monochrome\",\"Mixed colors\"],\"y\":[38.666666666666664,40.0,16.666666666666664,4.666666666666667,0.0,0.0],\"type\":\"bar\",\"xaxis\":\"x3\",\"yaxis\":\"y3\"},{\"legendgroup\":\"Kenya\",\"marker\":{\"color\":\"#636efb\"},\"name\":\"Kenya\",\"showlegend\":false,\"x\":[\"Bright and vibrant\",\"Neutral and earthy\",\"Dark and moody\",\"Pastel and soft\",\"Monochrome\",\"Mixed colors\"],\"y\":[44.61538461538462,23.076923076923077,31.538461538461537,0.7692307692307693,0.0,0.0],\"type\":\"bar\",\"xaxis\":\"x3\",\"yaxis\":\"y3\"},{\"legendgroup\":\"Cameroon\",\"marker\":{\"color\":\"#ab63fb\"},\"name\":\"Cameroon\",\"showlegend\":false,\"x\":[\"Bright and vibrant\",\"Neutral and earthy\",\"Dark and moody\",\"Pastel and soft\",\"Monochrome\",\"Mixed colors\"],\"y\":[40.0,22.758620689655174,36.55172413793103,0.6896551724137931,0.0,0.0],\"type\":\"bar\",\"xaxis\":\"x3\",\"yaxis\":\"y3\"}],                        {\"template\":{\"data\":{\"histogram2dcontour\":[{\"type\":\"histogram2dcontour\",\"colorbar\":{\"outlinewidth\":0,\"ticks\":\"\"},\"colorscale\":[[0.0,\"#0d0887\"],[0.1111111111111111,\"#46039f\"],[0.2222222222222222,\"#7201a8\"],[0.3333333333333333,\"#9c179e\"],[0.4444444444444444,\"#bd3786\"],[0.5555555555555556,\"#d8576b\"],[0.6666666666666666,\"#ed7953\"],[0.7777777777777778,\"#fb9f3a\"],[0.8888888888888888,\"#fdca26\"],[1.0,\"#f0f921\"]]}],\"choropleth\":[{\"type\":\"choropleth\",\"colorbar\":{\"outlinewidth\":0,\"ticks\":\"\"}}],\"histogram2d\":[{\"type\":\"histogram2d\",\"colorbar\":{\"outlinewidth\":0,\"ticks\":\"\"},\"colorscale\":[[0.0,\"#0d0887\"],[0.1111111111111111,\"#46039f\"],[0.2222222222222222,\"#7201a8\"],[0.3333333333333333,\"#9c179e\"],[0.4444444444444444,\"#bd3786\"],[0.5555555555555556,\"#d8576b\"],[0.6666666666666666,\"#ed7953\"],[0.7777777777777778,\"#fb9f3a\"],[0.8888888888888888,\"#fdca26\"],[1.0,\"#f0f921\"]]}],\"heatmap\":[{\"type\":\"heatmap\",\"colorbar\":{\"outlinewidth\":0,\"ticks\":\"\"},\"colorscale\":[[0.0,\"#0d0887\"],[0.1111111111111111,\"#46039f\"],[0.2222222222222222,\"#7201a8\"],[0.3333333333333333,\"#9c179e\"],[0.4444444444444444,\"#bd3786\"],[0.5555555555555556,\"#d8576b\"],[0.6666666666666666,\"#ed7953\"],[0.7777777777777778,\"#fb9f3a\"],[0.8888888888888888,\"#fdca26\"],[1.0,\"#f0f921\"]]}],\"heatmapgl\":[{\"type\":\"heatmapgl\",\"colorbar\":{\"outlinewidth\":0,\"ticks\":\"\"},\"colorscale\":[[0.0,\"#0d0887\"],[0.1111111111111111,\"#46039f\"],[0.2222222222222222,\"#7201a8\"],[0.3333333333333333,\"#9c179e\"],[0.4444444444444444,\"#bd3786\"],[0.5555555555555556,\"#d8576b\"],[0.6666666666666666,\"#ed7953\"],[0.7777777777777778,\"#fb9f3a\"],[0.8888888888888888,\"#fdca26\"],[1.0,\"#f0f921\"]]}],\"contourcarpet\":[{\"type\":\"contourcarpet\",\"colorbar\":{\"outlinewidth\":0,\"ticks\":\"\"}}],\"contour\":[{\"type\":\"contour\",\"colorbar\":{\"outlinewidth\":0,\"ticks\":\"\"},\"colorscale\":[[0.0,\"#0d0887\"],[0.1111111111111111,\"#46039f\"],[0.2222222222222222,\"#7201a8\"],[0.3333333333333333,\"#9c179e\"],[0.4444444444444444,\"#bd3786\"],[0.5555555555555556,\"#d8576b\"],[0.6666666666666666,\"#ed7953\"],[0.7777777777777778,\"#fb9f3a\"],[0.8888888888888888,\"#fdca26\"],[1.0,\"#f0f921\"]]}],\"surface\":[{\"type\":\"surface\",\"colorbar\":{\"outlinewidth\":0,\"ticks\":\"\"},\"colorscale\":[[0.0,\"#0d0887\"],[0.1111111111111111,\"#46039f\"],[0.2222222222222222,\"#7201a8\"],[0.3333333333333333,\"#9c179e\"],[0.4444444444444444,\"#bd3786\"],[0.5555555555555556,\"#d8576b\"],[0.6666666666666666,\"#ed7953\"],[0.7777777777777778,\"#fb9f3a\"],[0.8888888888888888,\"#fdca26\"],[1.0,\"#f0f921\"]]}],\"mesh3d\":[{\"type\":\"mesh3d\",\"colorbar\":{\"outlinewidth\":0,\"ticks\":\"\"}}],\"scatter\":[{\"fillpattern\":{\"fillmode\":\"overlay\",\"size\":10,\"solidity\":0.2},\"type\":\"scatter\"}],\"parcoords\":[{\"type\":\"parcoords\",\"line\":{\"colorbar\":{\"outlinewidth\":0,\"ticks\":\"\"}}}],\"scatterpolargl\":[{\"type\":\"scatterpolargl\",\"marker\":{\"colorbar\":{\"outlinewidth\":0,\"ticks\":\"\"}}}],\"bar\":[{\"error_x\":{\"color\":\"#2a3f5f\"},\"error_y\":{\"color\":\"#2a3f5f\"},\"marker\":{\"line\":{\"color\":\"#E5ECF6\",\"width\":0.5},\"pattern\":{\"fillmode\":\"overlay\",\"size\":10,\"solidity\":0.2}},\"type\":\"bar\"}],\"scattergeo\":[{\"type\":\"scattergeo\",\"marker\":{\"colorbar\":{\"outlinewidth\":0,\"ticks\":\"\"}}}],\"scatterpolar\":[{\"type\":\"scatterpolar\",\"marker\":{\"colorbar\":{\"outlinewidth\":0,\"ticks\":\"\"}}}],\"histogram\":[{\"marker\":{\"pattern\":{\"fillmode\":\"overlay\",\"size\":10,\"solidity\":0.2}},\"type\":\"histogram\"}],\"scattergl\":[{\"type\":\"scattergl\",\"marker\":{\"colorbar\":{\"outlinewidth\":0,\"ticks\":\"\"}}}],\"scatter3d\":[{\"type\":\"scatter3d\",\"line\":{\"colorbar\":{\"outlinewidth\":0,\"ticks\":\"\"}},\"marker\":{\"colorbar\":{\"outlinewidth\":0,\"ticks\":\"\"}}}],\"scattermapbox\":[{\"type\":\"scattermapbox\",\"marker\":{\"colorbar\":{\"outlinewidth\":0,\"ticks\":\"\"}}}],\"scatterternary\":[{\"type\":\"scatterternary\",\"marker\":{\"colorbar\":{\"outlinewidth\":0,\"ticks\":\"\"}}}],\"scattercarpet\":[{\"type\":\"scattercarpet\",\"marker\":{\"colorbar\":{\"outlinewidth\":0,\"ticks\":\"\"}}}],\"carpet\":[{\"aaxis\":{\"endlinecolor\":\"#2a3f5f\",\"gridcolor\":\"white\",\"linecolor\":\"white\",\"minorgridcolor\":\"white\",\"startlinecolor\":\"#2a3f5f\"},\"baxis\":{\"endlinecolor\":\"#2a3f5f\",\"gridcolor\":\"white\",\"linecolor\":\"white\",\"minorgridcolor\":\"white\",\"startlinecolor\":\"#2a3f5f\"},\"type\":\"carpet\"}],\"table\":[{\"cells\":{\"fill\":{\"color\":\"#EBF0F8\"},\"line\":{\"color\":\"white\"}},\"header\":{\"fill\":{\"color\":\"#C8D4E3\"},\"line\":{\"color\":\"white\"}},\"type\":\"table\"}],\"barpolar\":[{\"marker\":{\"line\":{\"color\":\"#E5ECF6\",\"width\":0.5},\"pattern\":{\"fillmode\":\"overlay\",\"size\":10,\"solidity\":0.2}},\"type\":\"barpolar\"}],\"pie\":[{\"automargin\":true,\"type\":\"pie\"}]},\"layout\":{\"autotypenumbers\":\"strict\",\"colorway\":[\"#636efa\",\"#EF553B\",\"#00cc96\",\"#ab63fa\",\"#FFA15A\",\"#19d3f3\",\"#FF6692\",\"#B6E880\",\"#FF97FF\",\"#FECB52\"],\"font\":{\"color\":\"#2a3f5f\"},\"hovermode\":\"closest\",\"hoverlabel\":{\"align\":\"left\"},\"paper_bgcolor\":\"white\",\"plot_bgcolor\":\"#E5ECF6\",\"polar\":{\"bgcolor\":\"#E5ECF6\",\"angularaxis\":{\"gridcolor\":\"white\",\"linecolor\":\"white\",\"ticks\":\"\"},\"radialaxis\":{\"gridcolor\":\"white\",\"linecolor\":\"white\",\"ticks\":\"\"}},\"ternary\":{\"bgcolor\":\"#E5ECF6\",\"aaxis\":{\"gridcolor\":\"white\",\"linecolor\":\"white\",\"ticks\":\"\"},\"baxis\":{\"gridcolor\":\"white\",\"linecolor\":\"white\",\"ticks\":\"\"},\"caxis\":{\"gridcolor\":\"white\",\"linecolor\":\"white\",\"ticks\":\"\"}},\"coloraxis\":{\"colorbar\":{\"outlinewidth\":0,\"ticks\":\"\"}},\"colorscale\":{\"sequential\":[[0.0,\"#0d0887\"],[0.1111111111111111,\"#46039f\"],[0.2222222222222222,\"#7201a8\"],[0.3333333333333333,\"#9c179e\"],[0.4444444444444444,\"#bd3786\"],[0.5555555555555556,\"#d8576b\"],[0.6666666666666666,\"#ed7953\"],[0.7777777777777778,\"#fb9f3a\"],[0.8888888888888888,\"#fdca26\"],[1.0,\"#f0f921\"]],\"sequentialminus\":[[0.0,\"#0d0887\"],[0.1111111111111111,\"#46039f\"],[0.2222222222222222,\"#7201a8\"],[0.3333333333333333,\"#9c179e\"],[0.4444444444444444,\"#bd3786\"],[0.5555555555555556,\"#d8576b\"],[0.6666666666666666,\"#ed7953\"],[0.7777777777777778,\"#fb9f3a\"],[0.8888888888888888,\"#fdca26\"],[1.0,\"#f0f921\"]],\"diverging\":[[0,\"#8e0152\"],[0.1,\"#c51b7d\"],[0.2,\"#de77ae\"],[0.3,\"#f1b6da\"],[0.4,\"#fde0ef\"],[0.5,\"#f7f7f7\"],[0.6,\"#e6f5d0\"],[0.7,\"#b8e186\"],[0.8,\"#7fbc41\"],[0.9,\"#4d9221\"],[1,\"#276419\"]]},\"xaxis\":{\"gridcolor\":\"white\",\"linecolor\":\"white\",\"ticks\":\"\",\"title\":{\"standoff\":15},\"zerolinecolor\":\"white\",\"automargin\":true,\"zerolinewidth\":2},\"yaxis\":{\"gridcolor\":\"white\",\"linecolor\":\"white\",\"ticks\":\"\",\"title\":{\"standoff\":15},\"zerolinecolor\":\"white\",\"automargin\":true,\"zerolinewidth\":2},\"scene\":{\"xaxis\":{\"backgroundcolor\":\"#E5ECF6\",\"gridcolor\":\"white\",\"linecolor\":\"white\",\"showbackground\":true,\"ticks\":\"\",\"zerolinecolor\":\"white\",\"gridwidth\":2},\"yaxis\":{\"backgroundcolor\":\"#E5ECF6\",\"gridcolor\":\"white\",\"linecolor\":\"white\",\"showbackground\":true,\"ticks\":\"\",\"zerolinecolor\":\"white\",\"gridwidth\":2},\"zaxis\":{\"backgroundcolor\":\"#E5ECF6\",\"gridcolor\":\"white\",\"linecolor\":\"white\",\"showbackground\":true,\"ticks\":\"\",\"zerolinecolor\":\"white\",\"gridwidth\":2}},\"shapedefaults\":{\"line\":{\"color\":\"#2a3f5f\"}},\"annotationdefaults\":{\"arrowcolor\":\"#2a3f5f\",\"arrowhead\":0,\"arrowwidth\":1},\"geo\":{\"bgcolor\":\"white\",\"landcolor\":\"#E5ECF6\",\"subunitcolor\":\"white\",\"showland\":true,\"showlakes\":true,\"lakecolor\":\"white\"},\"title\":{\"x\":0.05},\"mapbox\":{\"style\":\"light\"}}},\"xaxis\":{\"anchor\":\"y\",\"domain\":[0.0,0.3],\"tickvals\":[\"Bright and vibrant\",\"Neutral and earthy\",\"Dark and moody\",\"Pastel and soft\",\"Monochrome\",\"Mixed colors\"],\"ticktext\":[\"Bright and vibrant\",\"Neutral and earthy\",\"Dark and moody\",\"Pastel and soft\",\"Monochrome\",\"Mixed colors\"],\"categoryorder\":\"array\",\"categoryarray\":[\"Bright and vibrant\",\"Neutral and earthy\",\"Dark and moody\",\"Pastel and soft\",\"Monochrome\",\"Mixed colors\"],\"showline\":true,\"linewidth\":2,\"linecolor\":\"grey\",\"mirror\":true},\"yaxis\":{\"anchor\":\"x\",\"domain\":[0.0,1.0],\"title\":{\"text\":\"Proportion of Images (%)\"},\"showline\":true,\"linewidth\":2,\"linecolor\":\"grey\",\"mirror\":true},\"xaxis2\":{\"anchor\":\"y2\",\"domain\":[0.35,0.6499999999999999],\"tickvals\":[\"Bright and vibrant\",\"Neutral and earthy\",\"Dark and moody\",\"Pastel and soft\",\"Monochrome\",\"Mixed colors\"],\"ticktext\":[\"Bright and vibrant\",\"Neutral and earthy\",\"Dark and moody\",\"Pastel and soft\",\"Monochrome\",\"Mixed colors\"],\"categoryorder\":\"array\",\"categoryarray\":[\"Bright and vibrant\",\"Neutral and earthy\",\"Dark and moody\",\"Pastel and soft\",\"Monochrome\",\"Mixed colors\"],\"showline\":true,\"linewidth\":2,\"linecolor\":\"grey\",\"mirror\":true},\"yaxis2\":{\"anchor\":\"x2\",\"domain\":[0.0,1.0],\"matches\":\"y\",\"showticklabels\":false,\"showline\":true,\"linewidth\":2,\"linecolor\":\"grey\",\"mirror\":true},\"xaxis3\":{\"anchor\":\"y3\",\"domain\":[0.7,1.0],\"tickvals\":[\"Bright and vibrant\",\"Neutral and earthy\",\"Dark and moody\",\"Pastel and soft\",\"Monochrome\",\"Mixed colors\"],\"ticktext\":[\"Bright and vibrant\",\"Neutral and earthy\",\"Dark and moody\",\"Pastel and soft\",\"Monochrome\",\"Mixed colors\"],\"categoryorder\":\"array\",\"categoryarray\":[\"Bright and vibrant\",\"Neutral and earthy\",\"Dark and moody\",\"Pastel and soft\",\"Monochrome\",\"Mixed colors\"],\"showline\":true,\"linewidth\":2,\"linecolor\":\"grey\",\"mirror\":true},\"yaxis3\":{\"anchor\":\"x3\",\"domain\":[0.0,1.0],\"matches\":\"y\",\"showticklabels\":false,\"showline\":true,\"linewidth\":2,\"linecolor\":\"grey\",\"mirror\":true},\"annotations\":[{\"font\":{\"size\":16},\"showarrow\":false,\"text\":\"Dall-E 3\",\"x\":0.15,\"xanchor\":\"center\",\"xref\":\"paper\",\"y\":1.0,\"yanchor\":\"bottom\",\"yref\":\"paper\"},{\"font\":{\"size\":16},\"showarrow\":false,\"text\":\"Stable Diffusion 2.1\",\"x\":0.49999999999999994,\"xanchor\":\"center\",\"xref\":\"paper\",\"y\":1.0,\"yanchor\":\"bottom\",\"yref\":\"paper\"},{\"font\":{\"size\":16},\"showarrow\":false,\"text\":\"Dall-E 2\",\"x\":0.85,\"xanchor\":\"center\",\"xref\":\"paper\",\"y\":1.0,\"yanchor\":\"bottom\",\"yref\":\"paper\"}],\"legend\":{\"title\":{\"text\":\"Country\"},\"orientation\":\"v\",\"yanchor\":\"top\",\"y\":1,\"xanchor\":\"right\",\"x\":1.15,\"itemwidth\":30,\"itemsizing\":\"constant\",\"traceorder\":\"normal\",\"bordercolor\":\"grey\",\"borderwidth\":1},\"title\":{\"font\":{\"family\":\"Helvetica Neue\",\"size\":18,\"color\":\"black\"},\"text\":\"What is the dominant color scheme of the image?\",\"y\":0.9,\"x\":0.5,\"xanchor\":\"center\",\"yanchor\":\"top\"},\"font\":{\"family\":\"Helvetica Neue\",\"size\":12},\"plot_bgcolor\":\"white\",\"barmode\":\"group\",\"width\":1200,\"height\":400},                        {\"responsive\": true}                    ).then(function(){\n",
       "                            \n",
       "var gd = document.getElementById('dd758b27-d4e3-4884-8996-d5e59c819fa7');\n",
       "var x = new MutationObserver(function (mutations, observer) {{\n",
       "        var display = window.getComputedStyle(gd).display;\n",
       "        if (!display || display === 'none') {{\n",
       "            console.log([gd, 'removed!']);\n",
       "            Plotly.purge(gd);\n",
       "            observer.disconnect();\n",
       "        }}\n",
       "}});\n",
       "\n",
       "// Listen for the removal of the full notebook cells\n",
       "var notebookContainer = gd.closest('#notebook-container');\n",
       "if (notebookContainer) {{\n",
       "    x.observe(notebookContainer, {childList: true});\n",
       "}}\n",
       "\n",
       "// Listen for the clearing of the current output cell\n",
       "var outputEl = gd.closest('.output');\n",
       "if (outputEl) {{\n",
       "    x.observe(outputEl, {childList: true});\n",
       "}}\n",
       "\n",
       "                        })                };                });            </script>        </div>"
      ]
     },
     "metadata": {},
     "output_type": "display_data"
    },
    {
     "data": {
      "application/vnd.plotly.v1+json": {
       "config": {
        "plotlyServerURL": "https://plot.ly"
       },
       "data": [
        {
         "legendgroup": "Algeria",
         "marker": {
          "color": "#41cc96"
         },
         "name": "Algeria",
         "showlegend": true,
         "type": "bar",
         "x": [
          "Home kitchen",
          "Restaurant",
          "Street food stall",
          "Picnic area",
          "Market",
          "Industrial kitchen",
          "Rural or dusty outdoor setting",
          "Other"
         ],
         "xaxis": "x",
         "y": [
          42.66666666666667,
          50,
          0,
          0,
          0,
          0,
          1.3333333333333335,
          6
         ],
         "yaxis": "y"
        },
        {
         "legendgroup": "Nigeria",
         "marker": {
          "color": "#ef563b"
         },
         "name": "Nigeria",
         "showlegend": true,
         "type": "bar",
         "x": [
          "Home kitchen",
          "Restaurant",
          "Street food stall",
          "Picnic area",
          "Market",
          "Industrial kitchen",
          "Rural or dusty outdoor setting",
          "Other"
         ],
         "xaxis": "x",
         "y": [
          56.666666666666664,
          40.666666666666664,
          0.6666666666666667,
          0,
          0,
          0,
          0,
          2
         ],
         "yaxis": "y"
        },
        {
         "legendgroup": "South Africa",
         "marker": {
          "color": "#f7a15b"
         },
         "name": "South Africa",
         "showlegend": true,
         "type": "bar",
         "x": [
          "Home kitchen",
          "Restaurant",
          "Street food stall",
          "Picnic area",
          "Market",
          "Industrial kitchen",
          "Rural or dusty outdoor setting",
          "Other"
         ],
         "xaxis": "x",
         "y": [
          62,
          32,
          0.6666666666666667,
          0,
          0,
          0,
          0,
          5.333333333333334
         ],
         "yaxis": "y"
        },
        {
         "legendgroup": "United States",
         "marker": {
          "color": "#47d3f3"
         },
         "name": "United States",
         "showlegend": true,
         "type": "bar",
         "x": [
          "Home kitchen",
          "Restaurant",
          "Street food stall",
          "Picnic area",
          "Market",
          "Industrial kitchen",
          "Rural or dusty outdoor setting",
          "Other"
         ],
         "xaxis": "x",
         "y": [
          45.33333333333333,
          46.666666666666664,
          0.6666666666666667,
          2.666666666666667,
          0,
          0,
          0.6666666666666667,
          4
         ],
         "yaxis": "y"
        },
        {
         "legendgroup": "Kenya",
         "marker": {
          "color": "#636efb"
         },
         "name": "Kenya",
         "showlegend": true,
         "type": "bar",
         "x": [
          "Home kitchen",
          "Restaurant",
          "Street food stall",
          "Picnic area",
          "Market",
          "Industrial kitchen",
          "Rural or dusty outdoor setting",
          "Other"
         ],
         "xaxis": "x",
         "y": [
          42.30769230769231,
          50,
          0,
          0.7692307692307693,
          0,
          0,
          1.5384615384615385,
          5.384615384615385
         ],
         "yaxis": "y"
        },
        {
         "legendgroup": "Cameroon",
         "marker": {
          "color": "#ab63fb"
         },
         "name": "Cameroon",
         "showlegend": true,
         "type": "bar",
         "x": [
          "Home kitchen",
          "Restaurant",
          "Street food stall",
          "Picnic area",
          "Market",
          "Industrial kitchen",
          "Rural or dusty outdoor setting",
          "Other"
         ],
         "xaxis": "x",
         "y": [
          56.00000000000001,
          38.666666666666664,
          1.3333333333333335,
          0,
          0,
          0,
          0,
          4
         ],
         "yaxis": "y"
        },
        {
         "legendgroup": "Algeria",
         "marker": {
          "color": "#41cc96"
         },
         "name": "Algeria",
         "showlegend": false,
         "type": "bar",
         "x": [
          "Home kitchen",
          "Restaurant",
          "Street food stall",
          "Picnic area",
          "Market",
          "Industrial kitchen",
          "Rural or dusty outdoor setting",
          "Other"
         ],
         "xaxis": "x2",
         "y": [
          34.66666666666667,
          50,
          1.3333333333333335,
          2.666666666666667,
          0,
          0,
          0,
          11.333333333333332
         ],
         "yaxis": "y2"
        },
        {
         "legendgroup": "Nigeria",
         "marker": {
          "color": "#ef563b"
         },
         "name": "Nigeria",
         "showlegend": false,
         "type": "bar",
         "x": [
          "Home kitchen",
          "Restaurant",
          "Street food stall",
          "Picnic area",
          "Market",
          "Industrial kitchen",
          "Rural or dusty outdoor setting",
          "Other"
         ],
         "xaxis": "x2",
         "y": [
          27.333333333333332,
          54.666666666666664,
          2,
          2.666666666666667,
          0,
          0,
          0,
          13.333333333333334
         ],
         "yaxis": "y2"
        },
        {
         "legendgroup": "South Africa",
         "marker": {
          "color": "#f7a15b"
         },
         "name": "South Africa",
         "showlegend": false,
         "type": "bar",
         "x": [
          "Home kitchen",
          "Restaurant",
          "Street food stall",
          "Picnic area",
          "Market",
          "Industrial kitchen",
          "Rural or dusty outdoor setting",
          "Other"
         ],
         "xaxis": "x2",
         "y": [
          33.33333333333333,
          56.666666666666664,
          0.6666666666666667,
          4.666666666666667,
          0,
          0,
          0,
          4.666666666666667
         ],
         "yaxis": "y2"
        },
        {
         "legendgroup": "United States",
         "marker": {
          "color": "#47d3f3"
         },
         "name": "United States",
         "showlegend": false,
         "type": "bar",
         "x": [
          "Home kitchen",
          "Restaurant",
          "Street food stall",
          "Picnic area",
          "Market",
          "Industrial kitchen",
          "Rural or dusty outdoor setting",
          "Other"
         ],
         "xaxis": "x2",
         "y": [
          28.000000000000004,
          59.333333333333336,
          0.6666666666666667,
          2.666666666666667,
          0,
          2,
          0,
          7.333333333333333
         ],
         "yaxis": "y2"
        },
        {
         "legendgroup": "Kenya",
         "marker": {
          "color": "#636efb"
         },
         "name": "Kenya",
         "showlegend": false,
         "type": "bar",
         "x": [
          "Home kitchen",
          "Restaurant",
          "Street food stall",
          "Picnic area",
          "Market",
          "Industrial kitchen",
          "Rural or dusty outdoor setting",
          "Other"
         ],
         "xaxis": "x2",
         "y": [
          35.61643835616438,
          50.68493150684932,
          2.054794520547945,
          1.36986301369863,
          0,
          0,
          0.684931506849315,
          9.58904109589041
         ],
         "yaxis": "y2"
        },
        {
         "legendgroup": "Cameroon",
         "marker": {
          "color": "#ab63fb"
         },
         "name": "Cameroon",
         "showlegend": false,
         "type": "bar",
         "x": [
          "Home kitchen",
          "Restaurant",
          "Street food stall",
          "Picnic area",
          "Market",
          "Industrial kitchen",
          "Rural or dusty outdoor setting",
          "Other"
         ],
         "xaxis": "x2",
         "y": [
          33.75,
          57.49999999999999,
          0.625,
          1.25,
          0,
          0,
          0,
          6.875000000000001
         ],
         "yaxis": "y2"
        },
        {
         "legendgroup": "Algeria",
         "marker": {
          "color": "#41cc96"
         },
         "name": "Algeria",
         "showlegend": false,
         "type": "bar",
         "x": [
          "Home kitchen",
          "Restaurant",
          "Street food stall",
          "Picnic area",
          "Market",
          "Industrial kitchen",
          "Rural or dusty outdoor setting",
          "Other"
         ],
         "xaxis": "x3",
         "y": [
          58.666666666666664,
          30,
          4,
          0.6666666666666667,
          0,
          0.6666666666666667,
          1.3333333333333335,
          4.666666666666667
         ],
         "yaxis": "y3"
        },
        {
         "legendgroup": "Nigeria",
         "marker": {
          "color": "#ef563b"
         },
         "name": "Nigeria",
         "showlegend": false,
         "type": "bar",
         "x": [
          "Home kitchen",
          "Restaurant",
          "Street food stall",
          "Picnic area",
          "Market",
          "Industrial kitchen",
          "Rural or dusty outdoor setting",
          "Other"
         ],
         "xaxis": "x3",
         "y": [
          0,
          0,
          0,
          0,
          0,
          0,
          0,
          0
         ],
         "yaxis": "y3"
        },
        {
         "legendgroup": "South Africa",
         "marker": {
          "color": "#f7a15b"
         },
         "name": "South Africa",
         "showlegend": false,
         "type": "bar",
         "x": [
          "Home kitchen",
          "Restaurant",
          "Street food stall",
          "Picnic area",
          "Market",
          "Industrial kitchen",
          "Rural or dusty outdoor setting",
          "Other"
         ],
         "xaxis": "x3",
         "y": [
          36.18421052631579,
          23.684210526315788,
          10.526315789473683,
          4.605263157894736,
          0,
          0,
          23.026315789473685,
          1.9736842105263157
         ],
         "yaxis": "y3"
        },
        {
         "legendgroup": "United States",
         "marker": {
          "color": "#47d3f3"
         },
         "name": "United States",
         "showlegend": false,
         "type": "bar",
         "x": [
          "Home kitchen",
          "Restaurant",
          "Street food stall",
          "Picnic area",
          "Market",
          "Industrial kitchen",
          "Rural or dusty outdoor setting",
          "Other"
         ],
         "xaxis": "x3",
         "y": [
          54,
          36.666666666666664,
          2.666666666666667,
          2.666666666666667,
          0,
          0.6666666666666667,
          2,
          1.3333333333333335
         ],
         "yaxis": "y3"
        },
        {
         "legendgroup": "Kenya",
         "marker": {
          "color": "#636efb"
         },
         "name": "Kenya",
         "showlegend": false,
         "type": "bar",
         "x": [
          "Home kitchen",
          "Restaurant",
          "Street food stall",
          "Picnic area",
          "Market",
          "Industrial kitchen",
          "Rural or dusty outdoor setting",
          "Other"
         ],
         "xaxis": "x3",
         "y": [
          35.38461538461539,
          32.30769230769231,
          20,
          6.153846153846154,
          0,
          0,
          6.153846153846154,
          0
         ],
         "yaxis": "y3"
        },
        {
         "legendgroup": "Cameroon",
         "marker": {
          "color": "#ab63fb"
         },
         "name": "Cameroon",
         "showlegend": false,
         "type": "bar",
         "x": [
          "Home kitchen",
          "Restaurant",
          "Street food stall",
          "Picnic area",
          "Market",
          "Industrial kitchen",
          "Rural or dusty outdoor setting",
          "Other"
         ],
         "xaxis": "x3",
         "y": [
          55.172413793103445,
          26.20689655172414,
          12.413793103448276,
          1.3793103448275863,
          0,
          0,
          2.7586206896551726,
          2.0689655172413794
         ],
         "yaxis": "y3"
        }
       ],
       "layout": {
        "annotations": [
         {
          "font": {
           "size": 16
          },
          "showarrow": false,
          "text": "Dall-E 3",
          "x": 0.15,
          "xanchor": "center",
          "xref": "paper",
          "y": 1,
          "yanchor": "bottom",
          "yref": "paper"
         },
         {
          "font": {
           "size": 16
          },
          "showarrow": false,
          "text": "Stable Diffusion 2.1",
          "x": 0.49999999999999994,
          "xanchor": "center",
          "xref": "paper",
          "y": 1,
          "yanchor": "bottom",
          "yref": "paper"
         },
         {
          "font": {
           "size": 16
          },
          "showarrow": false,
          "text": "Dall-E 2",
          "x": 0.85,
          "xanchor": "center",
          "xref": "paper",
          "y": 1,
          "yanchor": "bottom",
          "yref": "paper"
         }
        ],
        "barmode": "group",
        "font": {
         "family": "Helvetica Neue",
         "size": 12
        },
        "height": 400,
        "legend": {
         "bordercolor": "grey",
         "borderwidth": 1,
         "itemsizing": "constant",
         "itemwidth": 30,
         "orientation": "v",
         "title": {
          "text": "Country"
         },
         "traceorder": "normal",
         "x": 1.15,
         "xanchor": "right",
         "y": 1,
         "yanchor": "top"
        },
        "plot_bgcolor": "white",
        "template": {
         "data": {
          "bar": [
           {
            "error_x": {
             "color": "#2a3f5f"
            },
            "error_y": {
             "color": "#2a3f5f"
            },
            "marker": {
             "line": {
              "color": "#E5ECF6",
              "width": 0.5
             },
             "pattern": {
              "fillmode": "overlay",
              "size": 10,
              "solidity": 0.2
             }
            },
            "type": "bar"
           }
          ],
          "barpolar": [
           {
            "marker": {
             "line": {
              "color": "#E5ECF6",
              "width": 0.5
             },
             "pattern": {
              "fillmode": "overlay",
              "size": 10,
              "solidity": 0.2
             }
            },
            "type": "barpolar"
           }
          ],
          "carpet": [
           {
            "aaxis": {
             "endlinecolor": "#2a3f5f",
             "gridcolor": "white",
             "linecolor": "white",
             "minorgridcolor": "white",
             "startlinecolor": "#2a3f5f"
            },
            "baxis": {
             "endlinecolor": "#2a3f5f",
             "gridcolor": "white",
             "linecolor": "white",
             "minorgridcolor": "white",
             "startlinecolor": "#2a3f5f"
            },
            "type": "carpet"
           }
          ],
          "choropleth": [
           {
            "colorbar": {
             "outlinewidth": 0,
             "ticks": ""
            },
            "type": "choropleth"
           }
          ],
          "contour": [
           {
            "colorbar": {
             "outlinewidth": 0,
             "ticks": ""
            },
            "colorscale": [
             [
              0,
              "#0d0887"
             ],
             [
              0.1111111111111111,
              "#46039f"
             ],
             [
              0.2222222222222222,
              "#7201a8"
             ],
             [
              0.3333333333333333,
              "#9c179e"
             ],
             [
              0.4444444444444444,
              "#bd3786"
             ],
             [
              0.5555555555555556,
              "#d8576b"
             ],
             [
              0.6666666666666666,
              "#ed7953"
             ],
             [
              0.7777777777777778,
              "#fb9f3a"
             ],
             [
              0.8888888888888888,
              "#fdca26"
             ],
             [
              1,
              "#f0f921"
             ]
            ],
            "type": "contour"
           }
          ],
          "contourcarpet": [
           {
            "colorbar": {
             "outlinewidth": 0,
             "ticks": ""
            },
            "type": "contourcarpet"
           }
          ],
          "heatmap": [
           {
            "colorbar": {
             "outlinewidth": 0,
             "ticks": ""
            },
            "colorscale": [
             [
              0,
              "#0d0887"
             ],
             [
              0.1111111111111111,
              "#46039f"
             ],
             [
              0.2222222222222222,
              "#7201a8"
             ],
             [
              0.3333333333333333,
              "#9c179e"
             ],
             [
              0.4444444444444444,
              "#bd3786"
             ],
             [
              0.5555555555555556,
              "#d8576b"
             ],
             [
              0.6666666666666666,
              "#ed7953"
             ],
             [
              0.7777777777777778,
              "#fb9f3a"
             ],
             [
              0.8888888888888888,
              "#fdca26"
             ],
             [
              1,
              "#f0f921"
             ]
            ],
            "type": "heatmap"
           }
          ],
          "heatmapgl": [
           {
            "colorbar": {
             "outlinewidth": 0,
             "ticks": ""
            },
            "colorscale": [
             [
              0,
              "#0d0887"
             ],
             [
              0.1111111111111111,
              "#46039f"
             ],
             [
              0.2222222222222222,
              "#7201a8"
             ],
             [
              0.3333333333333333,
              "#9c179e"
             ],
             [
              0.4444444444444444,
              "#bd3786"
             ],
             [
              0.5555555555555556,
              "#d8576b"
             ],
             [
              0.6666666666666666,
              "#ed7953"
             ],
             [
              0.7777777777777778,
              "#fb9f3a"
             ],
             [
              0.8888888888888888,
              "#fdca26"
             ],
             [
              1,
              "#f0f921"
             ]
            ],
            "type": "heatmapgl"
           }
          ],
          "histogram": [
           {
            "marker": {
             "pattern": {
              "fillmode": "overlay",
              "size": 10,
              "solidity": 0.2
             }
            },
            "type": "histogram"
           }
          ],
          "histogram2d": [
           {
            "colorbar": {
             "outlinewidth": 0,
             "ticks": ""
            },
            "colorscale": [
             [
              0,
              "#0d0887"
             ],
             [
              0.1111111111111111,
              "#46039f"
             ],
             [
              0.2222222222222222,
              "#7201a8"
             ],
             [
              0.3333333333333333,
              "#9c179e"
             ],
             [
              0.4444444444444444,
              "#bd3786"
             ],
             [
              0.5555555555555556,
              "#d8576b"
             ],
             [
              0.6666666666666666,
              "#ed7953"
             ],
             [
              0.7777777777777778,
              "#fb9f3a"
             ],
             [
              0.8888888888888888,
              "#fdca26"
             ],
             [
              1,
              "#f0f921"
             ]
            ],
            "type": "histogram2d"
           }
          ],
          "histogram2dcontour": [
           {
            "colorbar": {
             "outlinewidth": 0,
             "ticks": ""
            },
            "colorscale": [
             [
              0,
              "#0d0887"
             ],
             [
              0.1111111111111111,
              "#46039f"
             ],
             [
              0.2222222222222222,
              "#7201a8"
             ],
             [
              0.3333333333333333,
              "#9c179e"
             ],
             [
              0.4444444444444444,
              "#bd3786"
             ],
             [
              0.5555555555555556,
              "#d8576b"
             ],
             [
              0.6666666666666666,
              "#ed7953"
             ],
             [
              0.7777777777777778,
              "#fb9f3a"
             ],
             [
              0.8888888888888888,
              "#fdca26"
             ],
             [
              1,
              "#f0f921"
             ]
            ],
            "type": "histogram2dcontour"
           }
          ],
          "mesh3d": [
           {
            "colorbar": {
             "outlinewidth": 0,
             "ticks": ""
            },
            "type": "mesh3d"
           }
          ],
          "parcoords": [
           {
            "line": {
             "colorbar": {
              "outlinewidth": 0,
              "ticks": ""
             }
            },
            "type": "parcoords"
           }
          ],
          "pie": [
           {
            "automargin": true,
            "type": "pie"
           }
          ],
          "scatter": [
           {
            "fillpattern": {
             "fillmode": "overlay",
             "size": 10,
             "solidity": 0.2
            },
            "type": "scatter"
           }
          ],
          "scatter3d": [
           {
            "line": {
             "colorbar": {
              "outlinewidth": 0,
              "ticks": ""
             }
            },
            "marker": {
             "colorbar": {
              "outlinewidth": 0,
              "ticks": ""
             }
            },
            "type": "scatter3d"
           }
          ],
          "scattercarpet": [
           {
            "marker": {
             "colorbar": {
              "outlinewidth": 0,
              "ticks": ""
             }
            },
            "type": "scattercarpet"
           }
          ],
          "scattergeo": [
           {
            "marker": {
             "colorbar": {
              "outlinewidth": 0,
              "ticks": ""
             }
            },
            "type": "scattergeo"
           }
          ],
          "scattergl": [
           {
            "marker": {
             "colorbar": {
              "outlinewidth": 0,
              "ticks": ""
             }
            },
            "type": "scattergl"
           }
          ],
          "scattermapbox": [
           {
            "marker": {
             "colorbar": {
              "outlinewidth": 0,
              "ticks": ""
             }
            },
            "type": "scattermapbox"
           }
          ],
          "scatterpolar": [
           {
            "marker": {
             "colorbar": {
              "outlinewidth": 0,
              "ticks": ""
             }
            },
            "type": "scatterpolar"
           }
          ],
          "scatterpolargl": [
           {
            "marker": {
             "colorbar": {
              "outlinewidth": 0,
              "ticks": ""
             }
            },
            "type": "scatterpolargl"
           }
          ],
          "scatterternary": [
           {
            "marker": {
             "colorbar": {
              "outlinewidth": 0,
              "ticks": ""
             }
            },
            "type": "scatterternary"
           }
          ],
          "surface": [
           {
            "colorbar": {
             "outlinewidth": 0,
             "ticks": ""
            },
            "colorscale": [
             [
              0,
              "#0d0887"
             ],
             [
              0.1111111111111111,
              "#46039f"
             ],
             [
              0.2222222222222222,
              "#7201a8"
             ],
             [
              0.3333333333333333,
              "#9c179e"
             ],
             [
              0.4444444444444444,
              "#bd3786"
             ],
             [
              0.5555555555555556,
              "#d8576b"
             ],
             [
              0.6666666666666666,
              "#ed7953"
             ],
             [
              0.7777777777777778,
              "#fb9f3a"
             ],
             [
              0.8888888888888888,
              "#fdca26"
             ],
             [
              1,
              "#f0f921"
             ]
            ],
            "type": "surface"
           }
          ],
          "table": [
           {
            "cells": {
             "fill": {
              "color": "#EBF0F8"
             },
             "line": {
              "color": "white"
             }
            },
            "header": {
             "fill": {
              "color": "#C8D4E3"
             },
             "line": {
              "color": "white"
             }
            },
            "type": "table"
           }
          ]
         },
         "layout": {
          "annotationdefaults": {
           "arrowcolor": "#2a3f5f",
           "arrowhead": 0,
           "arrowwidth": 1
          },
          "autotypenumbers": "strict",
          "coloraxis": {
           "colorbar": {
            "outlinewidth": 0,
            "ticks": ""
           }
          },
          "colorscale": {
           "diverging": [
            [
             0,
             "#8e0152"
            ],
            [
             0.1,
             "#c51b7d"
            ],
            [
             0.2,
             "#de77ae"
            ],
            [
             0.3,
             "#f1b6da"
            ],
            [
             0.4,
             "#fde0ef"
            ],
            [
             0.5,
             "#f7f7f7"
            ],
            [
             0.6,
             "#e6f5d0"
            ],
            [
             0.7,
             "#b8e186"
            ],
            [
             0.8,
             "#7fbc41"
            ],
            [
             0.9,
             "#4d9221"
            ],
            [
             1,
             "#276419"
            ]
           ],
           "sequential": [
            [
             0,
             "#0d0887"
            ],
            [
             0.1111111111111111,
             "#46039f"
            ],
            [
             0.2222222222222222,
             "#7201a8"
            ],
            [
             0.3333333333333333,
             "#9c179e"
            ],
            [
             0.4444444444444444,
             "#bd3786"
            ],
            [
             0.5555555555555556,
             "#d8576b"
            ],
            [
             0.6666666666666666,
             "#ed7953"
            ],
            [
             0.7777777777777778,
             "#fb9f3a"
            ],
            [
             0.8888888888888888,
             "#fdca26"
            ],
            [
             1,
             "#f0f921"
            ]
           ],
           "sequentialminus": [
            [
             0,
             "#0d0887"
            ],
            [
             0.1111111111111111,
             "#46039f"
            ],
            [
             0.2222222222222222,
             "#7201a8"
            ],
            [
             0.3333333333333333,
             "#9c179e"
            ],
            [
             0.4444444444444444,
             "#bd3786"
            ],
            [
             0.5555555555555556,
             "#d8576b"
            ],
            [
             0.6666666666666666,
             "#ed7953"
            ],
            [
             0.7777777777777778,
             "#fb9f3a"
            ],
            [
             0.8888888888888888,
             "#fdca26"
            ],
            [
             1,
             "#f0f921"
            ]
           ]
          },
          "colorway": [
           "#636efa",
           "#EF553B",
           "#00cc96",
           "#ab63fa",
           "#FFA15A",
           "#19d3f3",
           "#FF6692",
           "#B6E880",
           "#FF97FF",
           "#FECB52"
          ],
          "font": {
           "color": "#2a3f5f"
          },
          "geo": {
           "bgcolor": "white",
           "lakecolor": "white",
           "landcolor": "#E5ECF6",
           "showlakes": true,
           "showland": true,
           "subunitcolor": "white"
          },
          "hoverlabel": {
           "align": "left"
          },
          "hovermode": "closest",
          "mapbox": {
           "style": "light"
          },
          "paper_bgcolor": "white",
          "plot_bgcolor": "#E5ECF6",
          "polar": {
           "angularaxis": {
            "gridcolor": "white",
            "linecolor": "white",
            "ticks": ""
           },
           "bgcolor": "#E5ECF6",
           "radialaxis": {
            "gridcolor": "white",
            "linecolor": "white",
            "ticks": ""
           }
          },
          "scene": {
           "xaxis": {
            "backgroundcolor": "#E5ECF6",
            "gridcolor": "white",
            "gridwidth": 2,
            "linecolor": "white",
            "showbackground": true,
            "ticks": "",
            "zerolinecolor": "white"
           },
           "yaxis": {
            "backgroundcolor": "#E5ECF6",
            "gridcolor": "white",
            "gridwidth": 2,
            "linecolor": "white",
            "showbackground": true,
            "ticks": "",
            "zerolinecolor": "white"
           },
           "zaxis": {
            "backgroundcolor": "#E5ECF6",
            "gridcolor": "white",
            "gridwidth": 2,
            "linecolor": "white",
            "showbackground": true,
            "ticks": "",
            "zerolinecolor": "white"
           }
          },
          "shapedefaults": {
           "line": {
            "color": "#2a3f5f"
           }
          },
          "ternary": {
           "aaxis": {
            "gridcolor": "white",
            "linecolor": "white",
            "ticks": ""
           },
           "baxis": {
            "gridcolor": "white",
            "linecolor": "white",
            "ticks": ""
           },
           "bgcolor": "#E5ECF6",
           "caxis": {
            "gridcolor": "white",
            "linecolor": "white",
            "ticks": ""
           }
          },
          "title": {
           "x": 0.05
          },
          "xaxis": {
           "automargin": true,
           "gridcolor": "white",
           "linecolor": "white",
           "ticks": "",
           "title": {
            "standoff": 15
           },
           "zerolinecolor": "white",
           "zerolinewidth": 2
          },
          "yaxis": {
           "automargin": true,
           "gridcolor": "white",
           "linecolor": "white",
           "ticks": "",
           "title": {
            "standoff": 15
           },
           "zerolinecolor": "white",
           "zerolinewidth": 2
          }
         }
        },
        "title": {
         "font": {
          "color": "black",
          "family": "Helvetica Neue",
          "size": 18
         },
         "text": "What is the setting of the image?",
         "x": 0.5,
         "xanchor": "center",
         "y": 0.9,
         "yanchor": "top"
        },
        "width": 1200,
        "xaxis": {
         "anchor": "y",
         "categoryarray": [
          "Home kitchen",
          "Restaurant",
          "Street food stall",
          "Picnic area",
          "Market",
          "Industrial kitchen",
          "Rural or dusty outdoor setting",
          "Other"
         ],
         "categoryorder": "array",
         "domain": [
          0,
          0.3
         ],
         "linecolor": "grey",
         "linewidth": 2,
         "mirror": true,
         "showline": true,
         "ticktext": [
          "Home kitchen",
          "Restaurant",
          "Street food stall",
          "Picnic area",
          "Market",
          "Industrial kitchen",
          "Rural or dusty outdoor setting",
          "Other"
         ],
         "tickvals": [
          "Home kitchen",
          "Restaurant",
          "Street food stall",
          "Picnic area",
          "Market",
          "Industrial kitchen",
          "Rural or dusty outdoor setting",
          "Other"
         ]
        },
        "xaxis2": {
         "anchor": "y2",
         "categoryarray": [
          "Home kitchen",
          "Restaurant",
          "Street food stall",
          "Picnic area",
          "Market",
          "Industrial kitchen",
          "Rural or dusty outdoor setting",
          "Other"
         ],
         "categoryorder": "array",
         "domain": [
          0.35,
          0.6499999999999999
         ],
         "linecolor": "grey",
         "linewidth": 2,
         "mirror": true,
         "showline": true,
         "ticktext": [
          "Home kitchen",
          "Restaurant",
          "Street food stall",
          "Picnic area",
          "Market",
          "Industrial kitchen",
          "Rural or dusty outdoor setting",
          "Other"
         ],
         "tickvals": [
          "Home kitchen",
          "Restaurant",
          "Street food stall",
          "Picnic area",
          "Market",
          "Industrial kitchen",
          "Rural or dusty outdoor setting",
          "Other"
         ]
        },
        "xaxis3": {
         "anchor": "y3",
         "categoryarray": [
          "Home kitchen",
          "Restaurant",
          "Street food stall",
          "Picnic area",
          "Market",
          "Industrial kitchen",
          "Rural or dusty outdoor setting",
          "Other"
         ],
         "categoryorder": "array",
         "domain": [
          0.7,
          1
         ],
         "linecolor": "grey",
         "linewidth": 2,
         "mirror": true,
         "showline": true,
         "ticktext": [
          "Home kitchen",
          "Restaurant",
          "Street food stall",
          "Picnic area",
          "Market",
          "Industrial kitchen",
          "Rural or dusty outdoor setting",
          "Other"
         ],
         "tickvals": [
          "Home kitchen",
          "Restaurant",
          "Street food stall",
          "Picnic area",
          "Market",
          "Industrial kitchen",
          "Rural or dusty outdoor setting",
          "Other"
         ]
        },
        "yaxis": {
         "anchor": "x",
         "domain": [
          0,
          1
         ],
         "linecolor": "grey",
         "linewidth": 2,
         "mirror": true,
         "showline": true,
         "title": {
          "text": "Proportion of Images (%)"
         }
        },
        "yaxis2": {
         "anchor": "x2",
         "domain": [
          0,
          1
         ],
         "linecolor": "grey",
         "linewidth": 2,
         "matches": "y",
         "mirror": true,
         "showline": true,
         "showticklabels": false
        },
        "yaxis3": {
         "anchor": "x3",
         "domain": [
          0,
          1
         ],
         "linecolor": "grey",
         "linewidth": 2,
         "matches": "y",
         "mirror": true,
         "showline": true,
         "showticklabels": false
        }
       }
      },
      "text/html": [
       "<div>                            <div id=\"45d0e869-521d-423b-aed2-d4d2c2753e3c\" class=\"plotly-graph-div\" style=\"height:400px; width:1200px;\"></div>            <script type=\"text/javascript\">                require([\"plotly\"], function(Plotly) {                    window.PLOTLYENV=window.PLOTLYENV || {};                                    if (document.getElementById(\"45d0e869-521d-423b-aed2-d4d2c2753e3c\")) {                    Plotly.newPlot(                        \"45d0e869-521d-423b-aed2-d4d2c2753e3c\",                        [{\"legendgroup\":\"Algeria\",\"marker\":{\"color\":\"#41cc96\"},\"name\":\"Algeria\",\"showlegend\":true,\"x\":[\"Home kitchen\",\"Restaurant\",\"Street food stall\",\"Picnic area\",\"Market\",\"Industrial kitchen\",\"Rural or dusty outdoor setting\",\"Other\"],\"y\":[42.66666666666667,50.0,0.0,0.0,0.0,0.0,1.3333333333333335,6.0],\"type\":\"bar\",\"xaxis\":\"x\",\"yaxis\":\"y\"},{\"legendgroup\":\"Nigeria\",\"marker\":{\"color\":\"#ef563b\"},\"name\":\"Nigeria\",\"showlegend\":true,\"x\":[\"Home kitchen\",\"Restaurant\",\"Street food stall\",\"Picnic area\",\"Market\",\"Industrial kitchen\",\"Rural or dusty outdoor setting\",\"Other\"],\"y\":[56.666666666666664,40.666666666666664,0.6666666666666667,0.0,0.0,0.0,0.0,2.0],\"type\":\"bar\",\"xaxis\":\"x\",\"yaxis\":\"y\"},{\"legendgroup\":\"South Africa\",\"marker\":{\"color\":\"#f7a15b\"},\"name\":\"South Africa\",\"showlegend\":true,\"x\":[\"Home kitchen\",\"Restaurant\",\"Street food stall\",\"Picnic area\",\"Market\",\"Industrial kitchen\",\"Rural or dusty outdoor setting\",\"Other\"],\"y\":[62.0,32.0,0.6666666666666667,0.0,0.0,0.0,0.0,5.333333333333334],\"type\":\"bar\",\"xaxis\":\"x\",\"yaxis\":\"y\"},{\"legendgroup\":\"United States\",\"marker\":{\"color\":\"#47d3f3\"},\"name\":\"United States\",\"showlegend\":true,\"x\":[\"Home kitchen\",\"Restaurant\",\"Street food stall\",\"Picnic area\",\"Market\",\"Industrial kitchen\",\"Rural or dusty outdoor setting\",\"Other\"],\"y\":[45.33333333333333,46.666666666666664,0.6666666666666667,2.666666666666667,0.0,0.0,0.6666666666666667,4.0],\"type\":\"bar\",\"xaxis\":\"x\",\"yaxis\":\"y\"},{\"legendgroup\":\"Kenya\",\"marker\":{\"color\":\"#636efb\"},\"name\":\"Kenya\",\"showlegend\":true,\"x\":[\"Home kitchen\",\"Restaurant\",\"Street food stall\",\"Picnic area\",\"Market\",\"Industrial kitchen\",\"Rural or dusty outdoor setting\",\"Other\"],\"y\":[42.30769230769231,50.0,0.0,0.7692307692307693,0.0,0.0,1.5384615384615385,5.384615384615385],\"type\":\"bar\",\"xaxis\":\"x\",\"yaxis\":\"y\"},{\"legendgroup\":\"Cameroon\",\"marker\":{\"color\":\"#ab63fb\"},\"name\":\"Cameroon\",\"showlegend\":true,\"x\":[\"Home kitchen\",\"Restaurant\",\"Street food stall\",\"Picnic area\",\"Market\",\"Industrial kitchen\",\"Rural or dusty outdoor setting\",\"Other\"],\"y\":[56.00000000000001,38.666666666666664,1.3333333333333335,0.0,0.0,0.0,0.0,4.0],\"type\":\"bar\",\"xaxis\":\"x\",\"yaxis\":\"y\"},{\"legendgroup\":\"Algeria\",\"marker\":{\"color\":\"#41cc96\"},\"name\":\"Algeria\",\"showlegend\":false,\"x\":[\"Home kitchen\",\"Restaurant\",\"Street food stall\",\"Picnic area\",\"Market\",\"Industrial kitchen\",\"Rural or dusty outdoor setting\",\"Other\"],\"y\":[34.66666666666667,50.0,1.3333333333333335,2.666666666666667,0.0,0.0,0.0,11.333333333333332],\"type\":\"bar\",\"xaxis\":\"x2\",\"yaxis\":\"y2\"},{\"legendgroup\":\"Nigeria\",\"marker\":{\"color\":\"#ef563b\"},\"name\":\"Nigeria\",\"showlegend\":false,\"x\":[\"Home kitchen\",\"Restaurant\",\"Street food stall\",\"Picnic area\",\"Market\",\"Industrial kitchen\",\"Rural or dusty outdoor setting\",\"Other\"],\"y\":[27.333333333333332,54.666666666666664,2.0,2.666666666666667,0.0,0.0,0.0,13.333333333333334],\"type\":\"bar\",\"xaxis\":\"x2\",\"yaxis\":\"y2\"},{\"legendgroup\":\"South Africa\",\"marker\":{\"color\":\"#f7a15b\"},\"name\":\"South Africa\",\"showlegend\":false,\"x\":[\"Home kitchen\",\"Restaurant\",\"Street food stall\",\"Picnic area\",\"Market\",\"Industrial kitchen\",\"Rural or dusty outdoor setting\",\"Other\"],\"y\":[33.33333333333333,56.666666666666664,0.6666666666666667,4.666666666666667,0.0,0.0,0.0,4.666666666666667],\"type\":\"bar\",\"xaxis\":\"x2\",\"yaxis\":\"y2\"},{\"legendgroup\":\"United States\",\"marker\":{\"color\":\"#47d3f3\"},\"name\":\"United States\",\"showlegend\":false,\"x\":[\"Home kitchen\",\"Restaurant\",\"Street food stall\",\"Picnic area\",\"Market\",\"Industrial kitchen\",\"Rural or dusty outdoor setting\",\"Other\"],\"y\":[28.000000000000004,59.333333333333336,0.6666666666666667,2.666666666666667,0.0,2.0,0.0,7.333333333333333],\"type\":\"bar\",\"xaxis\":\"x2\",\"yaxis\":\"y2\"},{\"legendgroup\":\"Kenya\",\"marker\":{\"color\":\"#636efb\"},\"name\":\"Kenya\",\"showlegend\":false,\"x\":[\"Home kitchen\",\"Restaurant\",\"Street food stall\",\"Picnic area\",\"Market\",\"Industrial kitchen\",\"Rural or dusty outdoor setting\",\"Other\"],\"y\":[35.61643835616438,50.68493150684932,2.054794520547945,1.36986301369863,0.0,0.0,0.684931506849315,9.58904109589041],\"type\":\"bar\",\"xaxis\":\"x2\",\"yaxis\":\"y2\"},{\"legendgroup\":\"Cameroon\",\"marker\":{\"color\":\"#ab63fb\"},\"name\":\"Cameroon\",\"showlegend\":false,\"x\":[\"Home kitchen\",\"Restaurant\",\"Street food stall\",\"Picnic area\",\"Market\",\"Industrial kitchen\",\"Rural or dusty outdoor setting\",\"Other\"],\"y\":[33.75,57.49999999999999,0.625,1.25,0.0,0.0,0.0,6.875000000000001],\"type\":\"bar\",\"xaxis\":\"x2\",\"yaxis\":\"y2\"},{\"legendgroup\":\"Algeria\",\"marker\":{\"color\":\"#41cc96\"},\"name\":\"Algeria\",\"showlegend\":false,\"x\":[\"Home kitchen\",\"Restaurant\",\"Street food stall\",\"Picnic area\",\"Market\",\"Industrial kitchen\",\"Rural or dusty outdoor setting\",\"Other\"],\"y\":[58.666666666666664,30.0,4.0,0.6666666666666667,0.0,0.6666666666666667,1.3333333333333335,4.666666666666667],\"type\":\"bar\",\"xaxis\":\"x3\",\"yaxis\":\"y3\"},{\"legendgroup\":\"Nigeria\",\"marker\":{\"color\":\"#ef563b\"},\"name\":\"Nigeria\",\"showlegend\":false,\"x\":[\"Home kitchen\",\"Restaurant\",\"Street food stall\",\"Picnic area\",\"Market\",\"Industrial kitchen\",\"Rural or dusty outdoor setting\",\"Other\"],\"y\":[0.0,0.0,0.0,0.0,0.0,0.0,0.0,0.0],\"type\":\"bar\",\"xaxis\":\"x3\",\"yaxis\":\"y3\"},{\"legendgroup\":\"South Africa\",\"marker\":{\"color\":\"#f7a15b\"},\"name\":\"South Africa\",\"showlegend\":false,\"x\":[\"Home kitchen\",\"Restaurant\",\"Street food stall\",\"Picnic area\",\"Market\",\"Industrial kitchen\",\"Rural or dusty outdoor setting\",\"Other\"],\"y\":[36.18421052631579,23.684210526315788,10.526315789473683,4.605263157894736,0.0,0.0,23.026315789473685,1.9736842105263157],\"type\":\"bar\",\"xaxis\":\"x3\",\"yaxis\":\"y3\"},{\"legendgroup\":\"United States\",\"marker\":{\"color\":\"#47d3f3\"},\"name\":\"United States\",\"showlegend\":false,\"x\":[\"Home kitchen\",\"Restaurant\",\"Street food stall\",\"Picnic area\",\"Market\",\"Industrial kitchen\",\"Rural or dusty outdoor setting\",\"Other\"],\"y\":[54.0,36.666666666666664,2.666666666666667,2.666666666666667,0.0,0.6666666666666667,2.0,1.3333333333333335],\"type\":\"bar\",\"xaxis\":\"x3\",\"yaxis\":\"y3\"},{\"legendgroup\":\"Kenya\",\"marker\":{\"color\":\"#636efb\"},\"name\":\"Kenya\",\"showlegend\":false,\"x\":[\"Home kitchen\",\"Restaurant\",\"Street food stall\",\"Picnic area\",\"Market\",\"Industrial kitchen\",\"Rural or dusty outdoor setting\",\"Other\"],\"y\":[35.38461538461539,32.30769230769231,20.0,6.153846153846154,0.0,0.0,6.153846153846154,0.0],\"type\":\"bar\",\"xaxis\":\"x3\",\"yaxis\":\"y3\"},{\"legendgroup\":\"Cameroon\",\"marker\":{\"color\":\"#ab63fb\"},\"name\":\"Cameroon\",\"showlegend\":false,\"x\":[\"Home kitchen\",\"Restaurant\",\"Street food stall\",\"Picnic area\",\"Market\",\"Industrial kitchen\",\"Rural or dusty outdoor setting\",\"Other\"],\"y\":[55.172413793103445,26.20689655172414,12.413793103448276,1.3793103448275863,0.0,0.0,2.7586206896551726,2.0689655172413794],\"type\":\"bar\",\"xaxis\":\"x3\",\"yaxis\":\"y3\"}],                        {\"template\":{\"data\":{\"histogram2dcontour\":[{\"type\":\"histogram2dcontour\",\"colorbar\":{\"outlinewidth\":0,\"ticks\":\"\"},\"colorscale\":[[0.0,\"#0d0887\"],[0.1111111111111111,\"#46039f\"],[0.2222222222222222,\"#7201a8\"],[0.3333333333333333,\"#9c179e\"],[0.4444444444444444,\"#bd3786\"],[0.5555555555555556,\"#d8576b\"],[0.6666666666666666,\"#ed7953\"],[0.7777777777777778,\"#fb9f3a\"],[0.8888888888888888,\"#fdca26\"],[1.0,\"#f0f921\"]]}],\"choropleth\":[{\"type\":\"choropleth\",\"colorbar\":{\"outlinewidth\":0,\"ticks\":\"\"}}],\"histogram2d\":[{\"type\":\"histogram2d\",\"colorbar\":{\"outlinewidth\":0,\"ticks\":\"\"},\"colorscale\":[[0.0,\"#0d0887\"],[0.1111111111111111,\"#46039f\"],[0.2222222222222222,\"#7201a8\"],[0.3333333333333333,\"#9c179e\"],[0.4444444444444444,\"#bd3786\"],[0.5555555555555556,\"#d8576b\"],[0.6666666666666666,\"#ed7953\"],[0.7777777777777778,\"#fb9f3a\"],[0.8888888888888888,\"#fdca26\"],[1.0,\"#f0f921\"]]}],\"heatmap\":[{\"type\":\"heatmap\",\"colorbar\":{\"outlinewidth\":0,\"ticks\":\"\"},\"colorscale\":[[0.0,\"#0d0887\"],[0.1111111111111111,\"#46039f\"],[0.2222222222222222,\"#7201a8\"],[0.3333333333333333,\"#9c179e\"],[0.4444444444444444,\"#bd3786\"],[0.5555555555555556,\"#d8576b\"],[0.6666666666666666,\"#ed7953\"],[0.7777777777777778,\"#fb9f3a\"],[0.8888888888888888,\"#fdca26\"],[1.0,\"#f0f921\"]]}],\"heatmapgl\":[{\"type\":\"heatmapgl\",\"colorbar\":{\"outlinewidth\":0,\"ticks\":\"\"},\"colorscale\":[[0.0,\"#0d0887\"],[0.1111111111111111,\"#46039f\"],[0.2222222222222222,\"#7201a8\"],[0.3333333333333333,\"#9c179e\"],[0.4444444444444444,\"#bd3786\"],[0.5555555555555556,\"#d8576b\"],[0.6666666666666666,\"#ed7953\"],[0.7777777777777778,\"#fb9f3a\"],[0.8888888888888888,\"#fdca26\"],[1.0,\"#f0f921\"]]}],\"contourcarpet\":[{\"type\":\"contourcarpet\",\"colorbar\":{\"outlinewidth\":0,\"ticks\":\"\"}}],\"contour\":[{\"type\":\"contour\",\"colorbar\":{\"outlinewidth\":0,\"ticks\":\"\"},\"colorscale\":[[0.0,\"#0d0887\"],[0.1111111111111111,\"#46039f\"],[0.2222222222222222,\"#7201a8\"],[0.3333333333333333,\"#9c179e\"],[0.4444444444444444,\"#bd3786\"],[0.5555555555555556,\"#d8576b\"],[0.6666666666666666,\"#ed7953\"],[0.7777777777777778,\"#fb9f3a\"],[0.8888888888888888,\"#fdca26\"],[1.0,\"#f0f921\"]]}],\"surface\":[{\"type\":\"surface\",\"colorbar\":{\"outlinewidth\":0,\"ticks\":\"\"},\"colorscale\":[[0.0,\"#0d0887\"],[0.1111111111111111,\"#46039f\"],[0.2222222222222222,\"#7201a8\"],[0.3333333333333333,\"#9c179e\"],[0.4444444444444444,\"#bd3786\"],[0.5555555555555556,\"#d8576b\"],[0.6666666666666666,\"#ed7953\"],[0.7777777777777778,\"#fb9f3a\"],[0.8888888888888888,\"#fdca26\"],[1.0,\"#f0f921\"]]}],\"mesh3d\":[{\"type\":\"mesh3d\",\"colorbar\":{\"outlinewidth\":0,\"ticks\":\"\"}}],\"scatter\":[{\"fillpattern\":{\"fillmode\":\"overlay\",\"size\":10,\"solidity\":0.2},\"type\":\"scatter\"}],\"parcoords\":[{\"type\":\"parcoords\",\"line\":{\"colorbar\":{\"outlinewidth\":0,\"ticks\":\"\"}}}],\"scatterpolargl\":[{\"type\":\"scatterpolargl\",\"marker\":{\"colorbar\":{\"outlinewidth\":0,\"ticks\":\"\"}}}],\"bar\":[{\"error_x\":{\"color\":\"#2a3f5f\"},\"error_y\":{\"color\":\"#2a3f5f\"},\"marker\":{\"line\":{\"color\":\"#E5ECF6\",\"width\":0.5},\"pattern\":{\"fillmode\":\"overlay\",\"size\":10,\"solidity\":0.2}},\"type\":\"bar\"}],\"scattergeo\":[{\"type\":\"scattergeo\",\"marker\":{\"colorbar\":{\"outlinewidth\":0,\"ticks\":\"\"}}}],\"scatterpolar\":[{\"type\":\"scatterpolar\",\"marker\":{\"colorbar\":{\"outlinewidth\":0,\"ticks\":\"\"}}}],\"histogram\":[{\"marker\":{\"pattern\":{\"fillmode\":\"overlay\",\"size\":10,\"solidity\":0.2}},\"type\":\"histogram\"}],\"scattergl\":[{\"type\":\"scattergl\",\"marker\":{\"colorbar\":{\"outlinewidth\":0,\"ticks\":\"\"}}}],\"scatter3d\":[{\"type\":\"scatter3d\",\"line\":{\"colorbar\":{\"outlinewidth\":0,\"ticks\":\"\"}},\"marker\":{\"colorbar\":{\"outlinewidth\":0,\"ticks\":\"\"}}}],\"scattermapbox\":[{\"type\":\"scattermapbox\",\"marker\":{\"colorbar\":{\"outlinewidth\":0,\"ticks\":\"\"}}}],\"scatterternary\":[{\"type\":\"scatterternary\",\"marker\":{\"colorbar\":{\"outlinewidth\":0,\"ticks\":\"\"}}}],\"scattercarpet\":[{\"type\":\"scattercarpet\",\"marker\":{\"colorbar\":{\"outlinewidth\":0,\"ticks\":\"\"}}}],\"carpet\":[{\"aaxis\":{\"endlinecolor\":\"#2a3f5f\",\"gridcolor\":\"white\",\"linecolor\":\"white\",\"minorgridcolor\":\"white\",\"startlinecolor\":\"#2a3f5f\"},\"baxis\":{\"endlinecolor\":\"#2a3f5f\",\"gridcolor\":\"white\",\"linecolor\":\"white\",\"minorgridcolor\":\"white\",\"startlinecolor\":\"#2a3f5f\"},\"type\":\"carpet\"}],\"table\":[{\"cells\":{\"fill\":{\"color\":\"#EBF0F8\"},\"line\":{\"color\":\"white\"}},\"header\":{\"fill\":{\"color\":\"#C8D4E3\"},\"line\":{\"color\":\"white\"}},\"type\":\"table\"}],\"barpolar\":[{\"marker\":{\"line\":{\"color\":\"#E5ECF6\",\"width\":0.5},\"pattern\":{\"fillmode\":\"overlay\",\"size\":10,\"solidity\":0.2}},\"type\":\"barpolar\"}],\"pie\":[{\"automargin\":true,\"type\":\"pie\"}]},\"layout\":{\"autotypenumbers\":\"strict\",\"colorway\":[\"#636efa\",\"#EF553B\",\"#00cc96\",\"#ab63fa\",\"#FFA15A\",\"#19d3f3\",\"#FF6692\",\"#B6E880\",\"#FF97FF\",\"#FECB52\"],\"font\":{\"color\":\"#2a3f5f\"},\"hovermode\":\"closest\",\"hoverlabel\":{\"align\":\"left\"},\"paper_bgcolor\":\"white\",\"plot_bgcolor\":\"#E5ECF6\",\"polar\":{\"bgcolor\":\"#E5ECF6\",\"angularaxis\":{\"gridcolor\":\"white\",\"linecolor\":\"white\",\"ticks\":\"\"},\"radialaxis\":{\"gridcolor\":\"white\",\"linecolor\":\"white\",\"ticks\":\"\"}},\"ternary\":{\"bgcolor\":\"#E5ECF6\",\"aaxis\":{\"gridcolor\":\"white\",\"linecolor\":\"white\",\"ticks\":\"\"},\"baxis\":{\"gridcolor\":\"white\",\"linecolor\":\"white\",\"ticks\":\"\"},\"caxis\":{\"gridcolor\":\"white\",\"linecolor\":\"white\",\"ticks\":\"\"}},\"coloraxis\":{\"colorbar\":{\"outlinewidth\":0,\"ticks\":\"\"}},\"colorscale\":{\"sequential\":[[0.0,\"#0d0887\"],[0.1111111111111111,\"#46039f\"],[0.2222222222222222,\"#7201a8\"],[0.3333333333333333,\"#9c179e\"],[0.4444444444444444,\"#bd3786\"],[0.5555555555555556,\"#d8576b\"],[0.6666666666666666,\"#ed7953\"],[0.7777777777777778,\"#fb9f3a\"],[0.8888888888888888,\"#fdca26\"],[1.0,\"#f0f921\"]],\"sequentialminus\":[[0.0,\"#0d0887\"],[0.1111111111111111,\"#46039f\"],[0.2222222222222222,\"#7201a8\"],[0.3333333333333333,\"#9c179e\"],[0.4444444444444444,\"#bd3786\"],[0.5555555555555556,\"#d8576b\"],[0.6666666666666666,\"#ed7953\"],[0.7777777777777778,\"#fb9f3a\"],[0.8888888888888888,\"#fdca26\"],[1.0,\"#f0f921\"]],\"diverging\":[[0,\"#8e0152\"],[0.1,\"#c51b7d\"],[0.2,\"#de77ae\"],[0.3,\"#f1b6da\"],[0.4,\"#fde0ef\"],[0.5,\"#f7f7f7\"],[0.6,\"#e6f5d0\"],[0.7,\"#b8e186\"],[0.8,\"#7fbc41\"],[0.9,\"#4d9221\"],[1,\"#276419\"]]},\"xaxis\":{\"gridcolor\":\"white\",\"linecolor\":\"white\",\"ticks\":\"\",\"title\":{\"standoff\":15},\"zerolinecolor\":\"white\",\"automargin\":true,\"zerolinewidth\":2},\"yaxis\":{\"gridcolor\":\"white\",\"linecolor\":\"white\",\"ticks\":\"\",\"title\":{\"standoff\":15},\"zerolinecolor\":\"white\",\"automargin\":true,\"zerolinewidth\":2},\"scene\":{\"xaxis\":{\"backgroundcolor\":\"#E5ECF6\",\"gridcolor\":\"white\",\"linecolor\":\"white\",\"showbackground\":true,\"ticks\":\"\",\"zerolinecolor\":\"white\",\"gridwidth\":2},\"yaxis\":{\"backgroundcolor\":\"#E5ECF6\",\"gridcolor\":\"white\",\"linecolor\":\"white\",\"showbackground\":true,\"ticks\":\"\",\"zerolinecolor\":\"white\",\"gridwidth\":2},\"zaxis\":{\"backgroundcolor\":\"#E5ECF6\",\"gridcolor\":\"white\",\"linecolor\":\"white\",\"showbackground\":true,\"ticks\":\"\",\"zerolinecolor\":\"white\",\"gridwidth\":2}},\"shapedefaults\":{\"line\":{\"color\":\"#2a3f5f\"}},\"annotationdefaults\":{\"arrowcolor\":\"#2a3f5f\",\"arrowhead\":0,\"arrowwidth\":1},\"geo\":{\"bgcolor\":\"white\",\"landcolor\":\"#E5ECF6\",\"subunitcolor\":\"white\",\"showland\":true,\"showlakes\":true,\"lakecolor\":\"white\"},\"title\":{\"x\":0.05},\"mapbox\":{\"style\":\"light\"}}},\"xaxis\":{\"anchor\":\"y\",\"domain\":[0.0,0.3],\"tickvals\":[\"Home kitchen\",\"Restaurant\",\"Street food stall\",\"Picnic area\",\"Market\",\"Industrial kitchen\",\"Rural or dusty outdoor setting\",\"Other\"],\"ticktext\":[\"Home kitchen\",\"Restaurant\",\"Street food stall\",\"Picnic area\",\"Market\",\"Industrial kitchen\",\"Rural or dusty outdoor setting\",\"Other\"],\"categoryorder\":\"array\",\"categoryarray\":[\"Home kitchen\",\"Restaurant\",\"Street food stall\",\"Picnic area\",\"Market\",\"Industrial kitchen\",\"Rural or dusty outdoor setting\",\"Other\"],\"showline\":true,\"linewidth\":2,\"linecolor\":\"grey\",\"mirror\":true},\"yaxis\":{\"anchor\":\"x\",\"domain\":[0.0,1.0],\"title\":{\"text\":\"Proportion of Images (%)\"},\"showline\":true,\"linewidth\":2,\"linecolor\":\"grey\",\"mirror\":true},\"xaxis2\":{\"anchor\":\"y2\",\"domain\":[0.35,0.6499999999999999],\"tickvals\":[\"Home kitchen\",\"Restaurant\",\"Street food stall\",\"Picnic area\",\"Market\",\"Industrial kitchen\",\"Rural or dusty outdoor setting\",\"Other\"],\"ticktext\":[\"Home kitchen\",\"Restaurant\",\"Street food stall\",\"Picnic area\",\"Market\",\"Industrial kitchen\",\"Rural or dusty outdoor setting\",\"Other\"],\"categoryorder\":\"array\",\"categoryarray\":[\"Home kitchen\",\"Restaurant\",\"Street food stall\",\"Picnic area\",\"Market\",\"Industrial kitchen\",\"Rural or dusty outdoor setting\",\"Other\"],\"showline\":true,\"linewidth\":2,\"linecolor\":\"grey\",\"mirror\":true},\"yaxis2\":{\"anchor\":\"x2\",\"domain\":[0.0,1.0],\"matches\":\"y\",\"showticklabels\":false,\"showline\":true,\"linewidth\":2,\"linecolor\":\"grey\",\"mirror\":true},\"xaxis3\":{\"anchor\":\"y3\",\"domain\":[0.7,1.0],\"tickvals\":[\"Home kitchen\",\"Restaurant\",\"Street food stall\",\"Picnic area\",\"Market\",\"Industrial kitchen\",\"Rural or dusty outdoor setting\",\"Other\"],\"ticktext\":[\"Home kitchen\",\"Restaurant\",\"Street food stall\",\"Picnic area\",\"Market\",\"Industrial kitchen\",\"Rural or dusty outdoor setting\",\"Other\"],\"categoryorder\":\"array\",\"categoryarray\":[\"Home kitchen\",\"Restaurant\",\"Street food stall\",\"Picnic area\",\"Market\",\"Industrial kitchen\",\"Rural or dusty outdoor setting\",\"Other\"],\"showline\":true,\"linewidth\":2,\"linecolor\":\"grey\",\"mirror\":true},\"yaxis3\":{\"anchor\":\"x3\",\"domain\":[0.0,1.0],\"matches\":\"y\",\"showticklabels\":false,\"showline\":true,\"linewidth\":2,\"linecolor\":\"grey\",\"mirror\":true},\"annotations\":[{\"font\":{\"size\":16},\"showarrow\":false,\"text\":\"Dall-E 3\",\"x\":0.15,\"xanchor\":\"center\",\"xref\":\"paper\",\"y\":1.0,\"yanchor\":\"bottom\",\"yref\":\"paper\"},{\"font\":{\"size\":16},\"showarrow\":false,\"text\":\"Stable Diffusion 2.1\",\"x\":0.49999999999999994,\"xanchor\":\"center\",\"xref\":\"paper\",\"y\":1.0,\"yanchor\":\"bottom\",\"yref\":\"paper\"},{\"font\":{\"size\":16},\"showarrow\":false,\"text\":\"Dall-E 2\",\"x\":0.85,\"xanchor\":\"center\",\"xref\":\"paper\",\"y\":1.0,\"yanchor\":\"bottom\",\"yref\":\"paper\"}],\"legend\":{\"title\":{\"text\":\"Country\"},\"orientation\":\"v\",\"yanchor\":\"top\",\"y\":1,\"xanchor\":\"right\",\"x\":1.15,\"itemwidth\":30,\"itemsizing\":\"constant\",\"traceorder\":\"normal\",\"bordercolor\":\"grey\",\"borderwidth\":1},\"title\":{\"font\":{\"family\":\"Helvetica Neue\",\"size\":18,\"color\":\"black\"},\"text\":\"What is the setting of the image?\",\"y\":0.9,\"x\":0.5,\"xanchor\":\"center\",\"yanchor\":\"top\"},\"font\":{\"family\":\"Helvetica Neue\",\"size\":12},\"plot_bgcolor\":\"white\",\"barmode\":\"group\",\"width\":1200,\"height\":400},                        {\"responsive\": true}                    ).then(function(){\n",
       "                            \n",
       "var gd = document.getElementById('45d0e869-521d-423b-aed2-d4d2c2753e3c');\n",
       "var x = new MutationObserver(function (mutations, observer) {{\n",
       "        var display = window.getComputedStyle(gd).display;\n",
       "        if (!display || display === 'none') {{\n",
       "            console.log([gd, 'removed!']);\n",
       "            Plotly.purge(gd);\n",
       "            observer.disconnect();\n",
       "        }}\n",
       "}});\n",
       "\n",
       "// Listen for the removal of the full notebook cells\n",
       "var notebookContainer = gd.closest('#notebook-container');\n",
       "if (notebookContainer) {{\n",
       "    x.observe(notebookContainer, {childList: true});\n",
       "}}\n",
       "\n",
       "// Listen for the clearing of the current output cell\n",
       "var outputEl = gd.closest('.output');\n",
       "if (outputEl) {{\n",
       "    x.observe(outputEl, {childList: true});\n",
       "}}\n",
       "\n",
       "                        })                };                });            </script>        </div>"
      ]
     },
     "metadata": {},
     "output_type": "display_data"
    },
    {
     "data": {
      "application/vnd.plotly.v1+json": {
       "config": {
        "plotlyServerURL": "https://plot.ly"
       },
       "data": [
        {
         "legendgroup": "Algeria",
         "marker": {
          "color": "#41cc96"
         },
         "name": "Algeria",
         "showlegend": true,
         "type": "bar",
         "x": [
          "Yes, visible and legible",
          "Yes, but not legible",
          "No"
         ],
         "xaxis": "x",
         "y": [
          0,
          0.6666666666666667,
          99.33333333333333
         ],
         "yaxis": "y"
        },
        {
         "legendgroup": "Nigeria",
         "marker": {
          "color": "#ef563b"
         },
         "name": "Nigeria",
         "showlegend": true,
         "type": "bar",
         "x": [
          "Yes, visible and legible",
          "Yes, but not legible",
          "No"
         ],
         "xaxis": "x",
         "y": [
          0.6666666666666667,
          0,
          99.33333333333333
         ],
         "yaxis": "y"
        },
        {
         "legendgroup": "South Africa",
         "marker": {
          "color": "#f7a15b"
         },
         "name": "South Africa",
         "showlegend": true,
         "type": "bar",
         "x": [
          "Yes, visible and legible",
          "Yes, but not legible",
          "No"
         ],
         "xaxis": "x",
         "y": [
          0.6666666666666667,
          0,
          99.33333333333333
         ],
         "yaxis": "y"
        },
        {
         "legendgroup": "United States",
         "marker": {
          "color": "#47d3f3"
         },
         "name": "United States",
         "showlegend": true,
         "type": "bar",
         "x": [
          "Yes, visible and legible",
          "Yes, but not legible",
          "No"
         ],
         "xaxis": "x",
         "y": [
          2.666666666666667,
          0.6666666666666667,
          96.66666666666667
         ],
         "yaxis": "y"
        },
        {
         "legendgroup": "Kenya",
         "marker": {
          "color": "#636efb"
         },
         "name": "Kenya",
         "showlegend": true,
         "type": "bar",
         "x": [
          "Yes, visible and legible",
          "Yes, but not legible",
          "No"
         ],
         "xaxis": "x",
         "y": [
          0,
          0,
          100
         ],
         "yaxis": "y"
        },
        {
         "legendgroup": "Cameroon",
         "marker": {
          "color": "#ab63fb"
         },
         "name": "Cameroon",
         "showlegend": true,
         "type": "bar",
         "x": [
          "Yes, visible and legible",
          "Yes, but not legible",
          "No"
         ],
         "xaxis": "x",
         "y": [
          2,
          0.6666666666666667,
          97.33333333333334
         ],
         "yaxis": "y"
        },
        {
         "legendgroup": "Algeria",
         "marker": {
          "color": "#41cc96"
         },
         "name": "Algeria",
         "showlegend": false,
         "type": "bar",
         "x": [
          "Yes, visible and legible",
          "Yes, but not legible",
          "No"
         ],
         "xaxis": "x2",
         "y": [
          3.3333333333333335,
          19.333333333333332,
          77.33333333333333
         ],
         "yaxis": "y2"
        },
        {
         "legendgroup": "Nigeria",
         "marker": {
          "color": "#ef563b"
         },
         "name": "Nigeria",
         "showlegend": false,
         "type": "bar",
         "x": [
          "Yes, visible and legible",
          "Yes, but not legible",
          "No"
         ],
         "xaxis": "x2",
         "y": [
          5.333333333333334,
          30.666666666666664,
          64
         ],
         "yaxis": "y2"
        },
        {
         "legendgroup": "South Africa",
         "marker": {
          "color": "#f7a15b"
         },
         "name": "South Africa",
         "showlegend": false,
         "type": "bar",
         "x": [
          "Yes, visible and legible",
          "Yes, but not legible",
          "No"
         ],
         "xaxis": "x2",
         "y": [
          0.6666666666666667,
          13.333333333333334,
          86
         ],
         "yaxis": "y2"
        },
        {
         "legendgroup": "United States",
         "marker": {
          "color": "#47d3f3"
         },
         "name": "United States",
         "showlegend": false,
         "type": "bar",
         "x": [
          "Yes, visible and legible",
          "Yes, but not legible",
          "No"
         ],
         "xaxis": "x2",
         "y": [
          1.3333333333333335,
          15.333333333333332,
          83.33333333333334
         ],
         "yaxis": "y2"
        },
        {
         "legendgroup": "Kenya",
         "marker": {
          "color": "#636efb"
         },
         "name": "Kenya",
         "showlegend": false,
         "type": "bar",
         "x": [
          "Yes, visible and legible",
          "Yes, but not legible",
          "No"
         ],
         "xaxis": "x2",
         "y": [
          4.794520547945205,
          17.80821917808219,
          77.3972602739726
         ],
         "yaxis": "y2"
        },
        {
         "legendgroup": "Cameroon",
         "marker": {
          "color": "#ab63fb"
         },
         "name": "Cameroon",
         "showlegend": false,
         "type": "bar",
         "x": [
          "Yes, visible and legible",
          "Yes, but not legible",
          "No"
         ],
         "xaxis": "x2",
         "y": [
          4.375,
          16.875,
          78.75
         ],
         "yaxis": "y2"
        },
        {
         "legendgroup": "Algeria",
         "marker": {
          "color": "#41cc96"
         },
         "name": "Algeria",
         "showlegend": false,
         "type": "bar",
         "x": [
          "Yes, visible and legible",
          "Yes, but not legible",
          "No"
         ],
         "xaxis": "x3",
         "y": [
          0,
          0.6666666666666667,
          99.33333333333333
         ],
         "yaxis": "y3"
        },
        {
         "legendgroup": "Nigeria",
         "marker": {
          "color": "#ef563b"
         },
         "name": "Nigeria",
         "showlegend": false,
         "type": "bar",
         "x": [
          "Yes, visible and legible",
          "Yes, but not legible",
          "No"
         ],
         "xaxis": "x3",
         "y": [
          0,
          0,
          0
         ],
         "yaxis": "y3"
        },
        {
         "legendgroup": "South Africa",
         "marker": {
          "color": "#f7a15b"
         },
         "name": "South Africa",
         "showlegend": false,
         "type": "bar",
         "x": [
          "Yes, visible and legible",
          "Yes, but not legible",
          "No"
         ],
         "xaxis": "x3",
         "y": [
          0,
          0,
          100
         ],
         "yaxis": "y3"
        },
        {
         "legendgroup": "United States",
         "marker": {
          "color": "#47d3f3"
         },
         "name": "United States",
         "showlegend": false,
         "type": "bar",
         "x": [
          "Yes, visible and legible",
          "Yes, but not legible",
          "No"
         ],
         "xaxis": "x3",
         "y": [
          0,
          2.666666666666667,
          97.33333333333334
         ],
         "yaxis": "y3"
        },
        {
         "legendgroup": "Kenya",
         "marker": {
          "color": "#636efb"
         },
         "name": "Kenya",
         "showlegend": false,
         "type": "bar",
         "x": [
          "Yes, visible and legible",
          "Yes, but not legible",
          "No"
         ],
         "xaxis": "x3",
         "y": [
          0,
          0,
          100
         ],
         "yaxis": "y3"
        },
        {
         "legendgroup": "Cameroon",
         "marker": {
          "color": "#ab63fb"
         },
         "name": "Cameroon",
         "showlegend": false,
         "type": "bar",
         "x": [
          "Yes, visible and legible",
          "Yes, but not legible",
          "No"
         ],
         "xaxis": "x3",
         "y": [
          0,
          0.6896551724137931,
          99.3103448275862
         ],
         "yaxis": "y3"
        }
       ],
       "layout": {
        "annotations": [
         {
          "font": {
           "size": 16
          },
          "showarrow": false,
          "text": "Dall-E 3",
          "x": 0.15,
          "xanchor": "center",
          "xref": "paper",
          "y": 1,
          "yanchor": "bottom",
          "yref": "paper"
         },
         {
          "font": {
           "size": 16
          },
          "showarrow": false,
          "text": "Stable Diffusion 2.1",
          "x": 0.49999999999999994,
          "xanchor": "center",
          "xref": "paper",
          "y": 1,
          "yanchor": "bottom",
          "yref": "paper"
         },
         {
          "font": {
           "size": 16
          },
          "showarrow": false,
          "text": "Dall-E 2",
          "x": 0.85,
          "xanchor": "center",
          "xref": "paper",
          "y": 1,
          "yanchor": "bottom",
          "yref": "paper"
         }
        ],
        "barmode": "group",
        "font": {
         "family": "Helvetica Neue",
         "size": 12
        },
        "height": 400,
        "legend": {
         "bordercolor": "grey",
         "borderwidth": 1,
         "itemsizing": "constant",
         "itemwidth": 30,
         "orientation": "v",
         "title": {
          "text": "Country"
         },
         "traceorder": "normal",
         "x": 1.15,
         "xanchor": "right",
         "y": 1,
         "yanchor": "top"
        },
        "plot_bgcolor": "white",
        "template": {
         "data": {
          "bar": [
           {
            "error_x": {
             "color": "#2a3f5f"
            },
            "error_y": {
             "color": "#2a3f5f"
            },
            "marker": {
             "line": {
              "color": "#E5ECF6",
              "width": 0.5
             },
             "pattern": {
              "fillmode": "overlay",
              "size": 10,
              "solidity": 0.2
             }
            },
            "type": "bar"
           }
          ],
          "barpolar": [
           {
            "marker": {
             "line": {
              "color": "#E5ECF6",
              "width": 0.5
             },
             "pattern": {
              "fillmode": "overlay",
              "size": 10,
              "solidity": 0.2
             }
            },
            "type": "barpolar"
           }
          ],
          "carpet": [
           {
            "aaxis": {
             "endlinecolor": "#2a3f5f",
             "gridcolor": "white",
             "linecolor": "white",
             "minorgridcolor": "white",
             "startlinecolor": "#2a3f5f"
            },
            "baxis": {
             "endlinecolor": "#2a3f5f",
             "gridcolor": "white",
             "linecolor": "white",
             "minorgridcolor": "white",
             "startlinecolor": "#2a3f5f"
            },
            "type": "carpet"
           }
          ],
          "choropleth": [
           {
            "colorbar": {
             "outlinewidth": 0,
             "ticks": ""
            },
            "type": "choropleth"
           }
          ],
          "contour": [
           {
            "colorbar": {
             "outlinewidth": 0,
             "ticks": ""
            },
            "colorscale": [
             [
              0,
              "#0d0887"
             ],
             [
              0.1111111111111111,
              "#46039f"
             ],
             [
              0.2222222222222222,
              "#7201a8"
             ],
             [
              0.3333333333333333,
              "#9c179e"
             ],
             [
              0.4444444444444444,
              "#bd3786"
             ],
             [
              0.5555555555555556,
              "#d8576b"
             ],
             [
              0.6666666666666666,
              "#ed7953"
             ],
             [
              0.7777777777777778,
              "#fb9f3a"
             ],
             [
              0.8888888888888888,
              "#fdca26"
             ],
             [
              1,
              "#f0f921"
             ]
            ],
            "type": "contour"
           }
          ],
          "contourcarpet": [
           {
            "colorbar": {
             "outlinewidth": 0,
             "ticks": ""
            },
            "type": "contourcarpet"
           }
          ],
          "heatmap": [
           {
            "colorbar": {
             "outlinewidth": 0,
             "ticks": ""
            },
            "colorscale": [
             [
              0,
              "#0d0887"
             ],
             [
              0.1111111111111111,
              "#46039f"
             ],
             [
              0.2222222222222222,
              "#7201a8"
             ],
             [
              0.3333333333333333,
              "#9c179e"
             ],
             [
              0.4444444444444444,
              "#bd3786"
             ],
             [
              0.5555555555555556,
              "#d8576b"
             ],
             [
              0.6666666666666666,
              "#ed7953"
             ],
             [
              0.7777777777777778,
              "#fb9f3a"
             ],
             [
              0.8888888888888888,
              "#fdca26"
             ],
             [
              1,
              "#f0f921"
             ]
            ],
            "type": "heatmap"
           }
          ],
          "heatmapgl": [
           {
            "colorbar": {
             "outlinewidth": 0,
             "ticks": ""
            },
            "colorscale": [
             [
              0,
              "#0d0887"
             ],
             [
              0.1111111111111111,
              "#46039f"
             ],
             [
              0.2222222222222222,
              "#7201a8"
             ],
             [
              0.3333333333333333,
              "#9c179e"
             ],
             [
              0.4444444444444444,
              "#bd3786"
             ],
             [
              0.5555555555555556,
              "#d8576b"
             ],
             [
              0.6666666666666666,
              "#ed7953"
             ],
             [
              0.7777777777777778,
              "#fb9f3a"
             ],
             [
              0.8888888888888888,
              "#fdca26"
             ],
             [
              1,
              "#f0f921"
             ]
            ],
            "type": "heatmapgl"
           }
          ],
          "histogram": [
           {
            "marker": {
             "pattern": {
              "fillmode": "overlay",
              "size": 10,
              "solidity": 0.2
             }
            },
            "type": "histogram"
           }
          ],
          "histogram2d": [
           {
            "colorbar": {
             "outlinewidth": 0,
             "ticks": ""
            },
            "colorscale": [
             [
              0,
              "#0d0887"
             ],
             [
              0.1111111111111111,
              "#46039f"
             ],
             [
              0.2222222222222222,
              "#7201a8"
             ],
             [
              0.3333333333333333,
              "#9c179e"
             ],
             [
              0.4444444444444444,
              "#bd3786"
             ],
             [
              0.5555555555555556,
              "#d8576b"
             ],
             [
              0.6666666666666666,
              "#ed7953"
             ],
             [
              0.7777777777777778,
              "#fb9f3a"
             ],
             [
              0.8888888888888888,
              "#fdca26"
             ],
             [
              1,
              "#f0f921"
             ]
            ],
            "type": "histogram2d"
           }
          ],
          "histogram2dcontour": [
           {
            "colorbar": {
             "outlinewidth": 0,
             "ticks": ""
            },
            "colorscale": [
             [
              0,
              "#0d0887"
             ],
             [
              0.1111111111111111,
              "#46039f"
             ],
             [
              0.2222222222222222,
              "#7201a8"
             ],
             [
              0.3333333333333333,
              "#9c179e"
             ],
             [
              0.4444444444444444,
              "#bd3786"
             ],
             [
              0.5555555555555556,
              "#d8576b"
             ],
             [
              0.6666666666666666,
              "#ed7953"
             ],
             [
              0.7777777777777778,
              "#fb9f3a"
             ],
             [
              0.8888888888888888,
              "#fdca26"
             ],
             [
              1,
              "#f0f921"
             ]
            ],
            "type": "histogram2dcontour"
           }
          ],
          "mesh3d": [
           {
            "colorbar": {
             "outlinewidth": 0,
             "ticks": ""
            },
            "type": "mesh3d"
           }
          ],
          "parcoords": [
           {
            "line": {
             "colorbar": {
              "outlinewidth": 0,
              "ticks": ""
             }
            },
            "type": "parcoords"
           }
          ],
          "pie": [
           {
            "automargin": true,
            "type": "pie"
           }
          ],
          "scatter": [
           {
            "fillpattern": {
             "fillmode": "overlay",
             "size": 10,
             "solidity": 0.2
            },
            "type": "scatter"
           }
          ],
          "scatter3d": [
           {
            "line": {
             "colorbar": {
              "outlinewidth": 0,
              "ticks": ""
             }
            },
            "marker": {
             "colorbar": {
              "outlinewidth": 0,
              "ticks": ""
             }
            },
            "type": "scatter3d"
           }
          ],
          "scattercarpet": [
           {
            "marker": {
             "colorbar": {
              "outlinewidth": 0,
              "ticks": ""
             }
            },
            "type": "scattercarpet"
           }
          ],
          "scattergeo": [
           {
            "marker": {
             "colorbar": {
              "outlinewidth": 0,
              "ticks": ""
             }
            },
            "type": "scattergeo"
           }
          ],
          "scattergl": [
           {
            "marker": {
             "colorbar": {
              "outlinewidth": 0,
              "ticks": ""
             }
            },
            "type": "scattergl"
           }
          ],
          "scattermapbox": [
           {
            "marker": {
             "colorbar": {
              "outlinewidth": 0,
              "ticks": ""
             }
            },
            "type": "scattermapbox"
           }
          ],
          "scatterpolar": [
           {
            "marker": {
             "colorbar": {
              "outlinewidth": 0,
              "ticks": ""
             }
            },
            "type": "scatterpolar"
           }
          ],
          "scatterpolargl": [
           {
            "marker": {
             "colorbar": {
              "outlinewidth": 0,
              "ticks": ""
             }
            },
            "type": "scatterpolargl"
           }
          ],
          "scatterternary": [
           {
            "marker": {
             "colorbar": {
              "outlinewidth": 0,
              "ticks": ""
             }
            },
            "type": "scatterternary"
           }
          ],
          "surface": [
           {
            "colorbar": {
             "outlinewidth": 0,
             "ticks": ""
            },
            "colorscale": [
             [
              0,
              "#0d0887"
             ],
             [
              0.1111111111111111,
              "#46039f"
             ],
             [
              0.2222222222222222,
              "#7201a8"
             ],
             [
              0.3333333333333333,
              "#9c179e"
             ],
             [
              0.4444444444444444,
              "#bd3786"
             ],
             [
              0.5555555555555556,
              "#d8576b"
             ],
             [
              0.6666666666666666,
              "#ed7953"
             ],
             [
              0.7777777777777778,
              "#fb9f3a"
             ],
             [
              0.8888888888888888,
              "#fdca26"
             ],
             [
              1,
              "#f0f921"
             ]
            ],
            "type": "surface"
           }
          ],
          "table": [
           {
            "cells": {
             "fill": {
              "color": "#EBF0F8"
             },
             "line": {
              "color": "white"
             }
            },
            "header": {
             "fill": {
              "color": "#C8D4E3"
             },
             "line": {
              "color": "white"
             }
            },
            "type": "table"
           }
          ]
         },
         "layout": {
          "annotationdefaults": {
           "arrowcolor": "#2a3f5f",
           "arrowhead": 0,
           "arrowwidth": 1
          },
          "autotypenumbers": "strict",
          "coloraxis": {
           "colorbar": {
            "outlinewidth": 0,
            "ticks": ""
           }
          },
          "colorscale": {
           "diverging": [
            [
             0,
             "#8e0152"
            ],
            [
             0.1,
             "#c51b7d"
            ],
            [
             0.2,
             "#de77ae"
            ],
            [
             0.3,
             "#f1b6da"
            ],
            [
             0.4,
             "#fde0ef"
            ],
            [
             0.5,
             "#f7f7f7"
            ],
            [
             0.6,
             "#e6f5d0"
            ],
            [
             0.7,
             "#b8e186"
            ],
            [
             0.8,
             "#7fbc41"
            ],
            [
             0.9,
             "#4d9221"
            ],
            [
             1,
             "#276419"
            ]
           ],
           "sequential": [
            [
             0,
             "#0d0887"
            ],
            [
             0.1111111111111111,
             "#46039f"
            ],
            [
             0.2222222222222222,
             "#7201a8"
            ],
            [
             0.3333333333333333,
             "#9c179e"
            ],
            [
             0.4444444444444444,
             "#bd3786"
            ],
            [
             0.5555555555555556,
             "#d8576b"
            ],
            [
             0.6666666666666666,
             "#ed7953"
            ],
            [
             0.7777777777777778,
             "#fb9f3a"
            ],
            [
             0.8888888888888888,
             "#fdca26"
            ],
            [
             1,
             "#f0f921"
            ]
           ],
           "sequentialminus": [
            [
             0,
             "#0d0887"
            ],
            [
             0.1111111111111111,
             "#46039f"
            ],
            [
             0.2222222222222222,
             "#7201a8"
            ],
            [
             0.3333333333333333,
             "#9c179e"
            ],
            [
             0.4444444444444444,
             "#bd3786"
            ],
            [
             0.5555555555555556,
             "#d8576b"
            ],
            [
             0.6666666666666666,
             "#ed7953"
            ],
            [
             0.7777777777777778,
             "#fb9f3a"
            ],
            [
             0.8888888888888888,
             "#fdca26"
            ],
            [
             1,
             "#f0f921"
            ]
           ]
          },
          "colorway": [
           "#636efa",
           "#EF553B",
           "#00cc96",
           "#ab63fa",
           "#FFA15A",
           "#19d3f3",
           "#FF6692",
           "#B6E880",
           "#FF97FF",
           "#FECB52"
          ],
          "font": {
           "color": "#2a3f5f"
          },
          "geo": {
           "bgcolor": "white",
           "lakecolor": "white",
           "landcolor": "#E5ECF6",
           "showlakes": true,
           "showland": true,
           "subunitcolor": "white"
          },
          "hoverlabel": {
           "align": "left"
          },
          "hovermode": "closest",
          "mapbox": {
           "style": "light"
          },
          "paper_bgcolor": "white",
          "plot_bgcolor": "#E5ECF6",
          "polar": {
           "angularaxis": {
            "gridcolor": "white",
            "linecolor": "white",
            "ticks": ""
           },
           "bgcolor": "#E5ECF6",
           "radialaxis": {
            "gridcolor": "white",
            "linecolor": "white",
            "ticks": ""
           }
          },
          "scene": {
           "xaxis": {
            "backgroundcolor": "#E5ECF6",
            "gridcolor": "white",
            "gridwidth": 2,
            "linecolor": "white",
            "showbackground": true,
            "ticks": "",
            "zerolinecolor": "white"
           },
           "yaxis": {
            "backgroundcolor": "#E5ECF6",
            "gridcolor": "white",
            "gridwidth": 2,
            "linecolor": "white",
            "showbackground": true,
            "ticks": "",
            "zerolinecolor": "white"
           },
           "zaxis": {
            "backgroundcolor": "#E5ECF6",
            "gridcolor": "white",
            "gridwidth": 2,
            "linecolor": "white",
            "showbackground": true,
            "ticks": "",
            "zerolinecolor": "white"
           }
          },
          "shapedefaults": {
           "line": {
            "color": "#2a3f5f"
           }
          },
          "ternary": {
           "aaxis": {
            "gridcolor": "white",
            "linecolor": "white",
            "ticks": ""
           },
           "baxis": {
            "gridcolor": "white",
            "linecolor": "white",
            "ticks": ""
           },
           "bgcolor": "#E5ECF6",
           "caxis": {
            "gridcolor": "white",
            "linecolor": "white",
            "ticks": ""
           }
          },
          "title": {
           "x": 0.05
          },
          "xaxis": {
           "automargin": true,
           "gridcolor": "white",
           "linecolor": "white",
           "ticks": "",
           "title": {
            "standoff": 15
           },
           "zerolinecolor": "white",
           "zerolinewidth": 2
          },
          "yaxis": {
           "automargin": true,
           "gridcolor": "white",
           "linecolor": "white",
           "ticks": "",
           "title": {
            "standoff": 15
           },
           "zerolinecolor": "white",
           "zerolinewidth": 2
          }
         }
        },
        "title": {
         "font": {
          "color": "black",
          "family": "Helvetica Neue",
          "size": 18
         },
         "text": "Is there any text or labeling in the image?",
         "x": 0.5,
         "xanchor": "center",
         "y": 0.9,
         "yanchor": "top"
        },
        "width": 1200,
        "xaxis": {
         "anchor": "y",
         "categoryarray": [
          "Yes, visible and legible",
          "Yes, but not legible",
          "No"
         ],
         "categoryorder": "array",
         "domain": [
          0,
          0.3
         ],
         "linecolor": "grey",
         "linewidth": 2,
         "mirror": true,
         "showline": true,
         "ticktext": [
          "Yes, visible and legible",
          "Yes, but not legible",
          "No"
         ],
         "tickvals": [
          "Yes, visible and legible",
          "Yes, but not legible",
          "No"
         ]
        },
        "xaxis2": {
         "anchor": "y2",
         "categoryarray": [
          "Yes, visible and legible",
          "Yes, but not legible",
          "No"
         ],
         "categoryorder": "array",
         "domain": [
          0.35,
          0.6499999999999999
         ],
         "linecolor": "grey",
         "linewidth": 2,
         "mirror": true,
         "showline": true,
         "ticktext": [
          "Yes, visible and legible",
          "Yes, but not legible",
          "No"
         ],
         "tickvals": [
          "Yes, visible and legible",
          "Yes, but not legible",
          "No"
         ]
        },
        "xaxis3": {
         "anchor": "y3",
         "categoryarray": [
          "Yes, visible and legible",
          "Yes, but not legible",
          "No"
         ],
         "categoryorder": "array",
         "domain": [
          0.7,
          1
         ],
         "linecolor": "grey",
         "linewidth": 2,
         "mirror": true,
         "showline": true,
         "ticktext": [
          "Yes, visible and legible",
          "Yes, but not legible",
          "No"
         ],
         "tickvals": [
          "Yes, visible and legible",
          "Yes, but not legible",
          "No"
         ]
        },
        "yaxis": {
         "anchor": "x",
         "domain": [
          0,
          1
         ],
         "linecolor": "grey",
         "linewidth": 2,
         "mirror": true,
         "showline": true,
         "title": {
          "text": "Proportion of Images (%)"
         }
        },
        "yaxis2": {
         "anchor": "x2",
         "domain": [
          0,
          1
         ],
         "linecolor": "grey",
         "linewidth": 2,
         "matches": "y",
         "mirror": true,
         "showline": true,
         "showticklabels": false
        },
        "yaxis3": {
         "anchor": "x3",
         "domain": [
          0,
          1
         ],
         "linecolor": "grey",
         "linewidth": 2,
         "matches": "y",
         "mirror": true,
         "showline": true,
         "showticklabels": false
        }
       }
      },
      "text/html": [
       "<div>                            <div id=\"ae217152-0ca2-4b8a-bcca-c6f6b66233d5\" class=\"plotly-graph-div\" style=\"height:400px; width:1200px;\"></div>            <script type=\"text/javascript\">                require([\"plotly\"], function(Plotly) {                    window.PLOTLYENV=window.PLOTLYENV || {};                                    if (document.getElementById(\"ae217152-0ca2-4b8a-bcca-c6f6b66233d5\")) {                    Plotly.newPlot(                        \"ae217152-0ca2-4b8a-bcca-c6f6b66233d5\",                        [{\"legendgroup\":\"Algeria\",\"marker\":{\"color\":\"#41cc96\"},\"name\":\"Algeria\",\"showlegend\":true,\"x\":[\"Yes, visible and legible\",\"Yes, but not legible\",\"No\"],\"y\":[0.0,0.6666666666666667,99.33333333333333],\"type\":\"bar\",\"xaxis\":\"x\",\"yaxis\":\"y\"},{\"legendgroup\":\"Nigeria\",\"marker\":{\"color\":\"#ef563b\"},\"name\":\"Nigeria\",\"showlegend\":true,\"x\":[\"Yes, visible and legible\",\"Yes, but not legible\",\"No\"],\"y\":[0.6666666666666667,0.0,99.33333333333333],\"type\":\"bar\",\"xaxis\":\"x\",\"yaxis\":\"y\"},{\"legendgroup\":\"South Africa\",\"marker\":{\"color\":\"#f7a15b\"},\"name\":\"South Africa\",\"showlegend\":true,\"x\":[\"Yes, visible and legible\",\"Yes, but not legible\",\"No\"],\"y\":[0.6666666666666667,0.0,99.33333333333333],\"type\":\"bar\",\"xaxis\":\"x\",\"yaxis\":\"y\"},{\"legendgroup\":\"United States\",\"marker\":{\"color\":\"#47d3f3\"},\"name\":\"United States\",\"showlegend\":true,\"x\":[\"Yes, visible and legible\",\"Yes, but not legible\",\"No\"],\"y\":[2.666666666666667,0.6666666666666667,96.66666666666667],\"type\":\"bar\",\"xaxis\":\"x\",\"yaxis\":\"y\"},{\"legendgroup\":\"Kenya\",\"marker\":{\"color\":\"#636efb\"},\"name\":\"Kenya\",\"showlegend\":true,\"x\":[\"Yes, visible and legible\",\"Yes, but not legible\",\"No\"],\"y\":[0.0,0.0,100.0],\"type\":\"bar\",\"xaxis\":\"x\",\"yaxis\":\"y\"},{\"legendgroup\":\"Cameroon\",\"marker\":{\"color\":\"#ab63fb\"},\"name\":\"Cameroon\",\"showlegend\":true,\"x\":[\"Yes, visible and legible\",\"Yes, but not legible\",\"No\"],\"y\":[2.0,0.6666666666666667,97.33333333333334],\"type\":\"bar\",\"xaxis\":\"x\",\"yaxis\":\"y\"},{\"legendgroup\":\"Algeria\",\"marker\":{\"color\":\"#41cc96\"},\"name\":\"Algeria\",\"showlegend\":false,\"x\":[\"Yes, visible and legible\",\"Yes, but not legible\",\"No\"],\"y\":[3.3333333333333335,19.333333333333332,77.33333333333333],\"type\":\"bar\",\"xaxis\":\"x2\",\"yaxis\":\"y2\"},{\"legendgroup\":\"Nigeria\",\"marker\":{\"color\":\"#ef563b\"},\"name\":\"Nigeria\",\"showlegend\":false,\"x\":[\"Yes, visible and legible\",\"Yes, but not legible\",\"No\"],\"y\":[5.333333333333334,30.666666666666664,64.0],\"type\":\"bar\",\"xaxis\":\"x2\",\"yaxis\":\"y2\"},{\"legendgroup\":\"South Africa\",\"marker\":{\"color\":\"#f7a15b\"},\"name\":\"South Africa\",\"showlegend\":false,\"x\":[\"Yes, visible and legible\",\"Yes, but not legible\",\"No\"],\"y\":[0.6666666666666667,13.333333333333334,86.0],\"type\":\"bar\",\"xaxis\":\"x2\",\"yaxis\":\"y2\"},{\"legendgroup\":\"United States\",\"marker\":{\"color\":\"#47d3f3\"},\"name\":\"United States\",\"showlegend\":false,\"x\":[\"Yes, visible and legible\",\"Yes, but not legible\",\"No\"],\"y\":[1.3333333333333335,15.333333333333332,83.33333333333334],\"type\":\"bar\",\"xaxis\":\"x2\",\"yaxis\":\"y2\"},{\"legendgroup\":\"Kenya\",\"marker\":{\"color\":\"#636efb\"},\"name\":\"Kenya\",\"showlegend\":false,\"x\":[\"Yes, visible and legible\",\"Yes, but not legible\",\"No\"],\"y\":[4.794520547945205,17.80821917808219,77.3972602739726],\"type\":\"bar\",\"xaxis\":\"x2\",\"yaxis\":\"y2\"},{\"legendgroup\":\"Cameroon\",\"marker\":{\"color\":\"#ab63fb\"},\"name\":\"Cameroon\",\"showlegend\":false,\"x\":[\"Yes, visible and legible\",\"Yes, but not legible\",\"No\"],\"y\":[4.375,16.875,78.75],\"type\":\"bar\",\"xaxis\":\"x2\",\"yaxis\":\"y2\"},{\"legendgroup\":\"Algeria\",\"marker\":{\"color\":\"#41cc96\"},\"name\":\"Algeria\",\"showlegend\":false,\"x\":[\"Yes, visible and legible\",\"Yes, but not legible\",\"No\"],\"y\":[0.0,0.6666666666666667,99.33333333333333],\"type\":\"bar\",\"xaxis\":\"x3\",\"yaxis\":\"y3\"},{\"legendgroup\":\"Nigeria\",\"marker\":{\"color\":\"#ef563b\"},\"name\":\"Nigeria\",\"showlegend\":false,\"x\":[\"Yes, visible and legible\",\"Yes, but not legible\",\"No\"],\"y\":[0.0,0.0,0.0],\"type\":\"bar\",\"xaxis\":\"x3\",\"yaxis\":\"y3\"},{\"legendgroup\":\"South Africa\",\"marker\":{\"color\":\"#f7a15b\"},\"name\":\"South Africa\",\"showlegend\":false,\"x\":[\"Yes, visible and legible\",\"Yes, but not legible\",\"No\"],\"y\":[0.0,0.0,100.0],\"type\":\"bar\",\"xaxis\":\"x3\",\"yaxis\":\"y3\"},{\"legendgroup\":\"United States\",\"marker\":{\"color\":\"#47d3f3\"},\"name\":\"United States\",\"showlegend\":false,\"x\":[\"Yes, visible and legible\",\"Yes, but not legible\",\"No\"],\"y\":[0.0,2.666666666666667,97.33333333333334],\"type\":\"bar\",\"xaxis\":\"x3\",\"yaxis\":\"y3\"},{\"legendgroup\":\"Kenya\",\"marker\":{\"color\":\"#636efb\"},\"name\":\"Kenya\",\"showlegend\":false,\"x\":[\"Yes, visible and legible\",\"Yes, but not legible\",\"No\"],\"y\":[0.0,0.0,100.0],\"type\":\"bar\",\"xaxis\":\"x3\",\"yaxis\":\"y3\"},{\"legendgroup\":\"Cameroon\",\"marker\":{\"color\":\"#ab63fb\"},\"name\":\"Cameroon\",\"showlegend\":false,\"x\":[\"Yes, visible and legible\",\"Yes, but not legible\",\"No\"],\"y\":[0.0,0.6896551724137931,99.3103448275862],\"type\":\"bar\",\"xaxis\":\"x3\",\"yaxis\":\"y3\"}],                        {\"template\":{\"data\":{\"histogram2dcontour\":[{\"type\":\"histogram2dcontour\",\"colorbar\":{\"outlinewidth\":0,\"ticks\":\"\"},\"colorscale\":[[0.0,\"#0d0887\"],[0.1111111111111111,\"#46039f\"],[0.2222222222222222,\"#7201a8\"],[0.3333333333333333,\"#9c179e\"],[0.4444444444444444,\"#bd3786\"],[0.5555555555555556,\"#d8576b\"],[0.6666666666666666,\"#ed7953\"],[0.7777777777777778,\"#fb9f3a\"],[0.8888888888888888,\"#fdca26\"],[1.0,\"#f0f921\"]]}],\"choropleth\":[{\"type\":\"choropleth\",\"colorbar\":{\"outlinewidth\":0,\"ticks\":\"\"}}],\"histogram2d\":[{\"type\":\"histogram2d\",\"colorbar\":{\"outlinewidth\":0,\"ticks\":\"\"},\"colorscale\":[[0.0,\"#0d0887\"],[0.1111111111111111,\"#46039f\"],[0.2222222222222222,\"#7201a8\"],[0.3333333333333333,\"#9c179e\"],[0.4444444444444444,\"#bd3786\"],[0.5555555555555556,\"#d8576b\"],[0.6666666666666666,\"#ed7953\"],[0.7777777777777778,\"#fb9f3a\"],[0.8888888888888888,\"#fdca26\"],[1.0,\"#f0f921\"]]}],\"heatmap\":[{\"type\":\"heatmap\",\"colorbar\":{\"outlinewidth\":0,\"ticks\":\"\"},\"colorscale\":[[0.0,\"#0d0887\"],[0.1111111111111111,\"#46039f\"],[0.2222222222222222,\"#7201a8\"],[0.3333333333333333,\"#9c179e\"],[0.4444444444444444,\"#bd3786\"],[0.5555555555555556,\"#d8576b\"],[0.6666666666666666,\"#ed7953\"],[0.7777777777777778,\"#fb9f3a\"],[0.8888888888888888,\"#fdca26\"],[1.0,\"#f0f921\"]]}],\"heatmapgl\":[{\"type\":\"heatmapgl\",\"colorbar\":{\"outlinewidth\":0,\"ticks\":\"\"},\"colorscale\":[[0.0,\"#0d0887\"],[0.1111111111111111,\"#46039f\"],[0.2222222222222222,\"#7201a8\"],[0.3333333333333333,\"#9c179e\"],[0.4444444444444444,\"#bd3786\"],[0.5555555555555556,\"#d8576b\"],[0.6666666666666666,\"#ed7953\"],[0.7777777777777778,\"#fb9f3a\"],[0.8888888888888888,\"#fdca26\"],[1.0,\"#f0f921\"]]}],\"contourcarpet\":[{\"type\":\"contourcarpet\",\"colorbar\":{\"outlinewidth\":0,\"ticks\":\"\"}}],\"contour\":[{\"type\":\"contour\",\"colorbar\":{\"outlinewidth\":0,\"ticks\":\"\"},\"colorscale\":[[0.0,\"#0d0887\"],[0.1111111111111111,\"#46039f\"],[0.2222222222222222,\"#7201a8\"],[0.3333333333333333,\"#9c179e\"],[0.4444444444444444,\"#bd3786\"],[0.5555555555555556,\"#d8576b\"],[0.6666666666666666,\"#ed7953\"],[0.7777777777777778,\"#fb9f3a\"],[0.8888888888888888,\"#fdca26\"],[1.0,\"#f0f921\"]]}],\"surface\":[{\"type\":\"surface\",\"colorbar\":{\"outlinewidth\":0,\"ticks\":\"\"},\"colorscale\":[[0.0,\"#0d0887\"],[0.1111111111111111,\"#46039f\"],[0.2222222222222222,\"#7201a8\"],[0.3333333333333333,\"#9c179e\"],[0.4444444444444444,\"#bd3786\"],[0.5555555555555556,\"#d8576b\"],[0.6666666666666666,\"#ed7953\"],[0.7777777777777778,\"#fb9f3a\"],[0.8888888888888888,\"#fdca26\"],[1.0,\"#f0f921\"]]}],\"mesh3d\":[{\"type\":\"mesh3d\",\"colorbar\":{\"outlinewidth\":0,\"ticks\":\"\"}}],\"scatter\":[{\"fillpattern\":{\"fillmode\":\"overlay\",\"size\":10,\"solidity\":0.2},\"type\":\"scatter\"}],\"parcoords\":[{\"type\":\"parcoords\",\"line\":{\"colorbar\":{\"outlinewidth\":0,\"ticks\":\"\"}}}],\"scatterpolargl\":[{\"type\":\"scatterpolargl\",\"marker\":{\"colorbar\":{\"outlinewidth\":0,\"ticks\":\"\"}}}],\"bar\":[{\"error_x\":{\"color\":\"#2a3f5f\"},\"error_y\":{\"color\":\"#2a3f5f\"},\"marker\":{\"line\":{\"color\":\"#E5ECF6\",\"width\":0.5},\"pattern\":{\"fillmode\":\"overlay\",\"size\":10,\"solidity\":0.2}},\"type\":\"bar\"}],\"scattergeo\":[{\"type\":\"scattergeo\",\"marker\":{\"colorbar\":{\"outlinewidth\":0,\"ticks\":\"\"}}}],\"scatterpolar\":[{\"type\":\"scatterpolar\",\"marker\":{\"colorbar\":{\"outlinewidth\":0,\"ticks\":\"\"}}}],\"histogram\":[{\"marker\":{\"pattern\":{\"fillmode\":\"overlay\",\"size\":10,\"solidity\":0.2}},\"type\":\"histogram\"}],\"scattergl\":[{\"type\":\"scattergl\",\"marker\":{\"colorbar\":{\"outlinewidth\":0,\"ticks\":\"\"}}}],\"scatter3d\":[{\"type\":\"scatter3d\",\"line\":{\"colorbar\":{\"outlinewidth\":0,\"ticks\":\"\"}},\"marker\":{\"colorbar\":{\"outlinewidth\":0,\"ticks\":\"\"}}}],\"scattermapbox\":[{\"type\":\"scattermapbox\",\"marker\":{\"colorbar\":{\"outlinewidth\":0,\"ticks\":\"\"}}}],\"scatterternary\":[{\"type\":\"scatterternary\",\"marker\":{\"colorbar\":{\"outlinewidth\":0,\"ticks\":\"\"}}}],\"scattercarpet\":[{\"type\":\"scattercarpet\",\"marker\":{\"colorbar\":{\"outlinewidth\":0,\"ticks\":\"\"}}}],\"carpet\":[{\"aaxis\":{\"endlinecolor\":\"#2a3f5f\",\"gridcolor\":\"white\",\"linecolor\":\"white\",\"minorgridcolor\":\"white\",\"startlinecolor\":\"#2a3f5f\"},\"baxis\":{\"endlinecolor\":\"#2a3f5f\",\"gridcolor\":\"white\",\"linecolor\":\"white\",\"minorgridcolor\":\"white\",\"startlinecolor\":\"#2a3f5f\"},\"type\":\"carpet\"}],\"table\":[{\"cells\":{\"fill\":{\"color\":\"#EBF0F8\"},\"line\":{\"color\":\"white\"}},\"header\":{\"fill\":{\"color\":\"#C8D4E3\"},\"line\":{\"color\":\"white\"}},\"type\":\"table\"}],\"barpolar\":[{\"marker\":{\"line\":{\"color\":\"#E5ECF6\",\"width\":0.5},\"pattern\":{\"fillmode\":\"overlay\",\"size\":10,\"solidity\":0.2}},\"type\":\"barpolar\"}],\"pie\":[{\"automargin\":true,\"type\":\"pie\"}]},\"layout\":{\"autotypenumbers\":\"strict\",\"colorway\":[\"#636efa\",\"#EF553B\",\"#00cc96\",\"#ab63fa\",\"#FFA15A\",\"#19d3f3\",\"#FF6692\",\"#B6E880\",\"#FF97FF\",\"#FECB52\"],\"font\":{\"color\":\"#2a3f5f\"},\"hovermode\":\"closest\",\"hoverlabel\":{\"align\":\"left\"},\"paper_bgcolor\":\"white\",\"plot_bgcolor\":\"#E5ECF6\",\"polar\":{\"bgcolor\":\"#E5ECF6\",\"angularaxis\":{\"gridcolor\":\"white\",\"linecolor\":\"white\",\"ticks\":\"\"},\"radialaxis\":{\"gridcolor\":\"white\",\"linecolor\":\"white\",\"ticks\":\"\"}},\"ternary\":{\"bgcolor\":\"#E5ECF6\",\"aaxis\":{\"gridcolor\":\"white\",\"linecolor\":\"white\",\"ticks\":\"\"},\"baxis\":{\"gridcolor\":\"white\",\"linecolor\":\"white\",\"ticks\":\"\"},\"caxis\":{\"gridcolor\":\"white\",\"linecolor\":\"white\",\"ticks\":\"\"}},\"coloraxis\":{\"colorbar\":{\"outlinewidth\":0,\"ticks\":\"\"}},\"colorscale\":{\"sequential\":[[0.0,\"#0d0887\"],[0.1111111111111111,\"#46039f\"],[0.2222222222222222,\"#7201a8\"],[0.3333333333333333,\"#9c179e\"],[0.4444444444444444,\"#bd3786\"],[0.5555555555555556,\"#d8576b\"],[0.6666666666666666,\"#ed7953\"],[0.7777777777777778,\"#fb9f3a\"],[0.8888888888888888,\"#fdca26\"],[1.0,\"#f0f921\"]],\"sequentialminus\":[[0.0,\"#0d0887\"],[0.1111111111111111,\"#46039f\"],[0.2222222222222222,\"#7201a8\"],[0.3333333333333333,\"#9c179e\"],[0.4444444444444444,\"#bd3786\"],[0.5555555555555556,\"#d8576b\"],[0.6666666666666666,\"#ed7953\"],[0.7777777777777778,\"#fb9f3a\"],[0.8888888888888888,\"#fdca26\"],[1.0,\"#f0f921\"]],\"diverging\":[[0,\"#8e0152\"],[0.1,\"#c51b7d\"],[0.2,\"#de77ae\"],[0.3,\"#f1b6da\"],[0.4,\"#fde0ef\"],[0.5,\"#f7f7f7\"],[0.6,\"#e6f5d0\"],[0.7,\"#b8e186\"],[0.8,\"#7fbc41\"],[0.9,\"#4d9221\"],[1,\"#276419\"]]},\"xaxis\":{\"gridcolor\":\"white\",\"linecolor\":\"white\",\"ticks\":\"\",\"title\":{\"standoff\":15},\"zerolinecolor\":\"white\",\"automargin\":true,\"zerolinewidth\":2},\"yaxis\":{\"gridcolor\":\"white\",\"linecolor\":\"white\",\"ticks\":\"\",\"title\":{\"standoff\":15},\"zerolinecolor\":\"white\",\"automargin\":true,\"zerolinewidth\":2},\"scene\":{\"xaxis\":{\"backgroundcolor\":\"#E5ECF6\",\"gridcolor\":\"white\",\"linecolor\":\"white\",\"showbackground\":true,\"ticks\":\"\",\"zerolinecolor\":\"white\",\"gridwidth\":2},\"yaxis\":{\"backgroundcolor\":\"#E5ECF6\",\"gridcolor\":\"white\",\"linecolor\":\"white\",\"showbackground\":true,\"ticks\":\"\",\"zerolinecolor\":\"white\",\"gridwidth\":2},\"zaxis\":{\"backgroundcolor\":\"#E5ECF6\",\"gridcolor\":\"white\",\"linecolor\":\"white\",\"showbackground\":true,\"ticks\":\"\",\"zerolinecolor\":\"white\",\"gridwidth\":2}},\"shapedefaults\":{\"line\":{\"color\":\"#2a3f5f\"}},\"annotationdefaults\":{\"arrowcolor\":\"#2a3f5f\",\"arrowhead\":0,\"arrowwidth\":1},\"geo\":{\"bgcolor\":\"white\",\"landcolor\":\"#E5ECF6\",\"subunitcolor\":\"white\",\"showland\":true,\"showlakes\":true,\"lakecolor\":\"white\"},\"title\":{\"x\":0.05},\"mapbox\":{\"style\":\"light\"}}},\"xaxis\":{\"anchor\":\"y\",\"domain\":[0.0,0.3],\"tickvals\":[\"Yes, visible and legible\",\"Yes, but not legible\",\"No\"],\"ticktext\":[\"Yes, visible and legible\",\"Yes, but not legible\",\"No\"],\"categoryorder\":\"array\",\"categoryarray\":[\"Yes, visible and legible\",\"Yes, but not legible\",\"No\"],\"showline\":true,\"linewidth\":2,\"linecolor\":\"grey\",\"mirror\":true},\"yaxis\":{\"anchor\":\"x\",\"domain\":[0.0,1.0],\"title\":{\"text\":\"Proportion of Images (%)\"},\"showline\":true,\"linewidth\":2,\"linecolor\":\"grey\",\"mirror\":true},\"xaxis2\":{\"anchor\":\"y2\",\"domain\":[0.35,0.6499999999999999],\"tickvals\":[\"Yes, visible and legible\",\"Yes, but not legible\",\"No\"],\"ticktext\":[\"Yes, visible and legible\",\"Yes, but not legible\",\"No\"],\"categoryorder\":\"array\",\"categoryarray\":[\"Yes, visible and legible\",\"Yes, but not legible\",\"No\"],\"showline\":true,\"linewidth\":2,\"linecolor\":\"grey\",\"mirror\":true},\"yaxis2\":{\"anchor\":\"x2\",\"domain\":[0.0,1.0],\"matches\":\"y\",\"showticklabels\":false,\"showline\":true,\"linewidth\":2,\"linecolor\":\"grey\",\"mirror\":true},\"xaxis3\":{\"anchor\":\"y3\",\"domain\":[0.7,1.0],\"tickvals\":[\"Yes, visible and legible\",\"Yes, but not legible\",\"No\"],\"ticktext\":[\"Yes, visible and legible\",\"Yes, but not legible\",\"No\"],\"categoryorder\":\"array\",\"categoryarray\":[\"Yes, visible and legible\",\"Yes, but not legible\",\"No\"],\"showline\":true,\"linewidth\":2,\"linecolor\":\"grey\",\"mirror\":true},\"yaxis3\":{\"anchor\":\"x3\",\"domain\":[0.0,1.0],\"matches\":\"y\",\"showticklabels\":false,\"showline\":true,\"linewidth\":2,\"linecolor\":\"grey\",\"mirror\":true},\"annotations\":[{\"font\":{\"size\":16},\"showarrow\":false,\"text\":\"Dall-E 3\",\"x\":0.15,\"xanchor\":\"center\",\"xref\":\"paper\",\"y\":1.0,\"yanchor\":\"bottom\",\"yref\":\"paper\"},{\"font\":{\"size\":16},\"showarrow\":false,\"text\":\"Stable Diffusion 2.1\",\"x\":0.49999999999999994,\"xanchor\":\"center\",\"xref\":\"paper\",\"y\":1.0,\"yanchor\":\"bottom\",\"yref\":\"paper\"},{\"font\":{\"size\":16},\"showarrow\":false,\"text\":\"Dall-E 2\",\"x\":0.85,\"xanchor\":\"center\",\"xref\":\"paper\",\"y\":1.0,\"yanchor\":\"bottom\",\"yref\":\"paper\"}],\"legend\":{\"title\":{\"text\":\"Country\"},\"orientation\":\"v\",\"yanchor\":\"top\",\"y\":1,\"xanchor\":\"right\",\"x\":1.15,\"itemwidth\":30,\"itemsizing\":\"constant\",\"traceorder\":\"normal\",\"bordercolor\":\"grey\",\"borderwidth\":1},\"title\":{\"font\":{\"family\":\"Helvetica Neue\",\"size\":18,\"color\":\"black\"},\"text\":\"Is there any text or labeling in the image?\",\"y\":0.9,\"x\":0.5,\"xanchor\":\"center\",\"yanchor\":\"top\"},\"font\":{\"family\":\"Helvetica Neue\",\"size\":12},\"plot_bgcolor\":\"white\",\"barmode\":\"group\",\"width\":1200,\"height\":400},                        {\"responsive\": true}                    ).then(function(){\n",
       "                            \n",
       "var gd = document.getElementById('ae217152-0ca2-4b8a-bcca-c6f6b66233d5');\n",
       "var x = new MutationObserver(function (mutations, observer) {{\n",
       "        var display = window.getComputedStyle(gd).display;\n",
       "        if (!display || display === 'none') {{\n",
       "            console.log([gd, 'removed!']);\n",
       "            Plotly.purge(gd);\n",
       "            observer.disconnect();\n",
       "        }}\n",
       "}});\n",
       "\n",
       "// Listen for the removal of the full notebook cells\n",
       "var notebookContainer = gd.closest('#notebook-container');\n",
       "if (notebookContainer) {{\n",
       "    x.observe(notebookContainer, {childList: true});\n",
       "}}\n",
       "\n",
       "// Listen for the clearing of the current output cell\n",
       "var outputEl = gd.closest('.output');\n",
       "if (outputEl) {{\n",
       "    x.observe(outputEl, {childList: true});\n",
       "}}\n",
       "\n",
       "                        })                };                });            </script>        </div>"
      ]
     },
     "metadata": {},
     "output_type": "display_data"
    },
    {
     "data": {
      "application/vnd.plotly.v1+json": {
       "config": {
        "plotlyServerURL": "https://plot.ly"
       },
       "data": [
        {
         "legendgroup": "Algeria",
         "marker": {
          "color": "#41cc96"
         },
         "name": "Algeria",
         "showlegend": true,
         "type": "bar",
         "x": [
          "Yes, elaborate",
          "Yes, simple",
          "No"
         ],
         "xaxis": "x",
         "y": [
          82,
          14.666666666666666,
          3.3333333333333335
         ],
         "yaxis": "y"
        },
        {
         "legendgroup": "Nigeria",
         "marker": {
          "color": "#ef563b"
         },
         "name": "Nigeria",
         "showlegend": true,
         "type": "bar",
         "x": [
          "Yes, elaborate",
          "Yes, simple",
          "No"
         ],
         "xaxis": "x",
         "y": [
          76,
          16,
          7.333333333333333
         ],
         "yaxis": "y"
        },
        {
         "legendgroup": "South Africa",
         "marker": {
          "color": "#f7a15b"
         },
         "name": "South Africa",
         "showlegend": true,
         "type": "bar",
         "x": [
          "Yes, elaborate",
          "Yes, simple",
          "No"
         ],
         "xaxis": "x",
         "y": [
          75.33333333333333,
          15.333333333333332,
          9.333333333333334
         ],
         "yaxis": "y"
        },
        {
         "legendgroup": "United States",
         "marker": {
          "color": "#47d3f3"
         },
         "name": "United States",
         "showlegend": true,
         "type": "bar",
         "x": [
          "Yes, elaborate",
          "Yes, simple",
          "No"
         ],
         "xaxis": "x",
         "y": [
          48.66666666666667,
          38,
          13.333333333333334
         ],
         "yaxis": "y"
        },
        {
         "legendgroup": "Kenya",
         "marker": {
          "color": "#636efb"
         },
         "name": "Kenya",
         "showlegend": true,
         "type": "bar",
         "x": [
          "Yes, elaborate",
          "Yes, simple",
          "No"
         ],
         "xaxis": "x",
         "y": [
          66.92307692307692,
          21.53846153846154,
          11.538461538461538
         ],
         "yaxis": "y"
        },
        {
         "legendgroup": "Cameroon",
         "marker": {
          "color": "#ab63fb"
         },
         "name": "Cameroon",
         "showlegend": true,
         "type": "bar",
         "x": [
          "Yes, elaborate",
          "Yes, simple",
          "No"
         ],
         "xaxis": "x",
         "y": [
          81.33333333333333,
          12.666666666666668,
          6
         ],
         "yaxis": "y"
        },
        {
         "legendgroup": "Algeria",
         "marker": {
          "color": "#41cc96"
         },
         "name": "Algeria",
         "showlegend": false,
         "type": "bar",
         "x": [
          "Yes, elaborate",
          "Yes, simple",
          "No"
         ],
         "xaxis": "x2",
         "y": [
          50,
          32.666666666666664,
          17.333333333333336
         ],
         "yaxis": "y2"
        },
        {
         "legendgroup": "Nigeria",
         "marker": {
          "color": "#ef563b"
         },
         "name": "Nigeria",
         "showlegend": false,
         "type": "bar",
         "x": [
          "Yes, elaborate",
          "Yes, simple",
          "No"
         ],
         "xaxis": "x2",
         "y": [
          31.333333333333336,
          33.33333333333333,
          35.333333333333336
         ],
         "yaxis": "y2"
        },
        {
         "legendgroup": "South Africa",
         "marker": {
          "color": "#f7a15b"
         },
         "name": "South Africa",
         "showlegend": false,
         "type": "bar",
         "x": [
          "Yes, elaborate",
          "Yes, simple",
          "No"
         ],
         "xaxis": "x2",
         "y": [
          17.333333333333336,
          55.333333333333336,
          27.333333333333332
         ],
         "yaxis": "y2"
        },
        {
         "legendgroup": "United States",
         "marker": {
          "color": "#47d3f3"
         },
         "name": "United States",
         "showlegend": false,
         "type": "bar",
         "x": [
          "Yes, elaborate",
          "Yes, simple",
          "No"
         ],
         "xaxis": "x2",
         "y": [
          28.000000000000004,
          34.66666666666667,
          37.333333333333336
         ],
         "yaxis": "y2"
        },
        {
         "legendgroup": "Kenya",
         "marker": {
          "color": "#636efb"
         },
         "name": "Kenya",
         "showlegend": false,
         "type": "bar",
         "x": [
          "Yes, elaborate",
          "Yes, simple",
          "No"
         ],
         "xaxis": "x2",
         "y": [
          48.63013698630137,
          36.986301369863014,
          14.383561643835616
         ],
         "yaxis": "y2"
        },
        {
         "legendgroup": "Cameroon",
         "marker": {
          "color": "#ab63fb"
         },
         "name": "Cameroon",
         "showlegend": false,
         "type": "bar",
         "x": [
          "Yes, elaborate",
          "Yes, simple",
          "No"
         ],
         "xaxis": "x2",
         "y": [
          27.500000000000004,
          35.625,
          36.875
         ],
         "yaxis": "y2"
        },
        {
         "legendgroup": "Algeria",
         "marker": {
          "color": "#41cc96"
         },
         "name": "Algeria",
         "showlegend": false,
         "type": "bar",
         "x": [
          "Yes, elaborate",
          "Yes, simple",
          "No"
         ],
         "xaxis": "x3",
         "y": [
          12,
          43.333333333333336,
          44.666666666666664
         ],
         "yaxis": "y3"
        },
        {
         "legendgroup": "Nigeria",
         "marker": {
          "color": "#ef563b"
         },
         "name": "Nigeria",
         "showlegend": false,
         "type": "bar",
         "x": [
          "Yes, elaborate",
          "Yes, simple",
          "No"
         ],
         "xaxis": "x3",
         "y": [
          0,
          0,
          0
         ],
         "yaxis": "y3"
        },
        {
         "legendgroup": "South Africa",
         "marker": {
          "color": "#f7a15b"
         },
         "name": "South Africa",
         "showlegend": false,
         "type": "bar",
         "x": [
          "Yes, elaborate",
          "Yes, simple",
          "No"
         ],
         "xaxis": "x3",
         "y": [
          6.578947368421052,
          42.10526315789473,
          51.31578947368421
         ],
         "yaxis": "y3"
        },
        {
         "legendgroup": "United States",
         "marker": {
          "color": "#47d3f3"
         },
         "name": "United States",
         "showlegend": false,
         "type": "bar",
         "x": [
          "Yes, elaborate",
          "Yes, simple",
          "No"
         ],
         "xaxis": "x3",
         "y": [
          12.666666666666668,
          23.333333333333332,
          64
         ],
         "yaxis": "y3"
        },
        {
         "legendgroup": "Kenya",
         "marker": {
          "color": "#636efb"
         },
         "name": "Kenya",
         "showlegend": false,
         "type": "bar",
         "x": [
          "Yes, elaborate",
          "Yes, simple",
          "No"
         ],
         "xaxis": "x3",
         "y": [
          4.615384615384616,
          39.23076923076923,
          56.15384615384615
         ],
         "yaxis": "y3"
        },
        {
         "legendgroup": "Cameroon",
         "marker": {
          "color": "#ab63fb"
         },
         "name": "Cameroon",
         "showlegend": false,
         "type": "bar",
         "x": [
          "Yes, elaborate",
          "Yes, simple",
          "No"
         ],
         "xaxis": "x3",
         "y": [
          4.137931034482759,
          29.655172413793103,
          66.20689655172414
         ],
         "yaxis": "y3"
        }
       ],
       "layout": {
        "annotations": [
         {
          "font": {
           "size": 16
          },
          "showarrow": false,
          "text": "Dall-E 3",
          "x": 0.15,
          "xanchor": "center",
          "xref": "paper",
          "y": 1,
          "yanchor": "bottom",
          "yref": "paper"
         },
         {
          "font": {
           "size": 16
          },
          "showarrow": false,
          "text": "Stable Diffusion 2.1",
          "x": 0.49999999999999994,
          "xanchor": "center",
          "xref": "paper",
          "y": 1,
          "yanchor": "bottom",
          "yref": "paper"
         },
         {
          "font": {
           "size": 16
          },
          "showarrow": false,
          "text": "Dall-E 2",
          "x": 0.85,
          "xanchor": "center",
          "xref": "paper",
          "y": 1,
          "yanchor": "bottom",
          "yref": "paper"
         }
        ],
        "barmode": "group",
        "font": {
         "family": "Helvetica Neue",
         "size": 12
        },
        "height": 400,
        "legend": {
         "bordercolor": "grey",
         "borderwidth": 1,
         "itemsizing": "constant",
         "itemwidth": 30,
         "orientation": "v",
         "title": {
          "text": "Country"
         },
         "traceorder": "normal",
         "x": 1.15,
         "xanchor": "right",
         "y": 1,
         "yanchor": "top"
        },
        "plot_bgcolor": "white",
        "template": {
         "data": {
          "bar": [
           {
            "error_x": {
             "color": "#2a3f5f"
            },
            "error_y": {
             "color": "#2a3f5f"
            },
            "marker": {
             "line": {
              "color": "#E5ECF6",
              "width": 0.5
             },
             "pattern": {
              "fillmode": "overlay",
              "size": 10,
              "solidity": 0.2
             }
            },
            "type": "bar"
           }
          ],
          "barpolar": [
           {
            "marker": {
             "line": {
              "color": "#E5ECF6",
              "width": 0.5
             },
             "pattern": {
              "fillmode": "overlay",
              "size": 10,
              "solidity": 0.2
             }
            },
            "type": "barpolar"
           }
          ],
          "carpet": [
           {
            "aaxis": {
             "endlinecolor": "#2a3f5f",
             "gridcolor": "white",
             "linecolor": "white",
             "minorgridcolor": "white",
             "startlinecolor": "#2a3f5f"
            },
            "baxis": {
             "endlinecolor": "#2a3f5f",
             "gridcolor": "white",
             "linecolor": "white",
             "minorgridcolor": "white",
             "startlinecolor": "#2a3f5f"
            },
            "type": "carpet"
           }
          ],
          "choropleth": [
           {
            "colorbar": {
             "outlinewidth": 0,
             "ticks": ""
            },
            "type": "choropleth"
           }
          ],
          "contour": [
           {
            "colorbar": {
             "outlinewidth": 0,
             "ticks": ""
            },
            "colorscale": [
             [
              0,
              "#0d0887"
             ],
             [
              0.1111111111111111,
              "#46039f"
             ],
             [
              0.2222222222222222,
              "#7201a8"
             ],
             [
              0.3333333333333333,
              "#9c179e"
             ],
             [
              0.4444444444444444,
              "#bd3786"
             ],
             [
              0.5555555555555556,
              "#d8576b"
             ],
             [
              0.6666666666666666,
              "#ed7953"
             ],
             [
              0.7777777777777778,
              "#fb9f3a"
             ],
             [
              0.8888888888888888,
              "#fdca26"
             ],
             [
              1,
              "#f0f921"
             ]
            ],
            "type": "contour"
           }
          ],
          "contourcarpet": [
           {
            "colorbar": {
             "outlinewidth": 0,
             "ticks": ""
            },
            "type": "contourcarpet"
           }
          ],
          "heatmap": [
           {
            "colorbar": {
             "outlinewidth": 0,
             "ticks": ""
            },
            "colorscale": [
             [
              0,
              "#0d0887"
             ],
             [
              0.1111111111111111,
              "#46039f"
             ],
             [
              0.2222222222222222,
              "#7201a8"
             ],
             [
              0.3333333333333333,
              "#9c179e"
             ],
             [
              0.4444444444444444,
              "#bd3786"
             ],
             [
              0.5555555555555556,
              "#d8576b"
             ],
             [
              0.6666666666666666,
              "#ed7953"
             ],
             [
              0.7777777777777778,
              "#fb9f3a"
             ],
             [
              0.8888888888888888,
              "#fdca26"
             ],
             [
              1,
              "#f0f921"
             ]
            ],
            "type": "heatmap"
           }
          ],
          "heatmapgl": [
           {
            "colorbar": {
             "outlinewidth": 0,
             "ticks": ""
            },
            "colorscale": [
             [
              0,
              "#0d0887"
             ],
             [
              0.1111111111111111,
              "#46039f"
             ],
             [
              0.2222222222222222,
              "#7201a8"
             ],
             [
              0.3333333333333333,
              "#9c179e"
             ],
             [
              0.4444444444444444,
              "#bd3786"
             ],
             [
              0.5555555555555556,
              "#d8576b"
             ],
             [
              0.6666666666666666,
              "#ed7953"
             ],
             [
              0.7777777777777778,
              "#fb9f3a"
             ],
             [
              0.8888888888888888,
              "#fdca26"
             ],
             [
              1,
              "#f0f921"
             ]
            ],
            "type": "heatmapgl"
           }
          ],
          "histogram": [
           {
            "marker": {
             "pattern": {
              "fillmode": "overlay",
              "size": 10,
              "solidity": 0.2
             }
            },
            "type": "histogram"
           }
          ],
          "histogram2d": [
           {
            "colorbar": {
             "outlinewidth": 0,
             "ticks": ""
            },
            "colorscale": [
             [
              0,
              "#0d0887"
             ],
             [
              0.1111111111111111,
              "#46039f"
             ],
             [
              0.2222222222222222,
              "#7201a8"
             ],
             [
              0.3333333333333333,
              "#9c179e"
             ],
             [
              0.4444444444444444,
              "#bd3786"
             ],
             [
              0.5555555555555556,
              "#d8576b"
             ],
             [
              0.6666666666666666,
              "#ed7953"
             ],
             [
              0.7777777777777778,
              "#fb9f3a"
             ],
             [
              0.8888888888888888,
              "#fdca26"
             ],
             [
              1,
              "#f0f921"
             ]
            ],
            "type": "histogram2d"
           }
          ],
          "histogram2dcontour": [
           {
            "colorbar": {
             "outlinewidth": 0,
             "ticks": ""
            },
            "colorscale": [
             [
              0,
              "#0d0887"
             ],
             [
              0.1111111111111111,
              "#46039f"
             ],
             [
              0.2222222222222222,
              "#7201a8"
             ],
             [
              0.3333333333333333,
              "#9c179e"
             ],
             [
              0.4444444444444444,
              "#bd3786"
             ],
             [
              0.5555555555555556,
              "#d8576b"
             ],
             [
              0.6666666666666666,
              "#ed7953"
             ],
             [
              0.7777777777777778,
              "#fb9f3a"
             ],
             [
              0.8888888888888888,
              "#fdca26"
             ],
             [
              1,
              "#f0f921"
             ]
            ],
            "type": "histogram2dcontour"
           }
          ],
          "mesh3d": [
           {
            "colorbar": {
             "outlinewidth": 0,
             "ticks": ""
            },
            "type": "mesh3d"
           }
          ],
          "parcoords": [
           {
            "line": {
             "colorbar": {
              "outlinewidth": 0,
              "ticks": ""
             }
            },
            "type": "parcoords"
           }
          ],
          "pie": [
           {
            "automargin": true,
            "type": "pie"
           }
          ],
          "scatter": [
           {
            "fillpattern": {
             "fillmode": "overlay",
             "size": 10,
             "solidity": 0.2
            },
            "type": "scatter"
           }
          ],
          "scatter3d": [
           {
            "line": {
             "colorbar": {
              "outlinewidth": 0,
              "ticks": ""
             }
            },
            "marker": {
             "colorbar": {
              "outlinewidth": 0,
              "ticks": ""
             }
            },
            "type": "scatter3d"
           }
          ],
          "scattercarpet": [
           {
            "marker": {
             "colorbar": {
              "outlinewidth": 0,
              "ticks": ""
             }
            },
            "type": "scattercarpet"
           }
          ],
          "scattergeo": [
           {
            "marker": {
             "colorbar": {
              "outlinewidth": 0,
              "ticks": ""
             }
            },
            "type": "scattergeo"
           }
          ],
          "scattergl": [
           {
            "marker": {
             "colorbar": {
              "outlinewidth": 0,
              "ticks": ""
             }
            },
            "type": "scattergl"
           }
          ],
          "scattermapbox": [
           {
            "marker": {
             "colorbar": {
              "outlinewidth": 0,
              "ticks": ""
             }
            },
            "type": "scattermapbox"
           }
          ],
          "scatterpolar": [
           {
            "marker": {
             "colorbar": {
              "outlinewidth": 0,
              "ticks": ""
             }
            },
            "type": "scatterpolar"
           }
          ],
          "scatterpolargl": [
           {
            "marker": {
             "colorbar": {
              "outlinewidth": 0,
              "ticks": ""
             }
            },
            "type": "scatterpolargl"
           }
          ],
          "scatterternary": [
           {
            "marker": {
             "colorbar": {
              "outlinewidth": 0,
              "ticks": ""
             }
            },
            "type": "scatterternary"
           }
          ],
          "surface": [
           {
            "colorbar": {
             "outlinewidth": 0,
             "ticks": ""
            },
            "colorscale": [
             [
              0,
              "#0d0887"
             ],
             [
              0.1111111111111111,
              "#46039f"
             ],
             [
              0.2222222222222222,
              "#7201a8"
             ],
             [
              0.3333333333333333,
              "#9c179e"
             ],
             [
              0.4444444444444444,
              "#bd3786"
             ],
             [
              0.5555555555555556,
              "#d8576b"
             ],
             [
              0.6666666666666666,
              "#ed7953"
             ],
             [
              0.7777777777777778,
              "#fb9f3a"
             ],
             [
              0.8888888888888888,
              "#fdca26"
             ],
             [
              1,
              "#f0f921"
             ]
            ],
            "type": "surface"
           }
          ],
          "table": [
           {
            "cells": {
             "fill": {
              "color": "#EBF0F8"
             },
             "line": {
              "color": "white"
             }
            },
            "header": {
             "fill": {
              "color": "#C8D4E3"
             },
             "line": {
              "color": "white"
             }
            },
            "type": "table"
           }
          ]
         },
         "layout": {
          "annotationdefaults": {
           "arrowcolor": "#2a3f5f",
           "arrowhead": 0,
           "arrowwidth": 1
          },
          "autotypenumbers": "strict",
          "coloraxis": {
           "colorbar": {
            "outlinewidth": 0,
            "ticks": ""
           }
          },
          "colorscale": {
           "diverging": [
            [
             0,
             "#8e0152"
            ],
            [
             0.1,
             "#c51b7d"
            ],
            [
             0.2,
             "#de77ae"
            ],
            [
             0.3,
             "#f1b6da"
            ],
            [
             0.4,
             "#fde0ef"
            ],
            [
             0.5,
             "#f7f7f7"
            ],
            [
             0.6,
             "#e6f5d0"
            ],
            [
             0.7,
             "#b8e186"
            ],
            [
             0.8,
             "#7fbc41"
            ],
            [
             0.9,
             "#4d9221"
            ],
            [
             1,
             "#276419"
            ]
           ],
           "sequential": [
            [
             0,
             "#0d0887"
            ],
            [
             0.1111111111111111,
             "#46039f"
            ],
            [
             0.2222222222222222,
             "#7201a8"
            ],
            [
             0.3333333333333333,
             "#9c179e"
            ],
            [
             0.4444444444444444,
             "#bd3786"
            ],
            [
             0.5555555555555556,
             "#d8576b"
            ],
            [
             0.6666666666666666,
             "#ed7953"
            ],
            [
             0.7777777777777778,
             "#fb9f3a"
            ],
            [
             0.8888888888888888,
             "#fdca26"
            ],
            [
             1,
             "#f0f921"
            ]
           ],
           "sequentialminus": [
            [
             0,
             "#0d0887"
            ],
            [
             0.1111111111111111,
             "#46039f"
            ],
            [
             0.2222222222222222,
             "#7201a8"
            ],
            [
             0.3333333333333333,
             "#9c179e"
            ],
            [
             0.4444444444444444,
             "#bd3786"
            ],
            [
             0.5555555555555556,
             "#d8576b"
            ],
            [
             0.6666666666666666,
             "#ed7953"
            ],
            [
             0.7777777777777778,
             "#fb9f3a"
            ],
            [
             0.8888888888888888,
             "#fdca26"
            ],
            [
             1,
             "#f0f921"
            ]
           ]
          },
          "colorway": [
           "#636efa",
           "#EF553B",
           "#00cc96",
           "#ab63fa",
           "#FFA15A",
           "#19d3f3",
           "#FF6692",
           "#B6E880",
           "#FF97FF",
           "#FECB52"
          ],
          "font": {
           "color": "#2a3f5f"
          },
          "geo": {
           "bgcolor": "white",
           "lakecolor": "white",
           "landcolor": "#E5ECF6",
           "showlakes": true,
           "showland": true,
           "subunitcolor": "white"
          },
          "hoverlabel": {
           "align": "left"
          },
          "hovermode": "closest",
          "mapbox": {
           "style": "light"
          },
          "paper_bgcolor": "white",
          "plot_bgcolor": "#E5ECF6",
          "polar": {
           "angularaxis": {
            "gridcolor": "white",
            "linecolor": "white",
            "ticks": ""
           },
           "bgcolor": "#E5ECF6",
           "radialaxis": {
            "gridcolor": "white",
            "linecolor": "white",
            "ticks": ""
           }
          },
          "scene": {
           "xaxis": {
            "backgroundcolor": "#E5ECF6",
            "gridcolor": "white",
            "gridwidth": 2,
            "linecolor": "white",
            "showbackground": true,
            "ticks": "",
            "zerolinecolor": "white"
           },
           "yaxis": {
            "backgroundcolor": "#E5ECF6",
            "gridcolor": "white",
            "gridwidth": 2,
            "linecolor": "white",
            "showbackground": true,
            "ticks": "",
            "zerolinecolor": "white"
           },
           "zaxis": {
            "backgroundcolor": "#E5ECF6",
            "gridcolor": "white",
            "gridwidth": 2,
            "linecolor": "white",
            "showbackground": true,
            "ticks": "",
            "zerolinecolor": "white"
           }
          },
          "shapedefaults": {
           "line": {
            "color": "#2a3f5f"
           }
          },
          "ternary": {
           "aaxis": {
            "gridcolor": "white",
            "linecolor": "white",
            "ticks": ""
           },
           "baxis": {
            "gridcolor": "white",
            "linecolor": "white",
            "ticks": ""
           },
           "bgcolor": "#E5ECF6",
           "caxis": {
            "gridcolor": "white",
            "linecolor": "white",
            "ticks": ""
           }
          },
          "title": {
           "x": 0.05
          },
          "xaxis": {
           "automargin": true,
           "gridcolor": "white",
           "linecolor": "white",
           "ticks": "",
           "title": {
            "standoff": 15
           },
           "zerolinecolor": "white",
           "zerolinewidth": 2
          },
          "yaxis": {
           "automargin": true,
           "gridcolor": "white",
           "linecolor": "white",
           "ticks": "",
           "title": {
            "standoff": 15
           },
           "zerolinecolor": "white",
           "zerolinewidth": 2
          }
         }
        },
        "title": {
         "font": {
          "color": "black",
          "family": "Helvetica Neue",
          "size": 18
         },
         "text": "Are there any decorations or garnishes on the dish?",
         "x": 0.5,
         "xanchor": "center",
         "y": 0.9,
         "yanchor": "top"
        },
        "width": 1200,
        "xaxis": {
         "anchor": "y",
         "categoryarray": [
          "Yes, elaborate",
          "Yes, simple",
          "No"
         ],
         "categoryorder": "array",
         "domain": [
          0,
          0.3
         ],
         "linecolor": "grey",
         "linewidth": 2,
         "mirror": true,
         "showline": true,
         "ticktext": [
          "Yes, elaborate",
          "Yes, simple",
          "No"
         ],
         "tickvals": [
          "Yes, elaborate",
          "Yes, simple",
          "No"
         ]
        },
        "xaxis2": {
         "anchor": "y2",
         "categoryarray": [
          "Yes, elaborate",
          "Yes, simple",
          "No"
         ],
         "categoryorder": "array",
         "domain": [
          0.35,
          0.6499999999999999
         ],
         "linecolor": "grey",
         "linewidth": 2,
         "mirror": true,
         "showline": true,
         "ticktext": [
          "Yes, elaborate",
          "Yes, simple",
          "No"
         ],
         "tickvals": [
          "Yes, elaborate",
          "Yes, simple",
          "No"
         ]
        },
        "xaxis3": {
         "anchor": "y3",
         "categoryarray": [
          "Yes, elaborate",
          "Yes, simple",
          "No"
         ],
         "categoryorder": "array",
         "domain": [
          0.7,
          1
         ],
         "linecolor": "grey",
         "linewidth": 2,
         "mirror": true,
         "showline": true,
         "ticktext": [
          "Yes, elaborate",
          "Yes, simple",
          "No"
         ],
         "tickvals": [
          "Yes, elaborate",
          "Yes, simple",
          "No"
         ]
        },
        "yaxis": {
         "anchor": "x",
         "domain": [
          0,
          1
         ],
         "linecolor": "grey",
         "linewidth": 2,
         "mirror": true,
         "showline": true,
         "title": {
          "text": "Proportion of Images (%)"
         }
        },
        "yaxis2": {
         "anchor": "x2",
         "domain": [
          0,
          1
         ],
         "linecolor": "grey",
         "linewidth": 2,
         "matches": "y",
         "mirror": true,
         "showline": true,
         "showticklabels": false
        },
        "yaxis3": {
         "anchor": "x3",
         "domain": [
          0,
          1
         ],
         "linecolor": "grey",
         "linewidth": 2,
         "matches": "y",
         "mirror": true,
         "showline": true,
         "showticklabels": false
        }
       }
      },
      "text/html": [
       "<div>                            <div id=\"19df9b99-a6ed-4f2a-a6a0-9e818f86da71\" class=\"plotly-graph-div\" style=\"height:400px; width:1200px;\"></div>            <script type=\"text/javascript\">                require([\"plotly\"], function(Plotly) {                    window.PLOTLYENV=window.PLOTLYENV || {};                                    if (document.getElementById(\"19df9b99-a6ed-4f2a-a6a0-9e818f86da71\")) {                    Plotly.newPlot(                        \"19df9b99-a6ed-4f2a-a6a0-9e818f86da71\",                        [{\"legendgroup\":\"Algeria\",\"marker\":{\"color\":\"#41cc96\"},\"name\":\"Algeria\",\"showlegend\":true,\"x\":[\"Yes, elaborate\",\"Yes, simple\",\"No\"],\"y\":[82.0,14.666666666666666,3.3333333333333335],\"type\":\"bar\",\"xaxis\":\"x\",\"yaxis\":\"y\"},{\"legendgroup\":\"Nigeria\",\"marker\":{\"color\":\"#ef563b\"},\"name\":\"Nigeria\",\"showlegend\":true,\"x\":[\"Yes, elaborate\",\"Yes, simple\",\"No\"],\"y\":[76.0,16.0,7.333333333333333],\"type\":\"bar\",\"xaxis\":\"x\",\"yaxis\":\"y\"},{\"legendgroup\":\"South Africa\",\"marker\":{\"color\":\"#f7a15b\"},\"name\":\"South Africa\",\"showlegend\":true,\"x\":[\"Yes, elaborate\",\"Yes, simple\",\"No\"],\"y\":[75.33333333333333,15.333333333333332,9.333333333333334],\"type\":\"bar\",\"xaxis\":\"x\",\"yaxis\":\"y\"},{\"legendgroup\":\"United States\",\"marker\":{\"color\":\"#47d3f3\"},\"name\":\"United States\",\"showlegend\":true,\"x\":[\"Yes, elaborate\",\"Yes, simple\",\"No\"],\"y\":[48.66666666666667,38.0,13.333333333333334],\"type\":\"bar\",\"xaxis\":\"x\",\"yaxis\":\"y\"},{\"legendgroup\":\"Kenya\",\"marker\":{\"color\":\"#636efb\"},\"name\":\"Kenya\",\"showlegend\":true,\"x\":[\"Yes, elaborate\",\"Yes, simple\",\"No\"],\"y\":[66.92307692307692,21.53846153846154,11.538461538461538],\"type\":\"bar\",\"xaxis\":\"x\",\"yaxis\":\"y\"},{\"legendgroup\":\"Cameroon\",\"marker\":{\"color\":\"#ab63fb\"},\"name\":\"Cameroon\",\"showlegend\":true,\"x\":[\"Yes, elaborate\",\"Yes, simple\",\"No\"],\"y\":[81.33333333333333,12.666666666666668,6.0],\"type\":\"bar\",\"xaxis\":\"x\",\"yaxis\":\"y\"},{\"legendgroup\":\"Algeria\",\"marker\":{\"color\":\"#41cc96\"},\"name\":\"Algeria\",\"showlegend\":false,\"x\":[\"Yes, elaborate\",\"Yes, simple\",\"No\"],\"y\":[50.0,32.666666666666664,17.333333333333336],\"type\":\"bar\",\"xaxis\":\"x2\",\"yaxis\":\"y2\"},{\"legendgroup\":\"Nigeria\",\"marker\":{\"color\":\"#ef563b\"},\"name\":\"Nigeria\",\"showlegend\":false,\"x\":[\"Yes, elaborate\",\"Yes, simple\",\"No\"],\"y\":[31.333333333333336,33.33333333333333,35.333333333333336],\"type\":\"bar\",\"xaxis\":\"x2\",\"yaxis\":\"y2\"},{\"legendgroup\":\"South Africa\",\"marker\":{\"color\":\"#f7a15b\"},\"name\":\"South Africa\",\"showlegend\":false,\"x\":[\"Yes, elaborate\",\"Yes, simple\",\"No\"],\"y\":[17.333333333333336,55.333333333333336,27.333333333333332],\"type\":\"bar\",\"xaxis\":\"x2\",\"yaxis\":\"y2\"},{\"legendgroup\":\"United States\",\"marker\":{\"color\":\"#47d3f3\"},\"name\":\"United States\",\"showlegend\":false,\"x\":[\"Yes, elaborate\",\"Yes, simple\",\"No\"],\"y\":[28.000000000000004,34.66666666666667,37.333333333333336],\"type\":\"bar\",\"xaxis\":\"x2\",\"yaxis\":\"y2\"},{\"legendgroup\":\"Kenya\",\"marker\":{\"color\":\"#636efb\"},\"name\":\"Kenya\",\"showlegend\":false,\"x\":[\"Yes, elaborate\",\"Yes, simple\",\"No\"],\"y\":[48.63013698630137,36.986301369863014,14.383561643835616],\"type\":\"bar\",\"xaxis\":\"x2\",\"yaxis\":\"y2\"},{\"legendgroup\":\"Cameroon\",\"marker\":{\"color\":\"#ab63fb\"},\"name\":\"Cameroon\",\"showlegend\":false,\"x\":[\"Yes, elaborate\",\"Yes, simple\",\"No\"],\"y\":[27.500000000000004,35.625,36.875],\"type\":\"bar\",\"xaxis\":\"x2\",\"yaxis\":\"y2\"},{\"legendgroup\":\"Algeria\",\"marker\":{\"color\":\"#41cc96\"},\"name\":\"Algeria\",\"showlegend\":false,\"x\":[\"Yes, elaborate\",\"Yes, simple\",\"No\"],\"y\":[12.0,43.333333333333336,44.666666666666664],\"type\":\"bar\",\"xaxis\":\"x3\",\"yaxis\":\"y3\"},{\"legendgroup\":\"Nigeria\",\"marker\":{\"color\":\"#ef563b\"},\"name\":\"Nigeria\",\"showlegend\":false,\"x\":[\"Yes, elaborate\",\"Yes, simple\",\"No\"],\"y\":[0.0,0.0,0.0],\"type\":\"bar\",\"xaxis\":\"x3\",\"yaxis\":\"y3\"},{\"legendgroup\":\"South Africa\",\"marker\":{\"color\":\"#f7a15b\"},\"name\":\"South Africa\",\"showlegend\":false,\"x\":[\"Yes, elaborate\",\"Yes, simple\",\"No\"],\"y\":[6.578947368421052,42.10526315789473,51.31578947368421],\"type\":\"bar\",\"xaxis\":\"x3\",\"yaxis\":\"y3\"},{\"legendgroup\":\"United States\",\"marker\":{\"color\":\"#47d3f3\"},\"name\":\"United States\",\"showlegend\":false,\"x\":[\"Yes, elaborate\",\"Yes, simple\",\"No\"],\"y\":[12.666666666666668,23.333333333333332,64.0],\"type\":\"bar\",\"xaxis\":\"x3\",\"yaxis\":\"y3\"},{\"legendgroup\":\"Kenya\",\"marker\":{\"color\":\"#636efb\"},\"name\":\"Kenya\",\"showlegend\":false,\"x\":[\"Yes, elaborate\",\"Yes, simple\",\"No\"],\"y\":[4.615384615384616,39.23076923076923,56.15384615384615],\"type\":\"bar\",\"xaxis\":\"x3\",\"yaxis\":\"y3\"},{\"legendgroup\":\"Cameroon\",\"marker\":{\"color\":\"#ab63fb\"},\"name\":\"Cameroon\",\"showlegend\":false,\"x\":[\"Yes, elaborate\",\"Yes, simple\",\"No\"],\"y\":[4.137931034482759,29.655172413793103,66.20689655172414],\"type\":\"bar\",\"xaxis\":\"x3\",\"yaxis\":\"y3\"}],                        {\"template\":{\"data\":{\"histogram2dcontour\":[{\"type\":\"histogram2dcontour\",\"colorbar\":{\"outlinewidth\":0,\"ticks\":\"\"},\"colorscale\":[[0.0,\"#0d0887\"],[0.1111111111111111,\"#46039f\"],[0.2222222222222222,\"#7201a8\"],[0.3333333333333333,\"#9c179e\"],[0.4444444444444444,\"#bd3786\"],[0.5555555555555556,\"#d8576b\"],[0.6666666666666666,\"#ed7953\"],[0.7777777777777778,\"#fb9f3a\"],[0.8888888888888888,\"#fdca26\"],[1.0,\"#f0f921\"]]}],\"choropleth\":[{\"type\":\"choropleth\",\"colorbar\":{\"outlinewidth\":0,\"ticks\":\"\"}}],\"histogram2d\":[{\"type\":\"histogram2d\",\"colorbar\":{\"outlinewidth\":0,\"ticks\":\"\"},\"colorscale\":[[0.0,\"#0d0887\"],[0.1111111111111111,\"#46039f\"],[0.2222222222222222,\"#7201a8\"],[0.3333333333333333,\"#9c179e\"],[0.4444444444444444,\"#bd3786\"],[0.5555555555555556,\"#d8576b\"],[0.6666666666666666,\"#ed7953\"],[0.7777777777777778,\"#fb9f3a\"],[0.8888888888888888,\"#fdca26\"],[1.0,\"#f0f921\"]]}],\"heatmap\":[{\"type\":\"heatmap\",\"colorbar\":{\"outlinewidth\":0,\"ticks\":\"\"},\"colorscale\":[[0.0,\"#0d0887\"],[0.1111111111111111,\"#46039f\"],[0.2222222222222222,\"#7201a8\"],[0.3333333333333333,\"#9c179e\"],[0.4444444444444444,\"#bd3786\"],[0.5555555555555556,\"#d8576b\"],[0.6666666666666666,\"#ed7953\"],[0.7777777777777778,\"#fb9f3a\"],[0.8888888888888888,\"#fdca26\"],[1.0,\"#f0f921\"]]}],\"heatmapgl\":[{\"type\":\"heatmapgl\",\"colorbar\":{\"outlinewidth\":0,\"ticks\":\"\"},\"colorscale\":[[0.0,\"#0d0887\"],[0.1111111111111111,\"#46039f\"],[0.2222222222222222,\"#7201a8\"],[0.3333333333333333,\"#9c179e\"],[0.4444444444444444,\"#bd3786\"],[0.5555555555555556,\"#d8576b\"],[0.6666666666666666,\"#ed7953\"],[0.7777777777777778,\"#fb9f3a\"],[0.8888888888888888,\"#fdca26\"],[1.0,\"#f0f921\"]]}],\"contourcarpet\":[{\"type\":\"contourcarpet\",\"colorbar\":{\"outlinewidth\":0,\"ticks\":\"\"}}],\"contour\":[{\"type\":\"contour\",\"colorbar\":{\"outlinewidth\":0,\"ticks\":\"\"},\"colorscale\":[[0.0,\"#0d0887\"],[0.1111111111111111,\"#46039f\"],[0.2222222222222222,\"#7201a8\"],[0.3333333333333333,\"#9c179e\"],[0.4444444444444444,\"#bd3786\"],[0.5555555555555556,\"#d8576b\"],[0.6666666666666666,\"#ed7953\"],[0.7777777777777778,\"#fb9f3a\"],[0.8888888888888888,\"#fdca26\"],[1.0,\"#f0f921\"]]}],\"surface\":[{\"type\":\"surface\",\"colorbar\":{\"outlinewidth\":0,\"ticks\":\"\"},\"colorscale\":[[0.0,\"#0d0887\"],[0.1111111111111111,\"#46039f\"],[0.2222222222222222,\"#7201a8\"],[0.3333333333333333,\"#9c179e\"],[0.4444444444444444,\"#bd3786\"],[0.5555555555555556,\"#d8576b\"],[0.6666666666666666,\"#ed7953\"],[0.7777777777777778,\"#fb9f3a\"],[0.8888888888888888,\"#fdca26\"],[1.0,\"#f0f921\"]]}],\"mesh3d\":[{\"type\":\"mesh3d\",\"colorbar\":{\"outlinewidth\":0,\"ticks\":\"\"}}],\"scatter\":[{\"fillpattern\":{\"fillmode\":\"overlay\",\"size\":10,\"solidity\":0.2},\"type\":\"scatter\"}],\"parcoords\":[{\"type\":\"parcoords\",\"line\":{\"colorbar\":{\"outlinewidth\":0,\"ticks\":\"\"}}}],\"scatterpolargl\":[{\"type\":\"scatterpolargl\",\"marker\":{\"colorbar\":{\"outlinewidth\":0,\"ticks\":\"\"}}}],\"bar\":[{\"error_x\":{\"color\":\"#2a3f5f\"},\"error_y\":{\"color\":\"#2a3f5f\"},\"marker\":{\"line\":{\"color\":\"#E5ECF6\",\"width\":0.5},\"pattern\":{\"fillmode\":\"overlay\",\"size\":10,\"solidity\":0.2}},\"type\":\"bar\"}],\"scattergeo\":[{\"type\":\"scattergeo\",\"marker\":{\"colorbar\":{\"outlinewidth\":0,\"ticks\":\"\"}}}],\"scatterpolar\":[{\"type\":\"scatterpolar\",\"marker\":{\"colorbar\":{\"outlinewidth\":0,\"ticks\":\"\"}}}],\"histogram\":[{\"marker\":{\"pattern\":{\"fillmode\":\"overlay\",\"size\":10,\"solidity\":0.2}},\"type\":\"histogram\"}],\"scattergl\":[{\"type\":\"scattergl\",\"marker\":{\"colorbar\":{\"outlinewidth\":0,\"ticks\":\"\"}}}],\"scatter3d\":[{\"type\":\"scatter3d\",\"line\":{\"colorbar\":{\"outlinewidth\":0,\"ticks\":\"\"}},\"marker\":{\"colorbar\":{\"outlinewidth\":0,\"ticks\":\"\"}}}],\"scattermapbox\":[{\"type\":\"scattermapbox\",\"marker\":{\"colorbar\":{\"outlinewidth\":0,\"ticks\":\"\"}}}],\"scatterternary\":[{\"type\":\"scatterternary\",\"marker\":{\"colorbar\":{\"outlinewidth\":0,\"ticks\":\"\"}}}],\"scattercarpet\":[{\"type\":\"scattercarpet\",\"marker\":{\"colorbar\":{\"outlinewidth\":0,\"ticks\":\"\"}}}],\"carpet\":[{\"aaxis\":{\"endlinecolor\":\"#2a3f5f\",\"gridcolor\":\"white\",\"linecolor\":\"white\",\"minorgridcolor\":\"white\",\"startlinecolor\":\"#2a3f5f\"},\"baxis\":{\"endlinecolor\":\"#2a3f5f\",\"gridcolor\":\"white\",\"linecolor\":\"white\",\"minorgridcolor\":\"white\",\"startlinecolor\":\"#2a3f5f\"},\"type\":\"carpet\"}],\"table\":[{\"cells\":{\"fill\":{\"color\":\"#EBF0F8\"},\"line\":{\"color\":\"white\"}},\"header\":{\"fill\":{\"color\":\"#C8D4E3\"},\"line\":{\"color\":\"white\"}},\"type\":\"table\"}],\"barpolar\":[{\"marker\":{\"line\":{\"color\":\"#E5ECF6\",\"width\":0.5},\"pattern\":{\"fillmode\":\"overlay\",\"size\":10,\"solidity\":0.2}},\"type\":\"barpolar\"}],\"pie\":[{\"automargin\":true,\"type\":\"pie\"}]},\"layout\":{\"autotypenumbers\":\"strict\",\"colorway\":[\"#636efa\",\"#EF553B\",\"#00cc96\",\"#ab63fa\",\"#FFA15A\",\"#19d3f3\",\"#FF6692\",\"#B6E880\",\"#FF97FF\",\"#FECB52\"],\"font\":{\"color\":\"#2a3f5f\"},\"hovermode\":\"closest\",\"hoverlabel\":{\"align\":\"left\"},\"paper_bgcolor\":\"white\",\"plot_bgcolor\":\"#E5ECF6\",\"polar\":{\"bgcolor\":\"#E5ECF6\",\"angularaxis\":{\"gridcolor\":\"white\",\"linecolor\":\"white\",\"ticks\":\"\"},\"radialaxis\":{\"gridcolor\":\"white\",\"linecolor\":\"white\",\"ticks\":\"\"}},\"ternary\":{\"bgcolor\":\"#E5ECF6\",\"aaxis\":{\"gridcolor\":\"white\",\"linecolor\":\"white\",\"ticks\":\"\"},\"baxis\":{\"gridcolor\":\"white\",\"linecolor\":\"white\",\"ticks\":\"\"},\"caxis\":{\"gridcolor\":\"white\",\"linecolor\":\"white\",\"ticks\":\"\"}},\"coloraxis\":{\"colorbar\":{\"outlinewidth\":0,\"ticks\":\"\"}},\"colorscale\":{\"sequential\":[[0.0,\"#0d0887\"],[0.1111111111111111,\"#46039f\"],[0.2222222222222222,\"#7201a8\"],[0.3333333333333333,\"#9c179e\"],[0.4444444444444444,\"#bd3786\"],[0.5555555555555556,\"#d8576b\"],[0.6666666666666666,\"#ed7953\"],[0.7777777777777778,\"#fb9f3a\"],[0.8888888888888888,\"#fdca26\"],[1.0,\"#f0f921\"]],\"sequentialminus\":[[0.0,\"#0d0887\"],[0.1111111111111111,\"#46039f\"],[0.2222222222222222,\"#7201a8\"],[0.3333333333333333,\"#9c179e\"],[0.4444444444444444,\"#bd3786\"],[0.5555555555555556,\"#d8576b\"],[0.6666666666666666,\"#ed7953\"],[0.7777777777777778,\"#fb9f3a\"],[0.8888888888888888,\"#fdca26\"],[1.0,\"#f0f921\"]],\"diverging\":[[0,\"#8e0152\"],[0.1,\"#c51b7d\"],[0.2,\"#de77ae\"],[0.3,\"#f1b6da\"],[0.4,\"#fde0ef\"],[0.5,\"#f7f7f7\"],[0.6,\"#e6f5d0\"],[0.7,\"#b8e186\"],[0.8,\"#7fbc41\"],[0.9,\"#4d9221\"],[1,\"#276419\"]]},\"xaxis\":{\"gridcolor\":\"white\",\"linecolor\":\"white\",\"ticks\":\"\",\"title\":{\"standoff\":15},\"zerolinecolor\":\"white\",\"automargin\":true,\"zerolinewidth\":2},\"yaxis\":{\"gridcolor\":\"white\",\"linecolor\":\"white\",\"ticks\":\"\",\"title\":{\"standoff\":15},\"zerolinecolor\":\"white\",\"automargin\":true,\"zerolinewidth\":2},\"scene\":{\"xaxis\":{\"backgroundcolor\":\"#E5ECF6\",\"gridcolor\":\"white\",\"linecolor\":\"white\",\"showbackground\":true,\"ticks\":\"\",\"zerolinecolor\":\"white\",\"gridwidth\":2},\"yaxis\":{\"backgroundcolor\":\"#E5ECF6\",\"gridcolor\":\"white\",\"linecolor\":\"white\",\"showbackground\":true,\"ticks\":\"\",\"zerolinecolor\":\"white\",\"gridwidth\":2},\"zaxis\":{\"backgroundcolor\":\"#E5ECF6\",\"gridcolor\":\"white\",\"linecolor\":\"white\",\"showbackground\":true,\"ticks\":\"\",\"zerolinecolor\":\"white\",\"gridwidth\":2}},\"shapedefaults\":{\"line\":{\"color\":\"#2a3f5f\"}},\"annotationdefaults\":{\"arrowcolor\":\"#2a3f5f\",\"arrowhead\":0,\"arrowwidth\":1},\"geo\":{\"bgcolor\":\"white\",\"landcolor\":\"#E5ECF6\",\"subunitcolor\":\"white\",\"showland\":true,\"showlakes\":true,\"lakecolor\":\"white\"},\"title\":{\"x\":0.05},\"mapbox\":{\"style\":\"light\"}}},\"xaxis\":{\"anchor\":\"y\",\"domain\":[0.0,0.3],\"tickvals\":[\"Yes, elaborate\",\"Yes, simple\",\"No\"],\"ticktext\":[\"Yes, elaborate\",\"Yes, simple\",\"No\"],\"categoryorder\":\"array\",\"categoryarray\":[\"Yes, elaborate\",\"Yes, simple\",\"No\"],\"showline\":true,\"linewidth\":2,\"linecolor\":\"grey\",\"mirror\":true},\"yaxis\":{\"anchor\":\"x\",\"domain\":[0.0,1.0],\"title\":{\"text\":\"Proportion of Images (%)\"},\"showline\":true,\"linewidth\":2,\"linecolor\":\"grey\",\"mirror\":true},\"xaxis2\":{\"anchor\":\"y2\",\"domain\":[0.35,0.6499999999999999],\"tickvals\":[\"Yes, elaborate\",\"Yes, simple\",\"No\"],\"ticktext\":[\"Yes, elaborate\",\"Yes, simple\",\"No\"],\"categoryorder\":\"array\",\"categoryarray\":[\"Yes, elaborate\",\"Yes, simple\",\"No\"],\"showline\":true,\"linewidth\":2,\"linecolor\":\"grey\",\"mirror\":true},\"yaxis2\":{\"anchor\":\"x2\",\"domain\":[0.0,1.0],\"matches\":\"y\",\"showticklabels\":false,\"showline\":true,\"linewidth\":2,\"linecolor\":\"grey\",\"mirror\":true},\"xaxis3\":{\"anchor\":\"y3\",\"domain\":[0.7,1.0],\"tickvals\":[\"Yes, elaborate\",\"Yes, simple\",\"No\"],\"ticktext\":[\"Yes, elaborate\",\"Yes, simple\",\"No\"],\"categoryorder\":\"array\",\"categoryarray\":[\"Yes, elaborate\",\"Yes, simple\",\"No\"],\"showline\":true,\"linewidth\":2,\"linecolor\":\"grey\",\"mirror\":true},\"yaxis3\":{\"anchor\":\"x3\",\"domain\":[0.0,1.0],\"matches\":\"y\",\"showticklabels\":false,\"showline\":true,\"linewidth\":2,\"linecolor\":\"grey\",\"mirror\":true},\"annotations\":[{\"font\":{\"size\":16},\"showarrow\":false,\"text\":\"Dall-E 3\",\"x\":0.15,\"xanchor\":\"center\",\"xref\":\"paper\",\"y\":1.0,\"yanchor\":\"bottom\",\"yref\":\"paper\"},{\"font\":{\"size\":16},\"showarrow\":false,\"text\":\"Stable Diffusion 2.1\",\"x\":0.49999999999999994,\"xanchor\":\"center\",\"xref\":\"paper\",\"y\":1.0,\"yanchor\":\"bottom\",\"yref\":\"paper\"},{\"font\":{\"size\":16},\"showarrow\":false,\"text\":\"Dall-E 2\",\"x\":0.85,\"xanchor\":\"center\",\"xref\":\"paper\",\"y\":1.0,\"yanchor\":\"bottom\",\"yref\":\"paper\"}],\"legend\":{\"title\":{\"text\":\"Country\"},\"orientation\":\"v\",\"yanchor\":\"top\",\"y\":1,\"xanchor\":\"right\",\"x\":1.15,\"itemwidth\":30,\"itemsizing\":\"constant\",\"traceorder\":\"normal\",\"bordercolor\":\"grey\",\"borderwidth\":1},\"title\":{\"font\":{\"family\":\"Helvetica Neue\",\"size\":18,\"color\":\"black\"},\"text\":\"Are there any decorations or garnishes on the dish?\",\"y\":0.9,\"x\":0.5,\"xanchor\":\"center\",\"yanchor\":\"top\"},\"font\":{\"family\":\"Helvetica Neue\",\"size\":12},\"plot_bgcolor\":\"white\",\"barmode\":\"group\",\"width\":1200,\"height\":400},                        {\"responsive\": true}                    ).then(function(){\n",
       "                            \n",
       "var gd = document.getElementById('19df9b99-a6ed-4f2a-a6a0-9e818f86da71');\n",
       "var x = new MutationObserver(function (mutations, observer) {{\n",
       "        var display = window.getComputedStyle(gd).display;\n",
       "        if (!display || display === 'none') {{\n",
       "            console.log([gd, 'removed!']);\n",
       "            Plotly.purge(gd);\n",
       "            observer.disconnect();\n",
       "        }}\n",
       "}});\n",
       "\n",
       "// Listen for the removal of the full notebook cells\n",
       "var notebookContainer = gd.closest('#notebook-container');\n",
       "if (notebookContainer) {{\n",
       "    x.observe(notebookContainer, {childList: true});\n",
       "}}\n",
       "\n",
       "// Listen for the clearing of the current output cell\n",
       "var outputEl = gd.closest('.output');\n",
       "if (outputEl) {{\n",
       "    x.observe(outputEl, {childList: true});\n",
       "}}\n",
       "\n",
       "                        })                };                });            </script>        </div>"
      ]
     },
     "metadata": {},
     "output_type": "display_data"
    },
    {
     "data": {
      "application/vnd.plotly.v1+json": {
       "config": {
        "plotlyServerURL": "https://plot.ly"
       },
       "data": [
        {
         "legendgroup": "Algeria",
         "marker": {
          "color": "#41cc96"
         },
         "name": "Algeria",
         "showlegend": true,
         "type": "bar",
         "x": [
          "Natural light",
          "Low light",
          "High contrast light",
          "Soft and diffused light",
          "Mixed lighting",
          "No visible lighting source"
         ],
         "xaxis": "x",
         "y": [
          0,
          0,
          0,
          100,
          0,
          0
         ],
         "yaxis": "y"
        },
        {
         "legendgroup": "Nigeria",
         "marker": {
          "color": "#ef563b"
         },
         "name": "Nigeria",
         "showlegend": true,
         "type": "bar",
         "x": [
          "Natural light",
          "Low light",
          "High contrast light",
          "Soft and diffused light",
          "Mixed lighting",
          "No visible lighting source"
         ],
         "xaxis": "x",
         "y": [
          0,
          0,
          1.3333333333333335,
          98.66666666666667,
          0,
          0
         ],
         "yaxis": "y"
        },
        {
         "legendgroup": "South Africa",
         "marker": {
          "color": "#f7a15b"
         },
         "name": "South Africa",
         "showlegend": true,
         "type": "bar",
         "x": [
          "Natural light",
          "Low light",
          "High contrast light",
          "Soft and diffused light",
          "Mixed lighting",
          "No visible lighting source"
         ],
         "xaxis": "x",
         "y": [
          0,
          0,
          2.666666666666667,
          96.66666666666667,
          0.6666666666666667,
          0
         ],
         "yaxis": "y"
        },
        {
         "legendgroup": "United States",
         "marker": {
          "color": "#47d3f3"
         },
         "name": "United States",
         "showlegend": true,
         "type": "bar",
         "x": [
          "Natural light",
          "Low light",
          "High contrast light",
          "Soft and diffused light",
          "Mixed lighting",
          "No visible lighting source"
         ],
         "xaxis": "x",
         "y": [
          0,
          0,
          2,
          98,
          0,
          0
         ],
         "yaxis": "y"
        },
        {
         "legendgroup": "Kenya",
         "marker": {
          "color": "#636efb"
         },
         "name": "Kenya",
         "showlegend": true,
         "type": "bar",
         "x": [
          "Natural light",
          "Low light",
          "High contrast light",
          "Soft and diffused light",
          "Mixed lighting",
          "No visible lighting source"
         ],
         "xaxis": "x",
         "y": [
          0,
          0,
          2.307692307692308,
          97.6923076923077,
          0,
          0
         ],
         "yaxis": "y"
        },
        {
         "legendgroup": "Cameroon",
         "marker": {
          "color": "#ab63fb"
         },
         "name": "Cameroon",
         "showlegend": true,
         "type": "bar",
         "x": [
          "Natural light",
          "Low light",
          "High contrast light",
          "Soft and diffused light",
          "Mixed lighting",
          "No visible lighting source"
         ],
         "xaxis": "x",
         "y": [
          0,
          0,
          0.6666666666666667,
          99.33333333333333,
          0,
          0
         ],
         "yaxis": "y"
        },
        {
         "legendgroup": "Algeria",
         "marker": {
          "color": "#41cc96"
         },
         "name": "Algeria",
         "showlegend": false,
         "type": "bar",
         "x": [
          "Natural light",
          "Low light",
          "High contrast light",
          "Soft and diffused light",
          "Mixed lighting",
          "No visible lighting source"
         ],
         "xaxis": "x2",
         "y": [
          0,
          0,
          55.333333333333336,
          44.666666666666664,
          0,
          0
         ],
         "yaxis": "y2"
        },
        {
         "legendgroup": "Nigeria",
         "marker": {
          "color": "#ef563b"
         },
         "name": "Nigeria",
         "showlegend": false,
         "type": "bar",
         "x": [
          "Natural light",
          "Low light",
          "High contrast light",
          "Soft and diffused light",
          "Mixed lighting",
          "No visible lighting source"
         ],
         "xaxis": "x2",
         "y": [
          0.6666666666666667,
          0,
          54.666666666666664,
          42.66666666666667,
          1.3333333333333335,
          0.6666666666666667
         ],
         "yaxis": "y2"
        },
        {
         "legendgroup": "South Africa",
         "marker": {
          "color": "#f7a15b"
         },
         "name": "South Africa",
         "showlegend": false,
         "type": "bar",
         "x": [
          "Natural light",
          "Low light",
          "High contrast light",
          "Soft and diffused light",
          "Mixed lighting",
          "No visible lighting source"
         ],
         "xaxis": "x2",
         "y": [
          0,
          0.6666666666666667,
          45.33333333333333,
          54,
          0,
          0
         ],
         "yaxis": "y2"
        },
        {
         "legendgroup": "United States",
         "marker": {
          "color": "#47d3f3"
         },
         "name": "United States",
         "showlegend": false,
         "type": "bar",
         "x": [
          "Natural light",
          "Low light",
          "High contrast light",
          "Soft and diffused light",
          "Mixed lighting",
          "No visible lighting source"
         ],
         "xaxis": "x2",
         "y": [
          0.6666666666666667,
          0,
          28.666666666666668,
          69.33333333333334,
          1.3333333333333335,
          0
         ],
         "yaxis": "y2"
        },
        {
         "legendgroup": "Kenya",
         "marker": {
          "color": "#636efb"
         },
         "name": "Kenya",
         "showlegend": false,
         "type": "bar",
         "x": [
          "Natural light",
          "Low light",
          "High contrast light",
          "Soft and diffused light",
          "Mixed lighting",
          "No visible lighting source"
         ],
         "xaxis": "x2",
         "y": [
          0,
          0,
          50,
          50,
          0,
          0
         ],
         "yaxis": "y2"
        },
        {
         "legendgroup": "Cameroon",
         "marker": {
          "color": "#ab63fb"
         },
         "name": "Cameroon",
         "showlegend": false,
         "type": "bar",
         "x": [
          "Natural light",
          "Low light",
          "High contrast light",
          "Soft and diffused light",
          "Mixed lighting",
          "No visible lighting source"
         ],
         "xaxis": "x2",
         "y": [
          0,
          0,
          52.5,
          47.5,
          0,
          0
         ],
         "yaxis": "y2"
        },
        {
         "legendgroup": "Algeria",
         "marker": {
          "color": "#41cc96"
         },
         "name": "Algeria",
         "showlegend": false,
         "type": "bar",
         "x": [
          "Natural light",
          "Low light",
          "High contrast light",
          "Soft and diffused light",
          "Mixed lighting",
          "No visible lighting source"
         ],
         "xaxis": "x3",
         "y": [
          0.6666666666666667,
          10.666666666666668,
          15.333333333333332,
          73.33333333333333,
          0,
          0
         ],
         "yaxis": "y3"
        },
        {
         "legendgroup": "Nigeria",
         "marker": {
          "color": "#ef563b"
         },
         "name": "Nigeria",
         "showlegend": false,
         "type": "bar",
         "x": [
          "Natural light",
          "Low light",
          "High contrast light",
          "Soft and diffused light",
          "Mixed lighting",
          "No visible lighting source"
         ],
         "xaxis": "x3",
         "y": [
          0,
          0,
          0,
          0,
          0,
          0
         ],
         "yaxis": "y3"
        },
        {
         "legendgroup": "South Africa",
         "marker": {
          "color": "#f7a15b"
         },
         "name": "South Africa",
         "showlegend": false,
         "type": "bar",
         "x": [
          "Natural light",
          "Low light",
          "High contrast light",
          "Soft and diffused light",
          "Mixed lighting",
          "No visible lighting source"
         ],
         "xaxis": "x3",
         "y": [
          9.868421052631579,
          4.605263157894736,
          21.710526315789476,
          63.81578947368421,
          0,
          0
         ],
         "yaxis": "y3"
        },
        {
         "legendgroup": "United States",
         "marker": {
          "color": "#47d3f3"
         },
         "name": "United States",
         "showlegend": false,
         "type": "bar",
         "x": [
          "Natural light",
          "Low light",
          "High contrast light",
          "Soft and diffused light",
          "Mixed lighting",
          "No visible lighting source"
         ],
         "xaxis": "x3",
         "y": [
          3.3333333333333335,
          0,
          22.666666666666664,
          74,
          0,
          0
         ],
         "yaxis": "y3"
        },
        {
         "legendgroup": "Kenya",
         "marker": {
          "color": "#636efb"
         },
         "name": "Kenya",
         "showlegend": false,
         "type": "bar",
         "x": [
          "Natural light",
          "Low light",
          "High contrast light",
          "Soft and diffused light",
          "Mixed lighting",
          "No visible lighting source"
         ],
         "xaxis": "x3",
         "y": [
          4.615384615384616,
          2.307692307692308,
          38.46153846153847,
          54.61538461538461,
          0,
          0
         ],
         "yaxis": "y3"
        },
        {
         "legendgroup": "Cameroon",
         "marker": {
          "color": "#ab63fb"
         },
         "name": "Cameroon",
         "showlegend": false,
         "type": "bar",
         "x": [
          "Natural light",
          "Low light",
          "High contrast light",
          "Soft and diffused light",
          "Mixed lighting",
          "No visible lighting source"
         ],
         "xaxis": "x3",
         "y": [
          2.7586206896551726,
          15.172413793103448,
          36.55172413793103,
          45.51724137931035,
          0,
          0
         ],
         "yaxis": "y3"
        }
       ],
       "layout": {
        "annotations": [
         {
          "font": {
           "size": 16
          },
          "showarrow": false,
          "text": "Dall-E 3",
          "x": 0.15,
          "xanchor": "center",
          "xref": "paper",
          "y": 1,
          "yanchor": "bottom",
          "yref": "paper"
         },
         {
          "font": {
           "size": 16
          },
          "showarrow": false,
          "text": "Stable Diffusion 2.1",
          "x": 0.49999999999999994,
          "xanchor": "center",
          "xref": "paper",
          "y": 1,
          "yanchor": "bottom",
          "yref": "paper"
         },
         {
          "font": {
           "size": 16
          },
          "showarrow": false,
          "text": "Dall-E 2",
          "x": 0.85,
          "xanchor": "center",
          "xref": "paper",
          "y": 1,
          "yanchor": "bottom",
          "yref": "paper"
         }
        ],
        "barmode": "group",
        "font": {
         "family": "Helvetica Neue",
         "size": 12
        },
        "height": 400,
        "legend": {
         "bordercolor": "grey",
         "borderwidth": 1,
         "itemsizing": "constant",
         "itemwidth": 30,
         "orientation": "v",
         "title": {
          "text": "Country"
         },
         "traceorder": "normal",
         "x": 1.15,
         "xanchor": "right",
         "y": 1,
         "yanchor": "top"
        },
        "plot_bgcolor": "white",
        "template": {
         "data": {
          "bar": [
           {
            "error_x": {
             "color": "#2a3f5f"
            },
            "error_y": {
             "color": "#2a3f5f"
            },
            "marker": {
             "line": {
              "color": "#E5ECF6",
              "width": 0.5
             },
             "pattern": {
              "fillmode": "overlay",
              "size": 10,
              "solidity": 0.2
             }
            },
            "type": "bar"
           }
          ],
          "barpolar": [
           {
            "marker": {
             "line": {
              "color": "#E5ECF6",
              "width": 0.5
             },
             "pattern": {
              "fillmode": "overlay",
              "size": 10,
              "solidity": 0.2
             }
            },
            "type": "barpolar"
           }
          ],
          "carpet": [
           {
            "aaxis": {
             "endlinecolor": "#2a3f5f",
             "gridcolor": "white",
             "linecolor": "white",
             "minorgridcolor": "white",
             "startlinecolor": "#2a3f5f"
            },
            "baxis": {
             "endlinecolor": "#2a3f5f",
             "gridcolor": "white",
             "linecolor": "white",
             "minorgridcolor": "white",
             "startlinecolor": "#2a3f5f"
            },
            "type": "carpet"
           }
          ],
          "choropleth": [
           {
            "colorbar": {
             "outlinewidth": 0,
             "ticks": ""
            },
            "type": "choropleth"
           }
          ],
          "contour": [
           {
            "colorbar": {
             "outlinewidth": 0,
             "ticks": ""
            },
            "colorscale": [
             [
              0,
              "#0d0887"
             ],
             [
              0.1111111111111111,
              "#46039f"
             ],
             [
              0.2222222222222222,
              "#7201a8"
             ],
             [
              0.3333333333333333,
              "#9c179e"
             ],
             [
              0.4444444444444444,
              "#bd3786"
             ],
             [
              0.5555555555555556,
              "#d8576b"
             ],
             [
              0.6666666666666666,
              "#ed7953"
             ],
             [
              0.7777777777777778,
              "#fb9f3a"
             ],
             [
              0.8888888888888888,
              "#fdca26"
             ],
             [
              1,
              "#f0f921"
             ]
            ],
            "type": "contour"
           }
          ],
          "contourcarpet": [
           {
            "colorbar": {
             "outlinewidth": 0,
             "ticks": ""
            },
            "type": "contourcarpet"
           }
          ],
          "heatmap": [
           {
            "colorbar": {
             "outlinewidth": 0,
             "ticks": ""
            },
            "colorscale": [
             [
              0,
              "#0d0887"
             ],
             [
              0.1111111111111111,
              "#46039f"
             ],
             [
              0.2222222222222222,
              "#7201a8"
             ],
             [
              0.3333333333333333,
              "#9c179e"
             ],
             [
              0.4444444444444444,
              "#bd3786"
             ],
             [
              0.5555555555555556,
              "#d8576b"
             ],
             [
              0.6666666666666666,
              "#ed7953"
             ],
             [
              0.7777777777777778,
              "#fb9f3a"
             ],
             [
              0.8888888888888888,
              "#fdca26"
             ],
             [
              1,
              "#f0f921"
             ]
            ],
            "type": "heatmap"
           }
          ],
          "heatmapgl": [
           {
            "colorbar": {
             "outlinewidth": 0,
             "ticks": ""
            },
            "colorscale": [
             [
              0,
              "#0d0887"
             ],
             [
              0.1111111111111111,
              "#46039f"
             ],
             [
              0.2222222222222222,
              "#7201a8"
             ],
             [
              0.3333333333333333,
              "#9c179e"
             ],
             [
              0.4444444444444444,
              "#bd3786"
             ],
             [
              0.5555555555555556,
              "#d8576b"
             ],
             [
              0.6666666666666666,
              "#ed7953"
             ],
             [
              0.7777777777777778,
              "#fb9f3a"
             ],
             [
              0.8888888888888888,
              "#fdca26"
             ],
             [
              1,
              "#f0f921"
             ]
            ],
            "type": "heatmapgl"
           }
          ],
          "histogram": [
           {
            "marker": {
             "pattern": {
              "fillmode": "overlay",
              "size": 10,
              "solidity": 0.2
             }
            },
            "type": "histogram"
           }
          ],
          "histogram2d": [
           {
            "colorbar": {
             "outlinewidth": 0,
             "ticks": ""
            },
            "colorscale": [
             [
              0,
              "#0d0887"
             ],
             [
              0.1111111111111111,
              "#46039f"
             ],
             [
              0.2222222222222222,
              "#7201a8"
             ],
             [
              0.3333333333333333,
              "#9c179e"
             ],
             [
              0.4444444444444444,
              "#bd3786"
             ],
             [
              0.5555555555555556,
              "#d8576b"
             ],
             [
              0.6666666666666666,
              "#ed7953"
             ],
             [
              0.7777777777777778,
              "#fb9f3a"
             ],
             [
              0.8888888888888888,
              "#fdca26"
             ],
             [
              1,
              "#f0f921"
             ]
            ],
            "type": "histogram2d"
           }
          ],
          "histogram2dcontour": [
           {
            "colorbar": {
             "outlinewidth": 0,
             "ticks": ""
            },
            "colorscale": [
             [
              0,
              "#0d0887"
             ],
             [
              0.1111111111111111,
              "#46039f"
             ],
             [
              0.2222222222222222,
              "#7201a8"
             ],
             [
              0.3333333333333333,
              "#9c179e"
             ],
             [
              0.4444444444444444,
              "#bd3786"
             ],
             [
              0.5555555555555556,
              "#d8576b"
             ],
             [
              0.6666666666666666,
              "#ed7953"
             ],
             [
              0.7777777777777778,
              "#fb9f3a"
             ],
             [
              0.8888888888888888,
              "#fdca26"
             ],
             [
              1,
              "#f0f921"
             ]
            ],
            "type": "histogram2dcontour"
           }
          ],
          "mesh3d": [
           {
            "colorbar": {
             "outlinewidth": 0,
             "ticks": ""
            },
            "type": "mesh3d"
           }
          ],
          "parcoords": [
           {
            "line": {
             "colorbar": {
              "outlinewidth": 0,
              "ticks": ""
             }
            },
            "type": "parcoords"
           }
          ],
          "pie": [
           {
            "automargin": true,
            "type": "pie"
           }
          ],
          "scatter": [
           {
            "fillpattern": {
             "fillmode": "overlay",
             "size": 10,
             "solidity": 0.2
            },
            "type": "scatter"
           }
          ],
          "scatter3d": [
           {
            "line": {
             "colorbar": {
              "outlinewidth": 0,
              "ticks": ""
             }
            },
            "marker": {
             "colorbar": {
              "outlinewidth": 0,
              "ticks": ""
             }
            },
            "type": "scatter3d"
           }
          ],
          "scattercarpet": [
           {
            "marker": {
             "colorbar": {
              "outlinewidth": 0,
              "ticks": ""
             }
            },
            "type": "scattercarpet"
           }
          ],
          "scattergeo": [
           {
            "marker": {
             "colorbar": {
              "outlinewidth": 0,
              "ticks": ""
             }
            },
            "type": "scattergeo"
           }
          ],
          "scattergl": [
           {
            "marker": {
             "colorbar": {
              "outlinewidth": 0,
              "ticks": ""
             }
            },
            "type": "scattergl"
           }
          ],
          "scattermapbox": [
           {
            "marker": {
             "colorbar": {
              "outlinewidth": 0,
              "ticks": ""
             }
            },
            "type": "scattermapbox"
           }
          ],
          "scatterpolar": [
           {
            "marker": {
             "colorbar": {
              "outlinewidth": 0,
              "ticks": ""
             }
            },
            "type": "scatterpolar"
           }
          ],
          "scatterpolargl": [
           {
            "marker": {
             "colorbar": {
              "outlinewidth": 0,
              "ticks": ""
             }
            },
            "type": "scatterpolargl"
           }
          ],
          "scatterternary": [
           {
            "marker": {
             "colorbar": {
              "outlinewidth": 0,
              "ticks": ""
             }
            },
            "type": "scatterternary"
           }
          ],
          "surface": [
           {
            "colorbar": {
             "outlinewidth": 0,
             "ticks": ""
            },
            "colorscale": [
             [
              0,
              "#0d0887"
             ],
             [
              0.1111111111111111,
              "#46039f"
             ],
             [
              0.2222222222222222,
              "#7201a8"
             ],
             [
              0.3333333333333333,
              "#9c179e"
             ],
             [
              0.4444444444444444,
              "#bd3786"
             ],
             [
              0.5555555555555556,
              "#d8576b"
             ],
             [
              0.6666666666666666,
              "#ed7953"
             ],
             [
              0.7777777777777778,
              "#fb9f3a"
             ],
             [
              0.8888888888888888,
              "#fdca26"
             ],
             [
              1,
              "#f0f921"
             ]
            ],
            "type": "surface"
           }
          ],
          "table": [
           {
            "cells": {
             "fill": {
              "color": "#EBF0F8"
             },
             "line": {
              "color": "white"
             }
            },
            "header": {
             "fill": {
              "color": "#C8D4E3"
             },
             "line": {
              "color": "white"
             }
            },
            "type": "table"
           }
          ]
         },
         "layout": {
          "annotationdefaults": {
           "arrowcolor": "#2a3f5f",
           "arrowhead": 0,
           "arrowwidth": 1
          },
          "autotypenumbers": "strict",
          "coloraxis": {
           "colorbar": {
            "outlinewidth": 0,
            "ticks": ""
           }
          },
          "colorscale": {
           "diverging": [
            [
             0,
             "#8e0152"
            ],
            [
             0.1,
             "#c51b7d"
            ],
            [
             0.2,
             "#de77ae"
            ],
            [
             0.3,
             "#f1b6da"
            ],
            [
             0.4,
             "#fde0ef"
            ],
            [
             0.5,
             "#f7f7f7"
            ],
            [
             0.6,
             "#e6f5d0"
            ],
            [
             0.7,
             "#b8e186"
            ],
            [
             0.8,
             "#7fbc41"
            ],
            [
             0.9,
             "#4d9221"
            ],
            [
             1,
             "#276419"
            ]
           ],
           "sequential": [
            [
             0,
             "#0d0887"
            ],
            [
             0.1111111111111111,
             "#46039f"
            ],
            [
             0.2222222222222222,
             "#7201a8"
            ],
            [
             0.3333333333333333,
             "#9c179e"
            ],
            [
             0.4444444444444444,
             "#bd3786"
            ],
            [
             0.5555555555555556,
             "#d8576b"
            ],
            [
             0.6666666666666666,
             "#ed7953"
            ],
            [
             0.7777777777777778,
             "#fb9f3a"
            ],
            [
             0.8888888888888888,
             "#fdca26"
            ],
            [
             1,
             "#f0f921"
            ]
           ],
           "sequentialminus": [
            [
             0,
             "#0d0887"
            ],
            [
             0.1111111111111111,
             "#46039f"
            ],
            [
             0.2222222222222222,
             "#7201a8"
            ],
            [
             0.3333333333333333,
             "#9c179e"
            ],
            [
             0.4444444444444444,
             "#bd3786"
            ],
            [
             0.5555555555555556,
             "#d8576b"
            ],
            [
             0.6666666666666666,
             "#ed7953"
            ],
            [
             0.7777777777777778,
             "#fb9f3a"
            ],
            [
             0.8888888888888888,
             "#fdca26"
            ],
            [
             1,
             "#f0f921"
            ]
           ]
          },
          "colorway": [
           "#636efa",
           "#EF553B",
           "#00cc96",
           "#ab63fa",
           "#FFA15A",
           "#19d3f3",
           "#FF6692",
           "#B6E880",
           "#FF97FF",
           "#FECB52"
          ],
          "font": {
           "color": "#2a3f5f"
          },
          "geo": {
           "bgcolor": "white",
           "lakecolor": "white",
           "landcolor": "#E5ECF6",
           "showlakes": true,
           "showland": true,
           "subunitcolor": "white"
          },
          "hoverlabel": {
           "align": "left"
          },
          "hovermode": "closest",
          "mapbox": {
           "style": "light"
          },
          "paper_bgcolor": "white",
          "plot_bgcolor": "#E5ECF6",
          "polar": {
           "angularaxis": {
            "gridcolor": "white",
            "linecolor": "white",
            "ticks": ""
           },
           "bgcolor": "#E5ECF6",
           "radialaxis": {
            "gridcolor": "white",
            "linecolor": "white",
            "ticks": ""
           }
          },
          "scene": {
           "xaxis": {
            "backgroundcolor": "#E5ECF6",
            "gridcolor": "white",
            "gridwidth": 2,
            "linecolor": "white",
            "showbackground": true,
            "ticks": "",
            "zerolinecolor": "white"
           },
           "yaxis": {
            "backgroundcolor": "#E5ECF6",
            "gridcolor": "white",
            "gridwidth": 2,
            "linecolor": "white",
            "showbackground": true,
            "ticks": "",
            "zerolinecolor": "white"
           },
           "zaxis": {
            "backgroundcolor": "#E5ECF6",
            "gridcolor": "white",
            "gridwidth": 2,
            "linecolor": "white",
            "showbackground": true,
            "ticks": "",
            "zerolinecolor": "white"
           }
          },
          "shapedefaults": {
           "line": {
            "color": "#2a3f5f"
           }
          },
          "ternary": {
           "aaxis": {
            "gridcolor": "white",
            "linecolor": "white",
            "ticks": ""
           },
           "baxis": {
            "gridcolor": "white",
            "linecolor": "white",
            "ticks": ""
           },
           "bgcolor": "#E5ECF6",
           "caxis": {
            "gridcolor": "white",
            "linecolor": "white",
            "ticks": ""
           }
          },
          "title": {
           "x": 0.05
          },
          "xaxis": {
           "automargin": true,
           "gridcolor": "white",
           "linecolor": "white",
           "ticks": "",
           "title": {
            "standoff": 15
           },
           "zerolinecolor": "white",
           "zerolinewidth": 2
          },
          "yaxis": {
           "automargin": true,
           "gridcolor": "white",
           "linecolor": "white",
           "ticks": "",
           "title": {
            "standoff": 15
           },
           "zerolinecolor": "white",
           "zerolinewidth": 2
          }
         }
        },
        "title": {
         "font": {
          "color": "black",
          "family": "Helvetica Neue",
          "size": 18
         },
         "text": "What type of lighting is used in the image?",
         "x": 0.5,
         "xanchor": "center",
         "y": 0.9,
         "yanchor": "top"
        },
        "width": 1200,
        "xaxis": {
         "anchor": "y",
         "categoryarray": [
          "Natural light",
          "Low light",
          "High contrast light",
          "Soft and diffused light",
          "Mixed lighting",
          "No visible lighting source"
         ],
         "categoryorder": "array",
         "domain": [
          0,
          0.3
         ],
         "linecolor": "grey",
         "linewidth": 2,
         "mirror": true,
         "showline": true,
         "ticktext": [
          "Natural light",
          "Low light",
          "High contrast light",
          "Soft and diffused light",
          "Mixed lighting",
          "No visible lighting source"
         ],
         "tickvals": [
          "Natural light",
          "Low light",
          "High contrast light",
          "Soft and diffused light",
          "Mixed lighting",
          "No visible lighting source"
         ]
        },
        "xaxis2": {
         "anchor": "y2",
         "categoryarray": [
          "Natural light",
          "Low light",
          "High contrast light",
          "Soft and diffused light",
          "Mixed lighting",
          "No visible lighting source"
         ],
         "categoryorder": "array",
         "domain": [
          0.35,
          0.6499999999999999
         ],
         "linecolor": "grey",
         "linewidth": 2,
         "mirror": true,
         "showline": true,
         "ticktext": [
          "Natural light",
          "Low light",
          "High contrast light",
          "Soft and diffused light",
          "Mixed lighting",
          "No visible lighting source"
         ],
         "tickvals": [
          "Natural light",
          "Low light",
          "High contrast light",
          "Soft and diffused light",
          "Mixed lighting",
          "No visible lighting source"
         ]
        },
        "xaxis3": {
         "anchor": "y3",
         "categoryarray": [
          "Natural light",
          "Low light",
          "High contrast light",
          "Soft and diffused light",
          "Mixed lighting",
          "No visible lighting source"
         ],
         "categoryorder": "array",
         "domain": [
          0.7,
          1
         ],
         "linecolor": "grey",
         "linewidth": 2,
         "mirror": true,
         "showline": true,
         "ticktext": [
          "Natural light",
          "Low light",
          "High contrast light",
          "Soft and diffused light",
          "Mixed lighting",
          "No visible lighting source"
         ],
         "tickvals": [
          "Natural light",
          "Low light",
          "High contrast light",
          "Soft and diffused light",
          "Mixed lighting",
          "No visible lighting source"
         ]
        },
        "yaxis": {
         "anchor": "x",
         "domain": [
          0,
          1
         ],
         "linecolor": "grey",
         "linewidth": 2,
         "mirror": true,
         "showline": true,
         "title": {
          "text": "Proportion of Images (%)"
         }
        },
        "yaxis2": {
         "anchor": "x2",
         "domain": [
          0,
          1
         ],
         "linecolor": "grey",
         "linewidth": 2,
         "matches": "y",
         "mirror": true,
         "showline": true,
         "showticklabels": false
        },
        "yaxis3": {
         "anchor": "x3",
         "domain": [
          0,
          1
         ],
         "linecolor": "grey",
         "linewidth": 2,
         "matches": "y",
         "mirror": true,
         "showline": true,
         "showticklabels": false
        }
       }
      },
      "text/html": [
       "<div>                            <div id=\"5739c748-e99b-4127-a730-2a32b1c9a7a3\" class=\"plotly-graph-div\" style=\"height:400px; width:1200px;\"></div>            <script type=\"text/javascript\">                require([\"plotly\"], function(Plotly) {                    window.PLOTLYENV=window.PLOTLYENV || {};                                    if (document.getElementById(\"5739c748-e99b-4127-a730-2a32b1c9a7a3\")) {                    Plotly.newPlot(                        \"5739c748-e99b-4127-a730-2a32b1c9a7a3\",                        [{\"legendgroup\":\"Algeria\",\"marker\":{\"color\":\"#41cc96\"},\"name\":\"Algeria\",\"showlegend\":true,\"x\":[\"Natural light\",\"Low light\",\"High contrast light\",\"Soft and diffused light\",\"Mixed lighting\",\"No visible lighting source\"],\"y\":[0.0,0.0,0.0,100.0,0.0,0.0],\"type\":\"bar\",\"xaxis\":\"x\",\"yaxis\":\"y\"},{\"legendgroup\":\"Nigeria\",\"marker\":{\"color\":\"#ef563b\"},\"name\":\"Nigeria\",\"showlegend\":true,\"x\":[\"Natural light\",\"Low light\",\"High contrast light\",\"Soft and diffused light\",\"Mixed lighting\",\"No visible lighting source\"],\"y\":[0.0,0.0,1.3333333333333335,98.66666666666667,0.0,0.0],\"type\":\"bar\",\"xaxis\":\"x\",\"yaxis\":\"y\"},{\"legendgroup\":\"South Africa\",\"marker\":{\"color\":\"#f7a15b\"},\"name\":\"South Africa\",\"showlegend\":true,\"x\":[\"Natural light\",\"Low light\",\"High contrast light\",\"Soft and diffused light\",\"Mixed lighting\",\"No visible lighting source\"],\"y\":[0.0,0.0,2.666666666666667,96.66666666666667,0.6666666666666667,0.0],\"type\":\"bar\",\"xaxis\":\"x\",\"yaxis\":\"y\"},{\"legendgroup\":\"United States\",\"marker\":{\"color\":\"#47d3f3\"},\"name\":\"United States\",\"showlegend\":true,\"x\":[\"Natural light\",\"Low light\",\"High contrast light\",\"Soft and diffused light\",\"Mixed lighting\",\"No visible lighting source\"],\"y\":[0.0,0.0,2.0,98.0,0.0,0.0],\"type\":\"bar\",\"xaxis\":\"x\",\"yaxis\":\"y\"},{\"legendgroup\":\"Kenya\",\"marker\":{\"color\":\"#636efb\"},\"name\":\"Kenya\",\"showlegend\":true,\"x\":[\"Natural light\",\"Low light\",\"High contrast light\",\"Soft and diffused light\",\"Mixed lighting\",\"No visible lighting source\"],\"y\":[0.0,0.0,2.307692307692308,97.6923076923077,0.0,0.0],\"type\":\"bar\",\"xaxis\":\"x\",\"yaxis\":\"y\"},{\"legendgroup\":\"Cameroon\",\"marker\":{\"color\":\"#ab63fb\"},\"name\":\"Cameroon\",\"showlegend\":true,\"x\":[\"Natural light\",\"Low light\",\"High contrast light\",\"Soft and diffused light\",\"Mixed lighting\",\"No visible lighting source\"],\"y\":[0.0,0.0,0.6666666666666667,99.33333333333333,0.0,0.0],\"type\":\"bar\",\"xaxis\":\"x\",\"yaxis\":\"y\"},{\"legendgroup\":\"Algeria\",\"marker\":{\"color\":\"#41cc96\"},\"name\":\"Algeria\",\"showlegend\":false,\"x\":[\"Natural light\",\"Low light\",\"High contrast light\",\"Soft and diffused light\",\"Mixed lighting\",\"No visible lighting source\"],\"y\":[0.0,0.0,55.333333333333336,44.666666666666664,0.0,0.0],\"type\":\"bar\",\"xaxis\":\"x2\",\"yaxis\":\"y2\"},{\"legendgroup\":\"Nigeria\",\"marker\":{\"color\":\"#ef563b\"},\"name\":\"Nigeria\",\"showlegend\":false,\"x\":[\"Natural light\",\"Low light\",\"High contrast light\",\"Soft and diffused light\",\"Mixed lighting\",\"No visible lighting source\"],\"y\":[0.6666666666666667,0.0,54.666666666666664,42.66666666666667,1.3333333333333335,0.6666666666666667],\"type\":\"bar\",\"xaxis\":\"x2\",\"yaxis\":\"y2\"},{\"legendgroup\":\"South Africa\",\"marker\":{\"color\":\"#f7a15b\"},\"name\":\"South Africa\",\"showlegend\":false,\"x\":[\"Natural light\",\"Low light\",\"High contrast light\",\"Soft and diffused light\",\"Mixed lighting\",\"No visible lighting source\"],\"y\":[0.0,0.6666666666666667,45.33333333333333,54.0,0.0,0.0],\"type\":\"bar\",\"xaxis\":\"x2\",\"yaxis\":\"y2\"},{\"legendgroup\":\"United States\",\"marker\":{\"color\":\"#47d3f3\"},\"name\":\"United States\",\"showlegend\":false,\"x\":[\"Natural light\",\"Low light\",\"High contrast light\",\"Soft and diffused light\",\"Mixed lighting\",\"No visible lighting source\"],\"y\":[0.6666666666666667,0.0,28.666666666666668,69.33333333333334,1.3333333333333335,0.0],\"type\":\"bar\",\"xaxis\":\"x2\",\"yaxis\":\"y2\"},{\"legendgroup\":\"Kenya\",\"marker\":{\"color\":\"#636efb\"},\"name\":\"Kenya\",\"showlegend\":false,\"x\":[\"Natural light\",\"Low light\",\"High contrast light\",\"Soft and diffused light\",\"Mixed lighting\",\"No visible lighting source\"],\"y\":[0.0,0.0,50.0,50.0,0.0,0.0],\"type\":\"bar\",\"xaxis\":\"x2\",\"yaxis\":\"y2\"},{\"legendgroup\":\"Cameroon\",\"marker\":{\"color\":\"#ab63fb\"},\"name\":\"Cameroon\",\"showlegend\":false,\"x\":[\"Natural light\",\"Low light\",\"High contrast light\",\"Soft and diffused light\",\"Mixed lighting\",\"No visible lighting source\"],\"y\":[0.0,0.0,52.5,47.5,0.0,0.0],\"type\":\"bar\",\"xaxis\":\"x2\",\"yaxis\":\"y2\"},{\"legendgroup\":\"Algeria\",\"marker\":{\"color\":\"#41cc96\"},\"name\":\"Algeria\",\"showlegend\":false,\"x\":[\"Natural light\",\"Low light\",\"High contrast light\",\"Soft and diffused light\",\"Mixed lighting\",\"No visible lighting source\"],\"y\":[0.6666666666666667,10.666666666666668,15.333333333333332,73.33333333333333,0.0,0.0],\"type\":\"bar\",\"xaxis\":\"x3\",\"yaxis\":\"y3\"},{\"legendgroup\":\"Nigeria\",\"marker\":{\"color\":\"#ef563b\"},\"name\":\"Nigeria\",\"showlegend\":false,\"x\":[\"Natural light\",\"Low light\",\"High contrast light\",\"Soft and diffused light\",\"Mixed lighting\",\"No visible lighting source\"],\"y\":[0.0,0.0,0.0,0.0,0.0,0.0],\"type\":\"bar\",\"xaxis\":\"x3\",\"yaxis\":\"y3\"},{\"legendgroup\":\"South Africa\",\"marker\":{\"color\":\"#f7a15b\"},\"name\":\"South Africa\",\"showlegend\":false,\"x\":[\"Natural light\",\"Low light\",\"High contrast light\",\"Soft and diffused light\",\"Mixed lighting\",\"No visible lighting source\"],\"y\":[9.868421052631579,4.605263157894736,21.710526315789476,63.81578947368421,0.0,0.0],\"type\":\"bar\",\"xaxis\":\"x3\",\"yaxis\":\"y3\"},{\"legendgroup\":\"United States\",\"marker\":{\"color\":\"#47d3f3\"},\"name\":\"United States\",\"showlegend\":false,\"x\":[\"Natural light\",\"Low light\",\"High contrast light\",\"Soft and diffused light\",\"Mixed lighting\",\"No visible lighting source\"],\"y\":[3.3333333333333335,0.0,22.666666666666664,74.0,0.0,0.0],\"type\":\"bar\",\"xaxis\":\"x3\",\"yaxis\":\"y3\"},{\"legendgroup\":\"Kenya\",\"marker\":{\"color\":\"#636efb\"},\"name\":\"Kenya\",\"showlegend\":false,\"x\":[\"Natural light\",\"Low light\",\"High contrast light\",\"Soft and diffused light\",\"Mixed lighting\",\"No visible lighting source\"],\"y\":[4.615384615384616,2.307692307692308,38.46153846153847,54.61538461538461,0.0,0.0],\"type\":\"bar\",\"xaxis\":\"x3\",\"yaxis\":\"y3\"},{\"legendgroup\":\"Cameroon\",\"marker\":{\"color\":\"#ab63fb\"},\"name\":\"Cameroon\",\"showlegend\":false,\"x\":[\"Natural light\",\"Low light\",\"High contrast light\",\"Soft and diffused light\",\"Mixed lighting\",\"No visible lighting source\"],\"y\":[2.7586206896551726,15.172413793103448,36.55172413793103,45.51724137931035,0.0,0.0],\"type\":\"bar\",\"xaxis\":\"x3\",\"yaxis\":\"y3\"}],                        {\"template\":{\"data\":{\"histogram2dcontour\":[{\"type\":\"histogram2dcontour\",\"colorbar\":{\"outlinewidth\":0,\"ticks\":\"\"},\"colorscale\":[[0.0,\"#0d0887\"],[0.1111111111111111,\"#46039f\"],[0.2222222222222222,\"#7201a8\"],[0.3333333333333333,\"#9c179e\"],[0.4444444444444444,\"#bd3786\"],[0.5555555555555556,\"#d8576b\"],[0.6666666666666666,\"#ed7953\"],[0.7777777777777778,\"#fb9f3a\"],[0.8888888888888888,\"#fdca26\"],[1.0,\"#f0f921\"]]}],\"choropleth\":[{\"type\":\"choropleth\",\"colorbar\":{\"outlinewidth\":0,\"ticks\":\"\"}}],\"histogram2d\":[{\"type\":\"histogram2d\",\"colorbar\":{\"outlinewidth\":0,\"ticks\":\"\"},\"colorscale\":[[0.0,\"#0d0887\"],[0.1111111111111111,\"#46039f\"],[0.2222222222222222,\"#7201a8\"],[0.3333333333333333,\"#9c179e\"],[0.4444444444444444,\"#bd3786\"],[0.5555555555555556,\"#d8576b\"],[0.6666666666666666,\"#ed7953\"],[0.7777777777777778,\"#fb9f3a\"],[0.8888888888888888,\"#fdca26\"],[1.0,\"#f0f921\"]]}],\"heatmap\":[{\"type\":\"heatmap\",\"colorbar\":{\"outlinewidth\":0,\"ticks\":\"\"},\"colorscale\":[[0.0,\"#0d0887\"],[0.1111111111111111,\"#46039f\"],[0.2222222222222222,\"#7201a8\"],[0.3333333333333333,\"#9c179e\"],[0.4444444444444444,\"#bd3786\"],[0.5555555555555556,\"#d8576b\"],[0.6666666666666666,\"#ed7953\"],[0.7777777777777778,\"#fb9f3a\"],[0.8888888888888888,\"#fdca26\"],[1.0,\"#f0f921\"]]}],\"heatmapgl\":[{\"type\":\"heatmapgl\",\"colorbar\":{\"outlinewidth\":0,\"ticks\":\"\"},\"colorscale\":[[0.0,\"#0d0887\"],[0.1111111111111111,\"#46039f\"],[0.2222222222222222,\"#7201a8\"],[0.3333333333333333,\"#9c179e\"],[0.4444444444444444,\"#bd3786\"],[0.5555555555555556,\"#d8576b\"],[0.6666666666666666,\"#ed7953\"],[0.7777777777777778,\"#fb9f3a\"],[0.8888888888888888,\"#fdca26\"],[1.0,\"#f0f921\"]]}],\"contourcarpet\":[{\"type\":\"contourcarpet\",\"colorbar\":{\"outlinewidth\":0,\"ticks\":\"\"}}],\"contour\":[{\"type\":\"contour\",\"colorbar\":{\"outlinewidth\":0,\"ticks\":\"\"},\"colorscale\":[[0.0,\"#0d0887\"],[0.1111111111111111,\"#46039f\"],[0.2222222222222222,\"#7201a8\"],[0.3333333333333333,\"#9c179e\"],[0.4444444444444444,\"#bd3786\"],[0.5555555555555556,\"#d8576b\"],[0.6666666666666666,\"#ed7953\"],[0.7777777777777778,\"#fb9f3a\"],[0.8888888888888888,\"#fdca26\"],[1.0,\"#f0f921\"]]}],\"surface\":[{\"type\":\"surface\",\"colorbar\":{\"outlinewidth\":0,\"ticks\":\"\"},\"colorscale\":[[0.0,\"#0d0887\"],[0.1111111111111111,\"#46039f\"],[0.2222222222222222,\"#7201a8\"],[0.3333333333333333,\"#9c179e\"],[0.4444444444444444,\"#bd3786\"],[0.5555555555555556,\"#d8576b\"],[0.6666666666666666,\"#ed7953\"],[0.7777777777777778,\"#fb9f3a\"],[0.8888888888888888,\"#fdca26\"],[1.0,\"#f0f921\"]]}],\"mesh3d\":[{\"type\":\"mesh3d\",\"colorbar\":{\"outlinewidth\":0,\"ticks\":\"\"}}],\"scatter\":[{\"fillpattern\":{\"fillmode\":\"overlay\",\"size\":10,\"solidity\":0.2},\"type\":\"scatter\"}],\"parcoords\":[{\"type\":\"parcoords\",\"line\":{\"colorbar\":{\"outlinewidth\":0,\"ticks\":\"\"}}}],\"scatterpolargl\":[{\"type\":\"scatterpolargl\",\"marker\":{\"colorbar\":{\"outlinewidth\":0,\"ticks\":\"\"}}}],\"bar\":[{\"error_x\":{\"color\":\"#2a3f5f\"},\"error_y\":{\"color\":\"#2a3f5f\"},\"marker\":{\"line\":{\"color\":\"#E5ECF6\",\"width\":0.5},\"pattern\":{\"fillmode\":\"overlay\",\"size\":10,\"solidity\":0.2}},\"type\":\"bar\"}],\"scattergeo\":[{\"type\":\"scattergeo\",\"marker\":{\"colorbar\":{\"outlinewidth\":0,\"ticks\":\"\"}}}],\"scatterpolar\":[{\"type\":\"scatterpolar\",\"marker\":{\"colorbar\":{\"outlinewidth\":0,\"ticks\":\"\"}}}],\"histogram\":[{\"marker\":{\"pattern\":{\"fillmode\":\"overlay\",\"size\":10,\"solidity\":0.2}},\"type\":\"histogram\"}],\"scattergl\":[{\"type\":\"scattergl\",\"marker\":{\"colorbar\":{\"outlinewidth\":0,\"ticks\":\"\"}}}],\"scatter3d\":[{\"type\":\"scatter3d\",\"line\":{\"colorbar\":{\"outlinewidth\":0,\"ticks\":\"\"}},\"marker\":{\"colorbar\":{\"outlinewidth\":0,\"ticks\":\"\"}}}],\"scattermapbox\":[{\"type\":\"scattermapbox\",\"marker\":{\"colorbar\":{\"outlinewidth\":0,\"ticks\":\"\"}}}],\"scatterternary\":[{\"type\":\"scatterternary\",\"marker\":{\"colorbar\":{\"outlinewidth\":0,\"ticks\":\"\"}}}],\"scattercarpet\":[{\"type\":\"scattercarpet\",\"marker\":{\"colorbar\":{\"outlinewidth\":0,\"ticks\":\"\"}}}],\"carpet\":[{\"aaxis\":{\"endlinecolor\":\"#2a3f5f\",\"gridcolor\":\"white\",\"linecolor\":\"white\",\"minorgridcolor\":\"white\",\"startlinecolor\":\"#2a3f5f\"},\"baxis\":{\"endlinecolor\":\"#2a3f5f\",\"gridcolor\":\"white\",\"linecolor\":\"white\",\"minorgridcolor\":\"white\",\"startlinecolor\":\"#2a3f5f\"},\"type\":\"carpet\"}],\"table\":[{\"cells\":{\"fill\":{\"color\":\"#EBF0F8\"},\"line\":{\"color\":\"white\"}},\"header\":{\"fill\":{\"color\":\"#C8D4E3\"},\"line\":{\"color\":\"white\"}},\"type\":\"table\"}],\"barpolar\":[{\"marker\":{\"line\":{\"color\":\"#E5ECF6\",\"width\":0.5},\"pattern\":{\"fillmode\":\"overlay\",\"size\":10,\"solidity\":0.2}},\"type\":\"barpolar\"}],\"pie\":[{\"automargin\":true,\"type\":\"pie\"}]},\"layout\":{\"autotypenumbers\":\"strict\",\"colorway\":[\"#636efa\",\"#EF553B\",\"#00cc96\",\"#ab63fa\",\"#FFA15A\",\"#19d3f3\",\"#FF6692\",\"#B6E880\",\"#FF97FF\",\"#FECB52\"],\"font\":{\"color\":\"#2a3f5f\"},\"hovermode\":\"closest\",\"hoverlabel\":{\"align\":\"left\"},\"paper_bgcolor\":\"white\",\"plot_bgcolor\":\"#E5ECF6\",\"polar\":{\"bgcolor\":\"#E5ECF6\",\"angularaxis\":{\"gridcolor\":\"white\",\"linecolor\":\"white\",\"ticks\":\"\"},\"radialaxis\":{\"gridcolor\":\"white\",\"linecolor\":\"white\",\"ticks\":\"\"}},\"ternary\":{\"bgcolor\":\"#E5ECF6\",\"aaxis\":{\"gridcolor\":\"white\",\"linecolor\":\"white\",\"ticks\":\"\"},\"baxis\":{\"gridcolor\":\"white\",\"linecolor\":\"white\",\"ticks\":\"\"},\"caxis\":{\"gridcolor\":\"white\",\"linecolor\":\"white\",\"ticks\":\"\"}},\"coloraxis\":{\"colorbar\":{\"outlinewidth\":0,\"ticks\":\"\"}},\"colorscale\":{\"sequential\":[[0.0,\"#0d0887\"],[0.1111111111111111,\"#46039f\"],[0.2222222222222222,\"#7201a8\"],[0.3333333333333333,\"#9c179e\"],[0.4444444444444444,\"#bd3786\"],[0.5555555555555556,\"#d8576b\"],[0.6666666666666666,\"#ed7953\"],[0.7777777777777778,\"#fb9f3a\"],[0.8888888888888888,\"#fdca26\"],[1.0,\"#f0f921\"]],\"sequentialminus\":[[0.0,\"#0d0887\"],[0.1111111111111111,\"#46039f\"],[0.2222222222222222,\"#7201a8\"],[0.3333333333333333,\"#9c179e\"],[0.4444444444444444,\"#bd3786\"],[0.5555555555555556,\"#d8576b\"],[0.6666666666666666,\"#ed7953\"],[0.7777777777777778,\"#fb9f3a\"],[0.8888888888888888,\"#fdca26\"],[1.0,\"#f0f921\"]],\"diverging\":[[0,\"#8e0152\"],[0.1,\"#c51b7d\"],[0.2,\"#de77ae\"],[0.3,\"#f1b6da\"],[0.4,\"#fde0ef\"],[0.5,\"#f7f7f7\"],[0.6,\"#e6f5d0\"],[0.7,\"#b8e186\"],[0.8,\"#7fbc41\"],[0.9,\"#4d9221\"],[1,\"#276419\"]]},\"xaxis\":{\"gridcolor\":\"white\",\"linecolor\":\"white\",\"ticks\":\"\",\"title\":{\"standoff\":15},\"zerolinecolor\":\"white\",\"automargin\":true,\"zerolinewidth\":2},\"yaxis\":{\"gridcolor\":\"white\",\"linecolor\":\"white\",\"ticks\":\"\",\"title\":{\"standoff\":15},\"zerolinecolor\":\"white\",\"automargin\":true,\"zerolinewidth\":2},\"scene\":{\"xaxis\":{\"backgroundcolor\":\"#E5ECF6\",\"gridcolor\":\"white\",\"linecolor\":\"white\",\"showbackground\":true,\"ticks\":\"\",\"zerolinecolor\":\"white\",\"gridwidth\":2},\"yaxis\":{\"backgroundcolor\":\"#E5ECF6\",\"gridcolor\":\"white\",\"linecolor\":\"white\",\"showbackground\":true,\"ticks\":\"\",\"zerolinecolor\":\"white\",\"gridwidth\":2},\"zaxis\":{\"backgroundcolor\":\"#E5ECF6\",\"gridcolor\":\"white\",\"linecolor\":\"white\",\"showbackground\":true,\"ticks\":\"\",\"zerolinecolor\":\"white\",\"gridwidth\":2}},\"shapedefaults\":{\"line\":{\"color\":\"#2a3f5f\"}},\"annotationdefaults\":{\"arrowcolor\":\"#2a3f5f\",\"arrowhead\":0,\"arrowwidth\":1},\"geo\":{\"bgcolor\":\"white\",\"landcolor\":\"#E5ECF6\",\"subunitcolor\":\"white\",\"showland\":true,\"showlakes\":true,\"lakecolor\":\"white\"},\"title\":{\"x\":0.05},\"mapbox\":{\"style\":\"light\"}}},\"xaxis\":{\"anchor\":\"y\",\"domain\":[0.0,0.3],\"tickvals\":[\"Natural light\",\"Low light\",\"High contrast light\",\"Soft and diffused light\",\"Mixed lighting\",\"No visible lighting source\"],\"ticktext\":[\"Natural light\",\"Low light\",\"High contrast light\",\"Soft and diffused light\",\"Mixed lighting\",\"No visible lighting source\"],\"categoryorder\":\"array\",\"categoryarray\":[\"Natural light\",\"Low light\",\"High contrast light\",\"Soft and diffused light\",\"Mixed lighting\",\"No visible lighting source\"],\"showline\":true,\"linewidth\":2,\"linecolor\":\"grey\",\"mirror\":true},\"yaxis\":{\"anchor\":\"x\",\"domain\":[0.0,1.0],\"title\":{\"text\":\"Proportion of Images (%)\"},\"showline\":true,\"linewidth\":2,\"linecolor\":\"grey\",\"mirror\":true},\"xaxis2\":{\"anchor\":\"y2\",\"domain\":[0.35,0.6499999999999999],\"tickvals\":[\"Natural light\",\"Low light\",\"High contrast light\",\"Soft and diffused light\",\"Mixed lighting\",\"No visible lighting source\"],\"ticktext\":[\"Natural light\",\"Low light\",\"High contrast light\",\"Soft and diffused light\",\"Mixed lighting\",\"No visible lighting source\"],\"categoryorder\":\"array\",\"categoryarray\":[\"Natural light\",\"Low light\",\"High contrast light\",\"Soft and diffused light\",\"Mixed lighting\",\"No visible lighting source\"],\"showline\":true,\"linewidth\":2,\"linecolor\":\"grey\",\"mirror\":true},\"yaxis2\":{\"anchor\":\"x2\",\"domain\":[0.0,1.0],\"matches\":\"y\",\"showticklabels\":false,\"showline\":true,\"linewidth\":2,\"linecolor\":\"grey\",\"mirror\":true},\"xaxis3\":{\"anchor\":\"y3\",\"domain\":[0.7,1.0],\"tickvals\":[\"Natural light\",\"Low light\",\"High contrast light\",\"Soft and diffused light\",\"Mixed lighting\",\"No visible lighting source\"],\"ticktext\":[\"Natural light\",\"Low light\",\"High contrast light\",\"Soft and diffused light\",\"Mixed lighting\",\"No visible lighting source\"],\"categoryorder\":\"array\",\"categoryarray\":[\"Natural light\",\"Low light\",\"High contrast light\",\"Soft and diffused light\",\"Mixed lighting\",\"No visible lighting source\"],\"showline\":true,\"linewidth\":2,\"linecolor\":\"grey\",\"mirror\":true},\"yaxis3\":{\"anchor\":\"x3\",\"domain\":[0.0,1.0],\"matches\":\"y\",\"showticklabels\":false,\"showline\":true,\"linewidth\":2,\"linecolor\":\"grey\",\"mirror\":true},\"annotations\":[{\"font\":{\"size\":16},\"showarrow\":false,\"text\":\"Dall-E 3\",\"x\":0.15,\"xanchor\":\"center\",\"xref\":\"paper\",\"y\":1.0,\"yanchor\":\"bottom\",\"yref\":\"paper\"},{\"font\":{\"size\":16},\"showarrow\":false,\"text\":\"Stable Diffusion 2.1\",\"x\":0.49999999999999994,\"xanchor\":\"center\",\"xref\":\"paper\",\"y\":1.0,\"yanchor\":\"bottom\",\"yref\":\"paper\"},{\"font\":{\"size\":16},\"showarrow\":false,\"text\":\"Dall-E 2\",\"x\":0.85,\"xanchor\":\"center\",\"xref\":\"paper\",\"y\":1.0,\"yanchor\":\"bottom\",\"yref\":\"paper\"}],\"legend\":{\"title\":{\"text\":\"Country\"},\"orientation\":\"v\",\"yanchor\":\"top\",\"y\":1,\"xanchor\":\"right\",\"x\":1.15,\"itemwidth\":30,\"itemsizing\":\"constant\",\"traceorder\":\"normal\",\"bordercolor\":\"grey\",\"borderwidth\":1},\"title\":{\"font\":{\"family\":\"Helvetica Neue\",\"size\":18,\"color\":\"black\"},\"text\":\"What type of lighting is used in the image?\",\"y\":0.9,\"x\":0.5,\"xanchor\":\"center\",\"yanchor\":\"top\"},\"font\":{\"family\":\"Helvetica Neue\",\"size\":12},\"plot_bgcolor\":\"white\",\"barmode\":\"group\",\"width\":1200,\"height\":400},                        {\"responsive\": true}                    ).then(function(){\n",
       "                            \n",
       "var gd = document.getElementById('5739c748-e99b-4127-a730-2a32b1c9a7a3');\n",
       "var x = new MutationObserver(function (mutations, observer) {{\n",
       "        var display = window.getComputedStyle(gd).display;\n",
       "        if (!display || display === 'none') {{\n",
       "            console.log([gd, 'removed!']);\n",
       "            Plotly.purge(gd);\n",
       "            observer.disconnect();\n",
       "        }}\n",
       "}});\n",
       "\n",
       "// Listen for the removal of the full notebook cells\n",
       "var notebookContainer = gd.closest('#notebook-container');\n",
       "if (notebookContainer) {{\n",
       "    x.observe(notebookContainer, {childList: true});\n",
       "}}\n",
       "\n",
       "// Listen for the clearing of the current output cell\n",
       "var outputEl = gd.closest('.output');\n",
       "if (outputEl) {{\n",
       "    x.observe(outputEl, {childList: true});\n",
       "}}\n",
       "\n",
       "                        })                };                });            </script>        </div>"
      ]
     },
     "metadata": {},
     "output_type": "display_data"
    },
    {
     "data": {
      "application/vnd.plotly.v1+json": {
       "config": {
        "plotlyServerURL": "https://plot.ly"
       },
       "data": [
        {
         "legendgroup": "Algeria",
         "marker": {
          "color": "#41cc96"
         },
         "name": "Algeria",
         "showlegend": true,
         "type": "bar",
         "x": [
          "Yes, drinks",
          "Yes, side dishes",
          "Yes, condiments",
          "Yes, multiple elements",
          "No, just the main dish"
         ],
         "xaxis": "x",
         "y": [
          0,
          0,
          22.666666666666664,
          50,
          27.333333333333332
         ],
         "yaxis": "y"
        },
        {
         "legendgroup": "Nigeria",
         "marker": {
          "color": "#ef563b"
         },
         "name": "Nigeria",
         "showlegend": true,
         "type": "bar",
         "x": [
          "Yes, drinks",
          "Yes, side dishes",
          "Yes, condiments",
          "Yes, multiple elements",
          "No, just the main dish"
         ],
         "xaxis": "x",
         "y": [
          0,
          0.6666666666666667,
          23.333333333333332,
          35.333333333333336,
          40.666666666666664
         ],
         "yaxis": "y"
        },
        {
         "legendgroup": "South Africa",
         "marker": {
          "color": "#f7a15b"
         },
         "name": "South Africa",
         "showlegend": true,
         "type": "bar",
         "x": [
          "Yes, drinks",
          "Yes, side dishes",
          "Yes, condiments",
          "Yes, multiple elements",
          "No, just the main dish"
         ],
         "xaxis": "x",
         "y": [
          1.3333333333333335,
          0,
          36.666666666666664,
          25.333333333333336,
          36.666666666666664
         ],
         "yaxis": "y"
        },
        {
         "legendgroup": "United States",
         "marker": {
          "color": "#47d3f3"
         },
         "name": "United States",
         "showlegend": true,
         "type": "bar",
         "x": [
          "Yes, drinks",
          "Yes, side dishes",
          "Yes, condiments",
          "Yes, multiple elements",
          "No, just the main dish"
         ],
         "xaxis": "x",
         "y": [
          2.666666666666667,
          0.6666666666666667,
          15.333333333333332,
          44,
          37.333333333333336
         ],
         "yaxis": "y"
        },
        {
         "legendgroup": "Kenya",
         "marker": {
          "color": "#636efb"
         },
         "name": "Kenya",
         "showlegend": true,
         "type": "bar",
         "x": [
          "Yes, drinks",
          "Yes, side dishes",
          "Yes, condiments",
          "Yes, multiple elements",
          "No, just the main dish"
         ],
         "xaxis": "x",
         "y": [
          0,
          0,
          19.230769230769234,
          41.53846153846154,
          39.23076923076923
         ],
         "yaxis": "y"
        },
        {
         "legendgroup": "Cameroon",
         "marker": {
          "color": "#ab63fb"
         },
         "name": "Cameroon",
         "showlegend": true,
         "type": "bar",
         "x": [
          "Yes, drinks",
          "Yes, side dishes",
          "Yes, condiments",
          "Yes, multiple elements",
          "No, just the main dish"
         ],
         "xaxis": "x",
         "y": [
          0,
          0,
          28.000000000000004,
          44.666666666666664,
          27.333333333333332
         ],
         "yaxis": "y"
        },
        {
         "legendgroup": "Algeria",
         "marker": {
          "color": "#41cc96"
         },
         "name": "Algeria",
         "showlegend": false,
         "type": "bar",
         "x": [
          "Yes, drinks",
          "Yes, side dishes",
          "Yes, condiments",
          "Yes, multiple elements",
          "No, just the main dish"
         ],
         "xaxis": "x2",
         "y": [
          0,
          0,
          3.3333333333333335,
          23.333333333333332,
          73.33333333333333
         ],
         "yaxis": "y2"
        },
        {
         "legendgroup": "Nigeria",
         "marker": {
          "color": "#ef563b"
         },
         "name": "Nigeria",
         "showlegend": false,
         "type": "bar",
         "x": [
          "Yes, drinks",
          "Yes, side dishes",
          "Yes, condiments",
          "Yes, multiple elements",
          "No, just the main dish"
         ],
         "xaxis": "x2",
         "y": [
          0,
          0,
          2,
          24,
          74
         ],
         "yaxis": "y2"
        },
        {
         "legendgroup": "South Africa",
         "marker": {
          "color": "#f7a15b"
         },
         "name": "South Africa",
         "showlegend": false,
         "type": "bar",
         "x": [
          "Yes, drinks",
          "Yes, side dishes",
          "Yes, condiments",
          "Yes, multiple elements",
          "No, just the main dish"
         ],
         "xaxis": "x2",
         "y": [
          0,
          0.6666666666666667,
          3.3333333333333335,
          19.333333333333332,
          76.66666666666667
         ],
         "yaxis": "y2"
        },
        {
         "legendgroup": "United States",
         "marker": {
          "color": "#47d3f3"
         },
         "name": "United States",
         "showlegend": false,
         "type": "bar",
         "x": [
          "Yes, drinks",
          "Yes, side dishes",
          "Yes, condiments",
          "Yes, multiple elements",
          "No, just the main dish"
         ],
         "xaxis": "x2",
         "y": [
          2.666666666666667,
          0,
          2,
          14.666666666666666,
          80.66666666666666
         ],
         "yaxis": "y2"
        },
        {
         "legendgroup": "Kenya",
         "marker": {
          "color": "#636efb"
         },
         "name": "Kenya",
         "showlegend": false,
         "type": "bar",
         "x": [
          "Yes, drinks",
          "Yes, side dishes",
          "Yes, condiments",
          "Yes, multiple elements",
          "No, just the main dish"
         ],
         "xaxis": "x2",
         "y": [
          0,
          0,
          3.4246575342465753,
          30.136986301369863,
          66.43835616438356
         ],
         "yaxis": "y2"
        },
        {
         "legendgroup": "Cameroon",
         "marker": {
          "color": "#ab63fb"
         },
         "name": "Cameroon",
         "showlegend": false,
         "type": "bar",
         "x": [
          "Yes, drinks",
          "Yes, side dishes",
          "Yes, condiments",
          "Yes, multiple elements",
          "No, just the main dish"
         ],
         "xaxis": "x2",
         "y": [
          0,
          0.625,
          2.5,
          19.375,
          77.5
         ],
         "yaxis": "y2"
        },
        {
         "legendgroup": "Algeria",
         "marker": {
          "color": "#41cc96"
         },
         "name": "Algeria",
         "showlegend": false,
         "type": "bar",
         "x": [
          "Yes, drinks",
          "Yes, side dishes",
          "Yes, condiments",
          "Yes, multiple elements",
          "No, just the main dish"
         ],
         "xaxis": "x3",
         "y": [
          0,
          0,
          0.6666666666666667,
          4,
          95.33333333333334
         ],
         "yaxis": "y3"
        },
        {
         "legendgroup": "Nigeria",
         "marker": {
          "color": "#ef563b"
         },
         "name": "Nigeria",
         "showlegend": false,
         "type": "bar",
         "x": [
          "Yes, drinks",
          "Yes, side dishes",
          "Yes, condiments",
          "Yes, multiple elements",
          "No, just the main dish"
         ],
         "xaxis": "x3",
         "y": [
          0,
          0,
          0,
          0,
          0
         ],
         "yaxis": "y3"
        },
        {
         "legendgroup": "South Africa",
         "marker": {
          "color": "#f7a15b"
         },
         "name": "South Africa",
         "showlegend": false,
         "type": "bar",
         "x": [
          "Yes, drinks",
          "Yes, side dishes",
          "Yes, condiments",
          "Yes, multiple elements",
          "No, just the main dish"
         ],
         "xaxis": "x3",
         "y": [
          0.6578947368421052,
          1.9736842105263157,
          1.9736842105263157,
          9.210526315789473,
          86.18421052631578
         ],
         "yaxis": "y3"
        },
        {
         "legendgroup": "United States",
         "marker": {
          "color": "#47d3f3"
         },
         "name": "United States",
         "showlegend": false,
         "type": "bar",
         "x": [
          "Yes, drinks",
          "Yes, side dishes",
          "Yes, condiments",
          "Yes, multiple elements",
          "No, just the main dish"
         ],
         "xaxis": "x3",
         "y": [
          4,
          0.6666666666666667,
          0.6666666666666667,
          1.3333333333333335,
          93.33333333333333
         ],
         "yaxis": "y3"
        },
        {
         "legendgroup": "Kenya",
         "marker": {
          "color": "#636efb"
         },
         "name": "Kenya",
         "showlegend": false,
         "type": "bar",
         "x": [
          "Yes, drinks",
          "Yes, side dishes",
          "Yes, condiments",
          "Yes, multiple elements",
          "No, just the main dish"
         ],
         "xaxis": "x3",
         "y": [
          1.5384615384615385,
          0,
          1.5384615384615385,
          2.307692307692308,
          94.61538461538461
         ],
         "yaxis": "y3"
        },
        {
         "legendgroup": "Cameroon",
         "marker": {
          "color": "#ab63fb"
         },
         "name": "Cameroon",
         "showlegend": false,
         "type": "bar",
         "x": [
          "Yes, drinks",
          "Yes, side dishes",
          "Yes, condiments",
          "Yes, multiple elements",
          "No, just the main dish"
         ],
         "xaxis": "x3",
         "y": [
          0,
          0,
          1.3793103448275863,
          2.0689655172413794,
          96.55172413793103
         ],
         "yaxis": "y3"
        }
       ],
       "layout": {
        "annotations": [
         {
          "font": {
           "size": 16
          },
          "showarrow": false,
          "text": "Dall-E 3",
          "x": 0.15,
          "xanchor": "center",
          "xref": "paper",
          "y": 1,
          "yanchor": "bottom",
          "yref": "paper"
         },
         {
          "font": {
           "size": 16
          },
          "showarrow": false,
          "text": "Stable Diffusion 2.1",
          "x": 0.49999999999999994,
          "xanchor": "center",
          "xref": "paper",
          "y": 1,
          "yanchor": "bottom",
          "yref": "paper"
         },
         {
          "font": {
           "size": 16
          },
          "showarrow": false,
          "text": "Dall-E 2",
          "x": 0.85,
          "xanchor": "center",
          "xref": "paper",
          "y": 1,
          "yanchor": "bottom",
          "yref": "paper"
         }
        ],
        "barmode": "group",
        "font": {
         "family": "Helvetica Neue",
         "size": 12
        },
        "height": 400,
        "legend": {
         "bordercolor": "grey",
         "borderwidth": 1,
         "itemsizing": "constant",
         "itemwidth": 30,
         "orientation": "v",
         "title": {
          "text": "Country"
         },
         "traceorder": "normal",
         "x": 1.15,
         "xanchor": "right",
         "y": 1,
         "yanchor": "top"
        },
        "plot_bgcolor": "white",
        "template": {
         "data": {
          "bar": [
           {
            "error_x": {
             "color": "#2a3f5f"
            },
            "error_y": {
             "color": "#2a3f5f"
            },
            "marker": {
             "line": {
              "color": "#E5ECF6",
              "width": 0.5
             },
             "pattern": {
              "fillmode": "overlay",
              "size": 10,
              "solidity": 0.2
             }
            },
            "type": "bar"
           }
          ],
          "barpolar": [
           {
            "marker": {
             "line": {
              "color": "#E5ECF6",
              "width": 0.5
             },
             "pattern": {
              "fillmode": "overlay",
              "size": 10,
              "solidity": 0.2
             }
            },
            "type": "barpolar"
           }
          ],
          "carpet": [
           {
            "aaxis": {
             "endlinecolor": "#2a3f5f",
             "gridcolor": "white",
             "linecolor": "white",
             "minorgridcolor": "white",
             "startlinecolor": "#2a3f5f"
            },
            "baxis": {
             "endlinecolor": "#2a3f5f",
             "gridcolor": "white",
             "linecolor": "white",
             "minorgridcolor": "white",
             "startlinecolor": "#2a3f5f"
            },
            "type": "carpet"
           }
          ],
          "choropleth": [
           {
            "colorbar": {
             "outlinewidth": 0,
             "ticks": ""
            },
            "type": "choropleth"
           }
          ],
          "contour": [
           {
            "colorbar": {
             "outlinewidth": 0,
             "ticks": ""
            },
            "colorscale": [
             [
              0,
              "#0d0887"
             ],
             [
              0.1111111111111111,
              "#46039f"
             ],
             [
              0.2222222222222222,
              "#7201a8"
             ],
             [
              0.3333333333333333,
              "#9c179e"
             ],
             [
              0.4444444444444444,
              "#bd3786"
             ],
             [
              0.5555555555555556,
              "#d8576b"
             ],
             [
              0.6666666666666666,
              "#ed7953"
             ],
             [
              0.7777777777777778,
              "#fb9f3a"
             ],
             [
              0.8888888888888888,
              "#fdca26"
             ],
             [
              1,
              "#f0f921"
             ]
            ],
            "type": "contour"
           }
          ],
          "contourcarpet": [
           {
            "colorbar": {
             "outlinewidth": 0,
             "ticks": ""
            },
            "type": "contourcarpet"
           }
          ],
          "heatmap": [
           {
            "colorbar": {
             "outlinewidth": 0,
             "ticks": ""
            },
            "colorscale": [
             [
              0,
              "#0d0887"
             ],
             [
              0.1111111111111111,
              "#46039f"
             ],
             [
              0.2222222222222222,
              "#7201a8"
             ],
             [
              0.3333333333333333,
              "#9c179e"
             ],
             [
              0.4444444444444444,
              "#bd3786"
             ],
             [
              0.5555555555555556,
              "#d8576b"
             ],
             [
              0.6666666666666666,
              "#ed7953"
             ],
             [
              0.7777777777777778,
              "#fb9f3a"
             ],
             [
              0.8888888888888888,
              "#fdca26"
             ],
             [
              1,
              "#f0f921"
             ]
            ],
            "type": "heatmap"
           }
          ],
          "heatmapgl": [
           {
            "colorbar": {
             "outlinewidth": 0,
             "ticks": ""
            },
            "colorscale": [
             [
              0,
              "#0d0887"
             ],
             [
              0.1111111111111111,
              "#46039f"
             ],
             [
              0.2222222222222222,
              "#7201a8"
             ],
             [
              0.3333333333333333,
              "#9c179e"
             ],
             [
              0.4444444444444444,
              "#bd3786"
             ],
             [
              0.5555555555555556,
              "#d8576b"
             ],
             [
              0.6666666666666666,
              "#ed7953"
             ],
             [
              0.7777777777777778,
              "#fb9f3a"
             ],
             [
              0.8888888888888888,
              "#fdca26"
             ],
             [
              1,
              "#f0f921"
             ]
            ],
            "type": "heatmapgl"
           }
          ],
          "histogram": [
           {
            "marker": {
             "pattern": {
              "fillmode": "overlay",
              "size": 10,
              "solidity": 0.2
             }
            },
            "type": "histogram"
           }
          ],
          "histogram2d": [
           {
            "colorbar": {
             "outlinewidth": 0,
             "ticks": ""
            },
            "colorscale": [
             [
              0,
              "#0d0887"
             ],
             [
              0.1111111111111111,
              "#46039f"
             ],
             [
              0.2222222222222222,
              "#7201a8"
             ],
             [
              0.3333333333333333,
              "#9c179e"
             ],
             [
              0.4444444444444444,
              "#bd3786"
             ],
             [
              0.5555555555555556,
              "#d8576b"
             ],
             [
              0.6666666666666666,
              "#ed7953"
             ],
             [
              0.7777777777777778,
              "#fb9f3a"
             ],
             [
              0.8888888888888888,
              "#fdca26"
             ],
             [
              1,
              "#f0f921"
             ]
            ],
            "type": "histogram2d"
           }
          ],
          "histogram2dcontour": [
           {
            "colorbar": {
             "outlinewidth": 0,
             "ticks": ""
            },
            "colorscale": [
             [
              0,
              "#0d0887"
             ],
             [
              0.1111111111111111,
              "#46039f"
             ],
             [
              0.2222222222222222,
              "#7201a8"
             ],
             [
              0.3333333333333333,
              "#9c179e"
             ],
             [
              0.4444444444444444,
              "#bd3786"
             ],
             [
              0.5555555555555556,
              "#d8576b"
             ],
             [
              0.6666666666666666,
              "#ed7953"
             ],
             [
              0.7777777777777778,
              "#fb9f3a"
             ],
             [
              0.8888888888888888,
              "#fdca26"
             ],
             [
              1,
              "#f0f921"
             ]
            ],
            "type": "histogram2dcontour"
           }
          ],
          "mesh3d": [
           {
            "colorbar": {
             "outlinewidth": 0,
             "ticks": ""
            },
            "type": "mesh3d"
           }
          ],
          "parcoords": [
           {
            "line": {
             "colorbar": {
              "outlinewidth": 0,
              "ticks": ""
             }
            },
            "type": "parcoords"
           }
          ],
          "pie": [
           {
            "automargin": true,
            "type": "pie"
           }
          ],
          "scatter": [
           {
            "fillpattern": {
             "fillmode": "overlay",
             "size": 10,
             "solidity": 0.2
            },
            "type": "scatter"
           }
          ],
          "scatter3d": [
           {
            "line": {
             "colorbar": {
              "outlinewidth": 0,
              "ticks": ""
             }
            },
            "marker": {
             "colorbar": {
              "outlinewidth": 0,
              "ticks": ""
             }
            },
            "type": "scatter3d"
           }
          ],
          "scattercarpet": [
           {
            "marker": {
             "colorbar": {
              "outlinewidth": 0,
              "ticks": ""
             }
            },
            "type": "scattercarpet"
           }
          ],
          "scattergeo": [
           {
            "marker": {
             "colorbar": {
              "outlinewidth": 0,
              "ticks": ""
             }
            },
            "type": "scattergeo"
           }
          ],
          "scattergl": [
           {
            "marker": {
             "colorbar": {
              "outlinewidth": 0,
              "ticks": ""
             }
            },
            "type": "scattergl"
           }
          ],
          "scattermapbox": [
           {
            "marker": {
             "colorbar": {
              "outlinewidth": 0,
              "ticks": ""
             }
            },
            "type": "scattermapbox"
           }
          ],
          "scatterpolar": [
           {
            "marker": {
             "colorbar": {
              "outlinewidth": 0,
              "ticks": ""
             }
            },
            "type": "scatterpolar"
           }
          ],
          "scatterpolargl": [
           {
            "marker": {
             "colorbar": {
              "outlinewidth": 0,
              "ticks": ""
             }
            },
            "type": "scatterpolargl"
           }
          ],
          "scatterternary": [
           {
            "marker": {
             "colorbar": {
              "outlinewidth": 0,
              "ticks": ""
             }
            },
            "type": "scatterternary"
           }
          ],
          "surface": [
           {
            "colorbar": {
             "outlinewidth": 0,
             "ticks": ""
            },
            "colorscale": [
             [
              0,
              "#0d0887"
             ],
             [
              0.1111111111111111,
              "#46039f"
             ],
             [
              0.2222222222222222,
              "#7201a8"
             ],
             [
              0.3333333333333333,
              "#9c179e"
             ],
             [
              0.4444444444444444,
              "#bd3786"
             ],
             [
              0.5555555555555556,
              "#d8576b"
             ],
             [
              0.6666666666666666,
              "#ed7953"
             ],
             [
              0.7777777777777778,
              "#fb9f3a"
             ],
             [
              0.8888888888888888,
              "#fdca26"
             ],
             [
              1,
              "#f0f921"
             ]
            ],
            "type": "surface"
           }
          ],
          "table": [
           {
            "cells": {
             "fill": {
              "color": "#EBF0F8"
             },
             "line": {
              "color": "white"
             }
            },
            "header": {
             "fill": {
              "color": "#C8D4E3"
             },
             "line": {
              "color": "white"
             }
            },
            "type": "table"
           }
          ]
         },
         "layout": {
          "annotationdefaults": {
           "arrowcolor": "#2a3f5f",
           "arrowhead": 0,
           "arrowwidth": 1
          },
          "autotypenumbers": "strict",
          "coloraxis": {
           "colorbar": {
            "outlinewidth": 0,
            "ticks": ""
           }
          },
          "colorscale": {
           "diverging": [
            [
             0,
             "#8e0152"
            ],
            [
             0.1,
             "#c51b7d"
            ],
            [
             0.2,
             "#de77ae"
            ],
            [
             0.3,
             "#f1b6da"
            ],
            [
             0.4,
             "#fde0ef"
            ],
            [
             0.5,
             "#f7f7f7"
            ],
            [
             0.6,
             "#e6f5d0"
            ],
            [
             0.7,
             "#b8e186"
            ],
            [
             0.8,
             "#7fbc41"
            ],
            [
             0.9,
             "#4d9221"
            ],
            [
             1,
             "#276419"
            ]
           ],
           "sequential": [
            [
             0,
             "#0d0887"
            ],
            [
             0.1111111111111111,
             "#46039f"
            ],
            [
             0.2222222222222222,
             "#7201a8"
            ],
            [
             0.3333333333333333,
             "#9c179e"
            ],
            [
             0.4444444444444444,
             "#bd3786"
            ],
            [
             0.5555555555555556,
             "#d8576b"
            ],
            [
             0.6666666666666666,
             "#ed7953"
            ],
            [
             0.7777777777777778,
             "#fb9f3a"
            ],
            [
             0.8888888888888888,
             "#fdca26"
            ],
            [
             1,
             "#f0f921"
            ]
           ],
           "sequentialminus": [
            [
             0,
             "#0d0887"
            ],
            [
             0.1111111111111111,
             "#46039f"
            ],
            [
             0.2222222222222222,
             "#7201a8"
            ],
            [
             0.3333333333333333,
             "#9c179e"
            ],
            [
             0.4444444444444444,
             "#bd3786"
            ],
            [
             0.5555555555555556,
             "#d8576b"
            ],
            [
             0.6666666666666666,
             "#ed7953"
            ],
            [
             0.7777777777777778,
             "#fb9f3a"
            ],
            [
             0.8888888888888888,
             "#fdca26"
            ],
            [
             1,
             "#f0f921"
            ]
           ]
          },
          "colorway": [
           "#636efa",
           "#EF553B",
           "#00cc96",
           "#ab63fa",
           "#FFA15A",
           "#19d3f3",
           "#FF6692",
           "#B6E880",
           "#FF97FF",
           "#FECB52"
          ],
          "font": {
           "color": "#2a3f5f"
          },
          "geo": {
           "bgcolor": "white",
           "lakecolor": "white",
           "landcolor": "#E5ECF6",
           "showlakes": true,
           "showland": true,
           "subunitcolor": "white"
          },
          "hoverlabel": {
           "align": "left"
          },
          "hovermode": "closest",
          "mapbox": {
           "style": "light"
          },
          "paper_bgcolor": "white",
          "plot_bgcolor": "#E5ECF6",
          "polar": {
           "angularaxis": {
            "gridcolor": "white",
            "linecolor": "white",
            "ticks": ""
           },
           "bgcolor": "#E5ECF6",
           "radialaxis": {
            "gridcolor": "white",
            "linecolor": "white",
            "ticks": ""
           }
          },
          "scene": {
           "xaxis": {
            "backgroundcolor": "#E5ECF6",
            "gridcolor": "white",
            "gridwidth": 2,
            "linecolor": "white",
            "showbackground": true,
            "ticks": "",
            "zerolinecolor": "white"
           },
           "yaxis": {
            "backgroundcolor": "#E5ECF6",
            "gridcolor": "white",
            "gridwidth": 2,
            "linecolor": "white",
            "showbackground": true,
            "ticks": "",
            "zerolinecolor": "white"
           },
           "zaxis": {
            "backgroundcolor": "#E5ECF6",
            "gridcolor": "white",
            "gridwidth": 2,
            "linecolor": "white",
            "showbackground": true,
            "ticks": "",
            "zerolinecolor": "white"
           }
          },
          "shapedefaults": {
           "line": {
            "color": "#2a3f5f"
           }
          },
          "ternary": {
           "aaxis": {
            "gridcolor": "white",
            "linecolor": "white",
            "ticks": ""
           },
           "baxis": {
            "gridcolor": "white",
            "linecolor": "white",
            "ticks": ""
           },
           "bgcolor": "#E5ECF6",
           "caxis": {
            "gridcolor": "white",
            "linecolor": "white",
            "ticks": ""
           }
          },
          "title": {
           "x": 0.05
          },
          "xaxis": {
           "automargin": true,
           "gridcolor": "white",
           "linecolor": "white",
           "ticks": "",
           "title": {
            "standoff": 15
           },
           "zerolinecolor": "white",
           "zerolinewidth": 2
          },
          "yaxis": {
           "automargin": true,
           "gridcolor": "white",
           "linecolor": "white",
           "ticks": "",
           "title": {
            "standoff": 15
           },
           "zerolinecolor": "white",
           "zerolinewidth": 2
          }
         }
        },
        "title": {
         "font": {
          "color": "black",
          "family": "Helvetica Neue",
          "size": 18
         },
         "text": "Are there any additional elements in the image? (e.g., drinks, side dishes, condiments)",
         "x": 0.5,
         "xanchor": "center",
         "y": 0.9,
         "yanchor": "top"
        },
        "width": 1200,
        "xaxis": {
         "anchor": "y",
         "categoryarray": [
          "Yes, drinks",
          "Yes, side dishes",
          "Yes, condiments",
          "Yes, multiple elements",
          "No, just the main dish"
         ],
         "categoryorder": "array",
         "domain": [
          0,
          0.3
         ],
         "linecolor": "grey",
         "linewidth": 2,
         "mirror": true,
         "showline": true,
         "ticktext": [
          "Yes, drinks",
          "Yes, side dishes",
          "Yes, condiments",
          "Yes, multiple elements",
          "No, just the main dish"
         ],
         "tickvals": [
          "Yes, drinks",
          "Yes, side dishes",
          "Yes, condiments",
          "Yes, multiple elements",
          "No, just the main dish"
         ]
        },
        "xaxis2": {
         "anchor": "y2",
         "categoryarray": [
          "Yes, drinks",
          "Yes, side dishes",
          "Yes, condiments",
          "Yes, multiple elements",
          "No, just the main dish"
         ],
         "categoryorder": "array",
         "domain": [
          0.35,
          0.6499999999999999
         ],
         "linecolor": "grey",
         "linewidth": 2,
         "mirror": true,
         "showline": true,
         "ticktext": [
          "Yes, drinks",
          "Yes, side dishes",
          "Yes, condiments",
          "Yes, multiple elements",
          "No, just the main dish"
         ],
         "tickvals": [
          "Yes, drinks",
          "Yes, side dishes",
          "Yes, condiments",
          "Yes, multiple elements",
          "No, just the main dish"
         ]
        },
        "xaxis3": {
         "anchor": "y3",
         "categoryarray": [
          "Yes, drinks",
          "Yes, side dishes",
          "Yes, condiments",
          "Yes, multiple elements",
          "No, just the main dish"
         ],
         "categoryorder": "array",
         "domain": [
          0.7,
          1
         ],
         "linecolor": "grey",
         "linewidth": 2,
         "mirror": true,
         "showline": true,
         "ticktext": [
          "Yes, drinks",
          "Yes, side dishes",
          "Yes, condiments",
          "Yes, multiple elements",
          "No, just the main dish"
         ],
         "tickvals": [
          "Yes, drinks",
          "Yes, side dishes",
          "Yes, condiments",
          "Yes, multiple elements",
          "No, just the main dish"
         ]
        },
        "yaxis": {
         "anchor": "x",
         "domain": [
          0,
          1
         ],
         "linecolor": "grey",
         "linewidth": 2,
         "mirror": true,
         "showline": true,
         "title": {
          "text": "Proportion of Images (%)"
         }
        },
        "yaxis2": {
         "anchor": "x2",
         "domain": [
          0,
          1
         ],
         "linecolor": "grey",
         "linewidth": 2,
         "matches": "y",
         "mirror": true,
         "showline": true,
         "showticklabels": false
        },
        "yaxis3": {
         "anchor": "x3",
         "domain": [
          0,
          1
         ],
         "linecolor": "grey",
         "linewidth": 2,
         "matches": "y",
         "mirror": true,
         "showline": true,
         "showticklabels": false
        }
       }
      },
      "text/html": [
       "<div>                            <div id=\"707c6f8a-b8cb-4fd0-9254-90d1a710d3b2\" class=\"plotly-graph-div\" style=\"height:400px; width:1200px;\"></div>            <script type=\"text/javascript\">                require([\"plotly\"], function(Plotly) {                    window.PLOTLYENV=window.PLOTLYENV || {};                                    if (document.getElementById(\"707c6f8a-b8cb-4fd0-9254-90d1a710d3b2\")) {                    Plotly.newPlot(                        \"707c6f8a-b8cb-4fd0-9254-90d1a710d3b2\",                        [{\"legendgroup\":\"Algeria\",\"marker\":{\"color\":\"#41cc96\"},\"name\":\"Algeria\",\"showlegend\":true,\"x\":[\"Yes, drinks\",\"Yes, side dishes\",\"Yes, condiments\",\"Yes, multiple elements\",\"No, just the main dish\"],\"y\":[0.0,0.0,22.666666666666664,50.0,27.333333333333332],\"type\":\"bar\",\"xaxis\":\"x\",\"yaxis\":\"y\"},{\"legendgroup\":\"Nigeria\",\"marker\":{\"color\":\"#ef563b\"},\"name\":\"Nigeria\",\"showlegend\":true,\"x\":[\"Yes, drinks\",\"Yes, side dishes\",\"Yes, condiments\",\"Yes, multiple elements\",\"No, just the main dish\"],\"y\":[0.0,0.6666666666666667,23.333333333333332,35.333333333333336,40.666666666666664],\"type\":\"bar\",\"xaxis\":\"x\",\"yaxis\":\"y\"},{\"legendgroup\":\"South Africa\",\"marker\":{\"color\":\"#f7a15b\"},\"name\":\"South Africa\",\"showlegend\":true,\"x\":[\"Yes, drinks\",\"Yes, side dishes\",\"Yes, condiments\",\"Yes, multiple elements\",\"No, just the main dish\"],\"y\":[1.3333333333333335,0.0,36.666666666666664,25.333333333333336,36.666666666666664],\"type\":\"bar\",\"xaxis\":\"x\",\"yaxis\":\"y\"},{\"legendgroup\":\"United States\",\"marker\":{\"color\":\"#47d3f3\"},\"name\":\"United States\",\"showlegend\":true,\"x\":[\"Yes, drinks\",\"Yes, side dishes\",\"Yes, condiments\",\"Yes, multiple elements\",\"No, just the main dish\"],\"y\":[2.666666666666667,0.6666666666666667,15.333333333333332,44.0,37.333333333333336],\"type\":\"bar\",\"xaxis\":\"x\",\"yaxis\":\"y\"},{\"legendgroup\":\"Kenya\",\"marker\":{\"color\":\"#636efb\"},\"name\":\"Kenya\",\"showlegend\":true,\"x\":[\"Yes, drinks\",\"Yes, side dishes\",\"Yes, condiments\",\"Yes, multiple elements\",\"No, just the main dish\"],\"y\":[0.0,0.0,19.230769230769234,41.53846153846154,39.23076923076923],\"type\":\"bar\",\"xaxis\":\"x\",\"yaxis\":\"y\"},{\"legendgroup\":\"Cameroon\",\"marker\":{\"color\":\"#ab63fb\"},\"name\":\"Cameroon\",\"showlegend\":true,\"x\":[\"Yes, drinks\",\"Yes, side dishes\",\"Yes, condiments\",\"Yes, multiple elements\",\"No, just the main dish\"],\"y\":[0.0,0.0,28.000000000000004,44.666666666666664,27.333333333333332],\"type\":\"bar\",\"xaxis\":\"x\",\"yaxis\":\"y\"},{\"legendgroup\":\"Algeria\",\"marker\":{\"color\":\"#41cc96\"},\"name\":\"Algeria\",\"showlegend\":false,\"x\":[\"Yes, drinks\",\"Yes, side dishes\",\"Yes, condiments\",\"Yes, multiple elements\",\"No, just the main dish\"],\"y\":[0.0,0.0,3.3333333333333335,23.333333333333332,73.33333333333333],\"type\":\"bar\",\"xaxis\":\"x2\",\"yaxis\":\"y2\"},{\"legendgroup\":\"Nigeria\",\"marker\":{\"color\":\"#ef563b\"},\"name\":\"Nigeria\",\"showlegend\":false,\"x\":[\"Yes, drinks\",\"Yes, side dishes\",\"Yes, condiments\",\"Yes, multiple elements\",\"No, just the main dish\"],\"y\":[0.0,0.0,2.0,24.0,74.0],\"type\":\"bar\",\"xaxis\":\"x2\",\"yaxis\":\"y2\"},{\"legendgroup\":\"South Africa\",\"marker\":{\"color\":\"#f7a15b\"},\"name\":\"South Africa\",\"showlegend\":false,\"x\":[\"Yes, drinks\",\"Yes, side dishes\",\"Yes, condiments\",\"Yes, multiple elements\",\"No, just the main dish\"],\"y\":[0.0,0.6666666666666667,3.3333333333333335,19.333333333333332,76.66666666666667],\"type\":\"bar\",\"xaxis\":\"x2\",\"yaxis\":\"y2\"},{\"legendgroup\":\"United States\",\"marker\":{\"color\":\"#47d3f3\"},\"name\":\"United States\",\"showlegend\":false,\"x\":[\"Yes, drinks\",\"Yes, side dishes\",\"Yes, condiments\",\"Yes, multiple elements\",\"No, just the main dish\"],\"y\":[2.666666666666667,0.0,2.0,14.666666666666666,80.66666666666666],\"type\":\"bar\",\"xaxis\":\"x2\",\"yaxis\":\"y2\"},{\"legendgroup\":\"Kenya\",\"marker\":{\"color\":\"#636efb\"},\"name\":\"Kenya\",\"showlegend\":false,\"x\":[\"Yes, drinks\",\"Yes, side dishes\",\"Yes, condiments\",\"Yes, multiple elements\",\"No, just the main dish\"],\"y\":[0.0,0.0,3.4246575342465753,30.136986301369863,66.43835616438356],\"type\":\"bar\",\"xaxis\":\"x2\",\"yaxis\":\"y2\"},{\"legendgroup\":\"Cameroon\",\"marker\":{\"color\":\"#ab63fb\"},\"name\":\"Cameroon\",\"showlegend\":false,\"x\":[\"Yes, drinks\",\"Yes, side dishes\",\"Yes, condiments\",\"Yes, multiple elements\",\"No, just the main dish\"],\"y\":[0.0,0.625,2.5,19.375,77.5],\"type\":\"bar\",\"xaxis\":\"x2\",\"yaxis\":\"y2\"},{\"legendgroup\":\"Algeria\",\"marker\":{\"color\":\"#41cc96\"},\"name\":\"Algeria\",\"showlegend\":false,\"x\":[\"Yes, drinks\",\"Yes, side dishes\",\"Yes, condiments\",\"Yes, multiple elements\",\"No, just the main dish\"],\"y\":[0.0,0.0,0.6666666666666667,4.0,95.33333333333334],\"type\":\"bar\",\"xaxis\":\"x3\",\"yaxis\":\"y3\"},{\"legendgroup\":\"Nigeria\",\"marker\":{\"color\":\"#ef563b\"},\"name\":\"Nigeria\",\"showlegend\":false,\"x\":[\"Yes, drinks\",\"Yes, side dishes\",\"Yes, condiments\",\"Yes, multiple elements\",\"No, just the main dish\"],\"y\":[0.0,0.0,0.0,0.0,0.0],\"type\":\"bar\",\"xaxis\":\"x3\",\"yaxis\":\"y3\"},{\"legendgroup\":\"South Africa\",\"marker\":{\"color\":\"#f7a15b\"},\"name\":\"South Africa\",\"showlegend\":false,\"x\":[\"Yes, drinks\",\"Yes, side dishes\",\"Yes, condiments\",\"Yes, multiple elements\",\"No, just the main dish\"],\"y\":[0.6578947368421052,1.9736842105263157,1.9736842105263157,9.210526315789473,86.18421052631578],\"type\":\"bar\",\"xaxis\":\"x3\",\"yaxis\":\"y3\"},{\"legendgroup\":\"United States\",\"marker\":{\"color\":\"#47d3f3\"},\"name\":\"United States\",\"showlegend\":false,\"x\":[\"Yes, drinks\",\"Yes, side dishes\",\"Yes, condiments\",\"Yes, multiple elements\",\"No, just the main dish\"],\"y\":[4.0,0.6666666666666667,0.6666666666666667,1.3333333333333335,93.33333333333333],\"type\":\"bar\",\"xaxis\":\"x3\",\"yaxis\":\"y3\"},{\"legendgroup\":\"Kenya\",\"marker\":{\"color\":\"#636efb\"},\"name\":\"Kenya\",\"showlegend\":false,\"x\":[\"Yes, drinks\",\"Yes, side dishes\",\"Yes, condiments\",\"Yes, multiple elements\",\"No, just the main dish\"],\"y\":[1.5384615384615385,0.0,1.5384615384615385,2.307692307692308,94.61538461538461],\"type\":\"bar\",\"xaxis\":\"x3\",\"yaxis\":\"y3\"},{\"legendgroup\":\"Cameroon\",\"marker\":{\"color\":\"#ab63fb\"},\"name\":\"Cameroon\",\"showlegend\":false,\"x\":[\"Yes, drinks\",\"Yes, side dishes\",\"Yes, condiments\",\"Yes, multiple elements\",\"No, just the main dish\"],\"y\":[0.0,0.0,1.3793103448275863,2.0689655172413794,96.55172413793103],\"type\":\"bar\",\"xaxis\":\"x3\",\"yaxis\":\"y3\"}],                        {\"template\":{\"data\":{\"histogram2dcontour\":[{\"type\":\"histogram2dcontour\",\"colorbar\":{\"outlinewidth\":0,\"ticks\":\"\"},\"colorscale\":[[0.0,\"#0d0887\"],[0.1111111111111111,\"#46039f\"],[0.2222222222222222,\"#7201a8\"],[0.3333333333333333,\"#9c179e\"],[0.4444444444444444,\"#bd3786\"],[0.5555555555555556,\"#d8576b\"],[0.6666666666666666,\"#ed7953\"],[0.7777777777777778,\"#fb9f3a\"],[0.8888888888888888,\"#fdca26\"],[1.0,\"#f0f921\"]]}],\"choropleth\":[{\"type\":\"choropleth\",\"colorbar\":{\"outlinewidth\":0,\"ticks\":\"\"}}],\"histogram2d\":[{\"type\":\"histogram2d\",\"colorbar\":{\"outlinewidth\":0,\"ticks\":\"\"},\"colorscale\":[[0.0,\"#0d0887\"],[0.1111111111111111,\"#46039f\"],[0.2222222222222222,\"#7201a8\"],[0.3333333333333333,\"#9c179e\"],[0.4444444444444444,\"#bd3786\"],[0.5555555555555556,\"#d8576b\"],[0.6666666666666666,\"#ed7953\"],[0.7777777777777778,\"#fb9f3a\"],[0.8888888888888888,\"#fdca26\"],[1.0,\"#f0f921\"]]}],\"heatmap\":[{\"type\":\"heatmap\",\"colorbar\":{\"outlinewidth\":0,\"ticks\":\"\"},\"colorscale\":[[0.0,\"#0d0887\"],[0.1111111111111111,\"#46039f\"],[0.2222222222222222,\"#7201a8\"],[0.3333333333333333,\"#9c179e\"],[0.4444444444444444,\"#bd3786\"],[0.5555555555555556,\"#d8576b\"],[0.6666666666666666,\"#ed7953\"],[0.7777777777777778,\"#fb9f3a\"],[0.8888888888888888,\"#fdca26\"],[1.0,\"#f0f921\"]]}],\"heatmapgl\":[{\"type\":\"heatmapgl\",\"colorbar\":{\"outlinewidth\":0,\"ticks\":\"\"},\"colorscale\":[[0.0,\"#0d0887\"],[0.1111111111111111,\"#46039f\"],[0.2222222222222222,\"#7201a8\"],[0.3333333333333333,\"#9c179e\"],[0.4444444444444444,\"#bd3786\"],[0.5555555555555556,\"#d8576b\"],[0.6666666666666666,\"#ed7953\"],[0.7777777777777778,\"#fb9f3a\"],[0.8888888888888888,\"#fdca26\"],[1.0,\"#f0f921\"]]}],\"contourcarpet\":[{\"type\":\"contourcarpet\",\"colorbar\":{\"outlinewidth\":0,\"ticks\":\"\"}}],\"contour\":[{\"type\":\"contour\",\"colorbar\":{\"outlinewidth\":0,\"ticks\":\"\"},\"colorscale\":[[0.0,\"#0d0887\"],[0.1111111111111111,\"#46039f\"],[0.2222222222222222,\"#7201a8\"],[0.3333333333333333,\"#9c179e\"],[0.4444444444444444,\"#bd3786\"],[0.5555555555555556,\"#d8576b\"],[0.6666666666666666,\"#ed7953\"],[0.7777777777777778,\"#fb9f3a\"],[0.8888888888888888,\"#fdca26\"],[1.0,\"#f0f921\"]]}],\"surface\":[{\"type\":\"surface\",\"colorbar\":{\"outlinewidth\":0,\"ticks\":\"\"},\"colorscale\":[[0.0,\"#0d0887\"],[0.1111111111111111,\"#46039f\"],[0.2222222222222222,\"#7201a8\"],[0.3333333333333333,\"#9c179e\"],[0.4444444444444444,\"#bd3786\"],[0.5555555555555556,\"#d8576b\"],[0.6666666666666666,\"#ed7953\"],[0.7777777777777778,\"#fb9f3a\"],[0.8888888888888888,\"#fdca26\"],[1.0,\"#f0f921\"]]}],\"mesh3d\":[{\"type\":\"mesh3d\",\"colorbar\":{\"outlinewidth\":0,\"ticks\":\"\"}}],\"scatter\":[{\"fillpattern\":{\"fillmode\":\"overlay\",\"size\":10,\"solidity\":0.2},\"type\":\"scatter\"}],\"parcoords\":[{\"type\":\"parcoords\",\"line\":{\"colorbar\":{\"outlinewidth\":0,\"ticks\":\"\"}}}],\"scatterpolargl\":[{\"type\":\"scatterpolargl\",\"marker\":{\"colorbar\":{\"outlinewidth\":0,\"ticks\":\"\"}}}],\"bar\":[{\"error_x\":{\"color\":\"#2a3f5f\"},\"error_y\":{\"color\":\"#2a3f5f\"},\"marker\":{\"line\":{\"color\":\"#E5ECF6\",\"width\":0.5},\"pattern\":{\"fillmode\":\"overlay\",\"size\":10,\"solidity\":0.2}},\"type\":\"bar\"}],\"scattergeo\":[{\"type\":\"scattergeo\",\"marker\":{\"colorbar\":{\"outlinewidth\":0,\"ticks\":\"\"}}}],\"scatterpolar\":[{\"type\":\"scatterpolar\",\"marker\":{\"colorbar\":{\"outlinewidth\":0,\"ticks\":\"\"}}}],\"histogram\":[{\"marker\":{\"pattern\":{\"fillmode\":\"overlay\",\"size\":10,\"solidity\":0.2}},\"type\":\"histogram\"}],\"scattergl\":[{\"type\":\"scattergl\",\"marker\":{\"colorbar\":{\"outlinewidth\":0,\"ticks\":\"\"}}}],\"scatter3d\":[{\"type\":\"scatter3d\",\"line\":{\"colorbar\":{\"outlinewidth\":0,\"ticks\":\"\"}},\"marker\":{\"colorbar\":{\"outlinewidth\":0,\"ticks\":\"\"}}}],\"scattermapbox\":[{\"type\":\"scattermapbox\",\"marker\":{\"colorbar\":{\"outlinewidth\":0,\"ticks\":\"\"}}}],\"scatterternary\":[{\"type\":\"scatterternary\",\"marker\":{\"colorbar\":{\"outlinewidth\":0,\"ticks\":\"\"}}}],\"scattercarpet\":[{\"type\":\"scattercarpet\",\"marker\":{\"colorbar\":{\"outlinewidth\":0,\"ticks\":\"\"}}}],\"carpet\":[{\"aaxis\":{\"endlinecolor\":\"#2a3f5f\",\"gridcolor\":\"white\",\"linecolor\":\"white\",\"minorgridcolor\":\"white\",\"startlinecolor\":\"#2a3f5f\"},\"baxis\":{\"endlinecolor\":\"#2a3f5f\",\"gridcolor\":\"white\",\"linecolor\":\"white\",\"minorgridcolor\":\"white\",\"startlinecolor\":\"#2a3f5f\"},\"type\":\"carpet\"}],\"table\":[{\"cells\":{\"fill\":{\"color\":\"#EBF0F8\"},\"line\":{\"color\":\"white\"}},\"header\":{\"fill\":{\"color\":\"#C8D4E3\"},\"line\":{\"color\":\"white\"}},\"type\":\"table\"}],\"barpolar\":[{\"marker\":{\"line\":{\"color\":\"#E5ECF6\",\"width\":0.5},\"pattern\":{\"fillmode\":\"overlay\",\"size\":10,\"solidity\":0.2}},\"type\":\"barpolar\"}],\"pie\":[{\"automargin\":true,\"type\":\"pie\"}]},\"layout\":{\"autotypenumbers\":\"strict\",\"colorway\":[\"#636efa\",\"#EF553B\",\"#00cc96\",\"#ab63fa\",\"#FFA15A\",\"#19d3f3\",\"#FF6692\",\"#B6E880\",\"#FF97FF\",\"#FECB52\"],\"font\":{\"color\":\"#2a3f5f\"},\"hovermode\":\"closest\",\"hoverlabel\":{\"align\":\"left\"},\"paper_bgcolor\":\"white\",\"plot_bgcolor\":\"#E5ECF6\",\"polar\":{\"bgcolor\":\"#E5ECF6\",\"angularaxis\":{\"gridcolor\":\"white\",\"linecolor\":\"white\",\"ticks\":\"\"},\"radialaxis\":{\"gridcolor\":\"white\",\"linecolor\":\"white\",\"ticks\":\"\"}},\"ternary\":{\"bgcolor\":\"#E5ECF6\",\"aaxis\":{\"gridcolor\":\"white\",\"linecolor\":\"white\",\"ticks\":\"\"},\"baxis\":{\"gridcolor\":\"white\",\"linecolor\":\"white\",\"ticks\":\"\"},\"caxis\":{\"gridcolor\":\"white\",\"linecolor\":\"white\",\"ticks\":\"\"}},\"coloraxis\":{\"colorbar\":{\"outlinewidth\":0,\"ticks\":\"\"}},\"colorscale\":{\"sequential\":[[0.0,\"#0d0887\"],[0.1111111111111111,\"#46039f\"],[0.2222222222222222,\"#7201a8\"],[0.3333333333333333,\"#9c179e\"],[0.4444444444444444,\"#bd3786\"],[0.5555555555555556,\"#d8576b\"],[0.6666666666666666,\"#ed7953\"],[0.7777777777777778,\"#fb9f3a\"],[0.8888888888888888,\"#fdca26\"],[1.0,\"#f0f921\"]],\"sequentialminus\":[[0.0,\"#0d0887\"],[0.1111111111111111,\"#46039f\"],[0.2222222222222222,\"#7201a8\"],[0.3333333333333333,\"#9c179e\"],[0.4444444444444444,\"#bd3786\"],[0.5555555555555556,\"#d8576b\"],[0.6666666666666666,\"#ed7953\"],[0.7777777777777778,\"#fb9f3a\"],[0.8888888888888888,\"#fdca26\"],[1.0,\"#f0f921\"]],\"diverging\":[[0,\"#8e0152\"],[0.1,\"#c51b7d\"],[0.2,\"#de77ae\"],[0.3,\"#f1b6da\"],[0.4,\"#fde0ef\"],[0.5,\"#f7f7f7\"],[0.6,\"#e6f5d0\"],[0.7,\"#b8e186\"],[0.8,\"#7fbc41\"],[0.9,\"#4d9221\"],[1,\"#276419\"]]},\"xaxis\":{\"gridcolor\":\"white\",\"linecolor\":\"white\",\"ticks\":\"\",\"title\":{\"standoff\":15},\"zerolinecolor\":\"white\",\"automargin\":true,\"zerolinewidth\":2},\"yaxis\":{\"gridcolor\":\"white\",\"linecolor\":\"white\",\"ticks\":\"\",\"title\":{\"standoff\":15},\"zerolinecolor\":\"white\",\"automargin\":true,\"zerolinewidth\":2},\"scene\":{\"xaxis\":{\"backgroundcolor\":\"#E5ECF6\",\"gridcolor\":\"white\",\"linecolor\":\"white\",\"showbackground\":true,\"ticks\":\"\",\"zerolinecolor\":\"white\",\"gridwidth\":2},\"yaxis\":{\"backgroundcolor\":\"#E5ECF6\",\"gridcolor\":\"white\",\"linecolor\":\"white\",\"showbackground\":true,\"ticks\":\"\",\"zerolinecolor\":\"white\",\"gridwidth\":2},\"zaxis\":{\"backgroundcolor\":\"#E5ECF6\",\"gridcolor\":\"white\",\"linecolor\":\"white\",\"showbackground\":true,\"ticks\":\"\",\"zerolinecolor\":\"white\",\"gridwidth\":2}},\"shapedefaults\":{\"line\":{\"color\":\"#2a3f5f\"}},\"annotationdefaults\":{\"arrowcolor\":\"#2a3f5f\",\"arrowhead\":0,\"arrowwidth\":1},\"geo\":{\"bgcolor\":\"white\",\"landcolor\":\"#E5ECF6\",\"subunitcolor\":\"white\",\"showland\":true,\"showlakes\":true,\"lakecolor\":\"white\"},\"title\":{\"x\":0.05},\"mapbox\":{\"style\":\"light\"}}},\"xaxis\":{\"anchor\":\"y\",\"domain\":[0.0,0.3],\"tickvals\":[\"Yes, drinks\",\"Yes, side dishes\",\"Yes, condiments\",\"Yes, multiple elements\",\"No, just the main dish\"],\"ticktext\":[\"Yes, drinks\",\"Yes, side dishes\",\"Yes, condiments\",\"Yes, multiple elements\",\"No, just the main dish\"],\"categoryorder\":\"array\",\"categoryarray\":[\"Yes, drinks\",\"Yes, side dishes\",\"Yes, condiments\",\"Yes, multiple elements\",\"No, just the main dish\"],\"showline\":true,\"linewidth\":2,\"linecolor\":\"grey\",\"mirror\":true},\"yaxis\":{\"anchor\":\"x\",\"domain\":[0.0,1.0],\"title\":{\"text\":\"Proportion of Images (%)\"},\"showline\":true,\"linewidth\":2,\"linecolor\":\"grey\",\"mirror\":true},\"xaxis2\":{\"anchor\":\"y2\",\"domain\":[0.35,0.6499999999999999],\"tickvals\":[\"Yes, drinks\",\"Yes, side dishes\",\"Yes, condiments\",\"Yes, multiple elements\",\"No, just the main dish\"],\"ticktext\":[\"Yes, drinks\",\"Yes, side dishes\",\"Yes, condiments\",\"Yes, multiple elements\",\"No, just the main dish\"],\"categoryorder\":\"array\",\"categoryarray\":[\"Yes, drinks\",\"Yes, side dishes\",\"Yes, condiments\",\"Yes, multiple elements\",\"No, just the main dish\"],\"showline\":true,\"linewidth\":2,\"linecolor\":\"grey\",\"mirror\":true},\"yaxis2\":{\"anchor\":\"x2\",\"domain\":[0.0,1.0],\"matches\":\"y\",\"showticklabels\":false,\"showline\":true,\"linewidth\":2,\"linecolor\":\"grey\",\"mirror\":true},\"xaxis3\":{\"anchor\":\"y3\",\"domain\":[0.7,1.0],\"tickvals\":[\"Yes, drinks\",\"Yes, side dishes\",\"Yes, condiments\",\"Yes, multiple elements\",\"No, just the main dish\"],\"ticktext\":[\"Yes, drinks\",\"Yes, side dishes\",\"Yes, condiments\",\"Yes, multiple elements\",\"No, just the main dish\"],\"categoryorder\":\"array\",\"categoryarray\":[\"Yes, drinks\",\"Yes, side dishes\",\"Yes, condiments\",\"Yes, multiple elements\",\"No, just the main dish\"],\"showline\":true,\"linewidth\":2,\"linecolor\":\"grey\",\"mirror\":true},\"yaxis3\":{\"anchor\":\"x3\",\"domain\":[0.0,1.0],\"matches\":\"y\",\"showticklabels\":false,\"showline\":true,\"linewidth\":2,\"linecolor\":\"grey\",\"mirror\":true},\"annotations\":[{\"font\":{\"size\":16},\"showarrow\":false,\"text\":\"Dall-E 3\",\"x\":0.15,\"xanchor\":\"center\",\"xref\":\"paper\",\"y\":1.0,\"yanchor\":\"bottom\",\"yref\":\"paper\"},{\"font\":{\"size\":16},\"showarrow\":false,\"text\":\"Stable Diffusion 2.1\",\"x\":0.49999999999999994,\"xanchor\":\"center\",\"xref\":\"paper\",\"y\":1.0,\"yanchor\":\"bottom\",\"yref\":\"paper\"},{\"font\":{\"size\":16},\"showarrow\":false,\"text\":\"Dall-E 2\",\"x\":0.85,\"xanchor\":\"center\",\"xref\":\"paper\",\"y\":1.0,\"yanchor\":\"bottom\",\"yref\":\"paper\"}],\"legend\":{\"title\":{\"text\":\"Country\"},\"orientation\":\"v\",\"yanchor\":\"top\",\"y\":1,\"xanchor\":\"right\",\"x\":1.15,\"itemwidth\":30,\"itemsizing\":\"constant\",\"traceorder\":\"normal\",\"bordercolor\":\"grey\",\"borderwidth\":1},\"title\":{\"font\":{\"family\":\"Helvetica Neue\",\"size\":18,\"color\":\"black\"},\"text\":\"Are there any additional elements in the image? (e.g., drinks, side dishes, condiments)\",\"y\":0.9,\"x\":0.5,\"xanchor\":\"center\",\"yanchor\":\"top\"},\"font\":{\"family\":\"Helvetica Neue\",\"size\":12},\"plot_bgcolor\":\"white\",\"barmode\":\"group\",\"width\":1200,\"height\":400},                        {\"responsive\": true}                    ).then(function(){\n",
       "                            \n",
       "var gd = document.getElementById('707c6f8a-b8cb-4fd0-9254-90d1a710d3b2');\n",
       "var x = new MutationObserver(function (mutations, observer) {{\n",
       "        var display = window.getComputedStyle(gd).display;\n",
       "        if (!display || display === 'none') {{\n",
       "            console.log([gd, 'removed!']);\n",
       "            Plotly.purge(gd);\n",
       "            observer.disconnect();\n",
       "        }}\n",
       "}});\n",
       "\n",
       "// Listen for the removal of the full notebook cells\n",
       "var notebookContainer = gd.closest('#notebook-container');\n",
       "if (notebookContainer) {{\n",
       "    x.observe(notebookContainer, {childList: true});\n",
       "}}\n",
       "\n",
       "// Listen for the clearing of the current output cell\n",
       "var outputEl = gd.closest('.output');\n",
       "if (outputEl) {{\n",
       "    x.observe(outputEl, {childList: true});\n",
       "}}\n",
       "\n",
       "                        })                };                });            </script>        </div>"
      ]
     },
     "metadata": {},
     "output_type": "display_data"
    },
    {
     "data": {
      "application/vnd.plotly.v1+json": {
       "config": {
        "plotlyServerURL": "https://plot.ly"
       },
       "data": [
        {
         "legendgroup": "Algeria",
         "marker": {
          "color": "#41cc96"
         },
         "name": "Algeria",
         "showlegend": true,
         "type": "bar",
         "x": [
          "Yes",
          "No"
         ],
         "xaxis": "x",
         "y": [
          68,
          32
         ],
         "yaxis": "y"
        },
        {
         "legendgroup": "Nigeria",
         "marker": {
          "color": "#ef563b"
         },
         "name": "Nigeria",
         "showlegend": true,
         "type": "bar",
         "x": [
          "Yes",
          "No"
         ],
         "xaxis": "x",
         "y": [
          64,
          36
         ],
         "yaxis": "y"
        },
        {
         "legendgroup": "South Africa",
         "marker": {
          "color": "#f7a15b"
         },
         "name": "South Africa",
         "showlegend": true,
         "type": "bar",
         "x": [
          "Yes",
          "No"
         ],
         "xaxis": "x",
         "y": [
          72.66666666666667,
          27.333333333333332
         ],
         "yaxis": "y"
        },
        {
         "legendgroup": "United States",
         "marker": {
          "color": "#47d3f3"
         },
         "name": "United States",
         "showlegend": true,
         "type": "bar",
         "x": [
          "Yes",
          "No"
         ],
         "xaxis": "x",
         "y": [
          64.66666666666666,
          35.333333333333336
         ],
         "yaxis": "y"
        },
        {
         "legendgroup": "Kenya",
         "marker": {
          "color": "#636efb"
         },
         "name": "Kenya",
         "showlegend": true,
         "type": "bar",
         "x": [
          "Yes",
          "No"
         ],
         "xaxis": "x",
         "y": [
          60,
          40
         ],
         "yaxis": "y"
        },
        {
         "legendgroup": "Cameroon",
         "marker": {
          "color": "#ab63fb"
         },
         "name": "Cameroon",
         "showlegend": true,
         "type": "bar",
         "x": [
          "Yes",
          "No"
         ],
         "xaxis": "x",
         "y": [
          82,
          18
         ],
         "yaxis": "y"
        },
        {
         "legendgroup": "Algeria",
         "marker": {
          "color": "#41cc96"
         },
         "name": "Algeria",
         "showlegend": false,
         "type": "bar",
         "x": [
          "Yes",
          "No"
         ],
         "xaxis": "x2",
         "y": [
          20.666666666666668,
          79.33333333333333
         ],
         "yaxis": "y2"
        },
        {
         "legendgroup": "Nigeria",
         "marker": {
          "color": "#ef563b"
         },
         "name": "Nigeria",
         "showlegend": false,
         "type": "bar",
         "x": [
          "Yes",
          "No"
         ],
         "xaxis": "x2",
         "y": [
          28.666666666666668,
          71.33333333333334
         ],
         "yaxis": "y2"
        },
        {
         "legendgroup": "South Africa",
         "marker": {
          "color": "#f7a15b"
         },
         "name": "South Africa",
         "showlegend": false,
         "type": "bar",
         "x": [
          "Yes",
          "No"
         ],
         "xaxis": "x2",
         "y": [
          40.666666666666664,
          59.333333333333336
         ],
         "yaxis": "y2"
        },
        {
         "legendgroup": "United States",
         "marker": {
          "color": "#47d3f3"
         },
         "name": "United States",
         "showlegend": false,
         "type": "bar",
         "x": [
          "Yes",
          "No"
         ],
         "xaxis": "x2",
         "y": [
          40.666666666666664,
          59.333333333333336
         ],
         "yaxis": "y2"
        },
        {
         "legendgroup": "Kenya",
         "marker": {
          "color": "#636efb"
         },
         "name": "Kenya",
         "showlegend": false,
         "type": "bar",
         "x": [
          "Yes",
          "No"
         ],
         "xaxis": "x2",
         "y": [
          32.87671232876712,
          67.12328767123287
         ],
         "yaxis": "y2"
        },
        {
         "legendgroup": "Cameroon",
         "marker": {
          "color": "#ab63fb"
         },
         "name": "Cameroon",
         "showlegend": false,
         "type": "bar",
         "x": [
          "Yes",
          "No"
         ],
         "xaxis": "x2",
         "y": [
          26.25,
          73.75
         ],
         "yaxis": "y2"
        },
        {
         "legendgroup": "Algeria",
         "marker": {
          "color": "#41cc96"
         },
         "name": "Algeria",
         "showlegend": false,
         "type": "bar",
         "x": [
          "Yes",
          "No"
         ],
         "xaxis": "x3",
         "y": [
          10.666666666666668,
          89.33333333333333
         ],
         "yaxis": "y3"
        },
        {
         "legendgroup": "Nigeria",
         "marker": {
          "color": "#ef563b"
         },
         "name": "Nigeria",
         "showlegend": false,
         "type": "bar",
         "x": [
          "Yes",
          "No"
         ],
         "xaxis": "x3",
         "y": [
          0,
          0
         ],
         "yaxis": "y3"
        },
        {
         "legendgroup": "South Africa",
         "marker": {
          "color": "#f7a15b"
         },
         "name": "South Africa",
         "showlegend": false,
         "type": "bar",
         "x": [
          "Yes",
          "No"
         ],
         "xaxis": "x3",
         "y": [
          22.36842105263158,
          77.63157894736842
         ],
         "yaxis": "y3"
        },
        {
         "legendgroup": "United States",
         "marker": {
          "color": "#47d3f3"
         },
         "name": "United States",
         "showlegend": false,
         "type": "bar",
         "x": [
          "Yes",
          "No"
         ],
         "xaxis": "x3",
         "y": [
          22,
          78
         ],
         "yaxis": "y3"
        },
        {
         "legendgroup": "Kenya",
         "marker": {
          "color": "#636efb"
         },
         "name": "Kenya",
         "showlegend": false,
         "type": "bar",
         "x": [
          "Yes",
          "No"
         ],
         "xaxis": "x3",
         "y": [
          20,
          80
         ],
         "yaxis": "y3"
        },
        {
         "legendgroup": "Cameroon",
         "marker": {
          "color": "#ab63fb"
         },
         "name": "Cameroon",
         "showlegend": false,
         "type": "bar",
         "x": [
          "Yes",
          "No"
         ],
         "xaxis": "x3",
         "y": [
          15.862068965517242,
          84.13793103448276
         ],
         "yaxis": "y3"
        }
       ],
       "layout": {
        "annotations": [
         {
          "font": {
           "size": 16
          },
          "showarrow": false,
          "text": "Dall-E 3",
          "x": 0.15,
          "xanchor": "center",
          "xref": "paper",
          "y": 1,
          "yanchor": "bottom",
          "yref": "paper"
         },
         {
          "font": {
           "size": 16
          },
          "showarrow": false,
          "text": "Stable Diffusion 2.1",
          "x": 0.49999999999999994,
          "xanchor": "center",
          "xref": "paper",
          "y": 1,
          "yanchor": "bottom",
          "yref": "paper"
         },
         {
          "font": {
           "size": 16
          },
          "showarrow": false,
          "text": "Dall-E 2",
          "x": 0.85,
          "xanchor": "center",
          "xref": "paper",
          "y": 1,
          "yanchor": "bottom",
          "yref": "paper"
         }
        ],
        "barmode": "group",
        "font": {
         "family": "Helvetica Neue",
         "size": 12
        },
        "height": 400,
        "legend": {
         "bordercolor": "grey",
         "borderwidth": 1,
         "itemsizing": "constant",
         "itemwidth": 30,
         "orientation": "v",
         "title": {
          "text": "Country"
         },
         "traceorder": "normal",
         "x": 1.15,
         "xanchor": "right",
         "y": 1,
         "yanchor": "top"
        },
        "plot_bgcolor": "white",
        "template": {
         "data": {
          "bar": [
           {
            "error_x": {
             "color": "#2a3f5f"
            },
            "error_y": {
             "color": "#2a3f5f"
            },
            "marker": {
             "line": {
              "color": "#E5ECF6",
              "width": 0.5
             },
             "pattern": {
              "fillmode": "overlay",
              "size": 10,
              "solidity": 0.2
             }
            },
            "type": "bar"
           }
          ],
          "barpolar": [
           {
            "marker": {
             "line": {
              "color": "#E5ECF6",
              "width": 0.5
             },
             "pattern": {
              "fillmode": "overlay",
              "size": 10,
              "solidity": 0.2
             }
            },
            "type": "barpolar"
           }
          ],
          "carpet": [
           {
            "aaxis": {
             "endlinecolor": "#2a3f5f",
             "gridcolor": "white",
             "linecolor": "white",
             "minorgridcolor": "white",
             "startlinecolor": "#2a3f5f"
            },
            "baxis": {
             "endlinecolor": "#2a3f5f",
             "gridcolor": "white",
             "linecolor": "white",
             "minorgridcolor": "white",
             "startlinecolor": "#2a3f5f"
            },
            "type": "carpet"
           }
          ],
          "choropleth": [
           {
            "colorbar": {
             "outlinewidth": 0,
             "ticks": ""
            },
            "type": "choropleth"
           }
          ],
          "contour": [
           {
            "colorbar": {
             "outlinewidth": 0,
             "ticks": ""
            },
            "colorscale": [
             [
              0,
              "#0d0887"
             ],
             [
              0.1111111111111111,
              "#46039f"
             ],
             [
              0.2222222222222222,
              "#7201a8"
             ],
             [
              0.3333333333333333,
              "#9c179e"
             ],
             [
              0.4444444444444444,
              "#bd3786"
             ],
             [
              0.5555555555555556,
              "#d8576b"
             ],
             [
              0.6666666666666666,
              "#ed7953"
             ],
             [
              0.7777777777777778,
              "#fb9f3a"
             ],
             [
              0.8888888888888888,
              "#fdca26"
             ],
             [
              1,
              "#f0f921"
             ]
            ],
            "type": "contour"
           }
          ],
          "contourcarpet": [
           {
            "colorbar": {
             "outlinewidth": 0,
             "ticks": ""
            },
            "type": "contourcarpet"
           }
          ],
          "heatmap": [
           {
            "colorbar": {
             "outlinewidth": 0,
             "ticks": ""
            },
            "colorscale": [
             [
              0,
              "#0d0887"
             ],
             [
              0.1111111111111111,
              "#46039f"
             ],
             [
              0.2222222222222222,
              "#7201a8"
             ],
             [
              0.3333333333333333,
              "#9c179e"
             ],
             [
              0.4444444444444444,
              "#bd3786"
             ],
             [
              0.5555555555555556,
              "#d8576b"
             ],
             [
              0.6666666666666666,
              "#ed7953"
             ],
             [
              0.7777777777777778,
              "#fb9f3a"
             ],
             [
              0.8888888888888888,
              "#fdca26"
             ],
             [
              1,
              "#f0f921"
             ]
            ],
            "type": "heatmap"
           }
          ],
          "heatmapgl": [
           {
            "colorbar": {
             "outlinewidth": 0,
             "ticks": ""
            },
            "colorscale": [
             [
              0,
              "#0d0887"
             ],
             [
              0.1111111111111111,
              "#46039f"
             ],
             [
              0.2222222222222222,
              "#7201a8"
             ],
             [
              0.3333333333333333,
              "#9c179e"
             ],
             [
              0.4444444444444444,
              "#bd3786"
             ],
             [
              0.5555555555555556,
              "#d8576b"
             ],
             [
              0.6666666666666666,
              "#ed7953"
             ],
             [
              0.7777777777777778,
              "#fb9f3a"
             ],
             [
              0.8888888888888888,
              "#fdca26"
             ],
             [
              1,
              "#f0f921"
             ]
            ],
            "type": "heatmapgl"
           }
          ],
          "histogram": [
           {
            "marker": {
             "pattern": {
              "fillmode": "overlay",
              "size": 10,
              "solidity": 0.2
             }
            },
            "type": "histogram"
           }
          ],
          "histogram2d": [
           {
            "colorbar": {
             "outlinewidth": 0,
             "ticks": ""
            },
            "colorscale": [
             [
              0,
              "#0d0887"
             ],
             [
              0.1111111111111111,
              "#46039f"
             ],
             [
              0.2222222222222222,
              "#7201a8"
             ],
             [
              0.3333333333333333,
              "#9c179e"
             ],
             [
              0.4444444444444444,
              "#bd3786"
             ],
             [
              0.5555555555555556,
              "#d8576b"
             ],
             [
              0.6666666666666666,
              "#ed7953"
             ],
             [
              0.7777777777777778,
              "#fb9f3a"
             ],
             [
              0.8888888888888888,
              "#fdca26"
             ],
             [
              1,
              "#f0f921"
             ]
            ],
            "type": "histogram2d"
           }
          ],
          "histogram2dcontour": [
           {
            "colorbar": {
             "outlinewidth": 0,
             "ticks": ""
            },
            "colorscale": [
             [
              0,
              "#0d0887"
             ],
             [
              0.1111111111111111,
              "#46039f"
             ],
             [
              0.2222222222222222,
              "#7201a8"
             ],
             [
              0.3333333333333333,
              "#9c179e"
             ],
             [
              0.4444444444444444,
              "#bd3786"
             ],
             [
              0.5555555555555556,
              "#d8576b"
             ],
             [
              0.6666666666666666,
              "#ed7953"
             ],
             [
              0.7777777777777778,
              "#fb9f3a"
             ],
             [
              0.8888888888888888,
              "#fdca26"
             ],
             [
              1,
              "#f0f921"
             ]
            ],
            "type": "histogram2dcontour"
           }
          ],
          "mesh3d": [
           {
            "colorbar": {
             "outlinewidth": 0,
             "ticks": ""
            },
            "type": "mesh3d"
           }
          ],
          "parcoords": [
           {
            "line": {
             "colorbar": {
              "outlinewidth": 0,
              "ticks": ""
             }
            },
            "type": "parcoords"
           }
          ],
          "pie": [
           {
            "automargin": true,
            "type": "pie"
           }
          ],
          "scatter": [
           {
            "fillpattern": {
             "fillmode": "overlay",
             "size": 10,
             "solidity": 0.2
            },
            "type": "scatter"
           }
          ],
          "scatter3d": [
           {
            "line": {
             "colorbar": {
              "outlinewidth": 0,
              "ticks": ""
             }
            },
            "marker": {
             "colorbar": {
              "outlinewidth": 0,
              "ticks": ""
             }
            },
            "type": "scatter3d"
           }
          ],
          "scattercarpet": [
           {
            "marker": {
             "colorbar": {
              "outlinewidth": 0,
              "ticks": ""
             }
            },
            "type": "scattercarpet"
           }
          ],
          "scattergeo": [
           {
            "marker": {
             "colorbar": {
              "outlinewidth": 0,
              "ticks": ""
             }
            },
            "type": "scattergeo"
           }
          ],
          "scattergl": [
           {
            "marker": {
             "colorbar": {
              "outlinewidth": 0,
              "ticks": ""
             }
            },
            "type": "scattergl"
           }
          ],
          "scattermapbox": [
           {
            "marker": {
             "colorbar": {
              "outlinewidth": 0,
              "ticks": ""
             }
            },
            "type": "scattermapbox"
           }
          ],
          "scatterpolar": [
           {
            "marker": {
             "colorbar": {
              "outlinewidth": 0,
              "ticks": ""
             }
            },
            "type": "scatterpolar"
           }
          ],
          "scatterpolargl": [
           {
            "marker": {
             "colorbar": {
              "outlinewidth": 0,
              "ticks": ""
             }
            },
            "type": "scatterpolargl"
           }
          ],
          "scatterternary": [
           {
            "marker": {
             "colorbar": {
              "outlinewidth": 0,
              "ticks": ""
             }
            },
            "type": "scatterternary"
           }
          ],
          "surface": [
           {
            "colorbar": {
             "outlinewidth": 0,
             "ticks": ""
            },
            "colorscale": [
             [
              0,
              "#0d0887"
             ],
             [
              0.1111111111111111,
              "#46039f"
             ],
             [
              0.2222222222222222,
              "#7201a8"
             ],
             [
              0.3333333333333333,
              "#9c179e"
             ],
             [
              0.4444444444444444,
              "#bd3786"
             ],
             [
              0.5555555555555556,
              "#d8576b"
             ],
             [
              0.6666666666666666,
              "#ed7953"
             ],
             [
              0.7777777777777778,
              "#fb9f3a"
             ],
             [
              0.8888888888888888,
              "#fdca26"
             ],
             [
              1,
              "#f0f921"
             ]
            ],
            "type": "surface"
           }
          ],
          "table": [
           {
            "cells": {
             "fill": {
              "color": "#EBF0F8"
             },
             "line": {
              "color": "white"
             }
            },
            "header": {
             "fill": {
              "color": "#C8D4E3"
             },
             "line": {
              "color": "white"
             }
            },
            "type": "table"
           }
          ]
         },
         "layout": {
          "annotationdefaults": {
           "arrowcolor": "#2a3f5f",
           "arrowhead": 0,
           "arrowwidth": 1
          },
          "autotypenumbers": "strict",
          "coloraxis": {
           "colorbar": {
            "outlinewidth": 0,
            "ticks": ""
           }
          },
          "colorscale": {
           "diverging": [
            [
             0,
             "#8e0152"
            ],
            [
             0.1,
             "#c51b7d"
            ],
            [
             0.2,
             "#de77ae"
            ],
            [
             0.3,
             "#f1b6da"
            ],
            [
             0.4,
             "#fde0ef"
            ],
            [
             0.5,
             "#f7f7f7"
            ],
            [
             0.6,
             "#e6f5d0"
            ],
            [
             0.7,
             "#b8e186"
            ],
            [
             0.8,
             "#7fbc41"
            ],
            [
             0.9,
             "#4d9221"
            ],
            [
             1,
             "#276419"
            ]
           ],
           "sequential": [
            [
             0,
             "#0d0887"
            ],
            [
             0.1111111111111111,
             "#46039f"
            ],
            [
             0.2222222222222222,
             "#7201a8"
            ],
            [
             0.3333333333333333,
             "#9c179e"
            ],
            [
             0.4444444444444444,
             "#bd3786"
            ],
            [
             0.5555555555555556,
             "#d8576b"
            ],
            [
             0.6666666666666666,
             "#ed7953"
            ],
            [
             0.7777777777777778,
             "#fb9f3a"
            ],
            [
             0.8888888888888888,
             "#fdca26"
            ],
            [
             1,
             "#f0f921"
            ]
           ],
           "sequentialminus": [
            [
             0,
             "#0d0887"
            ],
            [
             0.1111111111111111,
             "#46039f"
            ],
            [
             0.2222222222222222,
             "#7201a8"
            ],
            [
             0.3333333333333333,
             "#9c179e"
            ],
            [
             0.4444444444444444,
             "#bd3786"
            ],
            [
             0.5555555555555556,
             "#d8576b"
            ],
            [
             0.6666666666666666,
             "#ed7953"
            ],
            [
             0.7777777777777778,
             "#fb9f3a"
            ],
            [
             0.8888888888888888,
             "#fdca26"
            ],
            [
             1,
             "#f0f921"
            ]
           ]
          },
          "colorway": [
           "#636efa",
           "#EF553B",
           "#00cc96",
           "#ab63fa",
           "#FFA15A",
           "#19d3f3",
           "#FF6692",
           "#B6E880",
           "#FF97FF",
           "#FECB52"
          ],
          "font": {
           "color": "#2a3f5f"
          },
          "geo": {
           "bgcolor": "white",
           "lakecolor": "white",
           "landcolor": "#E5ECF6",
           "showlakes": true,
           "showland": true,
           "subunitcolor": "white"
          },
          "hoverlabel": {
           "align": "left"
          },
          "hovermode": "closest",
          "mapbox": {
           "style": "light"
          },
          "paper_bgcolor": "white",
          "plot_bgcolor": "#E5ECF6",
          "polar": {
           "angularaxis": {
            "gridcolor": "white",
            "linecolor": "white",
            "ticks": ""
           },
           "bgcolor": "#E5ECF6",
           "radialaxis": {
            "gridcolor": "white",
            "linecolor": "white",
            "ticks": ""
           }
          },
          "scene": {
           "xaxis": {
            "backgroundcolor": "#E5ECF6",
            "gridcolor": "white",
            "gridwidth": 2,
            "linecolor": "white",
            "showbackground": true,
            "ticks": "",
            "zerolinecolor": "white"
           },
           "yaxis": {
            "backgroundcolor": "#E5ECF6",
            "gridcolor": "white",
            "gridwidth": 2,
            "linecolor": "white",
            "showbackground": true,
            "ticks": "",
            "zerolinecolor": "white"
           },
           "zaxis": {
            "backgroundcolor": "#E5ECF6",
            "gridcolor": "white",
            "gridwidth": 2,
            "linecolor": "white",
            "showbackground": true,
            "ticks": "",
            "zerolinecolor": "white"
           }
          },
          "shapedefaults": {
           "line": {
            "color": "#2a3f5f"
           }
          },
          "ternary": {
           "aaxis": {
            "gridcolor": "white",
            "linecolor": "white",
            "ticks": ""
           },
           "baxis": {
            "gridcolor": "white",
            "linecolor": "white",
            "ticks": ""
           },
           "bgcolor": "#E5ECF6",
           "caxis": {
            "gridcolor": "white",
            "linecolor": "white",
            "ticks": ""
           }
          },
          "title": {
           "x": 0.05
          },
          "xaxis": {
           "automargin": true,
           "gridcolor": "white",
           "linecolor": "white",
           "ticks": "",
           "title": {
            "standoff": 15
           },
           "zerolinecolor": "white",
           "zerolinewidth": 2
          },
          "yaxis": {
           "automargin": true,
           "gridcolor": "white",
           "linecolor": "white",
           "ticks": "",
           "title": {
            "standoff": 15
           },
           "zerolinecolor": "white",
           "zerolinewidth": 2
          }
         }
        },
        "title": {
         "font": {
          "color": "black",
          "family": "Helvetica Neue",
          "size": 18
         },
         "text": "Are there any utencils shown in this image?",
         "x": 0.5,
         "xanchor": "center",
         "y": 0.9,
         "yanchor": "top"
        },
        "width": 1200,
        "xaxis": {
         "anchor": "y",
         "categoryarray": [
          "Yes",
          "No"
         ],
         "categoryorder": "array",
         "domain": [
          0,
          0.3
         ],
         "linecolor": "grey",
         "linewidth": 2,
         "mirror": true,
         "showline": true,
         "ticktext": [
          "Yes",
          "No"
         ],
         "tickvals": [
          "Yes",
          "No"
         ]
        },
        "xaxis2": {
         "anchor": "y2",
         "categoryarray": [
          "Yes",
          "No"
         ],
         "categoryorder": "array",
         "domain": [
          0.35,
          0.6499999999999999
         ],
         "linecolor": "grey",
         "linewidth": 2,
         "mirror": true,
         "showline": true,
         "ticktext": [
          "Yes",
          "No"
         ],
         "tickvals": [
          "Yes",
          "No"
         ]
        },
        "xaxis3": {
         "anchor": "y3",
         "categoryarray": [
          "Yes",
          "No"
         ],
         "categoryorder": "array",
         "domain": [
          0.7,
          1
         ],
         "linecolor": "grey",
         "linewidth": 2,
         "mirror": true,
         "showline": true,
         "ticktext": [
          "Yes",
          "No"
         ],
         "tickvals": [
          "Yes",
          "No"
         ]
        },
        "yaxis": {
         "anchor": "x",
         "domain": [
          0,
          1
         ],
         "linecolor": "grey",
         "linewidth": 2,
         "mirror": true,
         "showline": true,
         "title": {
          "text": "Proportion of Images (%)"
         }
        },
        "yaxis2": {
         "anchor": "x2",
         "domain": [
          0,
          1
         ],
         "linecolor": "grey",
         "linewidth": 2,
         "matches": "y",
         "mirror": true,
         "showline": true,
         "showticklabels": false
        },
        "yaxis3": {
         "anchor": "x3",
         "domain": [
          0,
          1
         ],
         "linecolor": "grey",
         "linewidth": 2,
         "matches": "y",
         "mirror": true,
         "showline": true,
         "showticklabels": false
        }
       }
      },
      "text/html": [
       "<div>                            <div id=\"9f75fcb8-ca0f-4fd3-abfe-bf26834c8458\" class=\"plotly-graph-div\" style=\"height:400px; width:1200px;\"></div>            <script type=\"text/javascript\">                require([\"plotly\"], function(Plotly) {                    window.PLOTLYENV=window.PLOTLYENV || {};                                    if (document.getElementById(\"9f75fcb8-ca0f-4fd3-abfe-bf26834c8458\")) {                    Plotly.newPlot(                        \"9f75fcb8-ca0f-4fd3-abfe-bf26834c8458\",                        [{\"legendgroup\":\"Algeria\",\"marker\":{\"color\":\"#41cc96\"},\"name\":\"Algeria\",\"showlegend\":true,\"x\":[\"Yes\",\"No\"],\"y\":[68.0,32.0],\"type\":\"bar\",\"xaxis\":\"x\",\"yaxis\":\"y\"},{\"legendgroup\":\"Nigeria\",\"marker\":{\"color\":\"#ef563b\"},\"name\":\"Nigeria\",\"showlegend\":true,\"x\":[\"Yes\",\"No\"],\"y\":[64.0,36.0],\"type\":\"bar\",\"xaxis\":\"x\",\"yaxis\":\"y\"},{\"legendgroup\":\"South Africa\",\"marker\":{\"color\":\"#f7a15b\"},\"name\":\"South Africa\",\"showlegend\":true,\"x\":[\"Yes\",\"No\"],\"y\":[72.66666666666667,27.333333333333332],\"type\":\"bar\",\"xaxis\":\"x\",\"yaxis\":\"y\"},{\"legendgroup\":\"United States\",\"marker\":{\"color\":\"#47d3f3\"},\"name\":\"United States\",\"showlegend\":true,\"x\":[\"Yes\",\"No\"],\"y\":[64.66666666666666,35.333333333333336],\"type\":\"bar\",\"xaxis\":\"x\",\"yaxis\":\"y\"},{\"legendgroup\":\"Kenya\",\"marker\":{\"color\":\"#636efb\"},\"name\":\"Kenya\",\"showlegend\":true,\"x\":[\"Yes\",\"No\"],\"y\":[60.0,40.0],\"type\":\"bar\",\"xaxis\":\"x\",\"yaxis\":\"y\"},{\"legendgroup\":\"Cameroon\",\"marker\":{\"color\":\"#ab63fb\"},\"name\":\"Cameroon\",\"showlegend\":true,\"x\":[\"Yes\",\"No\"],\"y\":[82.0,18.0],\"type\":\"bar\",\"xaxis\":\"x\",\"yaxis\":\"y\"},{\"legendgroup\":\"Algeria\",\"marker\":{\"color\":\"#41cc96\"},\"name\":\"Algeria\",\"showlegend\":false,\"x\":[\"Yes\",\"No\"],\"y\":[20.666666666666668,79.33333333333333],\"type\":\"bar\",\"xaxis\":\"x2\",\"yaxis\":\"y2\"},{\"legendgroup\":\"Nigeria\",\"marker\":{\"color\":\"#ef563b\"},\"name\":\"Nigeria\",\"showlegend\":false,\"x\":[\"Yes\",\"No\"],\"y\":[28.666666666666668,71.33333333333334],\"type\":\"bar\",\"xaxis\":\"x2\",\"yaxis\":\"y2\"},{\"legendgroup\":\"South Africa\",\"marker\":{\"color\":\"#f7a15b\"},\"name\":\"South Africa\",\"showlegend\":false,\"x\":[\"Yes\",\"No\"],\"y\":[40.666666666666664,59.333333333333336],\"type\":\"bar\",\"xaxis\":\"x2\",\"yaxis\":\"y2\"},{\"legendgroup\":\"United States\",\"marker\":{\"color\":\"#47d3f3\"},\"name\":\"United States\",\"showlegend\":false,\"x\":[\"Yes\",\"No\"],\"y\":[40.666666666666664,59.333333333333336],\"type\":\"bar\",\"xaxis\":\"x2\",\"yaxis\":\"y2\"},{\"legendgroup\":\"Kenya\",\"marker\":{\"color\":\"#636efb\"},\"name\":\"Kenya\",\"showlegend\":false,\"x\":[\"Yes\",\"No\"],\"y\":[32.87671232876712,67.12328767123287],\"type\":\"bar\",\"xaxis\":\"x2\",\"yaxis\":\"y2\"},{\"legendgroup\":\"Cameroon\",\"marker\":{\"color\":\"#ab63fb\"},\"name\":\"Cameroon\",\"showlegend\":false,\"x\":[\"Yes\",\"No\"],\"y\":[26.25,73.75],\"type\":\"bar\",\"xaxis\":\"x2\",\"yaxis\":\"y2\"},{\"legendgroup\":\"Algeria\",\"marker\":{\"color\":\"#41cc96\"},\"name\":\"Algeria\",\"showlegend\":false,\"x\":[\"Yes\",\"No\"],\"y\":[10.666666666666668,89.33333333333333],\"type\":\"bar\",\"xaxis\":\"x3\",\"yaxis\":\"y3\"},{\"legendgroup\":\"Nigeria\",\"marker\":{\"color\":\"#ef563b\"},\"name\":\"Nigeria\",\"showlegend\":false,\"x\":[\"Yes\",\"No\"],\"y\":[0.0,0.0],\"type\":\"bar\",\"xaxis\":\"x3\",\"yaxis\":\"y3\"},{\"legendgroup\":\"South Africa\",\"marker\":{\"color\":\"#f7a15b\"},\"name\":\"South Africa\",\"showlegend\":false,\"x\":[\"Yes\",\"No\"],\"y\":[22.36842105263158,77.63157894736842],\"type\":\"bar\",\"xaxis\":\"x3\",\"yaxis\":\"y3\"},{\"legendgroup\":\"United States\",\"marker\":{\"color\":\"#47d3f3\"},\"name\":\"United States\",\"showlegend\":false,\"x\":[\"Yes\",\"No\"],\"y\":[22.0,78.0],\"type\":\"bar\",\"xaxis\":\"x3\",\"yaxis\":\"y3\"},{\"legendgroup\":\"Kenya\",\"marker\":{\"color\":\"#636efb\"},\"name\":\"Kenya\",\"showlegend\":false,\"x\":[\"Yes\",\"No\"],\"y\":[20.0,80.0],\"type\":\"bar\",\"xaxis\":\"x3\",\"yaxis\":\"y3\"},{\"legendgroup\":\"Cameroon\",\"marker\":{\"color\":\"#ab63fb\"},\"name\":\"Cameroon\",\"showlegend\":false,\"x\":[\"Yes\",\"No\"],\"y\":[15.862068965517242,84.13793103448276],\"type\":\"bar\",\"xaxis\":\"x3\",\"yaxis\":\"y3\"}],                        {\"template\":{\"data\":{\"histogram2dcontour\":[{\"type\":\"histogram2dcontour\",\"colorbar\":{\"outlinewidth\":0,\"ticks\":\"\"},\"colorscale\":[[0.0,\"#0d0887\"],[0.1111111111111111,\"#46039f\"],[0.2222222222222222,\"#7201a8\"],[0.3333333333333333,\"#9c179e\"],[0.4444444444444444,\"#bd3786\"],[0.5555555555555556,\"#d8576b\"],[0.6666666666666666,\"#ed7953\"],[0.7777777777777778,\"#fb9f3a\"],[0.8888888888888888,\"#fdca26\"],[1.0,\"#f0f921\"]]}],\"choropleth\":[{\"type\":\"choropleth\",\"colorbar\":{\"outlinewidth\":0,\"ticks\":\"\"}}],\"histogram2d\":[{\"type\":\"histogram2d\",\"colorbar\":{\"outlinewidth\":0,\"ticks\":\"\"},\"colorscale\":[[0.0,\"#0d0887\"],[0.1111111111111111,\"#46039f\"],[0.2222222222222222,\"#7201a8\"],[0.3333333333333333,\"#9c179e\"],[0.4444444444444444,\"#bd3786\"],[0.5555555555555556,\"#d8576b\"],[0.6666666666666666,\"#ed7953\"],[0.7777777777777778,\"#fb9f3a\"],[0.8888888888888888,\"#fdca26\"],[1.0,\"#f0f921\"]]}],\"heatmap\":[{\"type\":\"heatmap\",\"colorbar\":{\"outlinewidth\":0,\"ticks\":\"\"},\"colorscale\":[[0.0,\"#0d0887\"],[0.1111111111111111,\"#46039f\"],[0.2222222222222222,\"#7201a8\"],[0.3333333333333333,\"#9c179e\"],[0.4444444444444444,\"#bd3786\"],[0.5555555555555556,\"#d8576b\"],[0.6666666666666666,\"#ed7953\"],[0.7777777777777778,\"#fb9f3a\"],[0.8888888888888888,\"#fdca26\"],[1.0,\"#f0f921\"]]}],\"heatmapgl\":[{\"type\":\"heatmapgl\",\"colorbar\":{\"outlinewidth\":0,\"ticks\":\"\"},\"colorscale\":[[0.0,\"#0d0887\"],[0.1111111111111111,\"#46039f\"],[0.2222222222222222,\"#7201a8\"],[0.3333333333333333,\"#9c179e\"],[0.4444444444444444,\"#bd3786\"],[0.5555555555555556,\"#d8576b\"],[0.6666666666666666,\"#ed7953\"],[0.7777777777777778,\"#fb9f3a\"],[0.8888888888888888,\"#fdca26\"],[1.0,\"#f0f921\"]]}],\"contourcarpet\":[{\"type\":\"contourcarpet\",\"colorbar\":{\"outlinewidth\":0,\"ticks\":\"\"}}],\"contour\":[{\"type\":\"contour\",\"colorbar\":{\"outlinewidth\":0,\"ticks\":\"\"},\"colorscale\":[[0.0,\"#0d0887\"],[0.1111111111111111,\"#46039f\"],[0.2222222222222222,\"#7201a8\"],[0.3333333333333333,\"#9c179e\"],[0.4444444444444444,\"#bd3786\"],[0.5555555555555556,\"#d8576b\"],[0.6666666666666666,\"#ed7953\"],[0.7777777777777778,\"#fb9f3a\"],[0.8888888888888888,\"#fdca26\"],[1.0,\"#f0f921\"]]}],\"surface\":[{\"type\":\"surface\",\"colorbar\":{\"outlinewidth\":0,\"ticks\":\"\"},\"colorscale\":[[0.0,\"#0d0887\"],[0.1111111111111111,\"#46039f\"],[0.2222222222222222,\"#7201a8\"],[0.3333333333333333,\"#9c179e\"],[0.4444444444444444,\"#bd3786\"],[0.5555555555555556,\"#d8576b\"],[0.6666666666666666,\"#ed7953\"],[0.7777777777777778,\"#fb9f3a\"],[0.8888888888888888,\"#fdca26\"],[1.0,\"#f0f921\"]]}],\"mesh3d\":[{\"type\":\"mesh3d\",\"colorbar\":{\"outlinewidth\":0,\"ticks\":\"\"}}],\"scatter\":[{\"fillpattern\":{\"fillmode\":\"overlay\",\"size\":10,\"solidity\":0.2},\"type\":\"scatter\"}],\"parcoords\":[{\"type\":\"parcoords\",\"line\":{\"colorbar\":{\"outlinewidth\":0,\"ticks\":\"\"}}}],\"scatterpolargl\":[{\"type\":\"scatterpolargl\",\"marker\":{\"colorbar\":{\"outlinewidth\":0,\"ticks\":\"\"}}}],\"bar\":[{\"error_x\":{\"color\":\"#2a3f5f\"},\"error_y\":{\"color\":\"#2a3f5f\"},\"marker\":{\"line\":{\"color\":\"#E5ECF6\",\"width\":0.5},\"pattern\":{\"fillmode\":\"overlay\",\"size\":10,\"solidity\":0.2}},\"type\":\"bar\"}],\"scattergeo\":[{\"type\":\"scattergeo\",\"marker\":{\"colorbar\":{\"outlinewidth\":0,\"ticks\":\"\"}}}],\"scatterpolar\":[{\"type\":\"scatterpolar\",\"marker\":{\"colorbar\":{\"outlinewidth\":0,\"ticks\":\"\"}}}],\"histogram\":[{\"marker\":{\"pattern\":{\"fillmode\":\"overlay\",\"size\":10,\"solidity\":0.2}},\"type\":\"histogram\"}],\"scattergl\":[{\"type\":\"scattergl\",\"marker\":{\"colorbar\":{\"outlinewidth\":0,\"ticks\":\"\"}}}],\"scatter3d\":[{\"type\":\"scatter3d\",\"line\":{\"colorbar\":{\"outlinewidth\":0,\"ticks\":\"\"}},\"marker\":{\"colorbar\":{\"outlinewidth\":0,\"ticks\":\"\"}}}],\"scattermapbox\":[{\"type\":\"scattermapbox\",\"marker\":{\"colorbar\":{\"outlinewidth\":0,\"ticks\":\"\"}}}],\"scatterternary\":[{\"type\":\"scatterternary\",\"marker\":{\"colorbar\":{\"outlinewidth\":0,\"ticks\":\"\"}}}],\"scattercarpet\":[{\"type\":\"scattercarpet\",\"marker\":{\"colorbar\":{\"outlinewidth\":0,\"ticks\":\"\"}}}],\"carpet\":[{\"aaxis\":{\"endlinecolor\":\"#2a3f5f\",\"gridcolor\":\"white\",\"linecolor\":\"white\",\"minorgridcolor\":\"white\",\"startlinecolor\":\"#2a3f5f\"},\"baxis\":{\"endlinecolor\":\"#2a3f5f\",\"gridcolor\":\"white\",\"linecolor\":\"white\",\"minorgridcolor\":\"white\",\"startlinecolor\":\"#2a3f5f\"},\"type\":\"carpet\"}],\"table\":[{\"cells\":{\"fill\":{\"color\":\"#EBF0F8\"},\"line\":{\"color\":\"white\"}},\"header\":{\"fill\":{\"color\":\"#C8D4E3\"},\"line\":{\"color\":\"white\"}},\"type\":\"table\"}],\"barpolar\":[{\"marker\":{\"line\":{\"color\":\"#E5ECF6\",\"width\":0.5},\"pattern\":{\"fillmode\":\"overlay\",\"size\":10,\"solidity\":0.2}},\"type\":\"barpolar\"}],\"pie\":[{\"automargin\":true,\"type\":\"pie\"}]},\"layout\":{\"autotypenumbers\":\"strict\",\"colorway\":[\"#636efa\",\"#EF553B\",\"#00cc96\",\"#ab63fa\",\"#FFA15A\",\"#19d3f3\",\"#FF6692\",\"#B6E880\",\"#FF97FF\",\"#FECB52\"],\"font\":{\"color\":\"#2a3f5f\"},\"hovermode\":\"closest\",\"hoverlabel\":{\"align\":\"left\"},\"paper_bgcolor\":\"white\",\"plot_bgcolor\":\"#E5ECF6\",\"polar\":{\"bgcolor\":\"#E5ECF6\",\"angularaxis\":{\"gridcolor\":\"white\",\"linecolor\":\"white\",\"ticks\":\"\"},\"radialaxis\":{\"gridcolor\":\"white\",\"linecolor\":\"white\",\"ticks\":\"\"}},\"ternary\":{\"bgcolor\":\"#E5ECF6\",\"aaxis\":{\"gridcolor\":\"white\",\"linecolor\":\"white\",\"ticks\":\"\"},\"baxis\":{\"gridcolor\":\"white\",\"linecolor\":\"white\",\"ticks\":\"\"},\"caxis\":{\"gridcolor\":\"white\",\"linecolor\":\"white\",\"ticks\":\"\"}},\"coloraxis\":{\"colorbar\":{\"outlinewidth\":0,\"ticks\":\"\"}},\"colorscale\":{\"sequential\":[[0.0,\"#0d0887\"],[0.1111111111111111,\"#46039f\"],[0.2222222222222222,\"#7201a8\"],[0.3333333333333333,\"#9c179e\"],[0.4444444444444444,\"#bd3786\"],[0.5555555555555556,\"#d8576b\"],[0.6666666666666666,\"#ed7953\"],[0.7777777777777778,\"#fb9f3a\"],[0.8888888888888888,\"#fdca26\"],[1.0,\"#f0f921\"]],\"sequentialminus\":[[0.0,\"#0d0887\"],[0.1111111111111111,\"#46039f\"],[0.2222222222222222,\"#7201a8\"],[0.3333333333333333,\"#9c179e\"],[0.4444444444444444,\"#bd3786\"],[0.5555555555555556,\"#d8576b\"],[0.6666666666666666,\"#ed7953\"],[0.7777777777777778,\"#fb9f3a\"],[0.8888888888888888,\"#fdca26\"],[1.0,\"#f0f921\"]],\"diverging\":[[0,\"#8e0152\"],[0.1,\"#c51b7d\"],[0.2,\"#de77ae\"],[0.3,\"#f1b6da\"],[0.4,\"#fde0ef\"],[0.5,\"#f7f7f7\"],[0.6,\"#e6f5d0\"],[0.7,\"#b8e186\"],[0.8,\"#7fbc41\"],[0.9,\"#4d9221\"],[1,\"#276419\"]]},\"xaxis\":{\"gridcolor\":\"white\",\"linecolor\":\"white\",\"ticks\":\"\",\"title\":{\"standoff\":15},\"zerolinecolor\":\"white\",\"automargin\":true,\"zerolinewidth\":2},\"yaxis\":{\"gridcolor\":\"white\",\"linecolor\":\"white\",\"ticks\":\"\",\"title\":{\"standoff\":15},\"zerolinecolor\":\"white\",\"automargin\":true,\"zerolinewidth\":2},\"scene\":{\"xaxis\":{\"backgroundcolor\":\"#E5ECF6\",\"gridcolor\":\"white\",\"linecolor\":\"white\",\"showbackground\":true,\"ticks\":\"\",\"zerolinecolor\":\"white\",\"gridwidth\":2},\"yaxis\":{\"backgroundcolor\":\"#E5ECF6\",\"gridcolor\":\"white\",\"linecolor\":\"white\",\"showbackground\":true,\"ticks\":\"\",\"zerolinecolor\":\"white\",\"gridwidth\":2},\"zaxis\":{\"backgroundcolor\":\"#E5ECF6\",\"gridcolor\":\"white\",\"linecolor\":\"white\",\"showbackground\":true,\"ticks\":\"\",\"zerolinecolor\":\"white\",\"gridwidth\":2}},\"shapedefaults\":{\"line\":{\"color\":\"#2a3f5f\"}},\"annotationdefaults\":{\"arrowcolor\":\"#2a3f5f\",\"arrowhead\":0,\"arrowwidth\":1},\"geo\":{\"bgcolor\":\"white\",\"landcolor\":\"#E5ECF6\",\"subunitcolor\":\"white\",\"showland\":true,\"showlakes\":true,\"lakecolor\":\"white\"},\"title\":{\"x\":0.05},\"mapbox\":{\"style\":\"light\"}}},\"xaxis\":{\"anchor\":\"y\",\"domain\":[0.0,0.3],\"tickvals\":[\"Yes\",\"No\"],\"ticktext\":[\"Yes\",\"No\"],\"categoryorder\":\"array\",\"categoryarray\":[\"Yes\",\"No\"],\"showline\":true,\"linewidth\":2,\"linecolor\":\"grey\",\"mirror\":true},\"yaxis\":{\"anchor\":\"x\",\"domain\":[0.0,1.0],\"title\":{\"text\":\"Proportion of Images (%)\"},\"showline\":true,\"linewidth\":2,\"linecolor\":\"grey\",\"mirror\":true},\"xaxis2\":{\"anchor\":\"y2\",\"domain\":[0.35,0.6499999999999999],\"tickvals\":[\"Yes\",\"No\"],\"ticktext\":[\"Yes\",\"No\"],\"categoryorder\":\"array\",\"categoryarray\":[\"Yes\",\"No\"],\"showline\":true,\"linewidth\":2,\"linecolor\":\"grey\",\"mirror\":true},\"yaxis2\":{\"anchor\":\"x2\",\"domain\":[0.0,1.0],\"matches\":\"y\",\"showticklabels\":false,\"showline\":true,\"linewidth\":2,\"linecolor\":\"grey\",\"mirror\":true},\"xaxis3\":{\"anchor\":\"y3\",\"domain\":[0.7,1.0],\"tickvals\":[\"Yes\",\"No\"],\"ticktext\":[\"Yes\",\"No\"],\"categoryorder\":\"array\",\"categoryarray\":[\"Yes\",\"No\"],\"showline\":true,\"linewidth\":2,\"linecolor\":\"grey\",\"mirror\":true},\"yaxis3\":{\"anchor\":\"x3\",\"domain\":[0.0,1.0],\"matches\":\"y\",\"showticklabels\":false,\"showline\":true,\"linewidth\":2,\"linecolor\":\"grey\",\"mirror\":true},\"annotations\":[{\"font\":{\"size\":16},\"showarrow\":false,\"text\":\"Dall-E 3\",\"x\":0.15,\"xanchor\":\"center\",\"xref\":\"paper\",\"y\":1.0,\"yanchor\":\"bottom\",\"yref\":\"paper\"},{\"font\":{\"size\":16},\"showarrow\":false,\"text\":\"Stable Diffusion 2.1\",\"x\":0.49999999999999994,\"xanchor\":\"center\",\"xref\":\"paper\",\"y\":1.0,\"yanchor\":\"bottom\",\"yref\":\"paper\"},{\"font\":{\"size\":16},\"showarrow\":false,\"text\":\"Dall-E 2\",\"x\":0.85,\"xanchor\":\"center\",\"xref\":\"paper\",\"y\":1.0,\"yanchor\":\"bottom\",\"yref\":\"paper\"}],\"legend\":{\"title\":{\"text\":\"Country\"},\"orientation\":\"v\",\"yanchor\":\"top\",\"y\":1,\"xanchor\":\"right\",\"x\":1.15,\"itemwidth\":30,\"itemsizing\":\"constant\",\"traceorder\":\"normal\",\"bordercolor\":\"grey\",\"borderwidth\":1},\"title\":{\"font\":{\"family\":\"Helvetica Neue\",\"size\":18,\"color\":\"black\"},\"text\":\"Are there any utencils shown in this image?\",\"y\":0.9,\"x\":0.5,\"xanchor\":\"center\",\"yanchor\":\"top\"},\"font\":{\"family\":\"Helvetica Neue\",\"size\":12},\"plot_bgcolor\":\"white\",\"barmode\":\"group\",\"width\":1200,\"height\":400},                        {\"responsive\": true}                    ).then(function(){\n",
       "                            \n",
       "var gd = document.getElementById('9f75fcb8-ca0f-4fd3-abfe-bf26834c8458');\n",
       "var x = new MutationObserver(function (mutations, observer) {{\n",
       "        var display = window.getComputedStyle(gd).display;\n",
       "        if (!display || display === 'none') {{\n",
       "            console.log([gd, 'removed!']);\n",
       "            Plotly.purge(gd);\n",
       "            observer.disconnect();\n",
       "        }}\n",
       "}});\n",
       "\n",
       "// Listen for the removal of the full notebook cells\n",
       "var notebookContainer = gd.closest('#notebook-container');\n",
       "if (notebookContainer) {{\n",
       "    x.observe(notebookContainer, {childList: true});\n",
       "}}\n",
       "\n",
       "// Listen for the clearing of the current output cell\n",
       "var outputEl = gd.closest('.output');\n",
       "if (outputEl) {{\n",
       "    x.observe(outputEl, {childList: true});\n",
       "}}\n",
       "\n",
       "                        })                };                });            </script>        </div>"
      ]
     },
     "metadata": {},
     "output_type": "display_data"
    },
    {
     "data": {
      "application/vnd.plotly.v1+json": {
       "config": {
        "plotlyServerURL": "https://plot.ly"
       },
       "data": [
        {
         "legendgroup": "Algeria",
         "marker": {
          "color": "#41cc96"
         },
         "name": "Algeria",
         "showlegend": true,
         "type": "bar",
         "x": [
          "Yes",
          "No"
         ],
         "xaxis": "x",
         "y": [
          2.666666666666667,
          97.33333333333334
         ],
         "yaxis": "y"
        },
        {
         "legendgroup": "Nigeria",
         "marker": {
          "color": "#ef563b"
         },
         "name": "Nigeria",
         "showlegend": true,
         "type": "bar",
         "x": [
          "Yes",
          "No"
         ],
         "xaxis": "x",
         "y": [
          0.6666666666666667,
          99.33333333333333
         ],
         "yaxis": "y"
        },
        {
         "legendgroup": "South Africa",
         "marker": {
          "color": "#f7a15b"
         },
         "name": "South Africa",
         "showlegend": true,
         "type": "bar",
         "x": [
          "Yes",
          "No"
         ],
         "xaxis": "x",
         "y": [
          2.666666666666667,
          97.33333333333334
         ],
         "yaxis": "y"
        },
        {
         "legendgroup": "United States",
         "marker": {
          "color": "#47d3f3"
         },
         "name": "United States",
         "showlegend": true,
         "type": "bar",
         "x": [
          "Yes",
          "No"
         ],
         "xaxis": "x",
         "y": [
          0.6666666666666667,
          99.33333333333333
         ],
         "yaxis": "y"
        },
        {
         "legendgroup": "Kenya",
         "marker": {
          "color": "#636efb"
         },
         "name": "Kenya",
         "showlegend": true,
         "type": "bar",
         "x": [
          "Yes",
          "No"
         ],
         "xaxis": "x",
         "y": [
          1.5384615384615385,
          98.46153846153847
         ],
         "yaxis": "y"
        },
        {
         "legendgroup": "Cameroon",
         "marker": {
          "color": "#ab63fb"
         },
         "name": "Cameroon",
         "showlegend": true,
         "type": "bar",
         "x": [
          "Yes",
          "No"
         ],
         "xaxis": "x",
         "y": [
          2,
          98
         ],
         "yaxis": "y"
        },
        {
         "legendgroup": "Algeria",
         "marker": {
          "color": "#41cc96"
         },
         "name": "Algeria",
         "showlegend": false,
         "type": "bar",
         "x": [
          "Yes",
          "No"
         ],
         "xaxis": "x2",
         "y": [
          0,
          100
         ],
         "yaxis": "y2"
        },
        {
         "legendgroup": "Nigeria",
         "marker": {
          "color": "#ef563b"
         },
         "name": "Nigeria",
         "showlegend": false,
         "type": "bar",
         "x": [
          "Yes",
          "No"
         ],
         "xaxis": "x2",
         "y": [
          2.666666666666667,
          97.33333333333334
         ],
         "yaxis": "y2"
        },
        {
         "legendgroup": "South Africa",
         "marker": {
          "color": "#f7a15b"
         },
         "name": "South Africa",
         "showlegend": false,
         "type": "bar",
         "x": [
          "Yes",
          "No"
         ],
         "xaxis": "x2",
         "y": [
          0,
          100
         ],
         "yaxis": "y2"
        },
        {
         "legendgroup": "United States",
         "marker": {
          "color": "#47d3f3"
         },
         "name": "United States",
         "showlegend": false,
         "type": "bar",
         "x": [
          "Yes",
          "No"
         ],
         "xaxis": "x2",
         "y": [
          0,
          100
         ],
         "yaxis": "y2"
        },
        {
         "legendgroup": "Kenya",
         "marker": {
          "color": "#636efb"
         },
         "name": "Kenya",
         "showlegend": false,
         "type": "bar",
         "x": [
          "Yes",
          "No"
         ],
         "xaxis": "x2",
         "y": [
          1.36986301369863,
          98.63013698630137
         ],
         "yaxis": "y2"
        },
        {
         "legendgroup": "Cameroon",
         "marker": {
          "color": "#ab63fb"
         },
         "name": "Cameroon",
         "showlegend": false,
         "type": "bar",
         "x": [
          "Yes",
          "No"
         ],
         "xaxis": "x2",
         "y": [
          0.625,
          99.375
         ],
         "yaxis": "y2"
        },
        {
         "legendgroup": "Algeria",
         "marker": {
          "color": "#41cc96"
         },
         "name": "Algeria",
         "showlegend": false,
         "type": "bar",
         "x": [
          "Yes",
          "No"
         ],
         "xaxis": "x3",
         "y": [
          0,
          100
         ],
         "yaxis": "y3"
        },
        {
         "legendgroup": "Nigeria",
         "marker": {
          "color": "#ef563b"
         },
         "name": "Nigeria",
         "showlegend": false,
         "type": "bar",
         "x": [
          "Yes",
          "No"
         ],
         "xaxis": "x3",
         "y": [
          0,
          0
         ],
         "yaxis": "y3"
        },
        {
         "legendgroup": "South Africa",
         "marker": {
          "color": "#f7a15b"
         },
         "name": "South Africa",
         "showlegend": false,
         "type": "bar",
         "x": [
          "Yes",
          "No"
         ],
         "xaxis": "x3",
         "y": [
          1.3157894736842104,
          98.68421052631578
         ],
         "yaxis": "y3"
        },
        {
         "legendgroup": "United States",
         "marker": {
          "color": "#47d3f3"
         },
         "name": "United States",
         "showlegend": false,
         "type": "bar",
         "x": [
          "Yes",
          "No"
         ],
         "xaxis": "x3",
         "y": [
          1.3333333333333335,
          98.66666666666667
         ],
         "yaxis": "y3"
        },
        {
         "legendgroup": "Kenya",
         "marker": {
          "color": "#636efb"
         },
         "name": "Kenya",
         "showlegend": false,
         "type": "bar",
         "x": [
          "Yes",
          "No"
         ],
         "xaxis": "x3",
         "y": [
          5.384615384615385,
          94.61538461538461
         ],
         "yaxis": "y3"
        },
        {
         "legendgroup": "Cameroon",
         "marker": {
          "color": "#ab63fb"
         },
         "name": "Cameroon",
         "showlegend": false,
         "type": "bar",
         "x": [
          "Yes",
          "No"
         ],
         "xaxis": "x3",
         "y": [
          0,
          100
         ],
         "yaxis": "y3"
        }
       ],
       "layout": {
        "annotations": [
         {
          "font": {
           "size": 16
          },
          "showarrow": false,
          "text": "Dall-E 3",
          "x": 0.15,
          "xanchor": "center",
          "xref": "paper",
          "y": 1,
          "yanchor": "bottom",
          "yref": "paper"
         },
         {
          "font": {
           "size": 16
          },
          "showarrow": false,
          "text": "Stable Diffusion 2.1",
          "x": 0.49999999999999994,
          "xanchor": "center",
          "xref": "paper",
          "y": 1,
          "yanchor": "bottom",
          "yref": "paper"
         },
         {
          "font": {
           "size": 16
          },
          "showarrow": false,
          "text": "Dall-E 2",
          "x": 0.85,
          "xanchor": "center",
          "xref": "paper",
          "y": 1,
          "yanchor": "bottom",
          "yref": "paper"
         }
        ],
        "barmode": "group",
        "font": {
         "family": "Helvetica Neue",
         "size": 12
        },
        "height": 400,
        "legend": {
         "bordercolor": "grey",
         "borderwidth": 1,
         "itemsizing": "constant",
         "itemwidth": 30,
         "orientation": "v",
         "title": {
          "text": "Country"
         },
         "traceorder": "normal",
         "x": 1.15,
         "xanchor": "right",
         "y": 1,
         "yanchor": "top"
        },
        "plot_bgcolor": "white",
        "template": {
         "data": {
          "bar": [
           {
            "error_x": {
             "color": "#2a3f5f"
            },
            "error_y": {
             "color": "#2a3f5f"
            },
            "marker": {
             "line": {
              "color": "#E5ECF6",
              "width": 0.5
             },
             "pattern": {
              "fillmode": "overlay",
              "size": 10,
              "solidity": 0.2
             }
            },
            "type": "bar"
           }
          ],
          "barpolar": [
           {
            "marker": {
             "line": {
              "color": "#E5ECF6",
              "width": 0.5
             },
             "pattern": {
              "fillmode": "overlay",
              "size": 10,
              "solidity": 0.2
             }
            },
            "type": "barpolar"
           }
          ],
          "carpet": [
           {
            "aaxis": {
             "endlinecolor": "#2a3f5f",
             "gridcolor": "white",
             "linecolor": "white",
             "minorgridcolor": "white",
             "startlinecolor": "#2a3f5f"
            },
            "baxis": {
             "endlinecolor": "#2a3f5f",
             "gridcolor": "white",
             "linecolor": "white",
             "minorgridcolor": "white",
             "startlinecolor": "#2a3f5f"
            },
            "type": "carpet"
           }
          ],
          "choropleth": [
           {
            "colorbar": {
             "outlinewidth": 0,
             "ticks": ""
            },
            "type": "choropleth"
           }
          ],
          "contour": [
           {
            "colorbar": {
             "outlinewidth": 0,
             "ticks": ""
            },
            "colorscale": [
             [
              0,
              "#0d0887"
             ],
             [
              0.1111111111111111,
              "#46039f"
             ],
             [
              0.2222222222222222,
              "#7201a8"
             ],
             [
              0.3333333333333333,
              "#9c179e"
             ],
             [
              0.4444444444444444,
              "#bd3786"
             ],
             [
              0.5555555555555556,
              "#d8576b"
             ],
             [
              0.6666666666666666,
              "#ed7953"
             ],
             [
              0.7777777777777778,
              "#fb9f3a"
             ],
             [
              0.8888888888888888,
              "#fdca26"
             ],
             [
              1,
              "#f0f921"
             ]
            ],
            "type": "contour"
           }
          ],
          "contourcarpet": [
           {
            "colorbar": {
             "outlinewidth": 0,
             "ticks": ""
            },
            "type": "contourcarpet"
           }
          ],
          "heatmap": [
           {
            "colorbar": {
             "outlinewidth": 0,
             "ticks": ""
            },
            "colorscale": [
             [
              0,
              "#0d0887"
             ],
             [
              0.1111111111111111,
              "#46039f"
             ],
             [
              0.2222222222222222,
              "#7201a8"
             ],
             [
              0.3333333333333333,
              "#9c179e"
             ],
             [
              0.4444444444444444,
              "#bd3786"
             ],
             [
              0.5555555555555556,
              "#d8576b"
             ],
             [
              0.6666666666666666,
              "#ed7953"
             ],
             [
              0.7777777777777778,
              "#fb9f3a"
             ],
             [
              0.8888888888888888,
              "#fdca26"
             ],
             [
              1,
              "#f0f921"
             ]
            ],
            "type": "heatmap"
           }
          ],
          "heatmapgl": [
           {
            "colorbar": {
             "outlinewidth": 0,
             "ticks": ""
            },
            "colorscale": [
             [
              0,
              "#0d0887"
             ],
             [
              0.1111111111111111,
              "#46039f"
             ],
             [
              0.2222222222222222,
              "#7201a8"
             ],
             [
              0.3333333333333333,
              "#9c179e"
             ],
             [
              0.4444444444444444,
              "#bd3786"
             ],
             [
              0.5555555555555556,
              "#d8576b"
             ],
             [
              0.6666666666666666,
              "#ed7953"
             ],
             [
              0.7777777777777778,
              "#fb9f3a"
             ],
             [
              0.8888888888888888,
              "#fdca26"
             ],
             [
              1,
              "#f0f921"
             ]
            ],
            "type": "heatmapgl"
           }
          ],
          "histogram": [
           {
            "marker": {
             "pattern": {
              "fillmode": "overlay",
              "size": 10,
              "solidity": 0.2
             }
            },
            "type": "histogram"
           }
          ],
          "histogram2d": [
           {
            "colorbar": {
             "outlinewidth": 0,
             "ticks": ""
            },
            "colorscale": [
             [
              0,
              "#0d0887"
             ],
             [
              0.1111111111111111,
              "#46039f"
             ],
             [
              0.2222222222222222,
              "#7201a8"
             ],
             [
              0.3333333333333333,
              "#9c179e"
             ],
             [
              0.4444444444444444,
              "#bd3786"
             ],
             [
              0.5555555555555556,
              "#d8576b"
             ],
             [
              0.6666666666666666,
              "#ed7953"
             ],
             [
              0.7777777777777778,
              "#fb9f3a"
             ],
             [
              0.8888888888888888,
              "#fdca26"
             ],
             [
              1,
              "#f0f921"
             ]
            ],
            "type": "histogram2d"
           }
          ],
          "histogram2dcontour": [
           {
            "colorbar": {
             "outlinewidth": 0,
             "ticks": ""
            },
            "colorscale": [
             [
              0,
              "#0d0887"
             ],
             [
              0.1111111111111111,
              "#46039f"
             ],
             [
              0.2222222222222222,
              "#7201a8"
             ],
             [
              0.3333333333333333,
              "#9c179e"
             ],
             [
              0.4444444444444444,
              "#bd3786"
             ],
             [
              0.5555555555555556,
              "#d8576b"
             ],
             [
              0.6666666666666666,
              "#ed7953"
             ],
             [
              0.7777777777777778,
              "#fb9f3a"
             ],
             [
              0.8888888888888888,
              "#fdca26"
             ],
             [
              1,
              "#f0f921"
             ]
            ],
            "type": "histogram2dcontour"
           }
          ],
          "mesh3d": [
           {
            "colorbar": {
             "outlinewidth": 0,
             "ticks": ""
            },
            "type": "mesh3d"
           }
          ],
          "parcoords": [
           {
            "line": {
             "colorbar": {
              "outlinewidth": 0,
              "ticks": ""
             }
            },
            "type": "parcoords"
           }
          ],
          "pie": [
           {
            "automargin": true,
            "type": "pie"
           }
          ],
          "scatter": [
           {
            "fillpattern": {
             "fillmode": "overlay",
             "size": 10,
             "solidity": 0.2
            },
            "type": "scatter"
           }
          ],
          "scatter3d": [
           {
            "line": {
             "colorbar": {
              "outlinewidth": 0,
              "ticks": ""
             }
            },
            "marker": {
             "colorbar": {
              "outlinewidth": 0,
              "ticks": ""
             }
            },
            "type": "scatter3d"
           }
          ],
          "scattercarpet": [
           {
            "marker": {
             "colorbar": {
              "outlinewidth": 0,
              "ticks": ""
             }
            },
            "type": "scattercarpet"
           }
          ],
          "scattergeo": [
           {
            "marker": {
             "colorbar": {
              "outlinewidth": 0,
              "ticks": ""
             }
            },
            "type": "scattergeo"
           }
          ],
          "scattergl": [
           {
            "marker": {
             "colorbar": {
              "outlinewidth": 0,
              "ticks": ""
             }
            },
            "type": "scattergl"
           }
          ],
          "scattermapbox": [
           {
            "marker": {
             "colorbar": {
              "outlinewidth": 0,
              "ticks": ""
             }
            },
            "type": "scattermapbox"
           }
          ],
          "scatterpolar": [
           {
            "marker": {
             "colorbar": {
              "outlinewidth": 0,
              "ticks": ""
             }
            },
            "type": "scatterpolar"
           }
          ],
          "scatterpolargl": [
           {
            "marker": {
             "colorbar": {
              "outlinewidth": 0,
              "ticks": ""
             }
            },
            "type": "scatterpolargl"
           }
          ],
          "scatterternary": [
           {
            "marker": {
             "colorbar": {
              "outlinewidth": 0,
              "ticks": ""
             }
            },
            "type": "scatterternary"
           }
          ],
          "surface": [
           {
            "colorbar": {
             "outlinewidth": 0,
             "ticks": ""
            },
            "colorscale": [
             [
              0,
              "#0d0887"
             ],
             [
              0.1111111111111111,
              "#46039f"
             ],
             [
              0.2222222222222222,
              "#7201a8"
             ],
             [
              0.3333333333333333,
              "#9c179e"
             ],
             [
              0.4444444444444444,
              "#bd3786"
             ],
             [
              0.5555555555555556,
              "#d8576b"
             ],
             [
              0.6666666666666666,
              "#ed7953"
             ],
             [
              0.7777777777777778,
              "#fb9f3a"
             ],
             [
              0.8888888888888888,
              "#fdca26"
             ],
             [
              1,
              "#f0f921"
             ]
            ],
            "type": "surface"
           }
          ],
          "table": [
           {
            "cells": {
             "fill": {
              "color": "#EBF0F8"
             },
             "line": {
              "color": "white"
             }
            },
            "header": {
             "fill": {
              "color": "#C8D4E3"
             },
             "line": {
              "color": "white"
             }
            },
            "type": "table"
           }
          ]
         },
         "layout": {
          "annotationdefaults": {
           "arrowcolor": "#2a3f5f",
           "arrowhead": 0,
           "arrowwidth": 1
          },
          "autotypenumbers": "strict",
          "coloraxis": {
           "colorbar": {
            "outlinewidth": 0,
            "ticks": ""
           }
          },
          "colorscale": {
           "diverging": [
            [
             0,
             "#8e0152"
            ],
            [
             0.1,
             "#c51b7d"
            ],
            [
             0.2,
             "#de77ae"
            ],
            [
             0.3,
             "#f1b6da"
            ],
            [
             0.4,
             "#fde0ef"
            ],
            [
             0.5,
             "#f7f7f7"
            ],
            [
             0.6,
             "#e6f5d0"
            ],
            [
             0.7,
             "#b8e186"
            ],
            [
             0.8,
             "#7fbc41"
            ],
            [
             0.9,
             "#4d9221"
            ],
            [
             1,
             "#276419"
            ]
           ],
           "sequential": [
            [
             0,
             "#0d0887"
            ],
            [
             0.1111111111111111,
             "#46039f"
            ],
            [
             0.2222222222222222,
             "#7201a8"
            ],
            [
             0.3333333333333333,
             "#9c179e"
            ],
            [
             0.4444444444444444,
             "#bd3786"
            ],
            [
             0.5555555555555556,
             "#d8576b"
            ],
            [
             0.6666666666666666,
             "#ed7953"
            ],
            [
             0.7777777777777778,
             "#fb9f3a"
            ],
            [
             0.8888888888888888,
             "#fdca26"
            ],
            [
             1,
             "#f0f921"
            ]
           ],
           "sequentialminus": [
            [
             0,
             "#0d0887"
            ],
            [
             0.1111111111111111,
             "#46039f"
            ],
            [
             0.2222222222222222,
             "#7201a8"
            ],
            [
             0.3333333333333333,
             "#9c179e"
            ],
            [
             0.4444444444444444,
             "#bd3786"
            ],
            [
             0.5555555555555556,
             "#d8576b"
            ],
            [
             0.6666666666666666,
             "#ed7953"
            ],
            [
             0.7777777777777778,
             "#fb9f3a"
            ],
            [
             0.8888888888888888,
             "#fdca26"
            ],
            [
             1,
             "#f0f921"
            ]
           ]
          },
          "colorway": [
           "#636efa",
           "#EF553B",
           "#00cc96",
           "#ab63fa",
           "#FFA15A",
           "#19d3f3",
           "#FF6692",
           "#B6E880",
           "#FF97FF",
           "#FECB52"
          ],
          "font": {
           "color": "#2a3f5f"
          },
          "geo": {
           "bgcolor": "white",
           "lakecolor": "white",
           "landcolor": "#E5ECF6",
           "showlakes": true,
           "showland": true,
           "subunitcolor": "white"
          },
          "hoverlabel": {
           "align": "left"
          },
          "hovermode": "closest",
          "mapbox": {
           "style": "light"
          },
          "paper_bgcolor": "white",
          "plot_bgcolor": "#E5ECF6",
          "polar": {
           "angularaxis": {
            "gridcolor": "white",
            "linecolor": "white",
            "ticks": ""
           },
           "bgcolor": "#E5ECF6",
           "radialaxis": {
            "gridcolor": "white",
            "linecolor": "white",
            "ticks": ""
           }
          },
          "scene": {
           "xaxis": {
            "backgroundcolor": "#E5ECF6",
            "gridcolor": "white",
            "gridwidth": 2,
            "linecolor": "white",
            "showbackground": true,
            "ticks": "",
            "zerolinecolor": "white"
           },
           "yaxis": {
            "backgroundcolor": "#E5ECF6",
            "gridcolor": "white",
            "gridwidth": 2,
            "linecolor": "white",
            "showbackground": true,
            "ticks": "",
            "zerolinecolor": "white"
           },
           "zaxis": {
            "backgroundcolor": "#E5ECF6",
            "gridcolor": "white",
            "gridwidth": 2,
            "linecolor": "white",
            "showbackground": true,
            "ticks": "",
            "zerolinecolor": "white"
           }
          },
          "shapedefaults": {
           "line": {
            "color": "#2a3f5f"
           }
          },
          "ternary": {
           "aaxis": {
            "gridcolor": "white",
            "linecolor": "white",
            "ticks": ""
           },
           "baxis": {
            "gridcolor": "white",
            "linecolor": "white",
            "ticks": ""
           },
           "bgcolor": "#E5ECF6",
           "caxis": {
            "gridcolor": "white",
            "linecolor": "white",
            "ticks": ""
           }
          },
          "title": {
           "x": 0.05
          },
          "xaxis": {
           "automargin": true,
           "gridcolor": "white",
           "linecolor": "white",
           "ticks": "",
           "title": {
            "standoff": 15
           },
           "zerolinecolor": "white",
           "zerolinewidth": 2
          },
          "yaxis": {
           "automargin": true,
           "gridcolor": "white",
           "linecolor": "white",
           "ticks": "",
           "title": {
            "standoff": 15
           },
           "zerolinecolor": "white",
           "zerolinewidth": 2
          }
         }
        },
        "title": {
         "font": {
          "color": "black",
          "family": "Helvetica Neue",
          "size": 18
         },
         "text": "Is there a person shown in this image?",
         "x": 0.5,
         "xanchor": "center",
         "y": 0.9,
         "yanchor": "top"
        },
        "width": 1200,
        "xaxis": {
         "anchor": "y",
         "categoryarray": [
          "Yes",
          "No"
         ],
         "categoryorder": "array",
         "domain": [
          0,
          0.3
         ],
         "linecolor": "grey",
         "linewidth": 2,
         "mirror": true,
         "showline": true,
         "ticktext": [
          "Yes",
          "No"
         ],
         "tickvals": [
          "Yes",
          "No"
         ]
        },
        "xaxis2": {
         "anchor": "y2",
         "categoryarray": [
          "Yes",
          "No"
         ],
         "categoryorder": "array",
         "domain": [
          0.35,
          0.6499999999999999
         ],
         "linecolor": "grey",
         "linewidth": 2,
         "mirror": true,
         "showline": true,
         "ticktext": [
          "Yes",
          "No"
         ],
         "tickvals": [
          "Yes",
          "No"
         ]
        },
        "xaxis3": {
         "anchor": "y3",
         "categoryarray": [
          "Yes",
          "No"
         ],
         "categoryorder": "array",
         "domain": [
          0.7,
          1
         ],
         "linecolor": "grey",
         "linewidth": 2,
         "mirror": true,
         "showline": true,
         "ticktext": [
          "Yes",
          "No"
         ],
         "tickvals": [
          "Yes",
          "No"
         ]
        },
        "yaxis": {
         "anchor": "x",
         "domain": [
          0,
          1
         ],
         "linecolor": "grey",
         "linewidth": 2,
         "mirror": true,
         "showline": true,
         "title": {
          "text": "Proportion of Images (%)"
         }
        },
        "yaxis2": {
         "anchor": "x2",
         "domain": [
          0,
          1
         ],
         "linecolor": "grey",
         "linewidth": 2,
         "matches": "y",
         "mirror": true,
         "showline": true,
         "showticklabels": false
        },
        "yaxis3": {
         "anchor": "x3",
         "domain": [
          0,
          1
         ],
         "linecolor": "grey",
         "linewidth": 2,
         "matches": "y",
         "mirror": true,
         "showline": true,
         "showticklabels": false
        }
       }
      },
      "text/html": [
       "<div>                            <div id=\"ffbb6c5f-6b02-414e-9929-3f20ee531a37\" class=\"plotly-graph-div\" style=\"height:400px; width:1200px;\"></div>            <script type=\"text/javascript\">                require([\"plotly\"], function(Plotly) {                    window.PLOTLYENV=window.PLOTLYENV || {};                                    if (document.getElementById(\"ffbb6c5f-6b02-414e-9929-3f20ee531a37\")) {                    Plotly.newPlot(                        \"ffbb6c5f-6b02-414e-9929-3f20ee531a37\",                        [{\"legendgroup\":\"Algeria\",\"marker\":{\"color\":\"#41cc96\"},\"name\":\"Algeria\",\"showlegend\":true,\"x\":[\"Yes\",\"No\"],\"y\":[2.666666666666667,97.33333333333334],\"type\":\"bar\",\"xaxis\":\"x\",\"yaxis\":\"y\"},{\"legendgroup\":\"Nigeria\",\"marker\":{\"color\":\"#ef563b\"},\"name\":\"Nigeria\",\"showlegend\":true,\"x\":[\"Yes\",\"No\"],\"y\":[0.6666666666666667,99.33333333333333],\"type\":\"bar\",\"xaxis\":\"x\",\"yaxis\":\"y\"},{\"legendgroup\":\"South Africa\",\"marker\":{\"color\":\"#f7a15b\"},\"name\":\"South Africa\",\"showlegend\":true,\"x\":[\"Yes\",\"No\"],\"y\":[2.666666666666667,97.33333333333334],\"type\":\"bar\",\"xaxis\":\"x\",\"yaxis\":\"y\"},{\"legendgroup\":\"United States\",\"marker\":{\"color\":\"#47d3f3\"},\"name\":\"United States\",\"showlegend\":true,\"x\":[\"Yes\",\"No\"],\"y\":[0.6666666666666667,99.33333333333333],\"type\":\"bar\",\"xaxis\":\"x\",\"yaxis\":\"y\"},{\"legendgroup\":\"Kenya\",\"marker\":{\"color\":\"#636efb\"},\"name\":\"Kenya\",\"showlegend\":true,\"x\":[\"Yes\",\"No\"],\"y\":[1.5384615384615385,98.46153846153847],\"type\":\"bar\",\"xaxis\":\"x\",\"yaxis\":\"y\"},{\"legendgroup\":\"Cameroon\",\"marker\":{\"color\":\"#ab63fb\"},\"name\":\"Cameroon\",\"showlegend\":true,\"x\":[\"Yes\",\"No\"],\"y\":[2.0,98.0],\"type\":\"bar\",\"xaxis\":\"x\",\"yaxis\":\"y\"},{\"legendgroup\":\"Algeria\",\"marker\":{\"color\":\"#41cc96\"},\"name\":\"Algeria\",\"showlegend\":false,\"x\":[\"Yes\",\"No\"],\"y\":[0.0,100.0],\"type\":\"bar\",\"xaxis\":\"x2\",\"yaxis\":\"y2\"},{\"legendgroup\":\"Nigeria\",\"marker\":{\"color\":\"#ef563b\"},\"name\":\"Nigeria\",\"showlegend\":false,\"x\":[\"Yes\",\"No\"],\"y\":[2.666666666666667,97.33333333333334],\"type\":\"bar\",\"xaxis\":\"x2\",\"yaxis\":\"y2\"},{\"legendgroup\":\"South Africa\",\"marker\":{\"color\":\"#f7a15b\"},\"name\":\"South Africa\",\"showlegend\":false,\"x\":[\"Yes\",\"No\"],\"y\":[0.0,100.0],\"type\":\"bar\",\"xaxis\":\"x2\",\"yaxis\":\"y2\"},{\"legendgroup\":\"United States\",\"marker\":{\"color\":\"#47d3f3\"},\"name\":\"United States\",\"showlegend\":false,\"x\":[\"Yes\",\"No\"],\"y\":[0.0,100.0],\"type\":\"bar\",\"xaxis\":\"x2\",\"yaxis\":\"y2\"},{\"legendgroup\":\"Kenya\",\"marker\":{\"color\":\"#636efb\"},\"name\":\"Kenya\",\"showlegend\":false,\"x\":[\"Yes\",\"No\"],\"y\":[1.36986301369863,98.63013698630137],\"type\":\"bar\",\"xaxis\":\"x2\",\"yaxis\":\"y2\"},{\"legendgroup\":\"Cameroon\",\"marker\":{\"color\":\"#ab63fb\"},\"name\":\"Cameroon\",\"showlegend\":false,\"x\":[\"Yes\",\"No\"],\"y\":[0.625,99.375],\"type\":\"bar\",\"xaxis\":\"x2\",\"yaxis\":\"y2\"},{\"legendgroup\":\"Algeria\",\"marker\":{\"color\":\"#41cc96\"},\"name\":\"Algeria\",\"showlegend\":false,\"x\":[\"Yes\",\"No\"],\"y\":[0.0,100.0],\"type\":\"bar\",\"xaxis\":\"x3\",\"yaxis\":\"y3\"},{\"legendgroup\":\"Nigeria\",\"marker\":{\"color\":\"#ef563b\"},\"name\":\"Nigeria\",\"showlegend\":false,\"x\":[\"Yes\",\"No\"],\"y\":[0.0,0.0],\"type\":\"bar\",\"xaxis\":\"x3\",\"yaxis\":\"y3\"},{\"legendgroup\":\"South Africa\",\"marker\":{\"color\":\"#f7a15b\"},\"name\":\"South Africa\",\"showlegend\":false,\"x\":[\"Yes\",\"No\"],\"y\":[1.3157894736842104,98.68421052631578],\"type\":\"bar\",\"xaxis\":\"x3\",\"yaxis\":\"y3\"},{\"legendgroup\":\"United States\",\"marker\":{\"color\":\"#47d3f3\"},\"name\":\"United States\",\"showlegend\":false,\"x\":[\"Yes\",\"No\"],\"y\":[1.3333333333333335,98.66666666666667],\"type\":\"bar\",\"xaxis\":\"x3\",\"yaxis\":\"y3\"},{\"legendgroup\":\"Kenya\",\"marker\":{\"color\":\"#636efb\"},\"name\":\"Kenya\",\"showlegend\":false,\"x\":[\"Yes\",\"No\"],\"y\":[5.384615384615385,94.61538461538461],\"type\":\"bar\",\"xaxis\":\"x3\",\"yaxis\":\"y3\"},{\"legendgroup\":\"Cameroon\",\"marker\":{\"color\":\"#ab63fb\"},\"name\":\"Cameroon\",\"showlegend\":false,\"x\":[\"Yes\",\"No\"],\"y\":[0.0,100.0],\"type\":\"bar\",\"xaxis\":\"x3\",\"yaxis\":\"y3\"}],                        {\"template\":{\"data\":{\"histogram2dcontour\":[{\"type\":\"histogram2dcontour\",\"colorbar\":{\"outlinewidth\":0,\"ticks\":\"\"},\"colorscale\":[[0.0,\"#0d0887\"],[0.1111111111111111,\"#46039f\"],[0.2222222222222222,\"#7201a8\"],[0.3333333333333333,\"#9c179e\"],[0.4444444444444444,\"#bd3786\"],[0.5555555555555556,\"#d8576b\"],[0.6666666666666666,\"#ed7953\"],[0.7777777777777778,\"#fb9f3a\"],[0.8888888888888888,\"#fdca26\"],[1.0,\"#f0f921\"]]}],\"choropleth\":[{\"type\":\"choropleth\",\"colorbar\":{\"outlinewidth\":0,\"ticks\":\"\"}}],\"histogram2d\":[{\"type\":\"histogram2d\",\"colorbar\":{\"outlinewidth\":0,\"ticks\":\"\"},\"colorscale\":[[0.0,\"#0d0887\"],[0.1111111111111111,\"#46039f\"],[0.2222222222222222,\"#7201a8\"],[0.3333333333333333,\"#9c179e\"],[0.4444444444444444,\"#bd3786\"],[0.5555555555555556,\"#d8576b\"],[0.6666666666666666,\"#ed7953\"],[0.7777777777777778,\"#fb9f3a\"],[0.8888888888888888,\"#fdca26\"],[1.0,\"#f0f921\"]]}],\"heatmap\":[{\"type\":\"heatmap\",\"colorbar\":{\"outlinewidth\":0,\"ticks\":\"\"},\"colorscale\":[[0.0,\"#0d0887\"],[0.1111111111111111,\"#46039f\"],[0.2222222222222222,\"#7201a8\"],[0.3333333333333333,\"#9c179e\"],[0.4444444444444444,\"#bd3786\"],[0.5555555555555556,\"#d8576b\"],[0.6666666666666666,\"#ed7953\"],[0.7777777777777778,\"#fb9f3a\"],[0.8888888888888888,\"#fdca26\"],[1.0,\"#f0f921\"]]}],\"heatmapgl\":[{\"type\":\"heatmapgl\",\"colorbar\":{\"outlinewidth\":0,\"ticks\":\"\"},\"colorscale\":[[0.0,\"#0d0887\"],[0.1111111111111111,\"#46039f\"],[0.2222222222222222,\"#7201a8\"],[0.3333333333333333,\"#9c179e\"],[0.4444444444444444,\"#bd3786\"],[0.5555555555555556,\"#d8576b\"],[0.6666666666666666,\"#ed7953\"],[0.7777777777777778,\"#fb9f3a\"],[0.8888888888888888,\"#fdca26\"],[1.0,\"#f0f921\"]]}],\"contourcarpet\":[{\"type\":\"contourcarpet\",\"colorbar\":{\"outlinewidth\":0,\"ticks\":\"\"}}],\"contour\":[{\"type\":\"contour\",\"colorbar\":{\"outlinewidth\":0,\"ticks\":\"\"},\"colorscale\":[[0.0,\"#0d0887\"],[0.1111111111111111,\"#46039f\"],[0.2222222222222222,\"#7201a8\"],[0.3333333333333333,\"#9c179e\"],[0.4444444444444444,\"#bd3786\"],[0.5555555555555556,\"#d8576b\"],[0.6666666666666666,\"#ed7953\"],[0.7777777777777778,\"#fb9f3a\"],[0.8888888888888888,\"#fdca26\"],[1.0,\"#f0f921\"]]}],\"surface\":[{\"type\":\"surface\",\"colorbar\":{\"outlinewidth\":0,\"ticks\":\"\"},\"colorscale\":[[0.0,\"#0d0887\"],[0.1111111111111111,\"#46039f\"],[0.2222222222222222,\"#7201a8\"],[0.3333333333333333,\"#9c179e\"],[0.4444444444444444,\"#bd3786\"],[0.5555555555555556,\"#d8576b\"],[0.6666666666666666,\"#ed7953\"],[0.7777777777777778,\"#fb9f3a\"],[0.8888888888888888,\"#fdca26\"],[1.0,\"#f0f921\"]]}],\"mesh3d\":[{\"type\":\"mesh3d\",\"colorbar\":{\"outlinewidth\":0,\"ticks\":\"\"}}],\"scatter\":[{\"fillpattern\":{\"fillmode\":\"overlay\",\"size\":10,\"solidity\":0.2},\"type\":\"scatter\"}],\"parcoords\":[{\"type\":\"parcoords\",\"line\":{\"colorbar\":{\"outlinewidth\":0,\"ticks\":\"\"}}}],\"scatterpolargl\":[{\"type\":\"scatterpolargl\",\"marker\":{\"colorbar\":{\"outlinewidth\":0,\"ticks\":\"\"}}}],\"bar\":[{\"error_x\":{\"color\":\"#2a3f5f\"},\"error_y\":{\"color\":\"#2a3f5f\"},\"marker\":{\"line\":{\"color\":\"#E5ECF6\",\"width\":0.5},\"pattern\":{\"fillmode\":\"overlay\",\"size\":10,\"solidity\":0.2}},\"type\":\"bar\"}],\"scattergeo\":[{\"type\":\"scattergeo\",\"marker\":{\"colorbar\":{\"outlinewidth\":0,\"ticks\":\"\"}}}],\"scatterpolar\":[{\"type\":\"scatterpolar\",\"marker\":{\"colorbar\":{\"outlinewidth\":0,\"ticks\":\"\"}}}],\"histogram\":[{\"marker\":{\"pattern\":{\"fillmode\":\"overlay\",\"size\":10,\"solidity\":0.2}},\"type\":\"histogram\"}],\"scattergl\":[{\"type\":\"scattergl\",\"marker\":{\"colorbar\":{\"outlinewidth\":0,\"ticks\":\"\"}}}],\"scatter3d\":[{\"type\":\"scatter3d\",\"line\":{\"colorbar\":{\"outlinewidth\":0,\"ticks\":\"\"}},\"marker\":{\"colorbar\":{\"outlinewidth\":0,\"ticks\":\"\"}}}],\"scattermapbox\":[{\"type\":\"scattermapbox\",\"marker\":{\"colorbar\":{\"outlinewidth\":0,\"ticks\":\"\"}}}],\"scatterternary\":[{\"type\":\"scatterternary\",\"marker\":{\"colorbar\":{\"outlinewidth\":0,\"ticks\":\"\"}}}],\"scattercarpet\":[{\"type\":\"scattercarpet\",\"marker\":{\"colorbar\":{\"outlinewidth\":0,\"ticks\":\"\"}}}],\"carpet\":[{\"aaxis\":{\"endlinecolor\":\"#2a3f5f\",\"gridcolor\":\"white\",\"linecolor\":\"white\",\"minorgridcolor\":\"white\",\"startlinecolor\":\"#2a3f5f\"},\"baxis\":{\"endlinecolor\":\"#2a3f5f\",\"gridcolor\":\"white\",\"linecolor\":\"white\",\"minorgridcolor\":\"white\",\"startlinecolor\":\"#2a3f5f\"},\"type\":\"carpet\"}],\"table\":[{\"cells\":{\"fill\":{\"color\":\"#EBF0F8\"},\"line\":{\"color\":\"white\"}},\"header\":{\"fill\":{\"color\":\"#C8D4E3\"},\"line\":{\"color\":\"white\"}},\"type\":\"table\"}],\"barpolar\":[{\"marker\":{\"line\":{\"color\":\"#E5ECF6\",\"width\":0.5},\"pattern\":{\"fillmode\":\"overlay\",\"size\":10,\"solidity\":0.2}},\"type\":\"barpolar\"}],\"pie\":[{\"automargin\":true,\"type\":\"pie\"}]},\"layout\":{\"autotypenumbers\":\"strict\",\"colorway\":[\"#636efa\",\"#EF553B\",\"#00cc96\",\"#ab63fa\",\"#FFA15A\",\"#19d3f3\",\"#FF6692\",\"#B6E880\",\"#FF97FF\",\"#FECB52\"],\"font\":{\"color\":\"#2a3f5f\"},\"hovermode\":\"closest\",\"hoverlabel\":{\"align\":\"left\"},\"paper_bgcolor\":\"white\",\"plot_bgcolor\":\"#E5ECF6\",\"polar\":{\"bgcolor\":\"#E5ECF6\",\"angularaxis\":{\"gridcolor\":\"white\",\"linecolor\":\"white\",\"ticks\":\"\"},\"radialaxis\":{\"gridcolor\":\"white\",\"linecolor\":\"white\",\"ticks\":\"\"}},\"ternary\":{\"bgcolor\":\"#E5ECF6\",\"aaxis\":{\"gridcolor\":\"white\",\"linecolor\":\"white\",\"ticks\":\"\"},\"baxis\":{\"gridcolor\":\"white\",\"linecolor\":\"white\",\"ticks\":\"\"},\"caxis\":{\"gridcolor\":\"white\",\"linecolor\":\"white\",\"ticks\":\"\"}},\"coloraxis\":{\"colorbar\":{\"outlinewidth\":0,\"ticks\":\"\"}},\"colorscale\":{\"sequential\":[[0.0,\"#0d0887\"],[0.1111111111111111,\"#46039f\"],[0.2222222222222222,\"#7201a8\"],[0.3333333333333333,\"#9c179e\"],[0.4444444444444444,\"#bd3786\"],[0.5555555555555556,\"#d8576b\"],[0.6666666666666666,\"#ed7953\"],[0.7777777777777778,\"#fb9f3a\"],[0.8888888888888888,\"#fdca26\"],[1.0,\"#f0f921\"]],\"sequentialminus\":[[0.0,\"#0d0887\"],[0.1111111111111111,\"#46039f\"],[0.2222222222222222,\"#7201a8\"],[0.3333333333333333,\"#9c179e\"],[0.4444444444444444,\"#bd3786\"],[0.5555555555555556,\"#d8576b\"],[0.6666666666666666,\"#ed7953\"],[0.7777777777777778,\"#fb9f3a\"],[0.8888888888888888,\"#fdca26\"],[1.0,\"#f0f921\"]],\"diverging\":[[0,\"#8e0152\"],[0.1,\"#c51b7d\"],[0.2,\"#de77ae\"],[0.3,\"#f1b6da\"],[0.4,\"#fde0ef\"],[0.5,\"#f7f7f7\"],[0.6,\"#e6f5d0\"],[0.7,\"#b8e186\"],[0.8,\"#7fbc41\"],[0.9,\"#4d9221\"],[1,\"#276419\"]]},\"xaxis\":{\"gridcolor\":\"white\",\"linecolor\":\"white\",\"ticks\":\"\",\"title\":{\"standoff\":15},\"zerolinecolor\":\"white\",\"automargin\":true,\"zerolinewidth\":2},\"yaxis\":{\"gridcolor\":\"white\",\"linecolor\":\"white\",\"ticks\":\"\",\"title\":{\"standoff\":15},\"zerolinecolor\":\"white\",\"automargin\":true,\"zerolinewidth\":2},\"scene\":{\"xaxis\":{\"backgroundcolor\":\"#E5ECF6\",\"gridcolor\":\"white\",\"linecolor\":\"white\",\"showbackground\":true,\"ticks\":\"\",\"zerolinecolor\":\"white\",\"gridwidth\":2},\"yaxis\":{\"backgroundcolor\":\"#E5ECF6\",\"gridcolor\":\"white\",\"linecolor\":\"white\",\"showbackground\":true,\"ticks\":\"\",\"zerolinecolor\":\"white\",\"gridwidth\":2},\"zaxis\":{\"backgroundcolor\":\"#E5ECF6\",\"gridcolor\":\"white\",\"linecolor\":\"white\",\"showbackground\":true,\"ticks\":\"\",\"zerolinecolor\":\"white\",\"gridwidth\":2}},\"shapedefaults\":{\"line\":{\"color\":\"#2a3f5f\"}},\"annotationdefaults\":{\"arrowcolor\":\"#2a3f5f\",\"arrowhead\":0,\"arrowwidth\":1},\"geo\":{\"bgcolor\":\"white\",\"landcolor\":\"#E5ECF6\",\"subunitcolor\":\"white\",\"showland\":true,\"showlakes\":true,\"lakecolor\":\"white\"},\"title\":{\"x\":0.05},\"mapbox\":{\"style\":\"light\"}}},\"xaxis\":{\"anchor\":\"y\",\"domain\":[0.0,0.3],\"tickvals\":[\"Yes\",\"No\"],\"ticktext\":[\"Yes\",\"No\"],\"categoryorder\":\"array\",\"categoryarray\":[\"Yes\",\"No\"],\"showline\":true,\"linewidth\":2,\"linecolor\":\"grey\",\"mirror\":true},\"yaxis\":{\"anchor\":\"x\",\"domain\":[0.0,1.0],\"title\":{\"text\":\"Proportion of Images (%)\"},\"showline\":true,\"linewidth\":2,\"linecolor\":\"grey\",\"mirror\":true},\"xaxis2\":{\"anchor\":\"y2\",\"domain\":[0.35,0.6499999999999999],\"tickvals\":[\"Yes\",\"No\"],\"ticktext\":[\"Yes\",\"No\"],\"categoryorder\":\"array\",\"categoryarray\":[\"Yes\",\"No\"],\"showline\":true,\"linewidth\":2,\"linecolor\":\"grey\",\"mirror\":true},\"yaxis2\":{\"anchor\":\"x2\",\"domain\":[0.0,1.0],\"matches\":\"y\",\"showticklabels\":false,\"showline\":true,\"linewidth\":2,\"linecolor\":\"grey\",\"mirror\":true},\"xaxis3\":{\"anchor\":\"y3\",\"domain\":[0.7,1.0],\"tickvals\":[\"Yes\",\"No\"],\"ticktext\":[\"Yes\",\"No\"],\"categoryorder\":\"array\",\"categoryarray\":[\"Yes\",\"No\"],\"showline\":true,\"linewidth\":2,\"linecolor\":\"grey\",\"mirror\":true},\"yaxis3\":{\"anchor\":\"x3\",\"domain\":[0.0,1.0],\"matches\":\"y\",\"showticklabels\":false,\"showline\":true,\"linewidth\":2,\"linecolor\":\"grey\",\"mirror\":true},\"annotations\":[{\"font\":{\"size\":16},\"showarrow\":false,\"text\":\"Dall-E 3\",\"x\":0.15,\"xanchor\":\"center\",\"xref\":\"paper\",\"y\":1.0,\"yanchor\":\"bottom\",\"yref\":\"paper\"},{\"font\":{\"size\":16},\"showarrow\":false,\"text\":\"Stable Diffusion 2.1\",\"x\":0.49999999999999994,\"xanchor\":\"center\",\"xref\":\"paper\",\"y\":1.0,\"yanchor\":\"bottom\",\"yref\":\"paper\"},{\"font\":{\"size\":16},\"showarrow\":false,\"text\":\"Dall-E 2\",\"x\":0.85,\"xanchor\":\"center\",\"xref\":\"paper\",\"y\":1.0,\"yanchor\":\"bottom\",\"yref\":\"paper\"}],\"legend\":{\"title\":{\"text\":\"Country\"},\"orientation\":\"v\",\"yanchor\":\"top\",\"y\":1,\"xanchor\":\"right\",\"x\":1.15,\"itemwidth\":30,\"itemsizing\":\"constant\",\"traceorder\":\"normal\",\"bordercolor\":\"grey\",\"borderwidth\":1},\"title\":{\"font\":{\"family\":\"Helvetica Neue\",\"size\":18,\"color\":\"black\"},\"text\":\"Is there a person shown in this image?\",\"y\":0.9,\"x\":0.5,\"xanchor\":\"center\",\"yanchor\":\"top\"},\"font\":{\"family\":\"Helvetica Neue\",\"size\":12},\"plot_bgcolor\":\"white\",\"barmode\":\"group\",\"width\":1200,\"height\":400},                        {\"responsive\": true}                    ).then(function(){\n",
       "                            \n",
       "var gd = document.getElementById('ffbb6c5f-6b02-414e-9929-3f20ee531a37');\n",
       "var x = new MutationObserver(function (mutations, observer) {{\n",
       "        var display = window.getComputedStyle(gd).display;\n",
       "        if (!display || display === 'none') {{\n",
       "            console.log([gd, 'removed!']);\n",
       "            Plotly.purge(gd);\n",
       "            observer.disconnect();\n",
       "        }}\n",
       "}});\n",
       "\n",
       "// Listen for the removal of the full notebook cells\n",
       "var notebookContainer = gd.closest('#notebook-container');\n",
       "if (notebookContainer) {{\n",
       "    x.observe(notebookContainer, {childList: true});\n",
       "}}\n",
       "\n",
       "// Listen for the clearing of the current output cell\n",
       "var outputEl = gd.closest('.output');\n",
       "if (outputEl) {{\n",
       "    x.observe(outputEl, {childList: true});\n",
       "}}\n",
       "\n",
       "                        })                };                });            </script>        </div>"
      ]
     },
     "metadata": {},
     "output_type": "display_data"
    },
    {
     "data": {
      "application/vnd.plotly.v1+json": {
       "config": {
        "plotlyServerURL": "https://plot.ly"
       },
       "data": [
        {
         "legendgroup": "Algeria",
         "marker": {
          "color": "#41cc96"
         },
         "name": "Algeria",
         "showlegend": true,
         "type": "bar",
         "x": [
          "Yes",
          "No"
         ],
         "xaxis": "x",
         "y": [
          0,
          100
         ],
         "yaxis": "y"
        },
        {
         "legendgroup": "Nigeria",
         "marker": {
          "color": "#ef563b"
         },
         "name": "Nigeria",
         "showlegend": true,
         "type": "bar",
         "x": [
          "Yes",
          "No"
         ],
         "xaxis": "x",
         "y": [
          0.6666666666666667,
          99.33333333333333
         ],
         "yaxis": "y"
        },
        {
         "legendgroup": "South Africa",
         "marker": {
          "color": "#f7a15b"
         },
         "name": "South Africa",
         "showlegend": true,
         "type": "bar",
         "x": [
          "Yes",
          "No"
         ],
         "xaxis": "x",
         "y": [
          0,
          100
         ],
         "yaxis": "y"
        },
        {
         "legendgroup": "United States",
         "marker": {
          "color": "#47d3f3"
         },
         "name": "United States",
         "showlegend": true,
         "type": "bar",
         "x": [
          "Yes",
          "No"
         ],
         "xaxis": "x",
         "y": [
          0,
          100
         ],
         "yaxis": "y"
        },
        {
         "legendgroup": "Kenya",
         "marker": {
          "color": "#636efb"
         },
         "name": "Kenya",
         "showlegend": true,
         "type": "bar",
         "x": [
          "Yes",
          "No"
         ],
         "xaxis": "x",
         "y": [
          0.7692307692307693,
          99.23076923076923
         ],
         "yaxis": "y"
        },
        {
         "legendgroup": "Cameroon",
         "marker": {
          "color": "#ab63fb"
         },
         "name": "Cameroon",
         "showlegend": true,
         "type": "bar",
         "x": [
          "Yes",
          "No"
         ],
         "xaxis": "x",
         "y": [
          0,
          100
         ],
         "yaxis": "y"
        },
        {
         "legendgroup": "Algeria",
         "marker": {
          "color": "#41cc96"
         },
         "name": "Algeria",
         "showlegend": false,
         "type": "bar",
         "x": [
          "Yes",
          "No"
         ],
         "xaxis": "x2",
         "y": [
          82,
          18
         ],
         "yaxis": "y2"
        },
        {
         "legendgroup": "Nigeria",
         "marker": {
          "color": "#ef563b"
         },
         "name": "Nigeria",
         "showlegend": false,
         "type": "bar",
         "x": [
          "Yes",
          "No"
         ],
         "xaxis": "x2",
         "y": [
          76.66666666666667,
          23.333333333333332
         ],
         "yaxis": "y2"
        },
        {
         "legendgroup": "South Africa",
         "marker": {
          "color": "#f7a15b"
         },
         "name": "South Africa",
         "showlegend": false,
         "type": "bar",
         "x": [
          "Yes",
          "No"
         ],
         "xaxis": "x2",
         "y": [
          69.33333333333334,
          30.666666666666664
         ],
         "yaxis": "y2"
        },
        {
         "legendgroup": "United States",
         "marker": {
          "color": "#47d3f3"
         },
         "name": "United States",
         "showlegend": false,
         "type": "bar",
         "x": [
          "Yes",
          "No"
         ],
         "xaxis": "x2",
         "y": [
          50,
          50
         ],
         "yaxis": "y2"
        },
        {
         "legendgroup": "Kenya",
         "marker": {
          "color": "#636efb"
         },
         "name": "Kenya",
         "showlegend": false,
         "type": "bar",
         "x": [
          "Yes",
          "No"
         ],
         "xaxis": "x2",
         "y": [
          75.34246575342466,
          24.65753424657534
         ],
         "yaxis": "y2"
        },
        {
         "legendgroup": "Cameroon",
         "marker": {
          "color": "#ab63fb"
         },
         "name": "Cameroon",
         "showlegend": false,
         "type": "bar",
         "x": [
          "Yes",
          "No"
         ],
         "xaxis": "x2",
         "y": [
          67.5,
          32.5
         ],
         "yaxis": "y2"
        },
        {
         "legendgroup": "Algeria",
         "marker": {
          "color": "#41cc96"
         },
         "name": "Algeria",
         "showlegend": false,
         "type": "bar",
         "x": [
          "Yes",
          "No"
         ],
         "xaxis": "x3",
         "y": [
          42,
          57.99999999999999
         ],
         "yaxis": "y3"
        },
        {
         "legendgroup": "Nigeria",
         "marker": {
          "color": "#ef563b"
         },
         "name": "Nigeria",
         "showlegend": false,
         "type": "bar",
         "x": [
          "Yes",
          "No"
         ],
         "xaxis": "x3",
         "y": [
          0,
          0
         ],
         "yaxis": "y3"
        },
        {
         "legendgroup": "South Africa",
         "marker": {
          "color": "#f7a15b"
         },
         "name": "South Africa",
         "showlegend": false,
         "type": "bar",
         "x": [
          "Yes",
          "No"
         ],
         "xaxis": "x3",
         "y": [
          37.5,
          62.5
         ],
         "yaxis": "y3"
        },
        {
         "legendgroup": "United States",
         "marker": {
          "color": "#47d3f3"
         },
         "name": "United States",
         "showlegend": false,
         "type": "bar",
         "x": [
          "Yes",
          "No"
         ],
         "xaxis": "x3",
         "y": [
          12,
          88
         ],
         "yaxis": "y3"
        },
        {
         "legendgroup": "Kenya",
         "marker": {
          "color": "#636efb"
         },
         "name": "Kenya",
         "showlegend": false,
         "type": "bar",
         "x": [
          "Yes",
          "No"
         ],
         "xaxis": "x3",
         "y": [
          43.84615384615385,
          56.15384615384615
         ],
         "yaxis": "y3"
        },
        {
         "legendgroup": "Cameroon",
         "marker": {
          "color": "#ab63fb"
         },
         "name": "Cameroon",
         "showlegend": false,
         "type": "bar",
         "x": [
          "Yes",
          "No"
         ],
         "xaxis": "x3",
         "y": [
          47.58620689655172,
          52.41379310344828
         ],
         "yaxis": "y3"
        }
       ],
       "layout": {
        "annotations": [
         {
          "font": {
           "size": 16
          },
          "showarrow": false,
          "text": "Dall-E 3",
          "x": 0.15,
          "xanchor": "center",
          "xref": "paper",
          "y": 1,
          "yanchor": "bottom",
          "yref": "paper"
         },
         {
          "font": {
           "size": 16
          },
          "showarrow": false,
          "text": "Stable Diffusion 2.1",
          "x": 0.49999999999999994,
          "xanchor": "center",
          "xref": "paper",
          "y": 1,
          "yanchor": "bottom",
          "yref": "paper"
         },
         {
          "font": {
           "size": 16
          },
          "showarrow": false,
          "text": "Dall-E 2",
          "x": 0.85,
          "xanchor": "center",
          "xref": "paper",
          "y": 1,
          "yanchor": "bottom",
          "yref": "paper"
         }
        ],
        "barmode": "group",
        "font": {
         "family": "Helvetica Neue",
         "size": 12
        },
        "height": 400,
        "legend": {
         "bordercolor": "grey",
         "borderwidth": 1,
         "itemsizing": "constant",
         "itemwidth": 30,
         "orientation": "v",
         "title": {
          "text": "Country"
         },
         "traceorder": "normal",
         "x": 1.15,
         "xanchor": "right",
         "y": 1,
         "yanchor": "top"
        },
        "plot_bgcolor": "white",
        "template": {
         "data": {
          "bar": [
           {
            "error_x": {
             "color": "#2a3f5f"
            },
            "error_y": {
             "color": "#2a3f5f"
            },
            "marker": {
             "line": {
              "color": "#E5ECF6",
              "width": 0.5
             },
             "pattern": {
              "fillmode": "overlay",
              "size": 10,
              "solidity": 0.2
             }
            },
            "type": "bar"
           }
          ],
          "barpolar": [
           {
            "marker": {
             "line": {
              "color": "#E5ECF6",
              "width": 0.5
             },
             "pattern": {
              "fillmode": "overlay",
              "size": 10,
              "solidity": 0.2
             }
            },
            "type": "barpolar"
           }
          ],
          "carpet": [
           {
            "aaxis": {
             "endlinecolor": "#2a3f5f",
             "gridcolor": "white",
             "linecolor": "white",
             "minorgridcolor": "white",
             "startlinecolor": "#2a3f5f"
            },
            "baxis": {
             "endlinecolor": "#2a3f5f",
             "gridcolor": "white",
             "linecolor": "white",
             "minorgridcolor": "white",
             "startlinecolor": "#2a3f5f"
            },
            "type": "carpet"
           }
          ],
          "choropleth": [
           {
            "colorbar": {
             "outlinewidth": 0,
             "ticks": ""
            },
            "type": "choropleth"
           }
          ],
          "contour": [
           {
            "colorbar": {
             "outlinewidth": 0,
             "ticks": ""
            },
            "colorscale": [
             [
              0,
              "#0d0887"
             ],
             [
              0.1111111111111111,
              "#46039f"
             ],
             [
              0.2222222222222222,
              "#7201a8"
             ],
             [
              0.3333333333333333,
              "#9c179e"
             ],
             [
              0.4444444444444444,
              "#bd3786"
             ],
             [
              0.5555555555555556,
              "#d8576b"
             ],
             [
              0.6666666666666666,
              "#ed7953"
             ],
             [
              0.7777777777777778,
              "#fb9f3a"
             ],
             [
              0.8888888888888888,
              "#fdca26"
             ],
             [
              1,
              "#f0f921"
             ]
            ],
            "type": "contour"
           }
          ],
          "contourcarpet": [
           {
            "colorbar": {
             "outlinewidth": 0,
             "ticks": ""
            },
            "type": "contourcarpet"
           }
          ],
          "heatmap": [
           {
            "colorbar": {
             "outlinewidth": 0,
             "ticks": ""
            },
            "colorscale": [
             [
              0,
              "#0d0887"
             ],
             [
              0.1111111111111111,
              "#46039f"
             ],
             [
              0.2222222222222222,
              "#7201a8"
             ],
             [
              0.3333333333333333,
              "#9c179e"
             ],
             [
              0.4444444444444444,
              "#bd3786"
             ],
             [
              0.5555555555555556,
              "#d8576b"
             ],
             [
              0.6666666666666666,
              "#ed7953"
             ],
             [
              0.7777777777777778,
              "#fb9f3a"
             ],
             [
              0.8888888888888888,
              "#fdca26"
             ],
             [
              1,
              "#f0f921"
             ]
            ],
            "type": "heatmap"
           }
          ],
          "heatmapgl": [
           {
            "colorbar": {
             "outlinewidth": 0,
             "ticks": ""
            },
            "colorscale": [
             [
              0,
              "#0d0887"
             ],
             [
              0.1111111111111111,
              "#46039f"
             ],
             [
              0.2222222222222222,
              "#7201a8"
             ],
             [
              0.3333333333333333,
              "#9c179e"
             ],
             [
              0.4444444444444444,
              "#bd3786"
             ],
             [
              0.5555555555555556,
              "#d8576b"
             ],
             [
              0.6666666666666666,
              "#ed7953"
             ],
             [
              0.7777777777777778,
              "#fb9f3a"
             ],
             [
              0.8888888888888888,
              "#fdca26"
             ],
             [
              1,
              "#f0f921"
             ]
            ],
            "type": "heatmapgl"
           }
          ],
          "histogram": [
           {
            "marker": {
             "pattern": {
              "fillmode": "overlay",
              "size": 10,
              "solidity": 0.2
             }
            },
            "type": "histogram"
           }
          ],
          "histogram2d": [
           {
            "colorbar": {
             "outlinewidth": 0,
             "ticks": ""
            },
            "colorscale": [
             [
              0,
              "#0d0887"
             ],
             [
              0.1111111111111111,
              "#46039f"
             ],
             [
              0.2222222222222222,
              "#7201a8"
             ],
             [
              0.3333333333333333,
              "#9c179e"
             ],
             [
              0.4444444444444444,
              "#bd3786"
             ],
             [
              0.5555555555555556,
              "#d8576b"
             ],
             [
              0.6666666666666666,
              "#ed7953"
             ],
             [
              0.7777777777777778,
              "#fb9f3a"
             ],
             [
              0.8888888888888888,
              "#fdca26"
             ],
             [
              1,
              "#f0f921"
             ]
            ],
            "type": "histogram2d"
           }
          ],
          "histogram2dcontour": [
           {
            "colorbar": {
             "outlinewidth": 0,
             "ticks": ""
            },
            "colorscale": [
             [
              0,
              "#0d0887"
             ],
             [
              0.1111111111111111,
              "#46039f"
             ],
             [
              0.2222222222222222,
              "#7201a8"
             ],
             [
              0.3333333333333333,
              "#9c179e"
             ],
             [
              0.4444444444444444,
              "#bd3786"
             ],
             [
              0.5555555555555556,
              "#d8576b"
             ],
             [
              0.6666666666666666,
              "#ed7953"
             ],
             [
              0.7777777777777778,
              "#fb9f3a"
             ],
             [
              0.8888888888888888,
              "#fdca26"
             ],
             [
              1,
              "#f0f921"
             ]
            ],
            "type": "histogram2dcontour"
           }
          ],
          "mesh3d": [
           {
            "colorbar": {
             "outlinewidth": 0,
             "ticks": ""
            },
            "type": "mesh3d"
           }
          ],
          "parcoords": [
           {
            "line": {
             "colorbar": {
              "outlinewidth": 0,
              "ticks": ""
             }
            },
            "type": "parcoords"
           }
          ],
          "pie": [
           {
            "automargin": true,
            "type": "pie"
           }
          ],
          "scatter": [
           {
            "fillpattern": {
             "fillmode": "overlay",
             "size": 10,
             "solidity": 0.2
            },
            "type": "scatter"
           }
          ],
          "scatter3d": [
           {
            "line": {
             "colorbar": {
              "outlinewidth": 0,
              "ticks": ""
             }
            },
            "marker": {
             "colorbar": {
              "outlinewidth": 0,
              "ticks": ""
             }
            },
            "type": "scatter3d"
           }
          ],
          "scattercarpet": [
           {
            "marker": {
             "colorbar": {
              "outlinewidth": 0,
              "ticks": ""
             }
            },
            "type": "scattercarpet"
           }
          ],
          "scattergeo": [
           {
            "marker": {
             "colorbar": {
              "outlinewidth": 0,
              "ticks": ""
             }
            },
            "type": "scattergeo"
           }
          ],
          "scattergl": [
           {
            "marker": {
             "colorbar": {
              "outlinewidth": 0,
              "ticks": ""
             }
            },
            "type": "scattergl"
           }
          ],
          "scattermapbox": [
           {
            "marker": {
             "colorbar": {
              "outlinewidth": 0,
              "ticks": ""
             }
            },
            "type": "scattermapbox"
           }
          ],
          "scatterpolar": [
           {
            "marker": {
             "colorbar": {
              "outlinewidth": 0,
              "ticks": ""
             }
            },
            "type": "scatterpolar"
           }
          ],
          "scatterpolargl": [
           {
            "marker": {
             "colorbar": {
              "outlinewidth": 0,
              "ticks": ""
             }
            },
            "type": "scatterpolargl"
           }
          ],
          "scatterternary": [
           {
            "marker": {
             "colorbar": {
              "outlinewidth": 0,
              "ticks": ""
             }
            },
            "type": "scatterternary"
           }
          ],
          "surface": [
           {
            "colorbar": {
             "outlinewidth": 0,
             "ticks": ""
            },
            "colorscale": [
             [
              0,
              "#0d0887"
             ],
             [
              0.1111111111111111,
              "#46039f"
             ],
             [
              0.2222222222222222,
              "#7201a8"
             ],
             [
              0.3333333333333333,
              "#9c179e"
             ],
             [
              0.4444444444444444,
              "#bd3786"
             ],
             [
              0.5555555555555556,
              "#d8576b"
             ],
             [
              0.6666666666666666,
              "#ed7953"
             ],
             [
              0.7777777777777778,
              "#fb9f3a"
             ],
             [
              0.8888888888888888,
              "#fdca26"
             ],
             [
              1,
              "#f0f921"
             ]
            ],
            "type": "surface"
           }
          ],
          "table": [
           {
            "cells": {
             "fill": {
              "color": "#EBF0F8"
             },
             "line": {
              "color": "white"
             }
            },
            "header": {
             "fill": {
              "color": "#C8D4E3"
             },
             "line": {
              "color": "white"
             }
            },
            "type": "table"
           }
          ]
         },
         "layout": {
          "annotationdefaults": {
           "arrowcolor": "#2a3f5f",
           "arrowhead": 0,
           "arrowwidth": 1
          },
          "autotypenumbers": "strict",
          "coloraxis": {
           "colorbar": {
            "outlinewidth": 0,
            "ticks": ""
           }
          },
          "colorscale": {
           "diverging": [
            [
             0,
             "#8e0152"
            ],
            [
             0.1,
             "#c51b7d"
            ],
            [
             0.2,
             "#de77ae"
            ],
            [
             0.3,
             "#f1b6da"
            ],
            [
             0.4,
             "#fde0ef"
            ],
            [
             0.5,
             "#f7f7f7"
            ],
            [
             0.6,
             "#e6f5d0"
            ],
            [
             0.7,
             "#b8e186"
            ],
            [
             0.8,
             "#7fbc41"
            ],
            [
             0.9,
             "#4d9221"
            ],
            [
             1,
             "#276419"
            ]
           ],
           "sequential": [
            [
             0,
             "#0d0887"
            ],
            [
             0.1111111111111111,
             "#46039f"
            ],
            [
             0.2222222222222222,
             "#7201a8"
            ],
            [
             0.3333333333333333,
             "#9c179e"
            ],
            [
             0.4444444444444444,
             "#bd3786"
            ],
            [
             0.5555555555555556,
             "#d8576b"
            ],
            [
             0.6666666666666666,
             "#ed7953"
            ],
            [
             0.7777777777777778,
             "#fb9f3a"
            ],
            [
             0.8888888888888888,
             "#fdca26"
            ],
            [
             1,
             "#f0f921"
            ]
           ],
           "sequentialminus": [
            [
             0,
             "#0d0887"
            ],
            [
             0.1111111111111111,
             "#46039f"
            ],
            [
             0.2222222222222222,
             "#7201a8"
            ],
            [
             0.3333333333333333,
             "#9c179e"
            ],
            [
             0.4444444444444444,
             "#bd3786"
            ],
            [
             0.5555555555555556,
             "#d8576b"
            ],
            [
             0.6666666666666666,
             "#ed7953"
            ],
            [
             0.7777777777777778,
             "#fb9f3a"
            ],
            [
             0.8888888888888888,
             "#fdca26"
            ],
            [
             1,
             "#f0f921"
            ]
           ]
          },
          "colorway": [
           "#636efa",
           "#EF553B",
           "#00cc96",
           "#ab63fa",
           "#FFA15A",
           "#19d3f3",
           "#FF6692",
           "#B6E880",
           "#FF97FF",
           "#FECB52"
          ],
          "font": {
           "color": "#2a3f5f"
          },
          "geo": {
           "bgcolor": "white",
           "lakecolor": "white",
           "landcolor": "#E5ECF6",
           "showlakes": true,
           "showland": true,
           "subunitcolor": "white"
          },
          "hoverlabel": {
           "align": "left"
          },
          "hovermode": "closest",
          "mapbox": {
           "style": "light"
          },
          "paper_bgcolor": "white",
          "plot_bgcolor": "#E5ECF6",
          "polar": {
           "angularaxis": {
            "gridcolor": "white",
            "linecolor": "white",
            "ticks": ""
           },
           "bgcolor": "#E5ECF6",
           "radialaxis": {
            "gridcolor": "white",
            "linecolor": "white",
            "ticks": ""
           }
          },
          "scene": {
           "xaxis": {
            "backgroundcolor": "#E5ECF6",
            "gridcolor": "white",
            "gridwidth": 2,
            "linecolor": "white",
            "showbackground": true,
            "ticks": "",
            "zerolinecolor": "white"
           },
           "yaxis": {
            "backgroundcolor": "#E5ECF6",
            "gridcolor": "white",
            "gridwidth": 2,
            "linecolor": "white",
            "showbackground": true,
            "ticks": "",
            "zerolinecolor": "white"
           },
           "zaxis": {
            "backgroundcolor": "#E5ECF6",
            "gridcolor": "white",
            "gridwidth": 2,
            "linecolor": "white",
            "showbackground": true,
            "ticks": "",
            "zerolinecolor": "white"
           }
          },
          "shapedefaults": {
           "line": {
            "color": "#2a3f5f"
           }
          },
          "ternary": {
           "aaxis": {
            "gridcolor": "white",
            "linecolor": "white",
            "ticks": ""
           },
           "baxis": {
            "gridcolor": "white",
            "linecolor": "white",
            "ticks": ""
           },
           "bgcolor": "#E5ECF6",
           "caxis": {
            "gridcolor": "white",
            "linecolor": "white",
            "ticks": ""
           }
          },
          "title": {
           "x": 0.05
          },
          "xaxis": {
           "automargin": true,
           "gridcolor": "white",
           "linecolor": "white",
           "ticks": "",
           "title": {
            "standoff": 15
           },
           "zerolinecolor": "white",
           "zerolinewidth": 2
          },
          "yaxis": {
           "automargin": true,
           "gridcolor": "white",
           "linecolor": "white",
           "ticks": "",
           "title": {
            "standoff": 15
           },
           "zerolinecolor": "white",
           "zerolinewidth": 2
          }
         }
        },
        "title": {
         "font": {
          "color": "black",
          "family": "Helvetica Neue",
          "size": 18
         },
         "text": "Is the image shown blurry?",
         "x": 0.5,
         "xanchor": "center",
         "y": 0.9,
         "yanchor": "top"
        },
        "width": 1200,
        "xaxis": {
         "anchor": "y",
         "categoryarray": [
          "Yes",
          "No"
         ],
         "categoryorder": "array",
         "domain": [
          0,
          0.3
         ],
         "linecolor": "grey",
         "linewidth": 2,
         "mirror": true,
         "showline": true,
         "ticktext": [
          "Yes",
          "No"
         ],
         "tickvals": [
          "Yes",
          "No"
         ]
        },
        "xaxis2": {
         "anchor": "y2",
         "categoryarray": [
          "Yes",
          "No"
         ],
         "categoryorder": "array",
         "domain": [
          0.35,
          0.6499999999999999
         ],
         "linecolor": "grey",
         "linewidth": 2,
         "mirror": true,
         "showline": true,
         "ticktext": [
          "Yes",
          "No"
         ],
         "tickvals": [
          "Yes",
          "No"
         ]
        },
        "xaxis3": {
         "anchor": "y3",
         "categoryarray": [
          "Yes",
          "No"
         ],
         "categoryorder": "array",
         "domain": [
          0.7,
          1
         ],
         "linecolor": "grey",
         "linewidth": 2,
         "mirror": true,
         "showline": true,
         "ticktext": [
          "Yes",
          "No"
         ],
         "tickvals": [
          "Yes",
          "No"
         ]
        },
        "yaxis": {
         "anchor": "x",
         "domain": [
          0,
          1
         ],
         "linecolor": "grey",
         "linewidth": 2,
         "mirror": true,
         "showline": true,
         "title": {
          "text": "Proportion of Images (%)"
         }
        },
        "yaxis2": {
         "anchor": "x2",
         "domain": [
          0,
          1
         ],
         "linecolor": "grey",
         "linewidth": 2,
         "matches": "y",
         "mirror": true,
         "showline": true,
         "showticklabels": false
        },
        "yaxis3": {
         "anchor": "x3",
         "domain": [
          0,
          1
         ],
         "linecolor": "grey",
         "linewidth": 2,
         "matches": "y",
         "mirror": true,
         "showline": true,
         "showticklabels": false
        }
       }
      },
      "text/html": [
       "<div>                            <div id=\"97170839-4580-49c3-9acc-77949f28a3e0\" class=\"plotly-graph-div\" style=\"height:400px; width:1200px;\"></div>            <script type=\"text/javascript\">                require([\"plotly\"], function(Plotly) {                    window.PLOTLYENV=window.PLOTLYENV || {};                                    if (document.getElementById(\"97170839-4580-49c3-9acc-77949f28a3e0\")) {                    Plotly.newPlot(                        \"97170839-4580-49c3-9acc-77949f28a3e0\",                        [{\"legendgroup\":\"Algeria\",\"marker\":{\"color\":\"#41cc96\"},\"name\":\"Algeria\",\"showlegend\":true,\"x\":[\"Yes\",\"No\"],\"y\":[0.0,100.0],\"type\":\"bar\",\"xaxis\":\"x\",\"yaxis\":\"y\"},{\"legendgroup\":\"Nigeria\",\"marker\":{\"color\":\"#ef563b\"},\"name\":\"Nigeria\",\"showlegend\":true,\"x\":[\"Yes\",\"No\"],\"y\":[0.6666666666666667,99.33333333333333],\"type\":\"bar\",\"xaxis\":\"x\",\"yaxis\":\"y\"},{\"legendgroup\":\"South Africa\",\"marker\":{\"color\":\"#f7a15b\"},\"name\":\"South Africa\",\"showlegend\":true,\"x\":[\"Yes\",\"No\"],\"y\":[0.0,100.0],\"type\":\"bar\",\"xaxis\":\"x\",\"yaxis\":\"y\"},{\"legendgroup\":\"United States\",\"marker\":{\"color\":\"#47d3f3\"},\"name\":\"United States\",\"showlegend\":true,\"x\":[\"Yes\",\"No\"],\"y\":[0.0,100.0],\"type\":\"bar\",\"xaxis\":\"x\",\"yaxis\":\"y\"},{\"legendgroup\":\"Kenya\",\"marker\":{\"color\":\"#636efb\"},\"name\":\"Kenya\",\"showlegend\":true,\"x\":[\"Yes\",\"No\"],\"y\":[0.7692307692307693,99.23076923076923],\"type\":\"bar\",\"xaxis\":\"x\",\"yaxis\":\"y\"},{\"legendgroup\":\"Cameroon\",\"marker\":{\"color\":\"#ab63fb\"},\"name\":\"Cameroon\",\"showlegend\":true,\"x\":[\"Yes\",\"No\"],\"y\":[0.0,100.0],\"type\":\"bar\",\"xaxis\":\"x\",\"yaxis\":\"y\"},{\"legendgroup\":\"Algeria\",\"marker\":{\"color\":\"#41cc96\"},\"name\":\"Algeria\",\"showlegend\":false,\"x\":[\"Yes\",\"No\"],\"y\":[82.0,18.0],\"type\":\"bar\",\"xaxis\":\"x2\",\"yaxis\":\"y2\"},{\"legendgroup\":\"Nigeria\",\"marker\":{\"color\":\"#ef563b\"},\"name\":\"Nigeria\",\"showlegend\":false,\"x\":[\"Yes\",\"No\"],\"y\":[76.66666666666667,23.333333333333332],\"type\":\"bar\",\"xaxis\":\"x2\",\"yaxis\":\"y2\"},{\"legendgroup\":\"South Africa\",\"marker\":{\"color\":\"#f7a15b\"},\"name\":\"South Africa\",\"showlegend\":false,\"x\":[\"Yes\",\"No\"],\"y\":[69.33333333333334,30.666666666666664],\"type\":\"bar\",\"xaxis\":\"x2\",\"yaxis\":\"y2\"},{\"legendgroup\":\"United States\",\"marker\":{\"color\":\"#47d3f3\"},\"name\":\"United States\",\"showlegend\":false,\"x\":[\"Yes\",\"No\"],\"y\":[50.0,50.0],\"type\":\"bar\",\"xaxis\":\"x2\",\"yaxis\":\"y2\"},{\"legendgroup\":\"Kenya\",\"marker\":{\"color\":\"#636efb\"},\"name\":\"Kenya\",\"showlegend\":false,\"x\":[\"Yes\",\"No\"],\"y\":[75.34246575342466,24.65753424657534],\"type\":\"bar\",\"xaxis\":\"x2\",\"yaxis\":\"y2\"},{\"legendgroup\":\"Cameroon\",\"marker\":{\"color\":\"#ab63fb\"},\"name\":\"Cameroon\",\"showlegend\":false,\"x\":[\"Yes\",\"No\"],\"y\":[67.5,32.5],\"type\":\"bar\",\"xaxis\":\"x2\",\"yaxis\":\"y2\"},{\"legendgroup\":\"Algeria\",\"marker\":{\"color\":\"#41cc96\"},\"name\":\"Algeria\",\"showlegend\":false,\"x\":[\"Yes\",\"No\"],\"y\":[42.0,57.99999999999999],\"type\":\"bar\",\"xaxis\":\"x3\",\"yaxis\":\"y3\"},{\"legendgroup\":\"Nigeria\",\"marker\":{\"color\":\"#ef563b\"},\"name\":\"Nigeria\",\"showlegend\":false,\"x\":[\"Yes\",\"No\"],\"y\":[0.0,0.0],\"type\":\"bar\",\"xaxis\":\"x3\",\"yaxis\":\"y3\"},{\"legendgroup\":\"South Africa\",\"marker\":{\"color\":\"#f7a15b\"},\"name\":\"South Africa\",\"showlegend\":false,\"x\":[\"Yes\",\"No\"],\"y\":[37.5,62.5],\"type\":\"bar\",\"xaxis\":\"x3\",\"yaxis\":\"y3\"},{\"legendgroup\":\"United States\",\"marker\":{\"color\":\"#47d3f3\"},\"name\":\"United States\",\"showlegend\":false,\"x\":[\"Yes\",\"No\"],\"y\":[12.0,88.0],\"type\":\"bar\",\"xaxis\":\"x3\",\"yaxis\":\"y3\"},{\"legendgroup\":\"Kenya\",\"marker\":{\"color\":\"#636efb\"},\"name\":\"Kenya\",\"showlegend\":false,\"x\":[\"Yes\",\"No\"],\"y\":[43.84615384615385,56.15384615384615],\"type\":\"bar\",\"xaxis\":\"x3\",\"yaxis\":\"y3\"},{\"legendgroup\":\"Cameroon\",\"marker\":{\"color\":\"#ab63fb\"},\"name\":\"Cameroon\",\"showlegend\":false,\"x\":[\"Yes\",\"No\"],\"y\":[47.58620689655172,52.41379310344828],\"type\":\"bar\",\"xaxis\":\"x3\",\"yaxis\":\"y3\"}],                        {\"template\":{\"data\":{\"histogram2dcontour\":[{\"type\":\"histogram2dcontour\",\"colorbar\":{\"outlinewidth\":0,\"ticks\":\"\"},\"colorscale\":[[0.0,\"#0d0887\"],[0.1111111111111111,\"#46039f\"],[0.2222222222222222,\"#7201a8\"],[0.3333333333333333,\"#9c179e\"],[0.4444444444444444,\"#bd3786\"],[0.5555555555555556,\"#d8576b\"],[0.6666666666666666,\"#ed7953\"],[0.7777777777777778,\"#fb9f3a\"],[0.8888888888888888,\"#fdca26\"],[1.0,\"#f0f921\"]]}],\"choropleth\":[{\"type\":\"choropleth\",\"colorbar\":{\"outlinewidth\":0,\"ticks\":\"\"}}],\"histogram2d\":[{\"type\":\"histogram2d\",\"colorbar\":{\"outlinewidth\":0,\"ticks\":\"\"},\"colorscale\":[[0.0,\"#0d0887\"],[0.1111111111111111,\"#46039f\"],[0.2222222222222222,\"#7201a8\"],[0.3333333333333333,\"#9c179e\"],[0.4444444444444444,\"#bd3786\"],[0.5555555555555556,\"#d8576b\"],[0.6666666666666666,\"#ed7953\"],[0.7777777777777778,\"#fb9f3a\"],[0.8888888888888888,\"#fdca26\"],[1.0,\"#f0f921\"]]}],\"heatmap\":[{\"type\":\"heatmap\",\"colorbar\":{\"outlinewidth\":0,\"ticks\":\"\"},\"colorscale\":[[0.0,\"#0d0887\"],[0.1111111111111111,\"#46039f\"],[0.2222222222222222,\"#7201a8\"],[0.3333333333333333,\"#9c179e\"],[0.4444444444444444,\"#bd3786\"],[0.5555555555555556,\"#d8576b\"],[0.6666666666666666,\"#ed7953\"],[0.7777777777777778,\"#fb9f3a\"],[0.8888888888888888,\"#fdca26\"],[1.0,\"#f0f921\"]]}],\"heatmapgl\":[{\"type\":\"heatmapgl\",\"colorbar\":{\"outlinewidth\":0,\"ticks\":\"\"},\"colorscale\":[[0.0,\"#0d0887\"],[0.1111111111111111,\"#46039f\"],[0.2222222222222222,\"#7201a8\"],[0.3333333333333333,\"#9c179e\"],[0.4444444444444444,\"#bd3786\"],[0.5555555555555556,\"#d8576b\"],[0.6666666666666666,\"#ed7953\"],[0.7777777777777778,\"#fb9f3a\"],[0.8888888888888888,\"#fdca26\"],[1.0,\"#f0f921\"]]}],\"contourcarpet\":[{\"type\":\"contourcarpet\",\"colorbar\":{\"outlinewidth\":0,\"ticks\":\"\"}}],\"contour\":[{\"type\":\"contour\",\"colorbar\":{\"outlinewidth\":0,\"ticks\":\"\"},\"colorscale\":[[0.0,\"#0d0887\"],[0.1111111111111111,\"#46039f\"],[0.2222222222222222,\"#7201a8\"],[0.3333333333333333,\"#9c179e\"],[0.4444444444444444,\"#bd3786\"],[0.5555555555555556,\"#d8576b\"],[0.6666666666666666,\"#ed7953\"],[0.7777777777777778,\"#fb9f3a\"],[0.8888888888888888,\"#fdca26\"],[1.0,\"#f0f921\"]]}],\"surface\":[{\"type\":\"surface\",\"colorbar\":{\"outlinewidth\":0,\"ticks\":\"\"},\"colorscale\":[[0.0,\"#0d0887\"],[0.1111111111111111,\"#46039f\"],[0.2222222222222222,\"#7201a8\"],[0.3333333333333333,\"#9c179e\"],[0.4444444444444444,\"#bd3786\"],[0.5555555555555556,\"#d8576b\"],[0.6666666666666666,\"#ed7953\"],[0.7777777777777778,\"#fb9f3a\"],[0.8888888888888888,\"#fdca26\"],[1.0,\"#f0f921\"]]}],\"mesh3d\":[{\"type\":\"mesh3d\",\"colorbar\":{\"outlinewidth\":0,\"ticks\":\"\"}}],\"scatter\":[{\"fillpattern\":{\"fillmode\":\"overlay\",\"size\":10,\"solidity\":0.2},\"type\":\"scatter\"}],\"parcoords\":[{\"type\":\"parcoords\",\"line\":{\"colorbar\":{\"outlinewidth\":0,\"ticks\":\"\"}}}],\"scatterpolargl\":[{\"type\":\"scatterpolargl\",\"marker\":{\"colorbar\":{\"outlinewidth\":0,\"ticks\":\"\"}}}],\"bar\":[{\"error_x\":{\"color\":\"#2a3f5f\"},\"error_y\":{\"color\":\"#2a3f5f\"},\"marker\":{\"line\":{\"color\":\"#E5ECF6\",\"width\":0.5},\"pattern\":{\"fillmode\":\"overlay\",\"size\":10,\"solidity\":0.2}},\"type\":\"bar\"}],\"scattergeo\":[{\"type\":\"scattergeo\",\"marker\":{\"colorbar\":{\"outlinewidth\":0,\"ticks\":\"\"}}}],\"scatterpolar\":[{\"type\":\"scatterpolar\",\"marker\":{\"colorbar\":{\"outlinewidth\":0,\"ticks\":\"\"}}}],\"histogram\":[{\"marker\":{\"pattern\":{\"fillmode\":\"overlay\",\"size\":10,\"solidity\":0.2}},\"type\":\"histogram\"}],\"scattergl\":[{\"type\":\"scattergl\",\"marker\":{\"colorbar\":{\"outlinewidth\":0,\"ticks\":\"\"}}}],\"scatter3d\":[{\"type\":\"scatter3d\",\"line\":{\"colorbar\":{\"outlinewidth\":0,\"ticks\":\"\"}},\"marker\":{\"colorbar\":{\"outlinewidth\":0,\"ticks\":\"\"}}}],\"scattermapbox\":[{\"type\":\"scattermapbox\",\"marker\":{\"colorbar\":{\"outlinewidth\":0,\"ticks\":\"\"}}}],\"scatterternary\":[{\"type\":\"scatterternary\",\"marker\":{\"colorbar\":{\"outlinewidth\":0,\"ticks\":\"\"}}}],\"scattercarpet\":[{\"type\":\"scattercarpet\",\"marker\":{\"colorbar\":{\"outlinewidth\":0,\"ticks\":\"\"}}}],\"carpet\":[{\"aaxis\":{\"endlinecolor\":\"#2a3f5f\",\"gridcolor\":\"white\",\"linecolor\":\"white\",\"minorgridcolor\":\"white\",\"startlinecolor\":\"#2a3f5f\"},\"baxis\":{\"endlinecolor\":\"#2a3f5f\",\"gridcolor\":\"white\",\"linecolor\":\"white\",\"minorgridcolor\":\"white\",\"startlinecolor\":\"#2a3f5f\"},\"type\":\"carpet\"}],\"table\":[{\"cells\":{\"fill\":{\"color\":\"#EBF0F8\"},\"line\":{\"color\":\"white\"}},\"header\":{\"fill\":{\"color\":\"#C8D4E3\"},\"line\":{\"color\":\"white\"}},\"type\":\"table\"}],\"barpolar\":[{\"marker\":{\"line\":{\"color\":\"#E5ECF6\",\"width\":0.5},\"pattern\":{\"fillmode\":\"overlay\",\"size\":10,\"solidity\":0.2}},\"type\":\"barpolar\"}],\"pie\":[{\"automargin\":true,\"type\":\"pie\"}]},\"layout\":{\"autotypenumbers\":\"strict\",\"colorway\":[\"#636efa\",\"#EF553B\",\"#00cc96\",\"#ab63fa\",\"#FFA15A\",\"#19d3f3\",\"#FF6692\",\"#B6E880\",\"#FF97FF\",\"#FECB52\"],\"font\":{\"color\":\"#2a3f5f\"},\"hovermode\":\"closest\",\"hoverlabel\":{\"align\":\"left\"},\"paper_bgcolor\":\"white\",\"plot_bgcolor\":\"#E5ECF6\",\"polar\":{\"bgcolor\":\"#E5ECF6\",\"angularaxis\":{\"gridcolor\":\"white\",\"linecolor\":\"white\",\"ticks\":\"\"},\"radialaxis\":{\"gridcolor\":\"white\",\"linecolor\":\"white\",\"ticks\":\"\"}},\"ternary\":{\"bgcolor\":\"#E5ECF6\",\"aaxis\":{\"gridcolor\":\"white\",\"linecolor\":\"white\",\"ticks\":\"\"},\"baxis\":{\"gridcolor\":\"white\",\"linecolor\":\"white\",\"ticks\":\"\"},\"caxis\":{\"gridcolor\":\"white\",\"linecolor\":\"white\",\"ticks\":\"\"}},\"coloraxis\":{\"colorbar\":{\"outlinewidth\":0,\"ticks\":\"\"}},\"colorscale\":{\"sequential\":[[0.0,\"#0d0887\"],[0.1111111111111111,\"#46039f\"],[0.2222222222222222,\"#7201a8\"],[0.3333333333333333,\"#9c179e\"],[0.4444444444444444,\"#bd3786\"],[0.5555555555555556,\"#d8576b\"],[0.6666666666666666,\"#ed7953\"],[0.7777777777777778,\"#fb9f3a\"],[0.8888888888888888,\"#fdca26\"],[1.0,\"#f0f921\"]],\"sequentialminus\":[[0.0,\"#0d0887\"],[0.1111111111111111,\"#46039f\"],[0.2222222222222222,\"#7201a8\"],[0.3333333333333333,\"#9c179e\"],[0.4444444444444444,\"#bd3786\"],[0.5555555555555556,\"#d8576b\"],[0.6666666666666666,\"#ed7953\"],[0.7777777777777778,\"#fb9f3a\"],[0.8888888888888888,\"#fdca26\"],[1.0,\"#f0f921\"]],\"diverging\":[[0,\"#8e0152\"],[0.1,\"#c51b7d\"],[0.2,\"#de77ae\"],[0.3,\"#f1b6da\"],[0.4,\"#fde0ef\"],[0.5,\"#f7f7f7\"],[0.6,\"#e6f5d0\"],[0.7,\"#b8e186\"],[0.8,\"#7fbc41\"],[0.9,\"#4d9221\"],[1,\"#276419\"]]},\"xaxis\":{\"gridcolor\":\"white\",\"linecolor\":\"white\",\"ticks\":\"\",\"title\":{\"standoff\":15},\"zerolinecolor\":\"white\",\"automargin\":true,\"zerolinewidth\":2},\"yaxis\":{\"gridcolor\":\"white\",\"linecolor\":\"white\",\"ticks\":\"\",\"title\":{\"standoff\":15},\"zerolinecolor\":\"white\",\"automargin\":true,\"zerolinewidth\":2},\"scene\":{\"xaxis\":{\"backgroundcolor\":\"#E5ECF6\",\"gridcolor\":\"white\",\"linecolor\":\"white\",\"showbackground\":true,\"ticks\":\"\",\"zerolinecolor\":\"white\",\"gridwidth\":2},\"yaxis\":{\"backgroundcolor\":\"#E5ECF6\",\"gridcolor\":\"white\",\"linecolor\":\"white\",\"showbackground\":true,\"ticks\":\"\",\"zerolinecolor\":\"white\",\"gridwidth\":2},\"zaxis\":{\"backgroundcolor\":\"#E5ECF6\",\"gridcolor\":\"white\",\"linecolor\":\"white\",\"showbackground\":true,\"ticks\":\"\",\"zerolinecolor\":\"white\",\"gridwidth\":2}},\"shapedefaults\":{\"line\":{\"color\":\"#2a3f5f\"}},\"annotationdefaults\":{\"arrowcolor\":\"#2a3f5f\",\"arrowhead\":0,\"arrowwidth\":1},\"geo\":{\"bgcolor\":\"white\",\"landcolor\":\"#E5ECF6\",\"subunitcolor\":\"white\",\"showland\":true,\"showlakes\":true,\"lakecolor\":\"white\"},\"title\":{\"x\":0.05},\"mapbox\":{\"style\":\"light\"}}},\"xaxis\":{\"anchor\":\"y\",\"domain\":[0.0,0.3],\"tickvals\":[\"Yes\",\"No\"],\"ticktext\":[\"Yes\",\"No\"],\"categoryorder\":\"array\",\"categoryarray\":[\"Yes\",\"No\"],\"showline\":true,\"linewidth\":2,\"linecolor\":\"grey\",\"mirror\":true},\"yaxis\":{\"anchor\":\"x\",\"domain\":[0.0,1.0],\"title\":{\"text\":\"Proportion of Images (%)\"},\"showline\":true,\"linewidth\":2,\"linecolor\":\"grey\",\"mirror\":true},\"xaxis2\":{\"anchor\":\"y2\",\"domain\":[0.35,0.6499999999999999],\"tickvals\":[\"Yes\",\"No\"],\"ticktext\":[\"Yes\",\"No\"],\"categoryorder\":\"array\",\"categoryarray\":[\"Yes\",\"No\"],\"showline\":true,\"linewidth\":2,\"linecolor\":\"grey\",\"mirror\":true},\"yaxis2\":{\"anchor\":\"x2\",\"domain\":[0.0,1.0],\"matches\":\"y\",\"showticklabels\":false,\"showline\":true,\"linewidth\":2,\"linecolor\":\"grey\",\"mirror\":true},\"xaxis3\":{\"anchor\":\"y3\",\"domain\":[0.7,1.0],\"tickvals\":[\"Yes\",\"No\"],\"ticktext\":[\"Yes\",\"No\"],\"categoryorder\":\"array\",\"categoryarray\":[\"Yes\",\"No\"],\"showline\":true,\"linewidth\":2,\"linecolor\":\"grey\",\"mirror\":true},\"yaxis3\":{\"anchor\":\"x3\",\"domain\":[0.0,1.0],\"matches\":\"y\",\"showticklabels\":false,\"showline\":true,\"linewidth\":2,\"linecolor\":\"grey\",\"mirror\":true},\"annotations\":[{\"font\":{\"size\":16},\"showarrow\":false,\"text\":\"Dall-E 3\",\"x\":0.15,\"xanchor\":\"center\",\"xref\":\"paper\",\"y\":1.0,\"yanchor\":\"bottom\",\"yref\":\"paper\"},{\"font\":{\"size\":16},\"showarrow\":false,\"text\":\"Stable Diffusion 2.1\",\"x\":0.49999999999999994,\"xanchor\":\"center\",\"xref\":\"paper\",\"y\":1.0,\"yanchor\":\"bottom\",\"yref\":\"paper\"},{\"font\":{\"size\":16},\"showarrow\":false,\"text\":\"Dall-E 2\",\"x\":0.85,\"xanchor\":\"center\",\"xref\":\"paper\",\"y\":1.0,\"yanchor\":\"bottom\",\"yref\":\"paper\"}],\"legend\":{\"title\":{\"text\":\"Country\"},\"orientation\":\"v\",\"yanchor\":\"top\",\"y\":1,\"xanchor\":\"right\",\"x\":1.15,\"itemwidth\":30,\"itemsizing\":\"constant\",\"traceorder\":\"normal\",\"bordercolor\":\"grey\",\"borderwidth\":1},\"title\":{\"font\":{\"family\":\"Helvetica Neue\",\"size\":18,\"color\":\"black\"},\"text\":\"Is the image shown blurry?\",\"y\":0.9,\"x\":0.5,\"xanchor\":\"center\",\"yanchor\":\"top\"},\"font\":{\"family\":\"Helvetica Neue\",\"size\":12},\"plot_bgcolor\":\"white\",\"barmode\":\"group\",\"width\":1200,\"height\":400},                        {\"responsive\": true}                    ).then(function(){\n",
       "                            \n",
       "var gd = document.getElementById('97170839-4580-49c3-9acc-77949f28a3e0');\n",
       "var x = new MutationObserver(function (mutations, observer) {{\n",
       "        var display = window.getComputedStyle(gd).display;\n",
       "        if (!display || display === 'none') {{\n",
       "            console.log([gd, 'removed!']);\n",
       "            Plotly.purge(gd);\n",
       "            observer.disconnect();\n",
       "        }}\n",
       "}});\n",
       "\n",
       "// Listen for the removal of the full notebook cells\n",
       "var notebookContainer = gd.closest('#notebook-container');\n",
       "if (notebookContainer) {{\n",
       "    x.observe(notebookContainer, {childList: true});\n",
       "}}\n",
       "\n",
       "// Listen for the clearing of the current output cell\n",
       "var outputEl = gd.closest('.output');\n",
       "if (outputEl) {{\n",
       "    x.observe(outputEl, {childList: true});\n",
       "}}\n",
       "\n",
       "                        })                };                });            </script>        </div>"
      ]
     },
     "metadata": {},
     "output_type": "display_data"
    }
   ],
   "source": [
    "# Run the experiments for specific countries\n",
    "# Do analysis and group by continent level for each question\n",
    "for question_json in questions:\n",
    "    if question_json.get('type') == 'multiple_choice':\n",
    "        prompt = format_prompt(question_json)\n",
    "        question_answers = vqa_answers_df[vqa_answers_df[\"prompt\"] == prompt]\n",
    "        question_ids = question_answers['question_id'].values\n",
    "        questions_df = vqa_questions_df[vqa_questions_df['question_id'].isin(question_ids)]\n",
    "        # Merge question answers with filtered country questions\n",
    "        merged_df = pd.merge(question_answers, questions_df[['question_id', 'model_name', 'image_path', 'country_name']], on='question_id', how='left')\n",
    "        # Call the plotting function with appropriate parameters\n",
    "        plot_multiple_choice_countries_level_pdf(merged_df, question_json, group_by='country_name', color_sequence=country_color_sequence, legend_map=country_name_map, legend_title='Country', results_dir=country_results_dir)"
   ]
  },
  {
   "cell_type": "code",
   "execution_count": null,
   "metadata": {},
   "outputs": [],
   "source": []
  }
 ],
 "metadata": {
  "kernelspec": {
   "display_name": "culture-bias",
   "language": "python",
   "name": "python3"
  },
  "language_info": {
   "codemirror_mode": {
    "name": "ipython",
    "version": 3
   },
   "file_extension": ".py",
   "mimetype": "text/x-python",
   "name": "python",
   "nbconvert_exporter": "python",
   "pygments_lexer": "ipython3",
   "version": "3.12.2"
  }
 },
 "nbformat": 4,
 "nbformat_minor": 2
}
